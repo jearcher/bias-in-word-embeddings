{
  "nbformat": 4,
  "nbformat_minor": 0,
  "metadata": {
    "colab": {
      "name": "evaluate_embeddings.ipynb",
      "provenance": [],
      "collapsed_sections": [],
      "toc_visible": true,
      "include_colab_link": true
    },
    "kernelspec": {
      "name": "python3",
      "display_name": "Python 3"
    },
    "language_info": {
      "name": "python"
    }
  },
  "cells": [
    {
      "cell_type": "markdown",
      "metadata": {
        "id": "view-in-github",
        "colab_type": "text"
      },
      "source": [
        "<a href=\"https://colab.research.google.com/github/jearcher/bias-in-word-embeddings/blob/colab_style/evaluate_embeddings.ipynb\" target=\"_parent\"><img src=\"https://colab.research.google.com/assets/colab-badge.svg\" alt=\"Open In Colab\"/></a>"
      ]
    },
    {
      "cell_type": "code",
      "metadata": {
        "id": "tnqEMyfFdMbZ"
      },
      "source": [
        "%reset -f\n",
        "from gensim.models.keyedvectors import KeyedVectors\n",
        "from gensim.test.utils import datapath, get_tmpfile\n",
        "from gensim.scripts.glove2word2vec import glove2word2vec"
      ],
      "execution_count": null,
      "outputs": []
    },
    {
      "cell_type": "code",
      "metadata": {
        "id": "NqQn19Lse0A3"
      },
      "source": [
        "# # Update repo  with any changes from github \n",
        "# !git clone https://github.com/jearcher/bias-in-word-embeddings.git\n",
        "import numpy as np"
      ],
      "execution_count": 78,
      "outputs": []
    },
    {
      "cell_type": "code",
      "metadata": {
        "id": "ybiqM7Tde--B"
      },
      "source": [
        "!mkdir embeddings/"
      ],
      "execution_count": null,
      "outputs": []
    },
    {
      "cell_type": "code",
      "metadata": {
        "id": "nHeipSMOe4qu"
      },
      "source": [
        "# # Pull colab specifi files\n",
        "# !cd '/content/bias-in-word-embeddings' && git checkout -B colab_style && git pull origin colab_style\n"
      ],
      "execution_count": null,
      "outputs": []
    },
    {
      "cell_type": "markdown",
      "metadata": {
        "id": "ZXrqFSBc5jZ5"
      },
      "source": [
        "# Load in Word-node2Vec and debiased Word-node2Vec"
      ]
    },
    {
      "cell_type": "code",
      "metadata": {
        "id": "MNkrh5C5fCWK"
      },
      "source": [
        "!cd /content/embeddings/ && mkdir Word-node2Vec"
      ],
      "execution_count": null,
      "outputs": []
    },
    {
      "cell_type": "code",
      "metadata": {
        "colab": {
          "base_uri": "https://localhost:8080/"
        },
        "id": "ycbD9Nc-fEGg",
        "outputId": "7e40dcc5-f477-41bf-e77f-9acf93f32417"
      },
      "source": [
        "!cd /content/embeddings/Word-node2Vec/ && curl -O https://storage.googleapis.com/word-embedding-bias/Word-Node2Vec_2019/dbpedia.cwvec12.200.bin"
      ],
      "execution_count": null,
      "outputs": [
        {
          "output_type": "stream",
          "text": [
            "  % Total    % Received % Xferd  Average Speed   Time    Time     Time  Current\n",
            "                                 Dload  Upload   Total   Spent    Left  Speed\n",
            "100 45.4M  100 45.4M    0     0  27.4M      0  0:00:01  0:00:01 --:--:-- 27.4M\n"
          ],
          "name": "stdout"
        }
      ]
    },
    {
      "cell_type": "code",
      "metadata": {
        "colab": {
          "base_uri": "https://localhost:8080/"
        },
        "id": "ic_kTzR6fG6w",
        "outputId": "2a93b141-4b56-45eb-c196-4994cf8572d3"
      },
      "source": [
        "!cd /content/embeddings/Word-node2Vec/ && curl -O https://storage.googleapis.com/word-embedding-bias/Word-Node2Vec_2019/Word-node2Vec_debias.txt"
      ],
      "execution_count": null,
      "outputs": [
        {
          "output_type": "stream",
          "text": [
            "  % Total    % Received % Xferd  Average Speed   Time    Time     Time  Current\n",
            "                                 Dload  Upload   Total   Spent    Left  Speed\n",
            "100  201M  100  201M    0     0   101M      0  0:00:01  0:00:01 --:--:--  101M\n"
          ],
          "name": "stdout"
        }
      ]
    },
    {
      "cell_type": "code",
      "metadata": {
        "colab": {
          "base_uri": "https://localhost:8080/"
        },
        "id": "lzDznXH7dEz3",
        "outputId": "2e0e7848-1ed1-4da8-f399-723ee6b8cc76"
      },
      "source": [
        "Word_node2Vec = KeyedVectors.load_word2vec_format('/content/embeddings/Word-node2Vec/dbpedia.cwvec12.200.bin',\n",
        "                                                         binary=True)\n",
        "\n",
        "print(\"Word-node2Vec embedding has been loaded.\")"
      ],
      "execution_count": null,
      "outputs": [
        {
          "output_type": "stream",
          "text": [
            "Word-node2Vec embedding has been loaded.\n"
          ],
          "name": "stdout"
        }
      ]
    },
    {
      "cell_type": "code",
      "metadata": {
        "id": "pv9cACKhc_fA",
        "colab": {
          "base_uri": "https://localhost:8080/"
        },
        "outputId": "9a380092-09e9-4121-fe11-80111b502811"
      },
      "source": [
        "Word_node2Vec_debias = KeyedVectors.load_word2vec_format('/content/embeddings/Word-node2Vec/Word-node2Vec_debias.txt')\n",
        "\n",
        "print(\"Word-node2Vec_debias embedding has been loaded.\")"
      ],
      "execution_count": null,
      "outputs": [
        {
          "output_type": "stream",
          "text": [
            "Word-node2Vec_debias embedding has been loaded.\n"
          ],
          "name": "stdout"
        }
      ]
    },
    {
      "cell_type": "markdown",
      "metadata": {
        "id": "eT9pCxmc5x7b"
      },
      "source": [
        "# Load in Word2Vec and debiased Word2Vec"
      ]
    },
    {
      "cell_type": "code",
      "metadata": {
        "colab": {
          "base_uri": "https://localhost:8080/"
        },
        "id": "SJr_Q-VH52zf",
        "outputId": "3dec1700-2e34-4a86-dad3-3b2e13aac0c2"
      },
      "source": [
        "!cd /content/embeddings && mkdir Word2Vec\n",
        "!cd /content/embeddings/Word2Vec && curl -O https://storage.googleapis.com/word-embedding-bias/Word2Vec/Word2Vec_debias.txt"
      ],
      "execution_count": null,
      "outputs": [
        {
          "output_type": "stream",
          "text": [
            "  % Total    % Received % Xferd  Average Speed   Time    Time     Time  Current\n",
            "                                 Dload  Upload   Total   Spent    Left  Speed\n",
            "100  446M  100  446M    0     0   200M      0  0:00:02  0:00:02 --:--:--  200M\n"
          ],
          "name": "stdout"
        }
      ]
    },
    {
      "cell_type": "code",
      "metadata": {
        "colab": {
          "base_uri": "https://localhost:8080/"
        },
        "id": "pAVPjG0D596l",
        "outputId": "8229b1d6-4153-41e3-cf93-fb931289a3eb"
      },
      "source": [
        "Word_2Vec_debias = KeyedVectors.load_word2vec_format('/content/embeddings/Word2Vec/Word2Vec_debias.txt')\n",
        "\n",
        "\n",
        "print(\"Word_2Vec_debias (Google News) embedding has been loaded.\")\n"
      ],
      "execution_count": null,
      "outputs": [
        {
          "output_type": "stream",
          "text": [
            "Word_2Vec_debias (Google News) embedding has been loaded.\n"
          ],
          "name": "stdout"
        }
      ]
    },
    {
      "cell_type": "code",
      "metadata": {
        "colab": {
          "base_uri": "https://localhost:8080/"
        },
        "id": "O-eFnbZr5z36",
        "outputId": "2d235457-1956-4124-8b60-89da1d813a5e"
      },
      "source": [
        "\n",
        "!cd /content/embeddings/Word2Vec/ && curl -o GoogleNews-vectors-negative300.bin.gz https://storage.googleapis.com/word-embedding-bias/Word2Vec/GoogleNews-vectors-negative300.bin.gz\n"
      ],
      "execution_count": null,
      "outputs": [
        {
          "output_type": "stream",
          "text": [
            "  % Total    % Received % Xferd  Average Speed   Time    Time     Time  Current\n",
            "                                 Dload  Upload   Total   Spent    Left  Speed\n",
            "100 1570M  100 1570M    0     0   142M      0  0:00:11  0:00:11 --:--:--  156M\n"
          ],
          "name": "stdout"
        }
      ]
    },
    {
      "cell_type": "code",
      "metadata": {
        "colab": {
          "base_uri": "https://localhost:8080/"
        },
        "id": "-1D-MhPi6qvo",
        "outputId": "5f71fe92-375e-4f29-f134-c39ffb9f486f"
      },
      "source": [
        "Word_2Vec = KeyedVectors.load_word2vec_format('/content/embeddings/Word2Vec/GoogleNews-vectors-negative300.bin.gz', \n",
        "                                          binary = True)\n",
        "\n",
        "\n",
        "print(\"Word_2Vec (Google News) embedding has been loaded.\")\n"
      ],
      "execution_count": null,
      "outputs": [
        {
          "output_type": "stream",
          "text": [
            "Word_2Vec (Google News) embedding has been loaded.\n"
          ],
          "name": "stdout"
        }
      ]
    },
    {
      "cell_type": "markdown",
      "metadata": {
        "id": "u-ZlUr2w8iOu"
      },
      "source": [
        "# Load in Glove and debiased Glove (2 versions each)"
      ]
    },
    {
      "cell_type": "code",
      "metadata": {
        "id": "LeoRbE797hGh"
      },
      "source": [
        "!cd /content/embeddings && mkdir GloVe\n"
      ],
      "execution_count": null,
      "outputs": []
    },
    {
      "cell_type": "code",
      "metadata": {
        "colab": {
          "base_uri": "https://localhost:8080/"
        },
        "id": "HM21BjgJ8zQ4",
        "outputId": "b23633cb-5fd8-41fb-8e5a-07d7c8619a78"
      },
      "source": [
        "!cd /content/embeddings/GloVe && curl -O https://storage.googleapis.com/word-embedding-bias/GloVe/glove.6B.zip && unzip glove.6B.zip && rm glove.6B.zip "
      ],
      "execution_count": null,
      "outputs": [
        {
          "output_type": "stream",
          "text": [
            "  % Total    % Received % Xferd  Average Speed   Time    Time     Time  Current\n",
            "                                 Dload  Upload   Total   Spent    Left  Speed\n",
            "100  822M  100  822M    0     0   134M      0  0:00:06  0:00:06 --:--:--  145M\n",
            "Archive:  glove.6B.zip\n",
            "  inflating: glove.6B.50d.txt        \n",
            "  inflating: glove.6B.100d.txt       \n",
            "  inflating: glove.6B.200d.txt       \n",
            "  inflating: glove.6B.300d.txt       \n"
          ],
          "name": "stdout"
        }
      ]
    },
    {
      "cell_type": "code",
      "metadata": {
        "colab": {
          "base_uri": "https://localhost:8080/"
        },
        "id": "gTtOzNxnGGr1",
        "outputId": "07587e7d-e615-4dca-bd12-8bb965e87ef4"
      },
      "source": [
        "# For some reason in colab load_Word2Vec_format doesn't recognize the glove text w/o the header of # of rows & columns\n",
        "glove6B_file = datapath('/content/embeddings/GloVe/glove.6B.100d.txt')\n",
        "tmp6B_file = get_tmpfile(\"/content/embeddings/GloVe/glove_w2v.6B.100d.txt\")\n",
        "_ = glove2word2vec(glove6B_file, tmp6B_file)\n",
        "glove_6B = KeyedVectors.load_word2vec_format(tmp6B_file, \n",
        "                                          binary = False)\n",
        "\n",
        "print(\"glove6B embedding has been loaded.\")"
      ],
      "execution_count": null,
      "outputs": [
        {
          "output_type": "stream",
          "text": [
            "glove6B embedding has been loaded.\n"
          ],
          "name": "stdout"
        }
      ]
    },
    {
      "cell_type": "code",
      "metadata": {
        "id": "hVB-XNWu8275",
        "colab": {
          "base_uri": "https://localhost:8080/"
        },
        "outputId": "f94b1207-a026-4b32-9c81-347e5dd3a07b"
      },
      "source": [
        "!cd /content/embeddings/GloVe && curl -O https://storage.googleapis.com/word-embedding-bias/GloVe/GloVe6B_debias.txt"
      ],
      "execution_count": null,
      "outputs": [
        {
          "output_type": "stream",
          "text": [
            "  % Total    % Received % Xferd  Average Speed   Time    Time     Time  Current\n",
            "                                 Dload  Upload   Total   Spent    Left  Speed\n",
            "100  326M  100  326M    0     0   176M      0  0:00:01  0:00:01 --:--:--  176M\n"
          ],
          "name": "stdout"
        }
      ]
    },
    {
      "cell_type": "code",
      "metadata": {
        "colab": {
          "base_uri": "https://localhost:8080/"
        },
        "id": "TF4KZNPSG0sH",
        "outputId": "b967578e-bb46-403d-8563-d84b07497505"
      },
      "source": [
        "glove6B_debias = KeyedVectors.load_word2vec_format('/content/embeddings/GloVe/GloVe6B_debias.txt', \n",
        "                                          binary = False)\n",
        "\n",
        "print(\"glove6B_debias embedding has been loaded.\")"
      ],
      "execution_count": null,
      "outputs": [
        {
          "output_type": "stream",
          "text": [
            "glove6B_debias embedding has been loaded.\n"
          ],
          "name": "stdout"
        }
      ]
    },
    {
      "cell_type": "code",
      "metadata": {
        "colab": {
          "base_uri": "https://localhost:8080/"
        },
        "id": "ruT4QgVtpNLe",
        "outputId": "d9ebf7db-5bcc-4432-c819-843239b600c2"
      },
      "source": [
        "!cd /content/embeddings/GloVe && curl -O https://storage.googleapis.com/word-embedding-bias/GloVe/glove.twitter.27B.zip && unzip glove.twitter.27B.zip && rm glove.twitter.27B.zip "
      ],
      "execution_count": null,
      "outputs": [
        {
          "output_type": "stream",
          "text": [
            "  % Total    % Received % Xferd  Average Speed   Time    Time     Time  Current\n",
            "                                 Dload  Upload   Total   Spent    Left  Speed\n",
            "100 1449M  100 1449M    0     0   232M      0  0:00:06  0:00:06 --:--:--  223M\n",
            "Archive:  glove.twitter.27B.zip\n",
            "  inflating: glove.twitter.27B.25d.txt  \n",
            "  inflating: glove.twitter.27B.50d.txt  \n",
            "  inflating: glove.twitter.27B.100d.txt  \n",
            "  inflating: glove.twitter.27B.200d.txt  \n"
          ],
          "name": "stdout"
        }
      ]
    },
    {
      "cell_type": "code",
      "metadata": {
        "colab": {
          "base_uri": "https://localhost:8080/"
        },
        "id": "mkbyztBBpJfx",
        "outputId": "d2acf102-9a03-43fc-decc-a426efa08112"
      },
      "source": [
        "# Now do the 27B twitter crawl\n",
        "glove27B_file = datapath('/content/embeddings/GloVe/glove.twitter.27B.100d.txt')\n",
        "tmp27B_file = get_tmpfile(\"/content/embeddings/GloVe/glove_w2v.27.100d.txt\")\n",
        "_ = glove2word2vec(glove27B_file, tmp27B_file)\n",
        "glove_27B = KeyedVectors.load_word2vec_format(tmp27B_file, \n",
        "                                          binary = False)\n",
        "\n",
        "print(\"glove_27B embedding has been loaded.\")"
      ],
      "execution_count": null,
      "outputs": [
        {
          "output_type": "stream",
          "text": [
            "glove_27B embedding has been loaded.\n"
          ],
          "name": "stdout"
        }
      ]
    },
    {
      "cell_type": "code",
      "metadata": {
        "colab": {
          "base_uri": "https://localhost:8080/"
        },
        "id": "ZZhpZh11pm-D",
        "outputId": "6e63f1c6-bf77-4fe2-9251-18aae5775e4c"
      },
      "source": [
        "!cd /content/embeddings/GloVe && curl -O https://storage.googleapis.com/word-embedding-bias/GloVe/GloVe.twitter.27B_debias.txt"
      ],
      "execution_count": null,
      "outputs": [
        {
          "output_type": "stream",
          "text": [
            "  % Total    % Received % Xferd  Average Speed   Time    Time     Time  Current\n",
            "                                 Dload  Upload   Total   Spent    Left  Speed\n",
            "100  215M  100  215M    0     0   181M      0  0:00:01  0:00:01 --:--:--  181M\n"
          ],
          "name": "stdout"
        }
      ]
    },
    {
      "cell_type": "code",
      "metadata": {
        "colab": {
          "base_uri": "https://localhost:8080/"
        },
        "id": "b1AV8FNLpuDe",
        "outputId": "4840a367-d7c1-471e-a33f-fc18d6be0617"
      },
      "source": [
        "glove27B_debias = KeyedVectors.load_word2vec_format('/content/embeddings/GloVe/GloVe.twitter.27B_debias.txt', \n",
        "                                          binary = False)\n",
        "\n",
        "print(\"glove27B_debias embedding has been loaded.\")"
      ],
      "execution_count": null,
      "outputs": [
        {
          "output_type": "stream",
          "text": [
            "glove27B_debias embedding has been loaded.\n"
          ],
          "name": "stdout"
        }
      ]
    },
    {
      "cell_type": "markdown",
      "metadata": {
        "id": "oDmp08ZSGnAR"
      },
      "source": [
        "# Remove all source files to free up space"
      ]
    },
    {
      "cell_type": "code",
      "metadata": {
        "id": "OPKbm7htGrCc"
      },
      "source": [
        "!rm -r embeddings"
      ],
      "execution_count": null,
      "outputs": []
    },
    {
      "cell_type": "markdown",
      "metadata": {
        "id": "g27xZWZcOL_A"
      },
      "source": [
        "# Evaluate embeddings"
      ]
    },
    {
      "cell_type": "code",
      "metadata": {
        "id": "Tt23k1-tOD0y"
      },
      "source": [
        "import pandas as pd\n",
        "import altair as alt"
      ],
      "execution_count": null,
      "outputs": []
    },
    {
      "cell_type": "markdown",
      "metadata": {
        "id": "XGpSIQhAObPg"
      },
      "source": [
        "## Gender"
      ]
    },
    {
      "cell_type": "code",
      "metadata": {
        "colab": {
          "base_uri": "https://localhost:8080/"
        },
        "id": "mJTULo6wOddz",
        "outputId": "496614cc-82ca-48c6-a815-4a762afb6fa8"
      },
      "source": [
        "gender = \"\"\"man\n",
        "woman\n",
        "\"\"\".splitlines()\n",
        "gender"
      ],
      "execution_count": null,
      "outputs": [
        {
          "output_type": "execute_result",
          "data": {
            "text/plain": [
              "['man', 'woman']"
            ]
          },
          "metadata": {
            "tags": []
          },
          "execution_count": 38
        }
      ]
    },
    {
      "cell_type": "code",
      "metadata": {
        "colab": {
          "base_uri": "https://localhost:8080/"
        },
        "id": "8A3U_1Z8Od5X",
        "outputId": "29e0ada2-ca58-4c5d-da1b-4d5ded3d217a"
      },
      "source": [
        "job = \"\"\"doctor\n",
        "nurse\n",
        "lawyer\n",
        "cop\n",
        "plumber\n",
        "teacher\n",
        "chef\n",
        "\"\"\".splitlines()\n",
        "job"
      ],
      "execution_count": null,
      "outputs": [
        {
          "output_type": "execute_result",
          "data": {
            "text/plain": [
              "['doctor', 'nurse', 'lawyer', 'cop', 'plumber', 'teacher', 'chef']"
            ]
          },
          "metadata": {
            "tags": []
          },
          "execution_count": 39
        }
      ]
    },
    {
      "cell_type": "code",
      "metadata": {
        "id": "ZZv4Ny4XOktx"
      },
      "source": [
        "def attr_target_simScores(embd_orig, embd_debias, \n",
        "                          attr_list=gender, attr_name = 'Gender',\n",
        "                          target_list=job, target_name = 'Job'):\n",
        "  \"\"\"Produces similarity scores between a given list of attribute words (gender race etc) \n",
        "  and a list of target words (job, sentiment, etc). Defaults to gender and jobs respectively. \n",
        "  Returns a table of similarity scores ready to input into an Altair chart\n",
        "  Takes as input: Original embedding, debiased embedding, list of gendered words, list of job words\n",
        "  Must set two objects for output:\n",
        "  >>> similarity_scores, similarity_scores_debiased = gender_job_evalPlot()\n",
        "  \"\"\"\n",
        "  ## Start with similarity scores ##\n",
        "  def get_sim_scores(embd):\n",
        "\n",
        "    scores = []\n",
        "    names = []\n",
        "    attr_listed = []\n",
        "    for i in attr_list:\n",
        "      for j in target_list:\n",
        "        scores.append(embd.similarity(i, j))\n",
        "        names.append(j)\n",
        "        attr_listed.append(i)\n",
        "    similarity_scores = pd.DataFrame()\n",
        "    similarity_scores['Words'] = names\n",
        "    similarity_scores['Scores'] = scores\n",
        "    similarity_scores[attr_name] = attr_listed\n",
        "    return similarity_scores\n",
        "  \n",
        "  return get_sim_scores(embd_orig), get_sim_scores(embd_debias)\n",
        "   \n",
        "def attr_target_simScores_oneTable(embd_orig, embd_debias, \n",
        "                          attr_list, attr_name,\n",
        "                          target_list, target_name):\n",
        "  \"\"\" same as attr_target_simScores() but only outputs 1 combines table \"\"\"\n",
        "  scores = []\n",
        "  names = []\n",
        "  attr_listed = []\n",
        "  for i in attr_list:\n",
        "    for j in target_list[:4]:\n",
        "      scores.append(embd_orig.similarity(i, j))\n",
        "      scores.append(embd_debias.similarity(i, j))\n",
        "      names.append(j)\n",
        "      names.append(j)\n",
        "      attr_listed.append(i)\n",
        "      attr_listed.append(i + ' debias')\n",
        "  similarity_scores = pd.DataFrame()\n",
        "  similarity_scores['Words'] = names\n",
        "  similarity_scores['Scores'] = scores\n",
        "  similarity_scores[attr_name] = attr_listed\n",
        "  return similarity_scores\n",
        "\n"
      ],
      "execution_count": null,
      "outputs": []
    },
    {
      "cell_type": "markdown",
      "metadata": {
        "id": "69FbRwOLxntY"
      },
      "source": [
        "### Word-Node2Vec"
      ]
    },
    {
      "cell_type": "code",
      "metadata": {
        "id": "-KsjG9_mQvLT"
      },
      "source": [
        "gender_sim_scores_WN2V, gender_sim_scores_WN2V_debias = attr_target_simScores(embd_orig=Word_node2Vec, embd_debias=Word_node2Vec_debias)"
      ],
      "execution_count": null,
      "outputs": []
    },
    {
      "cell_type": "code",
      "metadata": {
        "id": "NCuLda85Q5fo"
      },
      "source": [
        "def sim_eval_plot(sim_score_table, x_alt, y_alt, color_alt, column_alt, title_string):\n",
        "  \"\"\" Produces multiple side-by-side altair bar plots.\n",
        "  Takes as input: similarity score table, altair definitions of x,y, color, and column. \n",
        "  Ex:\n",
        "  >>> sim_eval_plot() \"\"\"\n",
        "  return alt.Chart(sim_score_table).mark_bar().encode(\n",
        "      x=x_alt,\n",
        "      y=y_alt,\n",
        "      color=color_alt,\n",
        "      column=column_alt\n",
        "      ).properties(\n",
        "          title=title_string\n",
        "          )\n"
      ],
      "execution_count": null,
      "outputs": []
    },
    {
      "cell_type": "code",
      "metadata": {
        "id": "r1luq8R_RkVZ",
        "colab": {
          "base_uri": "https://localhost:8080/",
          "height": 475
        },
        "outputId": "f8240570-92a8-4aef-b6df-ab46e8df3e84"
      },
      "source": [
        "sim_eval_plot(sim_score_table=gender_sim_scores_WN2V,\n",
        "              x_alt = 'Gender:N',\n",
        "              y_alt = 'Scores:Q',\n",
        "              color_alt= 'Gender:N',\n",
        "              column_alt = 'Words:N',\n",
        "              title_string = \"Original Word-Node2Vec\") | sim_eval_plot(sim_score_table=gender_sim_scores_WN2V_debias,\n",
        "              x_alt = 'Gender:N',\n",
        "              y_alt = 'Scores:Q',\n",
        "              color_alt= 'Gender:N',\n",
        "              column_alt = 'Words:N',\n",
        "              title_string = \"Debiased Word-Node2Vec\")"
      ],
      "execution_count": null,
      "outputs": [
        {
          "output_type": "execute_result",
          "data": {
            "text/plain": [
              "alt.HConcatChart(...)"
            ],
            "text/html": [
              "\n",
              "<div id=\"altair-viz-e1ecdd9effd845f386f370ebc25657cb\"></div>\n",
              "<script type=\"text/javascript\">\n",
              "  (function(spec, embedOpt){\n",
              "    let outputDiv = document.currentScript.previousElementSibling;\n",
              "    if (outputDiv.id !== \"altair-viz-e1ecdd9effd845f386f370ebc25657cb\") {\n",
              "      outputDiv = document.getElementById(\"altair-viz-e1ecdd9effd845f386f370ebc25657cb\");\n",
              "    }\n",
              "    const paths = {\n",
              "      \"vega\": \"https://cdn.jsdelivr.net/npm//vega@5?noext\",\n",
              "      \"vega-lib\": \"https://cdn.jsdelivr.net/npm//vega-lib?noext\",\n",
              "      \"vega-lite\": \"https://cdn.jsdelivr.net/npm//vega-lite@4.8.1?noext\",\n",
              "      \"vega-embed\": \"https://cdn.jsdelivr.net/npm//vega-embed@6?noext\",\n",
              "    };\n",
              "\n",
              "    function loadScript(lib) {\n",
              "      return new Promise(function(resolve, reject) {\n",
              "        var s = document.createElement('script');\n",
              "        s.src = paths[lib];\n",
              "        s.async = true;\n",
              "        s.onload = () => resolve(paths[lib]);\n",
              "        s.onerror = () => reject(`Error loading script: ${paths[lib]}`);\n",
              "        document.getElementsByTagName(\"head\")[0].appendChild(s);\n",
              "      });\n",
              "    }\n",
              "\n",
              "    function showError(err) {\n",
              "      outputDiv.innerHTML = `<div class=\"error\" style=\"color:red;\">${err}</div>`;\n",
              "      throw err;\n",
              "    }\n",
              "\n",
              "    function displayChart(vegaEmbed) {\n",
              "      vegaEmbed(outputDiv, spec, embedOpt)\n",
              "        .catch(err => showError(`Javascript Error: ${err.message}<br>This usually means there's a typo in your chart specification. See the javascript console for the full traceback.`));\n",
              "    }\n",
              "\n",
              "    if(typeof define === \"function\" && define.amd) {\n",
              "      requirejs.config({paths});\n",
              "      require([\"vega-embed\"], displayChart, err => showError(`Error loading script: ${err.message}`));\n",
              "    } else if (typeof vegaEmbed === \"function\") {\n",
              "      displayChart(vegaEmbed);\n",
              "    } else {\n",
              "      loadScript(\"vega\")\n",
              "        .then(() => loadScript(\"vega-lite\"))\n",
              "        .then(() => loadScript(\"vega-embed\"))\n",
              "        .catch(showError)\n",
              "        .then(() => displayChart(vegaEmbed));\n",
              "    }\n",
              "  })({\"config\": {\"view\": {\"continuousWidth\": 400, \"continuousHeight\": 300}}, \"hconcat\": [{\"data\": {\"name\": \"data-0a6a1faef1b4c559c61aec7b38ee115e\"}, \"mark\": \"bar\", \"encoding\": {\"color\": {\"type\": \"nominal\", \"field\": \"Gender\"}, \"column\": {\"type\": \"nominal\", \"field\": \"Words\"}, \"x\": {\"type\": \"nominal\", \"field\": \"Gender\"}, \"y\": {\"type\": \"quantitative\", \"field\": \"Scores\"}}, \"title\": \"Original Word-Node2Vec\"}, {\"data\": {\"name\": \"data-d11f45a6515350f08879e0f6146f5628\"}, \"mark\": \"bar\", \"encoding\": {\"color\": {\"type\": \"nominal\", \"field\": \"Gender\"}, \"column\": {\"type\": \"nominal\", \"field\": \"Words\"}, \"x\": {\"type\": \"nominal\", \"field\": \"Gender\"}, \"y\": {\"type\": \"quantitative\", \"field\": \"Scores\"}}, \"title\": \"Debiased Word-Node2Vec\"}], \"$schema\": \"https://vega.github.io/schema/vega-lite/v4.8.1.json\", \"datasets\": {\"data-0a6a1faef1b4c559c61aec7b38ee115e\": [{\"Words\": \"doctor\", \"Scores\": 0.3293752670288086, \"Gender\": \"man\"}, {\"Words\": \"nurse\", \"Scores\": 0.4380304515361786, \"Gender\": \"man\"}, {\"Words\": \"lawyer\", \"Scores\": 0.2543603181838989, \"Gender\": \"man\"}, {\"Words\": \"cop\", \"Scores\": 0.5510426163673401, \"Gender\": \"man\"}, {\"Words\": \"plumber\", \"Scores\": 0.3678134083747864, \"Gender\": \"man\"}, {\"Words\": \"teacher\", \"Scores\": 0.25205886363983154, \"Gender\": \"man\"}, {\"Words\": \"chef\", \"Scores\": 0.3587809205055237, \"Gender\": \"man\"}, {\"Words\": \"doctor\", \"Scores\": 0.4098914861679077, \"Gender\": \"woman\"}, {\"Words\": \"nurse\", \"Scores\": 0.5096761584281921, \"Gender\": \"woman\"}, {\"Words\": \"lawyer\", \"Scores\": 0.3728916049003601, \"Gender\": \"woman\"}, {\"Words\": \"cop\", \"Scores\": 0.4697350561618805, \"Gender\": \"woman\"}, {\"Words\": \"plumber\", \"Scores\": 0.41162845492362976, \"Gender\": \"woman\"}, {\"Words\": \"teacher\", \"Scores\": 0.3432482182979584, \"Gender\": \"woman\"}, {\"Words\": \"chef\", \"Scores\": 0.3747236728668213, \"Gender\": \"woman\"}], \"data-d11f45a6515350f08879e0f6146f5628\": [{\"Words\": \"doctor\", \"Scores\": 0.0650777518749237, \"Gender\": \"man\"}, {\"Words\": \"nurse\", \"Scores\": 0.06734461337327957, \"Gender\": \"man\"}, {\"Words\": \"lawyer\", \"Scores\": 0.03623066842556, \"Gender\": \"man\"}, {\"Words\": \"cop\", \"Scores\": 0.035017821937799454, \"Gender\": \"man\"}, {\"Words\": \"plumber\", \"Scores\": -0.07606598734855652, \"Gender\": \"man\"}, {\"Words\": \"teacher\", \"Scores\": -0.01501654926687479, \"Gender\": \"man\"}, {\"Words\": \"chef\", \"Scores\": 0.05061810091137886, \"Gender\": \"man\"}, {\"Words\": \"doctor\", \"Scores\": 0.1235596314072609, \"Gender\": \"woman\"}, {\"Words\": \"nurse\", \"Scores\": 0.09612584859132767, \"Gender\": \"woman\"}, {\"Words\": \"lawyer\", \"Scores\": 0.11171898245811462, \"Gender\": \"woman\"}, {\"Words\": \"cop\", \"Scores\": -0.008292208425700665, \"Gender\": \"woman\"}, {\"Words\": \"plumber\", \"Scores\": 0.00908771064132452, \"Gender\": \"woman\"}, {\"Words\": \"teacher\", \"Scores\": 0.004921180196106434, \"Gender\": \"woman\"}, {\"Words\": \"chef\", \"Scores\": 0.024627938866615295, \"Gender\": \"woman\"}]}}, {\"mode\": \"vega-lite\"});\n",
              "</script>"
            ]
          },
          "metadata": {
            "tags": []
          },
          "execution_count": 43
        }
      ]
    },
    {
      "cell_type": "markdown",
      "metadata": {
        "id": "yBj9eQXqx4r_"
      },
      "source": [
        "### Word2Vec"
      ]
    },
    {
      "cell_type": "code",
      "metadata": {
        "id": "ckQrbSj0xwhw"
      },
      "source": [
        "gender_sim_scores_Word2V, gender_sim_scores_Word2V_debias = attr_target_simScores(embd_orig=Word_2Vec,\n",
        "                                                                              embd_debias=Word_2Vec_debias)"
      ],
      "execution_count": null,
      "outputs": []
    },
    {
      "cell_type": "code",
      "metadata": {
        "colab": {
          "base_uri": "https://localhost:8080/",
          "height": 475
        },
        "id": "DINt3y8syFcK",
        "outputId": "942d99f3-22e2-4cc3-ccac-fdaa34beab90"
      },
      "source": [
        "sim_eval_plot(sim_score_table=gender_sim_scores_Word2V,\n",
        "              x_alt = 'Gender:N',\n",
        "              y_alt = 'Scores:Q',\n",
        "              color_alt= 'Gender:N',\n",
        "              column_alt = 'Words:N',\n",
        "              title_string = \"Original Word2Vec\") | sim_eval_plot(sim_score_table=gender_sim_scores_Word2V_debias,\n",
        "              x_alt = 'Gender:N',\n",
        "              y_alt = 'Scores:Q',\n",
        "              color_alt= 'Gender:N',\n",
        "              column_alt = 'Words:N',\n",
        "              title_string = \"Debiased Word2Vec\")"
      ],
      "execution_count": null,
      "outputs": [
        {
          "output_type": "execute_result",
          "data": {
            "text/plain": [
              "alt.HConcatChart(...)"
            ],
            "text/html": [
              "\n",
              "<div id=\"altair-viz-083bb67f1efe49ca8a69330ee16c5bac\"></div>\n",
              "<script type=\"text/javascript\">\n",
              "  (function(spec, embedOpt){\n",
              "    let outputDiv = document.currentScript.previousElementSibling;\n",
              "    if (outputDiv.id !== \"altair-viz-083bb67f1efe49ca8a69330ee16c5bac\") {\n",
              "      outputDiv = document.getElementById(\"altair-viz-083bb67f1efe49ca8a69330ee16c5bac\");\n",
              "    }\n",
              "    const paths = {\n",
              "      \"vega\": \"https://cdn.jsdelivr.net/npm//vega@5?noext\",\n",
              "      \"vega-lib\": \"https://cdn.jsdelivr.net/npm//vega-lib?noext\",\n",
              "      \"vega-lite\": \"https://cdn.jsdelivr.net/npm//vega-lite@4.8.1?noext\",\n",
              "      \"vega-embed\": \"https://cdn.jsdelivr.net/npm//vega-embed@6?noext\",\n",
              "    };\n",
              "\n",
              "    function loadScript(lib) {\n",
              "      return new Promise(function(resolve, reject) {\n",
              "        var s = document.createElement('script');\n",
              "        s.src = paths[lib];\n",
              "        s.async = true;\n",
              "        s.onload = () => resolve(paths[lib]);\n",
              "        s.onerror = () => reject(`Error loading script: ${paths[lib]}`);\n",
              "        document.getElementsByTagName(\"head\")[0].appendChild(s);\n",
              "      });\n",
              "    }\n",
              "\n",
              "    function showError(err) {\n",
              "      outputDiv.innerHTML = `<div class=\"error\" style=\"color:red;\">${err}</div>`;\n",
              "      throw err;\n",
              "    }\n",
              "\n",
              "    function displayChart(vegaEmbed) {\n",
              "      vegaEmbed(outputDiv, spec, embedOpt)\n",
              "        .catch(err => showError(`Javascript Error: ${err.message}<br>This usually means there's a typo in your chart specification. See the javascript console for the full traceback.`));\n",
              "    }\n",
              "\n",
              "    if(typeof define === \"function\" && define.amd) {\n",
              "      requirejs.config({paths});\n",
              "      require([\"vega-embed\"], displayChart, err => showError(`Error loading script: ${err.message}`));\n",
              "    } else if (typeof vegaEmbed === \"function\") {\n",
              "      displayChart(vegaEmbed);\n",
              "    } else {\n",
              "      loadScript(\"vega\")\n",
              "        .then(() => loadScript(\"vega-lite\"))\n",
              "        .then(() => loadScript(\"vega-embed\"))\n",
              "        .catch(showError)\n",
              "        .then(() => displayChart(vegaEmbed));\n",
              "    }\n",
              "  })({\"config\": {\"view\": {\"continuousWidth\": 400, \"continuousHeight\": 300}}, \"hconcat\": [{\"data\": {\"name\": \"data-4866ace0d93b030b63ea7f0eb37e7480\"}, \"mark\": \"bar\", \"encoding\": {\"color\": {\"type\": \"nominal\", \"field\": \"Gender\"}, \"column\": {\"type\": \"nominal\", \"field\": \"Words\"}, \"x\": {\"type\": \"nominal\", \"field\": \"Gender\"}, \"y\": {\"type\": \"quantitative\", \"field\": \"Scores\"}}, \"title\": \"Original Word2Vec\"}, {\"data\": {\"name\": \"data-d16d6d7e8b7849bddfe9ed54df02fdaa\"}, \"mark\": \"bar\", \"encoding\": {\"color\": {\"type\": \"nominal\", \"field\": \"Gender\"}, \"column\": {\"type\": \"nominal\", \"field\": \"Words\"}, \"x\": {\"type\": \"nominal\", \"field\": \"Gender\"}, \"y\": {\"type\": \"quantitative\", \"field\": \"Scores\"}}, \"title\": \"Debiased Word2Vec\"}], \"$schema\": \"https://vega.github.io/schema/vega-lite/v4.8.1.json\", \"datasets\": {\"data-4866ace0d93b030b63ea7f0eb37e7480\": [{\"Words\": \"doctor\", \"Scores\": 0.3144896328449249, \"Gender\": \"man\"}, {\"Words\": \"nurse\", \"Scores\": 0.2547228932380676, \"Gender\": \"man\"}, {\"Words\": \"lawyer\", \"Scores\": 0.1672297567129135, \"Gender\": \"man\"}, {\"Words\": \"cop\", \"Scores\": 0.4292270541191101, \"Gender\": \"man\"}, {\"Words\": \"plumber\", \"Scores\": 0.35055676102638245, \"Gender\": \"man\"}, {\"Words\": \"teacher\", \"Scores\": 0.2500012516975403, \"Gender\": \"man\"}, {\"Words\": \"chef\", \"Scores\": 0.19055208563804626, \"Gender\": \"man\"}, {\"Words\": \"doctor\", \"Scores\": 0.37945857644081116, \"Gender\": \"woman\"}, {\"Words\": \"nurse\", \"Scores\": 0.44135594367980957, \"Gender\": \"woman\"}, {\"Words\": \"lawyer\", \"Scores\": 0.22423627972602844, \"Gender\": \"woman\"}, {\"Words\": \"cop\", \"Scores\": 0.33892983198165894, \"Gender\": \"woman\"}, {\"Words\": \"plumber\", \"Scores\": 0.2914896011352539, \"Gender\": \"woman\"}, {\"Words\": \"teacher\", \"Scores\": 0.31357845664024353, \"Gender\": \"woman\"}, {\"Words\": \"chef\", \"Scores\": 0.16299650073051453, \"Gender\": \"woman\"}], \"data-d16d6d7e8b7849bddfe9ed54df02fdaa\": [{\"Words\": \"doctor\", \"Scores\": 0.23385947942733765, \"Gender\": \"man\"}, {\"Words\": \"nurse\", \"Scores\": 0.17103779315948486, \"Gender\": \"man\"}, {\"Words\": \"lawyer\", \"Scores\": 0.08778135478496552, \"Gender\": \"man\"}, {\"Words\": \"cop\", \"Scores\": 0.350020170211792, \"Gender\": \"man\"}, {\"Words\": \"plumber\", \"Scores\": 0.2623447775840759, \"Gender\": \"man\"}, {\"Words\": \"teacher\", \"Scores\": 0.17177434265613556, \"Gender\": \"man\"}, {\"Words\": \"chef\", \"Scores\": 0.12084300816059113, \"Gender\": \"man\"}, {\"Words\": \"doctor\", \"Scores\": 0.28456470370292664, \"Gender\": \"woman\"}, {\"Words\": \"nurse\", \"Scores\": 0.30018582940101624, \"Gender\": \"woman\"}, {\"Words\": \"lawyer\", \"Scores\": 0.12587419152259827, \"Gender\": \"woman\"}, {\"Words\": \"cop\", \"Scores\": 0.2685406804084778, \"Gender\": \"woman\"}, {\"Words\": \"plumber\", \"Scores\": 0.2091878205537796, \"Gender\": \"woman\"}, {\"Words\": \"teacher\", \"Scores\": 0.1867331564426422, \"Gender\": \"woman\"}, {\"Words\": \"chef\", \"Scores\": 0.0508311428129673, \"Gender\": \"woman\"}]}}, {\"mode\": \"vega-lite\"});\n",
              "</script>"
            ]
          },
          "metadata": {
            "tags": []
          },
          "execution_count": 47
        }
      ]
    },
    {
      "cell_type": "markdown",
      "metadata": {
        "id": "KEGtZXPHydrF"
      },
      "source": [
        "### Glove (Wikipedia 2014 + Gigaword 5)"
      ]
    },
    {
      "cell_type": "code",
      "metadata": {
        "colab": {
          "base_uri": "https://localhost:8080/",
          "height": 475
        },
        "id": "ED4tqK6uyiVQ",
        "outputId": "58430f29-e75c-4706-db4c-f3ae6d81c6b7"
      },
      "source": [
        "gender_sim_scores_glove6B, gender_sim_scores_glove6B_debias = attr_target_simScores(embd_orig=glove_6B,\n",
        "                                                                              embd_debias=glove6B_debias)\n",
        "\n",
        "sim_eval_plot(sim_score_table=gender_sim_scores_glove6B,\n",
        "              x_alt = 'Gender:N',\n",
        "              y_alt = 'Scores:Q',\n",
        "              color_alt= 'Gender:N',\n",
        "              column_alt = 'Words:N',\n",
        "              title_string = \"Original GloVe (wiki + gigaword, 6B)\") | sim_eval_plot(sim_score_table=gender_sim_scores_glove6B_debias,\n",
        "              x_alt = 'Gender:N',\n",
        "              y_alt = 'Scores:Q',\n",
        "              color_alt= 'Gender:N',\n",
        "              column_alt = 'Words:N',\n",
        "              title_string = \"Debiased GloVe (wiki + gigaword, 6B)c\")\n",
        "\n"
      ],
      "execution_count": null,
      "outputs": [
        {
          "output_type": "execute_result",
          "data": {
            "text/plain": [
              "alt.HConcatChart(...)"
            ],
            "text/html": [
              "\n",
              "<div id=\"altair-viz-a6bb04cbd8a24b07bb771966866699fd\"></div>\n",
              "<script type=\"text/javascript\">\n",
              "  (function(spec, embedOpt){\n",
              "    let outputDiv = document.currentScript.previousElementSibling;\n",
              "    if (outputDiv.id !== \"altair-viz-a6bb04cbd8a24b07bb771966866699fd\") {\n",
              "      outputDiv = document.getElementById(\"altair-viz-a6bb04cbd8a24b07bb771966866699fd\");\n",
              "    }\n",
              "    const paths = {\n",
              "      \"vega\": \"https://cdn.jsdelivr.net/npm//vega@5?noext\",\n",
              "      \"vega-lib\": \"https://cdn.jsdelivr.net/npm//vega-lib?noext\",\n",
              "      \"vega-lite\": \"https://cdn.jsdelivr.net/npm//vega-lite@4.8.1?noext\",\n",
              "      \"vega-embed\": \"https://cdn.jsdelivr.net/npm//vega-embed@6?noext\",\n",
              "    };\n",
              "\n",
              "    function loadScript(lib) {\n",
              "      return new Promise(function(resolve, reject) {\n",
              "        var s = document.createElement('script');\n",
              "        s.src = paths[lib];\n",
              "        s.async = true;\n",
              "        s.onload = () => resolve(paths[lib]);\n",
              "        s.onerror = () => reject(`Error loading script: ${paths[lib]}`);\n",
              "        document.getElementsByTagName(\"head\")[0].appendChild(s);\n",
              "      });\n",
              "    }\n",
              "\n",
              "    function showError(err) {\n",
              "      outputDiv.innerHTML = `<div class=\"error\" style=\"color:red;\">${err}</div>`;\n",
              "      throw err;\n",
              "    }\n",
              "\n",
              "    function displayChart(vegaEmbed) {\n",
              "      vegaEmbed(outputDiv, spec, embedOpt)\n",
              "        .catch(err => showError(`Javascript Error: ${err.message}<br>This usually means there's a typo in your chart specification. See the javascript console for the full traceback.`));\n",
              "    }\n",
              "\n",
              "    if(typeof define === \"function\" && define.amd) {\n",
              "      requirejs.config({paths});\n",
              "      require([\"vega-embed\"], displayChart, err => showError(`Error loading script: ${err.message}`));\n",
              "    } else if (typeof vegaEmbed === \"function\") {\n",
              "      displayChart(vegaEmbed);\n",
              "    } else {\n",
              "      loadScript(\"vega\")\n",
              "        .then(() => loadScript(\"vega-lite\"))\n",
              "        .then(() => loadScript(\"vega-embed\"))\n",
              "        .catch(showError)\n",
              "        .then(() => displayChart(vegaEmbed));\n",
              "    }\n",
              "  })({\"config\": {\"view\": {\"continuousWidth\": 400, \"continuousHeight\": 300}}, \"hconcat\": [{\"data\": {\"name\": \"data-8ce6dc74c2d4c798e2b2c435f3056741\"}, \"mark\": \"bar\", \"encoding\": {\"color\": {\"type\": \"nominal\", \"field\": \"Gender\"}, \"column\": {\"type\": \"nominal\", \"field\": \"Words\"}, \"x\": {\"type\": \"nominal\", \"field\": \"Gender\"}, \"y\": {\"type\": \"quantitative\", \"field\": \"Scores\"}}, \"title\": \"Original GloVe (wiki + gigaword, 6B)\"}, {\"data\": {\"name\": \"data-abd1e279e246c7ce4819d6677f667cd4\"}, \"mark\": \"bar\", \"encoding\": {\"color\": {\"type\": \"nominal\", \"field\": \"Gender\"}, \"column\": {\"type\": \"nominal\", \"field\": \"Words\"}, \"x\": {\"type\": \"nominal\", \"field\": \"Gender\"}, \"y\": {\"type\": \"quantitative\", \"field\": \"Scores\"}}, \"title\": \"Debiased GloVe (wiki + gigaword, 6B)c\"}], \"$schema\": \"https://vega.github.io/schema/vega-lite/v4.8.1.json\", \"datasets\": {\"data-8ce6dc74c2d4c798e2b2c435f3056741\": [{\"Words\": \"doctor\", \"Scores\": 0.6092162132263184, \"Gender\": \"man\"}, {\"Words\": \"nurse\", \"Scores\": 0.4562388062477112, \"Gender\": \"man\"}, {\"Words\": \"lawyer\", \"Scores\": 0.5488995909690857, \"Gender\": \"man\"}, {\"Words\": \"cop\", \"Scores\": 0.5088307857513428, \"Gender\": \"man\"}, {\"Words\": \"plumber\", \"Scores\": 0.25163525342941284, \"Gender\": \"man\"}, {\"Words\": \"teacher\", \"Scores\": 0.5256065130233765, \"Gender\": \"man\"}, {\"Words\": \"chef\", \"Scores\": 0.33364564180374146, \"Gender\": \"man\"}, {\"Words\": \"doctor\", \"Scores\": 0.6333478689193726, \"Gender\": \"woman\"}, {\"Words\": \"nurse\", \"Scores\": 0.6139442324638367, \"Gender\": \"woman\"}, {\"Words\": \"lawyer\", \"Scores\": 0.5244336724281311, \"Gender\": \"woman\"}, {\"Words\": \"cop\", \"Scores\": 0.3775433599948883, \"Gender\": \"woman\"}, {\"Words\": \"plumber\", \"Scores\": 0.24600014090538025, \"Gender\": \"woman\"}, {\"Words\": \"teacher\", \"Scores\": 0.5791158676147461, \"Gender\": \"woman\"}, {\"Words\": \"chef\", \"Scores\": 0.3215433657169342, \"Gender\": \"woman\"}], \"data-abd1e279e246c7ce4819d6677f667cd4\": [{\"Words\": \"doctor\", \"Scores\": 0.12177669256925583, \"Gender\": \"man\"}, {\"Words\": \"nurse\", \"Scores\": -0.013771728612482548, \"Gender\": \"man\"}, {\"Words\": \"lawyer\", \"Scores\": 0.1645617038011551, \"Gender\": \"man\"}, {\"Words\": \"cop\", \"Scores\": 0.15317358076572418, \"Gender\": \"man\"}, {\"Words\": \"plumber\", \"Scores\": -0.07939834147691727, \"Gender\": \"man\"}, {\"Words\": \"teacher\", \"Scores\": -0.10063225775957108, \"Gender\": \"man\"}, {\"Words\": \"chef\", \"Scores\": -0.10271819680929184, \"Gender\": \"man\"}, {\"Words\": \"doctor\", \"Scores\": 0.2088327407836914, \"Gender\": \"woman\"}, {\"Words\": \"nurse\", \"Scores\": 0.0082866121083498, \"Gender\": \"woman\"}, {\"Words\": \"lawyer\", \"Scores\": 0.12557147443294525, \"Gender\": \"woman\"}, {\"Words\": \"cop\", \"Scores\": 0.09918661415576935, \"Gender\": \"woman\"}, {\"Words\": \"plumber\", \"Scores\": 0.0857456773519516, \"Gender\": \"woman\"}, {\"Words\": \"teacher\", \"Scores\": -0.020043708384037018, \"Gender\": \"woman\"}, {\"Words\": \"chef\", \"Scores\": -0.08266673982143402, \"Gender\": \"woman\"}]}}, {\"mode\": \"vega-lite\"});\n",
              "</script>"
            ]
          },
          "metadata": {
            "tags": []
          },
          "execution_count": 50
        }
      ]
    },
    {
      "cell_type": "markdown",
      "metadata": {
        "id": "eZEAP8iczN1I"
      },
      "source": [
        "### Glove (Twitter 27B)"
      ]
    },
    {
      "cell_type": "code",
      "metadata": {
        "colab": {
          "base_uri": "https://localhost:8080/",
          "height": 475
        },
        "id": "BaaIU4NQzSY_",
        "outputId": "c89c15ad-7328-44cd-f701-47f1ee18098a"
      },
      "source": [
        "gender_sim_scores_glove27B, gender_sim_scores_glove27B_debias = attr_target_simScores(embd_orig=glove_27B,\n",
        "                                                                              embd_debias=glove27B_debias)\n",
        "\n",
        "sim_eval_plot(sim_score_table=gender_sim_scores_glove27B,\n",
        "              x_alt = 'Gender:N',\n",
        "              y_alt = 'Scores:Q',\n",
        "              color_alt= 'Gender:N',\n",
        "              column_alt = 'Words:N',\n",
        "              title_string = \"Original GloVe (twitter, 27B)\") | sim_eval_plot(sim_score_table=gender_sim_scores_glove27B_debias,\n",
        "              x_alt = 'Gender:N',\n",
        "              y_alt = 'Scores:Q',\n",
        "              color_alt= 'Gender:N',\n",
        "              column_alt = 'Words:N',\n",
        "              title_string = \"Debiased GloVe (twitter, 27B)c\")\n",
        "\n"
      ],
      "execution_count": null,
      "outputs": [
        {
          "output_type": "execute_result",
          "data": {
            "text/plain": [
              "alt.HConcatChart(...)"
            ],
            "text/html": [
              "\n",
              "<div id=\"altair-viz-820d8fe12d8a41b7a6a0c501b7ce698a\"></div>\n",
              "<script type=\"text/javascript\">\n",
              "  (function(spec, embedOpt){\n",
              "    let outputDiv = document.currentScript.previousElementSibling;\n",
              "    if (outputDiv.id !== \"altair-viz-820d8fe12d8a41b7a6a0c501b7ce698a\") {\n",
              "      outputDiv = document.getElementById(\"altair-viz-820d8fe12d8a41b7a6a0c501b7ce698a\");\n",
              "    }\n",
              "    const paths = {\n",
              "      \"vega\": \"https://cdn.jsdelivr.net/npm//vega@5?noext\",\n",
              "      \"vega-lib\": \"https://cdn.jsdelivr.net/npm//vega-lib?noext\",\n",
              "      \"vega-lite\": \"https://cdn.jsdelivr.net/npm//vega-lite@4.8.1?noext\",\n",
              "      \"vega-embed\": \"https://cdn.jsdelivr.net/npm//vega-embed@6?noext\",\n",
              "    };\n",
              "\n",
              "    function loadScript(lib) {\n",
              "      return new Promise(function(resolve, reject) {\n",
              "        var s = document.createElement('script');\n",
              "        s.src = paths[lib];\n",
              "        s.async = true;\n",
              "        s.onload = () => resolve(paths[lib]);\n",
              "        s.onerror = () => reject(`Error loading script: ${paths[lib]}`);\n",
              "        document.getElementsByTagName(\"head\")[0].appendChild(s);\n",
              "      });\n",
              "    }\n",
              "\n",
              "    function showError(err) {\n",
              "      outputDiv.innerHTML = `<div class=\"error\" style=\"color:red;\">${err}</div>`;\n",
              "      throw err;\n",
              "    }\n",
              "\n",
              "    function displayChart(vegaEmbed) {\n",
              "      vegaEmbed(outputDiv, spec, embedOpt)\n",
              "        .catch(err => showError(`Javascript Error: ${err.message}<br>This usually means there's a typo in your chart specification. See the javascript console for the full traceback.`));\n",
              "    }\n",
              "\n",
              "    if(typeof define === \"function\" && define.amd) {\n",
              "      requirejs.config({paths});\n",
              "      require([\"vega-embed\"], displayChart, err => showError(`Error loading script: ${err.message}`));\n",
              "    } else if (typeof vegaEmbed === \"function\") {\n",
              "      displayChart(vegaEmbed);\n",
              "    } else {\n",
              "      loadScript(\"vega\")\n",
              "        .then(() => loadScript(\"vega-lite\"))\n",
              "        .then(() => loadScript(\"vega-embed\"))\n",
              "        .catch(showError)\n",
              "        .then(() => displayChart(vegaEmbed));\n",
              "    }\n",
              "  })({\"config\": {\"view\": {\"continuousWidth\": 400, \"continuousHeight\": 300}}, \"hconcat\": [{\"data\": {\"name\": \"data-35ea8d332143f0c1247affe66175bb5e\"}, \"mark\": \"bar\", \"encoding\": {\"color\": {\"type\": \"nominal\", \"field\": \"Gender\"}, \"column\": {\"type\": \"nominal\", \"field\": \"Words\"}, \"x\": {\"type\": \"nominal\", \"field\": \"Gender\"}, \"y\": {\"type\": \"quantitative\", \"field\": \"Scores\"}}, \"title\": \"Original GloVe (twitter, 27B)\"}, {\"data\": {\"name\": \"data-1d95c3dff54ced2c640032d9b6573c90\"}, \"mark\": \"bar\", \"encoding\": {\"color\": {\"type\": \"nominal\", \"field\": \"Gender\"}, \"column\": {\"type\": \"nominal\", \"field\": \"Words\"}, \"x\": {\"type\": \"nominal\", \"field\": \"Gender\"}, \"y\": {\"type\": \"quantitative\", \"field\": \"Scores\"}}, \"title\": \"Debiased GloVe (twitter, 27B)c\"}], \"$schema\": \"https://vega.github.io/schema/vega-lite/v4.8.1.json\", \"datasets\": {\"data-35ea8d332143f0c1247affe66175bb5e\": [{\"Words\": \"doctor\", \"Scores\": 0.45706355571746826, \"Gender\": \"man\"}, {\"Words\": \"nurse\", \"Scores\": 0.27639761567115784, \"Gender\": \"man\"}, {\"Words\": \"lawyer\", \"Scores\": 0.35830774903297424, \"Gender\": \"man\"}, {\"Words\": \"cop\", \"Scores\": 0.48176872730255127, \"Gender\": \"man\"}, {\"Words\": \"plumber\", \"Scores\": 0.13536249101161957, \"Gender\": \"man\"}, {\"Words\": \"teacher\", \"Scores\": 0.43435803055763245, \"Gender\": \"man\"}, {\"Words\": \"chef\", \"Scores\": 0.399573415517807, \"Gender\": \"man\"}, {\"Words\": \"doctor\", \"Scores\": 0.5294807553291321, \"Gender\": \"woman\"}, {\"Words\": \"nurse\", \"Scores\": 0.46517613530158997, \"Gender\": \"woman\"}, {\"Words\": \"lawyer\", \"Scores\": 0.5583075881004333, \"Gender\": \"woman\"}, {\"Words\": \"cop\", \"Scores\": 0.5166175961494446, \"Gender\": \"woman\"}, {\"Words\": \"plumber\", \"Scores\": 0.23859526216983795, \"Gender\": \"woman\"}, {\"Words\": \"teacher\", \"Scores\": 0.5728644728660583, \"Gender\": \"woman\"}, {\"Words\": \"chef\", \"Scores\": 0.38792574405670166, \"Gender\": \"woman\"}], \"data-1d95c3dff54ced2c640032d9b6573c90\": [{\"Words\": \"doctor\", \"Scores\": -0.1093699187040329, \"Gender\": \"man\"}, {\"Words\": \"nurse\", \"Scores\": -0.035408295691013336, \"Gender\": \"man\"}, {\"Words\": \"lawyer\", \"Scores\": -0.06479614973068237, \"Gender\": \"man\"}, {\"Words\": \"cop\", \"Scores\": -0.08365349471569061, \"Gender\": \"man\"}, {\"Words\": \"plumber\", \"Scores\": -0.06849872320890427, \"Gender\": \"man\"}, {\"Words\": \"teacher\", \"Scores\": -0.2081228494644165, \"Gender\": \"man\"}, {\"Words\": \"chef\", \"Scores\": 0.06779125332832336, \"Gender\": \"man\"}, {\"Words\": \"doctor\", \"Scores\": 0.0946478545665741, \"Gender\": \"woman\"}, {\"Words\": \"nurse\", \"Scores\": 0.09208229929208755, \"Gender\": \"woman\"}, {\"Words\": \"lawyer\", \"Scores\": 0.1971159130334854, \"Gender\": \"woman\"}, {\"Words\": \"cop\", \"Scores\": 0.04804154485464096, \"Gender\": \"woman\"}, {\"Words\": \"plumber\", \"Scores\": -0.024307146668434143, \"Gender\": \"woman\"}, {\"Words\": \"teacher\", \"Scores\": 0.0021596080623567104, \"Gender\": \"woman\"}, {\"Words\": \"chef\", \"Scores\": -0.03559534624218941, \"Gender\": \"woman\"}]}}, {\"mode\": \"vega-lite\"});\n",
              "</script>"
            ]
          },
          "metadata": {
            "tags": []
          },
          "execution_count": 51
        }
      ]
    },
    {
      "cell_type": "markdown",
      "metadata": {
        "id": "xkn_PaK5x28T"
      },
      "source": [
        "## Race"
      ]
    },
    {
      "cell_type": "code",
      "metadata": {
        "id": "OySzeoX9x3z5"
      },
      "source": [
        "race = \"\"\"black\n",
        "hispanic\n",
        "asian\n",
        "white\n",
        "\"\"\".splitlines()\n",
        "\n",
        "sentiment = \"\"\"good\n",
        "bad\n",
        "pleasant\n",
        "unpleasant\n",
        "smart\n",
        "stupid\n",
        "\"\"\".splitlines()"
      ],
      "execution_count": null,
      "outputs": []
    },
    {
      "cell_type": "markdown",
      "metadata": {
        "id": "i0ogpALfzf23"
      },
      "source": [
        "### Word-Node2Vec"
      ]
    },
    {
      "cell_type": "code",
      "metadata": {
        "colab": {
          "base_uri": "https://localhost:8080/",
          "height": 478
        },
        "id": "e6GAVXtjzxOJ",
        "outputId": "852eeb6d-9db1-4d04-c0cb-1367cdc6f2df"
      },
      "source": [
        "race_sim_scores_WN2V, race_sim_scores_WN2V_debias = attr_target_simScores(embd_orig=Word_node2Vec,\n",
        "                                                                          embd_debias=Word_node2Vec_debias,\n",
        "                                                                          attr_list= race,\n",
        "                                                                          attr_name=\"Race\",\n",
        "                                                                          target_list=sentiment,\n",
        "                                                                          target_name=\"Sentiment\")\n",
        "\n",
        "\n",
        "sim_eval_plot(sim_score_table=race_sim_scores_WN2V,\n",
        "              x_alt = 'Race:N',\n",
        "              y_alt = 'Scores:Q',\n",
        "              color_alt= 'Race:N',\n",
        "              column_alt = 'Words:N',\n",
        "              title_string = \"Original Word-Node2Vec\") | sim_eval_plot(sim_score_table=race_sim_scores_WN2V_debias,\n",
        "              x_alt = 'Race:N',\n",
        "              y_alt = 'Scores:Q',\n",
        "              color_alt= 'Race:N',\n",
        "              column_alt = 'Words:N',\n",
        "              title_string = \"Debiased Word-Node2Vec\")"
      ],
      "execution_count": null,
      "outputs": [
        {
          "output_type": "execute_result",
          "data": {
            "text/plain": [
              "alt.HConcatChart(...)"
            ],
            "text/html": [
              "\n",
              "<div id=\"altair-viz-80e8cb11d21a41a4b89400225e65ec0d\"></div>\n",
              "<script type=\"text/javascript\">\n",
              "  (function(spec, embedOpt){\n",
              "    let outputDiv = document.currentScript.previousElementSibling;\n",
              "    if (outputDiv.id !== \"altair-viz-80e8cb11d21a41a4b89400225e65ec0d\") {\n",
              "      outputDiv = document.getElementById(\"altair-viz-80e8cb11d21a41a4b89400225e65ec0d\");\n",
              "    }\n",
              "    const paths = {\n",
              "      \"vega\": \"https://cdn.jsdelivr.net/npm//vega@5?noext\",\n",
              "      \"vega-lib\": \"https://cdn.jsdelivr.net/npm//vega-lib?noext\",\n",
              "      \"vega-lite\": \"https://cdn.jsdelivr.net/npm//vega-lite@4.8.1?noext\",\n",
              "      \"vega-embed\": \"https://cdn.jsdelivr.net/npm//vega-embed@6?noext\",\n",
              "    };\n",
              "\n",
              "    function loadScript(lib) {\n",
              "      return new Promise(function(resolve, reject) {\n",
              "        var s = document.createElement('script');\n",
              "        s.src = paths[lib];\n",
              "        s.async = true;\n",
              "        s.onload = () => resolve(paths[lib]);\n",
              "        s.onerror = () => reject(`Error loading script: ${paths[lib]}`);\n",
              "        document.getElementsByTagName(\"head\")[0].appendChild(s);\n",
              "      });\n",
              "    }\n",
              "\n",
              "    function showError(err) {\n",
              "      outputDiv.innerHTML = `<div class=\"error\" style=\"color:red;\">${err}</div>`;\n",
              "      throw err;\n",
              "    }\n",
              "\n",
              "    function displayChart(vegaEmbed) {\n",
              "      vegaEmbed(outputDiv, spec, embedOpt)\n",
              "        .catch(err => showError(`Javascript Error: ${err.message}<br>This usually means there's a typo in your chart specification. See the javascript console for the full traceback.`));\n",
              "    }\n",
              "\n",
              "    if(typeof define === \"function\" && define.amd) {\n",
              "      requirejs.config({paths});\n",
              "      require([\"vega-embed\"], displayChart, err => showError(`Error loading script: ${err.message}`));\n",
              "    } else if (typeof vegaEmbed === \"function\") {\n",
              "      displayChart(vegaEmbed);\n",
              "    } else {\n",
              "      loadScript(\"vega\")\n",
              "        .then(() => loadScript(\"vega-lite\"))\n",
              "        .then(() => loadScript(\"vega-embed\"))\n",
              "        .catch(showError)\n",
              "        .then(() => displayChart(vegaEmbed));\n",
              "    }\n",
              "  })({\"config\": {\"view\": {\"continuousWidth\": 400, \"continuousHeight\": 300}}, \"hconcat\": [{\"data\": {\"name\": \"data-b14a12fb4f7fa8e9b1bc46afee7738b1\"}, \"mark\": \"bar\", \"encoding\": {\"color\": {\"type\": \"nominal\", \"field\": \"Race\"}, \"column\": {\"type\": \"nominal\", \"field\": \"Words\"}, \"x\": {\"type\": \"nominal\", \"field\": \"Race\"}, \"y\": {\"type\": \"quantitative\", \"field\": \"Scores\"}}, \"title\": \"Original Word-Node2Vec\"}, {\"data\": {\"name\": \"data-cfce2452e5ab9fd39e38e89a4b92a3ab\"}, \"mark\": \"bar\", \"encoding\": {\"color\": {\"type\": \"nominal\", \"field\": \"Race\"}, \"column\": {\"type\": \"nominal\", \"field\": \"Words\"}, \"x\": {\"type\": \"nominal\", \"field\": \"Race\"}, \"y\": {\"type\": \"quantitative\", \"field\": \"Scores\"}}, \"title\": \"Debiased Word-Node2Vec\"}], \"$schema\": \"https://vega.github.io/schema/vega-lite/v4.8.1.json\", \"datasets\": {\"data-b14a12fb4f7fa8e9b1bc46afee7738b1\": [{\"Words\": \"good\", \"Scores\": 0.3267240822315216, \"Race\": \"black\"}, {\"Words\": \"bad\", \"Scores\": 0.20427508652210236, \"Race\": \"black\"}, {\"Words\": \"pleasant\", \"Scores\": 0.31818848848342896, \"Race\": \"black\"}, {\"Words\": \"unpleasant\", \"Scores\": 0.41432300209999084, \"Race\": \"black\"}, {\"Words\": \"smart\", \"Scores\": 0.147708460688591, \"Race\": \"black\"}, {\"Words\": \"stupid\", \"Scores\": 0.39660853147506714, \"Race\": \"black\"}, {\"Words\": \"good\", \"Scores\": 0.3642010986804962, \"Race\": \"hispanic\"}, {\"Words\": \"bad\", \"Scores\": 0.22242562472820282, \"Race\": \"hispanic\"}, {\"Words\": \"pleasant\", \"Scores\": 0.3961588442325592, \"Race\": \"hispanic\"}, {\"Words\": \"unpleasant\", \"Scores\": 0.3875957727432251, \"Race\": \"hispanic\"}, {\"Words\": \"smart\", \"Scores\": 0.3565964996814728, \"Race\": \"hispanic\"}, {\"Words\": \"stupid\", \"Scores\": 0.44158729910850525, \"Race\": \"hispanic\"}, {\"Words\": \"good\", \"Scores\": 0.21343979239463806, \"Race\": \"asian\"}, {\"Words\": \"bad\", \"Scores\": 0.20073308050632477, \"Race\": \"asian\"}, {\"Words\": \"pleasant\", \"Scores\": 0.1356898844242096, \"Race\": \"asian\"}, {\"Words\": \"unpleasant\", \"Scores\": 0.2634935677051544, \"Race\": \"asian\"}, {\"Words\": \"smart\", \"Scores\": 0.31416991353034973, \"Race\": \"asian\"}, {\"Words\": \"stupid\", \"Scores\": 0.2619166374206543, \"Race\": \"asian\"}, {\"Words\": \"good\", \"Scores\": 0.31315067410469055, \"Race\": \"white\"}, {\"Words\": \"bad\", \"Scores\": 0.15215010941028595, \"Race\": \"white\"}, {\"Words\": \"pleasant\", \"Scores\": 0.3742484450340271, \"Race\": \"white\"}, {\"Words\": \"unpleasant\", \"Scores\": 0.4098261892795563, \"Race\": \"white\"}, {\"Words\": \"smart\", \"Scores\": 0.1426253467798233, \"Race\": \"white\"}, {\"Words\": \"stupid\", \"Scores\": 0.3559270203113556, \"Race\": \"white\"}], \"data-cfce2452e5ab9fd39e38e89a4b92a3ab\": [{\"Words\": \"good\", \"Scores\": 0.08113022893667221, \"Race\": \"black\"}, {\"Words\": \"bad\", \"Scores\": -0.055576108396053314, \"Race\": \"black\"}, {\"Words\": \"pleasant\", \"Scores\": 0.06331294775009155, \"Race\": \"black\"}, {\"Words\": \"unpleasant\", \"Scores\": 0.08417113870382309, \"Race\": \"black\"}, {\"Words\": \"smart\", \"Scores\": -0.11932280659675598, \"Race\": \"black\"}, {\"Words\": \"stupid\", \"Scores\": 0.017624786123633385, \"Race\": \"black\"}, {\"Words\": \"good\", \"Scores\": 0.12399132549762726, \"Race\": \"hispanic\"}, {\"Words\": \"bad\", \"Scores\": -0.07505766302347183, \"Race\": \"hispanic\"}, {\"Words\": \"pleasant\", \"Scores\": 0.14665767550468445, \"Race\": \"hispanic\"}, {\"Words\": \"unpleasant\", \"Scores\": 0.019381511956453323, \"Race\": \"hispanic\"}, {\"Words\": \"smart\", \"Scores\": 0.056096404790878296, \"Race\": \"hispanic\"}, {\"Words\": \"stupid\", \"Scores\": 0.0176906269043684, \"Race\": \"hispanic\"}, {\"Words\": \"good\", \"Scores\": -0.0013594800839200616, \"Race\": \"asian\"}, {\"Words\": \"bad\", \"Scores\": 0.03543684259057045, \"Race\": \"asian\"}, {\"Words\": \"pleasant\", \"Scores\": -0.08930540084838867, \"Race\": \"asian\"}, {\"Words\": \"unpleasant\", \"Scores\": -0.01837559975683689, \"Race\": \"asian\"}, {\"Words\": \"smart\", \"Scores\": 0.12151287496089935, \"Race\": \"asian\"}, {\"Words\": \"stupid\", \"Scores\": -0.09081511944532394, \"Race\": \"asian\"}, {\"Words\": \"good\", \"Scores\": 0.10445277392864227, \"Race\": \"white\"}, {\"Words\": \"bad\", \"Scores\": -0.084547258913517, \"Race\": \"white\"}, {\"Words\": \"pleasant\", \"Scores\": 0.13112454116344452, \"Race\": \"white\"}, {\"Words\": \"unpleasant\", \"Scores\": 0.11513397842645645, \"Race\": \"white\"}, {\"Words\": \"smart\", \"Scores\": -0.10680897533893585, \"Race\": \"white\"}, {\"Words\": \"stupid\", \"Scores\": 0.07548858225345612, \"Race\": \"white\"}]}}, {\"mode\": \"vega-lite\"});\n",
              "</script>"
            ]
          },
          "metadata": {
            "tags": []
          },
          "execution_count": 54
        }
      ]
    },
    {
      "cell_type": "code",
      "metadata": {
        "colab": {
          "base_uri": "https://localhost:8080/",
          "height": 510
        },
        "id": "upEvlCxtz097",
        "outputId": "7681d060-b4cc-4a22-980d-65f6bc47a2fc"
      },
      "source": [
        "race_sim_WN2V_all = attr_target_simScores_oneTable(Word_node2Vec,\n",
        "                                                     Word_node2Vec_debias,\n",
        "                                                     race,\n",
        "                                                     'Race',\n",
        "                                                     sentiment,\n",
        "                                                     'Sentiment')\n",
        "\n",
        "sim_eval_plot(race_sim_WN2V_all,\n",
        "              x_alt= 'Race:N',\n",
        "              y_alt= 'Scores:Q',\n",
        "              color_alt= 'Race:N',\n",
        "              column_alt= 'Words:N',\n",
        "              title_string= 'Comparing pre- and post- debiased Word-Node2Vec'\n",
        ")"
      ],
      "execution_count": null,
      "outputs": [
        {
          "output_type": "execute_result",
          "data": {
            "text/plain": [
              "alt.Chart(...)"
            ],
            "text/html": [
              "\n",
              "<div id=\"altair-viz-7082b4d5cc8a4f29ace695096aa98fca\"></div>\n",
              "<script type=\"text/javascript\">\n",
              "  (function(spec, embedOpt){\n",
              "    let outputDiv = document.currentScript.previousElementSibling;\n",
              "    if (outputDiv.id !== \"altair-viz-7082b4d5cc8a4f29ace695096aa98fca\") {\n",
              "      outputDiv = document.getElementById(\"altair-viz-7082b4d5cc8a4f29ace695096aa98fca\");\n",
              "    }\n",
              "    const paths = {\n",
              "      \"vega\": \"https://cdn.jsdelivr.net/npm//vega@5?noext\",\n",
              "      \"vega-lib\": \"https://cdn.jsdelivr.net/npm//vega-lib?noext\",\n",
              "      \"vega-lite\": \"https://cdn.jsdelivr.net/npm//vega-lite@4.8.1?noext\",\n",
              "      \"vega-embed\": \"https://cdn.jsdelivr.net/npm//vega-embed@6?noext\",\n",
              "    };\n",
              "\n",
              "    function loadScript(lib) {\n",
              "      return new Promise(function(resolve, reject) {\n",
              "        var s = document.createElement('script');\n",
              "        s.src = paths[lib];\n",
              "        s.async = true;\n",
              "        s.onload = () => resolve(paths[lib]);\n",
              "        s.onerror = () => reject(`Error loading script: ${paths[lib]}`);\n",
              "        document.getElementsByTagName(\"head\")[0].appendChild(s);\n",
              "      });\n",
              "    }\n",
              "\n",
              "    function showError(err) {\n",
              "      outputDiv.innerHTML = `<div class=\"error\" style=\"color:red;\">${err}</div>`;\n",
              "      throw err;\n",
              "    }\n",
              "\n",
              "    function displayChart(vegaEmbed) {\n",
              "      vegaEmbed(outputDiv, spec, embedOpt)\n",
              "        .catch(err => showError(`Javascript Error: ${err.message}<br>This usually means there's a typo in your chart specification. See the javascript console for the full traceback.`));\n",
              "    }\n",
              "\n",
              "    if(typeof define === \"function\" && define.amd) {\n",
              "      requirejs.config({paths});\n",
              "      require([\"vega-embed\"], displayChart, err => showError(`Error loading script: ${err.message}`));\n",
              "    } else if (typeof vegaEmbed === \"function\") {\n",
              "      displayChart(vegaEmbed);\n",
              "    } else {\n",
              "      loadScript(\"vega\")\n",
              "        .then(() => loadScript(\"vega-lite\"))\n",
              "        .then(() => loadScript(\"vega-embed\"))\n",
              "        .catch(showError)\n",
              "        .then(() => displayChart(vegaEmbed));\n",
              "    }\n",
              "  })({\"config\": {\"view\": {\"continuousWidth\": 400, \"continuousHeight\": 300}}, \"data\": {\"name\": \"data-8ca4ee621720b1c42b8c5a2f1729401f\"}, \"mark\": \"bar\", \"encoding\": {\"color\": {\"type\": \"nominal\", \"field\": \"Race\"}, \"column\": {\"type\": \"nominal\", \"field\": \"Words\"}, \"x\": {\"type\": \"nominal\", \"field\": \"Race\"}, \"y\": {\"type\": \"quantitative\", \"field\": \"Scores\"}}, \"title\": \"Comparing pre- and post- debiased Word-Node2Vec\", \"$schema\": \"https://vega.github.io/schema/vega-lite/v4.8.1.json\", \"datasets\": {\"data-8ca4ee621720b1c42b8c5a2f1729401f\": [{\"Words\": \"good\", \"Scores\": 0.3267240822315216, \"Race\": \"black\"}, {\"Words\": \"good\", \"Scores\": 0.08113022893667221, \"Race\": \"black debias\"}, {\"Words\": \"bad\", \"Scores\": 0.20427508652210236, \"Race\": \"black\"}, {\"Words\": \"bad\", \"Scores\": -0.055576108396053314, \"Race\": \"black debias\"}, {\"Words\": \"pleasant\", \"Scores\": 0.31818848848342896, \"Race\": \"black\"}, {\"Words\": \"pleasant\", \"Scores\": 0.06331294775009155, \"Race\": \"black debias\"}, {\"Words\": \"unpleasant\", \"Scores\": 0.41432300209999084, \"Race\": \"black\"}, {\"Words\": \"unpleasant\", \"Scores\": 0.08417113870382309, \"Race\": \"black debias\"}, {\"Words\": \"good\", \"Scores\": 0.3642010986804962, \"Race\": \"hispanic\"}, {\"Words\": \"good\", \"Scores\": 0.12399132549762726, \"Race\": \"hispanic debias\"}, {\"Words\": \"bad\", \"Scores\": 0.22242562472820282, \"Race\": \"hispanic\"}, {\"Words\": \"bad\", \"Scores\": -0.07505766302347183, \"Race\": \"hispanic debias\"}, {\"Words\": \"pleasant\", \"Scores\": 0.3961588442325592, \"Race\": \"hispanic\"}, {\"Words\": \"pleasant\", \"Scores\": 0.14665767550468445, \"Race\": \"hispanic debias\"}, {\"Words\": \"unpleasant\", \"Scores\": 0.3875957727432251, \"Race\": \"hispanic\"}, {\"Words\": \"unpleasant\", \"Scores\": 0.019381511956453323, \"Race\": \"hispanic debias\"}, {\"Words\": \"good\", \"Scores\": 0.21343979239463806, \"Race\": \"asian\"}, {\"Words\": \"good\", \"Scores\": -0.0013594800839200616, \"Race\": \"asian debias\"}, {\"Words\": \"bad\", \"Scores\": 0.20073308050632477, \"Race\": \"asian\"}, {\"Words\": \"bad\", \"Scores\": 0.03543684259057045, \"Race\": \"asian debias\"}, {\"Words\": \"pleasant\", \"Scores\": 0.1356898844242096, \"Race\": \"asian\"}, {\"Words\": \"pleasant\", \"Scores\": -0.08930540084838867, \"Race\": \"asian debias\"}, {\"Words\": \"unpleasant\", \"Scores\": 0.2634935677051544, \"Race\": \"asian\"}, {\"Words\": \"unpleasant\", \"Scores\": -0.01837559975683689, \"Race\": \"asian debias\"}, {\"Words\": \"good\", \"Scores\": 0.31315067410469055, \"Race\": \"white\"}, {\"Words\": \"good\", \"Scores\": 0.10445277392864227, \"Race\": \"white debias\"}, {\"Words\": \"bad\", \"Scores\": 0.15215010941028595, \"Race\": \"white\"}, {\"Words\": \"bad\", \"Scores\": -0.084547258913517, \"Race\": \"white debias\"}, {\"Words\": \"pleasant\", \"Scores\": 0.3742484450340271, \"Race\": \"white\"}, {\"Words\": \"pleasant\", \"Scores\": 0.13112454116344452, \"Race\": \"white debias\"}, {\"Words\": \"unpleasant\", \"Scores\": 0.4098261892795563, \"Race\": \"white\"}, {\"Words\": \"unpleasant\", \"Scores\": 0.11513397842645645, \"Race\": \"white debias\"}]}}, {\"mode\": \"vega-lite\"});\n",
              "</script>"
            ]
          },
          "metadata": {
            "tags": []
          },
          "execution_count": 55
        }
      ]
    },
    {
      "cell_type": "markdown",
      "metadata": {
        "id": "4u7bAtJMEKSa"
      },
      "source": [
        "# Evaluate on Benchmarks"
      ]
    },
    {
      "cell_type": "markdown",
      "metadata": {
        "id": "JdsTG4Z90ubf"
      },
      "source": [
        "## Word Similarity"
      ]
    },
    {
      "cell_type": "code",
      "metadata": {
        "id": "QOCsFEGM0L_l",
        "colab": {
          "base_uri": "https://localhost:8080/"
        },
        "outputId": "e27e37b5-5a67-45f9-beda-1050221935c2"
      },
      "source": [
        "#!curl -O https://storage.googleapis.com/word-embedding-bias/evaluation_data/SimLex-999/SimLex-999.txt\n",
        "!curl -O https://storage.googleapis.com/word-embedding-bias/evaluation_data/wordsim353_sim_rel/wordsim_relatedness_goldstandard.txt"
      ],
      "execution_count": 56,
      "outputs": [
        {
          "output_type": "stream",
          "text": [
            "  % Total    % Received % Xferd  Average Speed   Time    Time     Time  Current\n",
            "                                 Dload  Upload   Total   Spent    Left  Speed\n",
            "100 44050  100 44050    0     0   364k      0 --:--:-- --:--:-- --:--:--  367k\n",
            "  % Total    % Received % Xferd  Average Speed   Time    Time     Time  Current\n",
            "                                 Dload  Upload   Total   Spent    Left  Speed\n",
            "100  5134  100  5134    0     0  47981      0 --:--:-- --:--:-- --:--:-- 47981\n"
          ],
          "name": "stdout"
        }
      ]
    },
    {
      "cell_type": "markdown",
      "metadata": {
        "id": "yqTVhVwtHFjV"
      },
      "source": [
        "## Word-Node2Vec"
      ]
    },
    {
      "cell_type": "code",
      "metadata": {
        "colab": {
          "base_uri": "https://localhost:8080/"
        },
        "id": "hvDpbbi9Eynw",
        "outputId": "3979ea81-7dca-40a1-cc0b-7da9ea64e8b1"
      },
      "source": [
        "# evaluate_word_pairs() Returns:\n",
        "# # pearson (tuple of (float, float)) – Pearson correlation coefficient with 2-tailed p-value.\n",
        "# # spearman (tuple of (float, float)) – Spearman rank-order correlation coefficient between the similarities from the dataset and the similarities produced by the model itself, with 2-tailed p-value.\n",
        "# # oov_ratio (float) – The ratio of pairs with unknown words.\n",
        "\n",
        "print(\"Word-Node2Vec wordpair relatedness evaluated on wordsim353: \\n\",\n",
        "      Word_node2Vec.evaluate_word_pairs('/content/wordsim_relatedness_goldstandard.txt'),\n",
        "      \"\\nAfter debias:\\n\", \n",
        "      Word_node2Vec_debias.evaluate_word_pairs('/content/wordsim_relatedness_goldstandard.txt'))\n",
        "\n"
      ],
      "execution_count": 66,
      "outputs": [
        {
          "output_type": "stream",
          "text": [
            "Word-Node2Vec wordpair relatedness evaluated on wordsim353: \n",
            " ((0.4215634138820215, 5.1027154403837476e-12), SpearmanrResult(correlation=0.4389342631193916, pvalue=5.235587121948308e-13), 2.380952380952381) \n",
            "After debias:\n",
            " ((0.4747537476792845, 3.115464499689187e-15), SpearmanrResult(correlation=0.4796171451570302, pvalue=1.4818630926004981e-15), 2.380952380952381)\n"
          ],
          "name": "stdout"
        }
      ]
    },
    {
      "cell_type": "code",
      "metadata": {
        "colab": {
          "base_uri": "https://localhost:8080/"
        },
        "id": "Oc18aC_YE0IF",
        "outputId": "ad5dc740-91b3-4932-ec45-f9b161cfa5dc"
      },
      "source": [
        "print('Word-Node2Vec word-similarity evaluated on SimLex-999: \\n',\n",
        "      Word_node2Vec.evaluate_word_pairs(datapath('simlex999.txt')),\n",
        "      \"\\nAfter debias:\\n\",\n",
        "      Word_node2Vec_debias.evaluate_word_pairs(datapath('simlex999.txt')))"
      ],
      "execution_count": 67,
      "outputs": [
        {
          "output_type": "stream",
          "text": [
            "Word-Node2Vec word-similarity evaluated on SimLex-999: \n",
            " ((0.29605919601329495, 1.6689809975598465e-19), SpearmanrResult(correlation=0.27945269767830566, pvalue=1.8232269418894455e-17), 10.71071071071071) \n",
            "After debias:\n",
            " ((0.2899334152374802, 9.777018704260447e-19), SpearmanrResult(correlation=0.30367891017864157, pvalue=1.742710216898177e-20), 10.71071071071071)\n"
          ],
          "name": "stdout"
        }
      ]
    },
    {
      "cell_type": "markdown",
      "metadata": {
        "id": "I5CH8moSHY_q"
      },
      "source": [
        "## Word2Vec"
      ]
    },
    {
      "cell_type": "code",
      "metadata": {
        "colab": {
          "base_uri": "https://localhost:8080/"
        },
        "id": "X0n2LCLOF8-S",
        "outputId": "cb491684-2b7f-47f2-9876-388c6b1bb31e"
      },
      "source": [
        "print(\"Word2Vec wordpair relatedness evaluated on wordsim353: \\n\",\n",
        "      Word_2Vec.evaluate_word_pairs('/content/wordsim_relatedness_goldstandard.txt'),\n",
        "      \"\\nAfter debias:\\n\", \n",
        "      Word_2Vec_debias.evaluate_word_pairs('/content/wordsim_relatedness_goldstandard.txt'))\n",
        "\n",
        "\n"
      ],
      "execution_count": 69,
      "outputs": [
        {
          "output_type": "stream",
          "text": [
            "Word-Node2Vec wordpair relatedness evaluated on wordsim353: \n",
            " ((0.5828562828500318, 2.509489164398354e-24), SpearmanrResult(correlation=0.6096656214924954, pvalue=4.8544129721570166e-27), 0.0) \n",
            "After debias:\n",
            " ((0.5929361262191529, 3.9707772062310593e-25), SpearmanrResult(correlation=0.6279532599891448, pvalue=7.969117681364963e-29), 0.7936507936507936)\n"
          ],
          "name": "stdout"
        }
      ]
    },
    {
      "cell_type": "code",
      "metadata": {
        "colab": {
          "base_uri": "https://localhost:8080/"
        },
        "id": "-OKgzol3HgsL",
        "outputId": "22c0d82d-5880-4898-8d0a-762a50742cb5"
      },
      "source": [
        "print('Word2Vec word-similarity evaluated on SimLex-999: \\n',\n",
        "      Word_2Vec.evaluate_word_pairs(datapath('simlex999.txt')),\n",
        "      \"\\nAfter debias:\\n\",\n",
        "      Word_2Vec_debias.evaluate_word_pairs(datapath('simlex999.txt')))"
      ],
      "execution_count": 71,
      "outputs": [
        {
          "output_type": "stream",
          "text": [
            "Word2Vec word-similarity evaluated on SimLex-999: \n",
            " ((0.4471705573561379, 3.160267671963873e-50), SpearmanrResult(correlation=0.43607859778335434, pvalue=1.389641635335226e-47), 0.10010010010010009) \n",
            "After debias:\n",
            " ((0.47517267579666106, 2.3784846984521527e-57), SpearmanrResult(correlation=0.4599157933636926, pvalue=2.1851407591497585e-53), 0.10010010010010009)\n"
          ],
          "name": "stdout"
        }
      ]
    },
    {
      "cell_type": "markdown",
      "metadata": {
        "id": "hjiD-5UIHqUw"
      },
      "source": [
        "## Glove (Wikipedia 14 + Gigaword5)"
      ]
    },
    {
      "cell_type": "code",
      "metadata": {
        "colab": {
          "base_uri": "https://localhost:8080/"
        },
        "id": "1B0Cww42H0sF",
        "outputId": "ddf5071d-00a5-447c-bda0-161aa0a217e9"
      },
      "source": [
        "print(\"GloVe (wiki+gigaword) wordpair relatedness evaluated on wordsim353: \\n\",\n",
        "      glove_6B.evaluate_word_pairs('/content/wordsim_relatedness_goldstandard.txt'),\n",
        "      \"\\nAfter debias:\\n\", \n",
        "      glove6B_debias.evaluate_word_pairs('/content/wordsim_relatedness_goldstandard.txt'))\n",
        "\n"
      ],
      "execution_count": 73,
      "outputs": [
        {
          "output_type": "stream",
          "text": [
            "GloVe (wiki+gigaword) wordpair relatedness evaluated on wordsim353: \n",
            " ((0.5427605271203725, 1.0451362123621617e-20), SpearmanrResult(correlation=0.4955440478219759, pvalue=5.071277243588149e-17), 0.0) \n",
            "After debias:\n",
            " ((0.5819787573962477, 3.049305582378865e-24), SpearmanrResult(correlation=0.5651490290821453, pvalue=1.144963907794601e-22), 0.0)\n"
          ],
          "name": "stdout"
        }
      ]
    },
    {
      "cell_type": "code",
      "metadata": {
        "colab": {
          "base_uri": "https://localhost:8080/"
        },
        "id": "jre5rH8HH-iS",
        "outputId": "6f1e686c-5c89-4337-ccf1-5846f6df0ad8"
      },
      "source": [
        "print('GloVe (wiki+gigaword) word-similarity evaluated on SimLex-999: \\n',\n",
        "      glove_6B.evaluate_word_pairs(datapath('simlex999.txt')),\n",
        "      \"\\nAfter debias:\\n\",\n",
        "      glove6B_debias.evaluate_word_pairs(datapath('simlex999.txt')))"
      ],
      "execution_count": 74,
      "outputs": [
        {
          "output_type": "stream",
          "text": [
            "GloVe (wiki+gigaword) word-similarity evaluated on SimLex-999: \n",
            " ((0.3239589841573707, 8.103436613642305e-26), SpearmanrResult(correlation=0.29611016700703413, pvalue=1.2018323902325084e-21), 0.10010010010010009) \n",
            "After debias:\n",
            " ((0.39680595966854715, 5.587266460691873e-39), SpearmanrResult(correlation=0.37663582402104717, pvalue=5.464088058515506e-35), 0.10010010010010009)\n"
          ],
          "name": "stdout"
        }
      ]
    },
    {
      "cell_type": "markdown",
      "metadata": {
        "id": "_bcUnMsAIMRa"
      },
      "source": [
        "## GloVe (Twitter)"
      ]
    },
    {
      "cell_type": "code",
      "metadata": {
        "colab": {
          "base_uri": "https://localhost:8080/"
        },
        "id": "YGRtU901IJVe",
        "outputId": "ee2dfd54-0a2a-4a56-dcbc-a7b3790a8728"
      },
      "source": [
        "print(\"GloVe (twitter) wordpair relatedness evaluated on wordsim353: \\n\",\n",
        "      glove_27B.evaluate_word_pairs('/content/wordsim_relatedness_goldstandard.txt'),\n",
        "      \"\\nAfter debias:\\n\", \n",
        "      glove27B_debias.evaluate_word_pairs('/content/wordsim_relatedness_goldstandard.txt'))"
      ],
      "execution_count": 75,
      "outputs": [
        {
          "output_type": "stream",
          "text": [
            "GloVe (wiki+gigaword) wordpair relatedness evaluated on wordsim353: \n",
            " ((0.45602256278331627, 4.3473102023106903e-14), SpearmanrResult(correlation=0.4513820356679759, pvalue=8.406015645082996e-14), 1.984126984126984) \n",
            "After debias:\n",
            " ((0.5520015696370677, 2.030475620080884e-21), SpearmanrResult(correlation=0.5337457907375546, pvalue=6.944802340041368e-20), 0.3968253968253968)\n"
          ],
          "name": "stdout"
        }
      ]
    },
    {
      "cell_type": "code",
      "metadata": {
        "colab": {
          "base_uri": "https://localhost:8080/"
        },
        "id": "BoG3XGw0IX7y",
        "outputId": "84bf3b4f-0bf7-4e8a-babc-8d114f0fd90d"
      },
      "source": [
        "print('GloVe (twitter) word-similarity evaluated on SimLex-999: \\n',\n",
        "      glove_27B.evaluate_word_pairs(datapath('simlex999.txt')),\n",
        "      \"\\nAfter debias:\\n\",\n",
        "      glove27B_debias.evaluate_word_pairs(datapath('simlex999.txt')))"
      ],
      "execution_count": 76,
      "outputs": [
        {
          "output_type": "stream",
          "text": [
            "GloVe (twitter) word-similarity evaluated on SimLex-999: \n",
            " ((0.1321139070533408, 2.855941898389144e-05), SpearmanrResult(correlation=0.12151309592646334, pvalue=0.00011993409739196722), 0.20020020020020018) \n",
            "After debias:\n",
            " ((0.30978886928992927, 1.221487877377878e-23), SpearmanrResult(correlation=0.2876135243911663, pvalue=1.839877835723352e-20), 0.10010010010010009)\n"
          ],
          "name": "stdout"
        }
      ]
    },
    {
      "cell_type": "code",
      "metadata": {
        "id": "6E-hA_XMIdaI"
      },
      "source": [
        "# auromate this >_< rushed for deadline\n",
        "\n",
        "embeddings = ['Word_node2Vec',\n",
        "              'Word_node2Vec_debias',\n",
        "              'Word_2Vec',\n",
        "              'Word_2Vec_debias',\n",
        "              'glove6B',\n",
        "              'glove6B_debias',\n",
        "              'glove_27B',\n",
        "              'glove_27B_debias']\n",
        "embedding_parent = ['Word_node2Vec',\n",
        "                    'Word_node2Vec',\n",
        "                    'Word_2Vec',\n",
        "                    'Word_2Vec',\n",
        "                    'glove6B',\n",
        "                    'glove6B',\n",
        "                    'glove_27B',\n",
        "                    'glove_27B']\n",
        "debiased = ['no','yes','no','yes','no','yes','no','yes','no','yes','no','yes','no','yes','no','yes','no','yes',]\n",
        "\n",
        "spearman_word_rel = [0.4389342631193916,\n",
        "                     0.4796171451570302,\n",
        "                     0.6096656214924954,\n",
        "                     0.6279532599891448,\n",
        "                     0.4955440478219759,\n",
        "                     0.5651490290821453,\n",
        "                     0.4513820356679759,\n",
        "                     0.5337457907375546]\n",
        "\n",
        "spearman_word_sim = [0.27945269767830566,\n",
        "                     0.30367891017864157,\n",
        "                     0.43607859778335434,\n",
        "                     0.4599157933636926,\n",
        "                     0.29611016700703413,\n",
        "                     0.37663582402104717,\n",
        "                     0.12151309592646334,\n",
        "                     0.2876135243911663]\n",
        "\n",
        "WEAT_scores = [1.1809115,\n",
        "               1.0103018773051147,\n",
        "               1.1587172,\n",
        "               0.6567464954100717,\n",
        "               1.1596817,\n",
        "               1.5614718573527036,\n",
        "               0.1173317,\n",
        "               -0.14090246335130263]\n",
        "\n"
      ],
      "execution_count": 121,
      "outputs": []
    },
    {
      "cell_type": "code",
      "metadata": {
        "id": "b96JkYJ9Isc6"
      },
      "source": [
        "# wordpair_evals = pd.DataFrame(np.array([embeddings, spearman_word_rel, spearman_word_sim]),\n",
        "#                               columns=['Embedding', 'WordRel Correlation', 'WordSim Correlation'])\n",
        "\n",
        "\n",
        "embed_evals = pd.DataFrame(list(zip(embeddings, embedding_parent, debiased, WEAT_scores, spearman_word_rel, spearman_word_sim)),\n",
        "                  columns= ['Embedding', 'Embedding_parent', 'Debiased', 'WEAT', 'WordRel', 'WordSim'])\n"
      ],
      "execution_count": 122,
      "outputs": []
    },
    {
      "cell_type": "code",
      "metadata": {
        "colab": {
          "base_uri": "https://localhost:8080/",
          "height": 291
        },
        "id": "PO0vTuquJmlg",
        "outputId": "002951ea-f4de-4b9b-fd19-90a7b0fa17c6"
      },
      "source": [
        "embed_evals"
      ],
      "execution_count": 123,
      "outputs": [
        {
          "output_type": "execute_result",
          "data": {
            "text/html": [
              "<div>\n",
              "<style scoped>\n",
              "    .dataframe tbody tr th:only-of-type {\n",
              "        vertical-align: middle;\n",
              "    }\n",
              "\n",
              "    .dataframe tbody tr th {\n",
              "        vertical-align: top;\n",
              "    }\n",
              "\n",
              "    .dataframe thead th {\n",
              "        text-align: right;\n",
              "    }\n",
              "</style>\n",
              "<table border=\"1\" class=\"dataframe\">\n",
              "  <thead>\n",
              "    <tr style=\"text-align: right;\">\n",
              "      <th></th>\n",
              "      <th>Embedding</th>\n",
              "      <th>Embedding_parent</th>\n",
              "      <th>Debiased</th>\n",
              "      <th>WEAT</th>\n",
              "      <th>WordRel</th>\n",
              "      <th>WordSim</th>\n",
              "    </tr>\n",
              "  </thead>\n",
              "  <tbody>\n",
              "    <tr>\n",
              "      <th>0</th>\n",
              "      <td>Word_node2Vec</td>\n",
              "      <td>Word_node2Vec</td>\n",
              "      <td>no</td>\n",
              "      <td>1.180911</td>\n",
              "      <td>0.438934</td>\n",
              "      <td>0.279453</td>\n",
              "    </tr>\n",
              "    <tr>\n",
              "      <th>1</th>\n",
              "      <td>Word_node2Vec_debias</td>\n",
              "      <td>Word_node2Vec</td>\n",
              "      <td>yes</td>\n",
              "      <td>1.010302</td>\n",
              "      <td>0.479617</td>\n",
              "      <td>0.303679</td>\n",
              "    </tr>\n",
              "    <tr>\n",
              "      <th>2</th>\n",
              "      <td>Word_2Vec</td>\n",
              "      <td>Word_2Vec</td>\n",
              "      <td>no</td>\n",
              "      <td>1.158717</td>\n",
              "      <td>0.609666</td>\n",
              "      <td>0.436079</td>\n",
              "    </tr>\n",
              "    <tr>\n",
              "      <th>3</th>\n",
              "      <td>Word_2Vec_debias</td>\n",
              "      <td>Word_2Vec</td>\n",
              "      <td>yes</td>\n",
              "      <td>0.656746</td>\n",
              "      <td>0.627953</td>\n",
              "      <td>0.459916</td>\n",
              "    </tr>\n",
              "    <tr>\n",
              "      <th>4</th>\n",
              "      <td>glove6B</td>\n",
              "      <td>glove6B</td>\n",
              "      <td>no</td>\n",
              "      <td>1.159682</td>\n",
              "      <td>0.495544</td>\n",
              "      <td>0.296110</td>\n",
              "    </tr>\n",
              "    <tr>\n",
              "      <th>5</th>\n",
              "      <td>glove6B_debias</td>\n",
              "      <td>glove6B</td>\n",
              "      <td>yes</td>\n",
              "      <td>1.561472</td>\n",
              "      <td>0.565149</td>\n",
              "      <td>0.376636</td>\n",
              "    </tr>\n",
              "    <tr>\n",
              "      <th>6</th>\n",
              "      <td>glove_27B</td>\n",
              "      <td>glove_27B</td>\n",
              "      <td>no</td>\n",
              "      <td>0.117332</td>\n",
              "      <td>0.451382</td>\n",
              "      <td>0.121513</td>\n",
              "    </tr>\n",
              "    <tr>\n",
              "      <th>7</th>\n",
              "      <td>glove_27B_debias</td>\n",
              "      <td>glove_27B</td>\n",
              "      <td>yes</td>\n",
              "      <td>-0.140902</td>\n",
              "      <td>0.533746</td>\n",
              "      <td>0.287614</td>\n",
              "    </tr>\n",
              "  </tbody>\n",
              "</table>\n",
              "</div>"
            ],
            "text/plain": [
              "              Embedding Embedding_parent Debiased      WEAT   WordRel   WordSim\n",
              "0         Word_node2Vec    Word_node2Vec       no  1.180911  0.438934  0.279453\n",
              "1  Word_node2Vec_debias    Word_node2Vec      yes  1.010302  0.479617  0.303679\n",
              "2             Word_2Vec        Word_2Vec       no  1.158717  0.609666  0.436079\n",
              "3      Word_2Vec_debias        Word_2Vec      yes  0.656746  0.627953  0.459916\n",
              "4               glove6B          glove6B       no  1.159682  0.495544  0.296110\n",
              "5        glove6B_debias          glove6B      yes  1.561472  0.565149  0.376636\n",
              "6             glove_27B        glove_27B       no  0.117332  0.451382  0.121513\n",
              "7      glove_27B_debias        glove_27B      yes -0.140902  0.533746  0.287614"
            ]
          },
          "metadata": {
            "tags": []
          },
          "execution_count": 123
        }
      ]
    },
    {
      "cell_type": "code",
      "metadata": {
        "colab": {
          "base_uri": "https://localhost:8080/",
          "height": 483
        },
        "id": "FWrZOTlEJ5Bp",
        "outputId": "0a7060b4-23c3-448d-b86e-52607bbf580e"
      },
      "source": [
        "  wordRel_chart = alt.Chart(embed_evals).mark_circle(filled=True, \n",
        "                                size=200, \n",
        "                                opacity=0.9, \n",
        "                                color='viridium').encode(\n",
        "    x=alt.X('WEAT:Q', title='WEAT Effect Size'),\n",
        "    y=alt.Y('WordRel:Q', title='Word Relatedness (Sim353)', scale=alt.Scale(zero=False)),\n",
        "    color=alt.Color('Embedding_parent', legend=alt.Legend(title='Embedding')),\n",
        "    #shape=alt.Shape('Debiased', legend=alt.Legend(title='Debiased')),\n",
        "    tooltip=['Embedding', 'WEAT', 'WordRel', 'WordSim']\n",
        ").properties(\n",
        "    title='Word Pair Relatedness vs. WEAT Effect Size',\n",
        "    width=600,\n",
        "    height=400\n",
        ")\n",
        "\n",
        "wordRel_labels = wordRel_chart.mark_text(\n",
        "    align='left',\n",
        "    baseline='middle',\n",
        "    dx=10\n",
        ").encode(\n",
        "    text='Embedding'\n",
        ")\n",
        "\n",
        "#   wordSim_chart = alt.Chart(embed_evals).mark_circle(filled=True, \n",
        "#                                 size=200, \n",
        "#                                 opacity=0.9, \n",
        "#                                 color='tableau20').encode(\n",
        "#     x=alt.X('WEAT:Q', title='WEAT Effect Size'),\n",
        "#     y=alt.Y('WordRel:Q', title='Word Relatedness (Sim353)', scale=alt.Scale(zero=False)),\n",
        "#     color=alt.Color('Embedding', legend=alt.Legend(title='Embedding')),\n",
        "#     tooltip=['Embedding', 'WEAT', 'WordRel', 'WordSim']\n",
        "# ).properties(\n",
        "#     title='Word Pair Relatedness vs. WEAT Effect Size',\n",
        "#     width=600,\n",
        "#     height=400\n",
        "# )\n",
        "\n",
        "# wordRel_labels = wordRel_chart.mark_text(\n",
        "#     align='left',\n",
        "#     baseline='middle',\n",
        "#     dx=10\n",
        "# ).encode(\n",
        "#     text='Embedding'\n",
        "# )\n",
        "\n",
        "wordRel_chart + wordRel_labels"
      ],
      "execution_count": 128,
      "outputs": [
        {
          "output_type": "execute_result",
          "data": {
            "text/plain": [
              "alt.LayerChart(...)"
            ],
            "text/html": [
              "\n",
              "<div id=\"altair-viz-91fa612c040541aeaa6ec6f6e9dbc5fc\"></div>\n",
              "<script type=\"text/javascript\">\n",
              "  (function(spec, embedOpt){\n",
              "    let outputDiv = document.currentScript.previousElementSibling;\n",
              "    if (outputDiv.id !== \"altair-viz-91fa612c040541aeaa6ec6f6e9dbc5fc\") {\n",
              "      outputDiv = document.getElementById(\"altair-viz-91fa612c040541aeaa6ec6f6e9dbc5fc\");\n",
              "    }\n",
              "    const paths = {\n",
              "      \"vega\": \"https://cdn.jsdelivr.net/npm//vega@5?noext\",\n",
              "      \"vega-lib\": \"https://cdn.jsdelivr.net/npm//vega-lib?noext\",\n",
              "      \"vega-lite\": \"https://cdn.jsdelivr.net/npm//vega-lite@4.8.1?noext\",\n",
              "      \"vega-embed\": \"https://cdn.jsdelivr.net/npm//vega-embed@6?noext\",\n",
              "    };\n",
              "\n",
              "    function loadScript(lib) {\n",
              "      return new Promise(function(resolve, reject) {\n",
              "        var s = document.createElement('script');\n",
              "        s.src = paths[lib];\n",
              "        s.async = true;\n",
              "        s.onload = () => resolve(paths[lib]);\n",
              "        s.onerror = () => reject(`Error loading script: ${paths[lib]}`);\n",
              "        document.getElementsByTagName(\"head\")[0].appendChild(s);\n",
              "      });\n",
              "    }\n",
              "\n",
              "    function showError(err) {\n",
              "      outputDiv.innerHTML = `<div class=\"error\" style=\"color:red;\">${err}</div>`;\n",
              "      throw err;\n",
              "    }\n",
              "\n",
              "    function displayChart(vegaEmbed) {\n",
              "      vegaEmbed(outputDiv, spec, embedOpt)\n",
              "        .catch(err => showError(`Javascript Error: ${err.message}<br>This usually means there's a typo in your chart specification. See the javascript console for the full traceback.`));\n",
              "    }\n",
              "\n",
              "    if(typeof define === \"function\" && define.amd) {\n",
              "      requirejs.config({paths});\n",
              "      require([\"vega-embed\"], displayChart, err => showError(`Error loading script: ${err.message}`));\n",
              "    } else if (typeof vegaEmbed === \"function\") {\n",
              "      displayChart(vegaEmbed);\n",
              "    } else {\n",
              "      loadScript(\"vega\")\n",
              "        .then(() => loadScript(\"vega-lite\"))\n",
              "        .then(() => loadScript(\"vega-embed\"))\n",
              "        .catch(showError)\n",
              "        .then(() => displayChart(vegaEmbed));\n",
              "    }\n",
              "  })({\"config\": {\"view\": {\"continuousWidth\": 400, \"continuousHeight\": 300}}, \"layer\": [{\"mark\": {\"type\": \"circle\", \"color\": \"viridium\", \"filled\": true, \"opacity\": 0.9, \"size\": 200}, \"encoding\": {\"shape\": {\"type\": \"nominal\", \"field\": \"Debiased\", \"legend\": {\"title\": \"Debiased\"}}, \"tooltip\": [{\"type\": \"nominal\", \"field\": \"Embedding\"}, {\"type\": \"quantitative\", \"field\": \"WEAT\"}, {\"type\": \"quantitative\", \"field\": \"WordRel\"}, {\"type\": \"quantitative\", \"field\": \"WordSim\"}], \"x\": {\"type\": \"quantitative\", \"field\": \"WEAT\", \"title\": \"WEAT Effect Size\"}, \"y\": {\"type\": \"quantitative\", \"field\": \"WordRel\", \"scale\": {\"zero\": false}, \"title\": \"Word Relatedness (Sim353)\"}}, \"height\": 400, \"title\": \"Word Pair Relatedness vs. WEAT Effect Size\", \"width\": 600}, {\"mark\": {\"type\": \"text\", \"align\": \"left\", \"baseline\": \"middle\", \"dx\": 10}, \"encoding\": {\"shape\": {\"type\": \"nominal\", \"field\": \"Debiased\", \"legend\": {\"title\": \"Debiased\"}}, \"text\": {\"type\": \"nominal\", \"field\": \"Embedding\"}, \"tooltip\": [{\"type\": \"nominal\", \"field\": \"Embedding\"}, {\"type\": \"quantitative\", \"field\": \"WEAT\"}, {\"type\": \"quantitative\", \"field\": \"WordRel\"}, {\"type\": \"quantitative\", \"field\": \"WordSim\"}], \"x\": {\"type\": \"quantitative\", \"field\": \"WEAT\", \"title\": \"WEAT Effect Size\"}, \"y\": {\"type\": \"quantitative\", \"field\": \"WordRel\", \"scale\": {\"zero\": false}, \"title\": \"Word Relatedness (Sim353)\"}}, \"height\": 400, \"title\": \"Word Pair Relatedness vs. WEAT Effect Size\", \"width\": 600}], \"data\": {\"name\": \"data-12b55adf07e2567860b4f00470bb351c\"}, \"$schema\": \"https://vega.github.io/schema/vega-lite/v4.8.1.json\", \"datasets\": {\"data-12b55adf07e2567860b4f00470bb351c\": [{\"Embedding\": \"Word_node2Vec\", \"Embedding_parent\": \"Word_node2Vec\", \"Debiased\": \"no\", \"WEAT\": 1.1809115, \"WordRel\": 0.4389342631193916, \"WordSim\": 0.27945269767830566}, {\"Embedding\": \"Word_node2Vec_debias\", \"Embedding_parent\": \"Word_node2Vec\", \"Debiased\": \"yes\", \"WEAT\": 1.0103018773051147, \"WordRel\": 0.4796171451570302, \"WordSim\": 0.30367891017864157}, {\"Embedding\": \"Word_2Vec\", \"Embedding_parent\": \"Word_2Vec\", \"Debiased\": \"no\", \"WEAT\": 1.1587172, \"WordRel\": 0.6096656214924954, \"WordSim\": 0.43607859778335434}, {\"Embedding\": \"Word_2Vec_debias\", \"Embedding_parent\": \"Word_2Vec\", \"Debiased\": \"yes\", \"WEAT\": 0.6567464954100717, \"WordRel\": 0.6279532599891448, \"WordSim\": 0.4599157933636926}, {\"Embedding\": \"glove6B\", \"Embedding_parent\": \"glove6B\", \"Debiased\": \"no\", \"WEAT\": 1.1596817, \"WordRel\": 0.4955440478219759, \"WordSim\": 0.29611016700703413}, {\"Embedding\": \"glove6B_debias\", \"Embedding_parent\": \"glove6B\", \"Debiased\": \"yes\", \"WEAT\": 1.5614718573527036, \"WordRel\": 0.5651490290821453, \"WordSim\": 0.37663582402104717}, {\"Embedding\": \"glove_27B\", \"Embedding_parent\": \"glove_27B\", \"Debiased\": \"no\", \"WEAT\": 0.1173317, \"WordRel\": 0.4513820356679759, \"WordSim\": 0.12151309592646334}, {\"Embedding\": \"glove_27B_debias\", \"Embedding_parent\": \"glove_27B\", \"Debiased\": \"yes\", \"WEAT\": -0.14090246335130263, \"WordRel\": 0.5337457907375546, \"WordSim\": 0.2876135243911663}]}}, {\"mode\": \"vega-lite\"});\n",
              "</script>"
            ]
          },
          "metadata": {
            "tags": []
          },
          "execution_count": 128
        }
      ]
    },
    {
      "cell_type": "code",
      "metadata": {
        "colab": {
          "base_uri": "https://localhost:8080/",
          "height": 762
        },
        "id": "zOnzZ4YLMmxj",
        "outputId": "87f00f10-f599-4369-d945-91116036a71c"
      },
      "source": [
        "  ###############\n",
        "  # Final Chart #\n",
        "  ###############\n",
        "\n",
        "  wordRel_chart = alt.Chart(embed_evals).mark_point(filled=True, \n",
        "                                size=200, \n",
        "                                opacity=0.9, \n",
        "                                color='viridium').encode(\n",
        "    x=alt.X('WEAT:Q', title='WEAT Effect Size'),\n",
        "    y=alt.Y('WordRel:Q', title='Word Relatedness (Sim353)', scale=alt.Scale(zero=False)),\n",
        "    color=alt.Color('Embedding_parent', legend=alt.Legend(title='Embedding')),\n",
        "    shape=alt.Shape('Debiased', legend=alt.Legend(title='Debiased')),\n",
        "    tooltip=['Embedding', 'WEAT', 'WordRel', 'WordSim']\n",
        ").properties(\n",
        "    title='Word Pair Relatedness vs. WEAT Effect Size',\n",
        "    width=450,\n",
        "    height=300\n",
        ")\n",
        "\n",
        "wordRel_labels = wordRel_chart.mark_text(\n",
        "    align='left',\n",
        "    baseline='middle',\n",
        "    dx=10,\n",
        "    fontSize=16\n",
        ").encode(\n",
        "    text='Embedding'\n",
        ")\n",
        "\n",
        "\n",
        "  wordSim_chart = alt.Chart(embed_evals).mark_point(filled=True, \n",
        "                                size=200, \n",
        "                                opacity=0.9).encode(\n",
        "    x=alt.X('WEAT:Q', title='WEAT Effect Size'),\n",
        "    y=alt.Y('WordSim:Q', title='Word Similarity (SimLex-999)', scale=alt.Scale(zero=False)),\n",
        "    color=alt.Color('Embedding_parent', legend=alt.Legend(title='Embedding')),\n",
        "    shape=alt.Shape('Debiased', legend=alt.Legend(title='Debiased')),\n",
        "    tooltip=['Embedding', 'WEAT', 'WordRel', 'WordSim']\n",
        ").properties(\n",
        "    title='Word Pair Similarity (SimLex-999) vs. WEAT Effect Size',\n",
        "    width=450,\n",
        "    height=300\n",
        ")\n",
        "\n",
        "wordSim_labels = wordSim_chart.mark_text(\n",
        "    align='left',\n",
        "    baseline='middle',\n",
        "    dx=10,\n",
        "    fontSize=16\n",
        ").encode(\n",
        "    text='Embedding'\n",
        ")\n",
        "\n",
        "\n",
        "\n",
        "\n",
        "\n",
        "(wordRel_chart + wordRel_labels & wordSim_chart + wordSim_labels)\n"
      ],
      "execution_count": 212,
      "outputs": [
        {
          "output_type": "execute_result",
          "data": {
            "text/plain": [
              "alt.VConcatChart(...)"
            ],
            "text/html": [
              "\n",
              "<div id=\"altair-viz-0dc9e0a0618643f6bd108a54084fc024\"></div>\n",
              "<script type=\"text/javascript\">\n",
              "  (function(spec, embedOpt){\n",
              "    let outputDiv = document.currentScript.previousElementSibling;\n",
              "    if (outputDiv.id !== \"altair-viz-0dc9e0a0618643f6bd108a54084fc024\") {\n",
              "      outputDiv = document.getElementById(\"altair-viz-0dc9e0a0618643f6bd108a54084fc024\");\n",
              "    }\n",
              "    const paths = {\n",
              "      \"vega\": \"https://cdn.jsdelivr.net/npm//vega@5?noext\",\n",
              "      \"vega-lib\": \"https://cdn.jsdelivr.net/npm//vega-lib?noext\",\n",
              "      \"vega-lite\": \"https://cdn.jsdelivr.net/npm//vega-lite@4.8.1?noext\",\n",
              "      \"vega-embed\": \"https://cdn.jsdelivr.net/npm//vega-embed@6?noext\",\n",
              "    };\n",
              "\n",
              "    function loadScript(lib) {\n",
              "      return new Promise(function(resolve, reject) {\n",
              "        var s = document.createElement('script');\n",
              "        s.src = paths[lib];\n",
              "        s.async = true;\n",
              "        s.onload = () => resolve(paths[lib]);\n",
              "        s.onerror = () => reject(`Error loading script: ${paths[lib]}`);\n",
              "        document.getElementsByTagName(\"head\")[0].appendChild(s);\n",
              "      });\n",
              "    }\n",
              "\n",
              "    function showError(err) {\n",
              "      outputDiv.innerHTML = `<div class=\"error\" style=\"color:red;\">${err}</div>`;\n",
              "      throw err;\n",
              "    }\n",
              "\n",
              "    function displayChart(vegaEmbed) {\n",
              "      vegaEmbed(outputDiv, spec, embedOpt)\n",
              "        .catch(err => showError(`Javascript Error: ${err.message}<br>This usually means there's a typo in your chart specification. See the javascript console for the full traceback.`));\n",
              "    }\n",
              "\n",
              "    if(typeof define === \"function\" && define.amd) {\n",
              "      requirejs.config({paths});\n",
              "      require([\"vega-embed\"], displayChart, err => showError(`Error loading script: ${err.message}`));\n",
              "    } else if (typeof vegaEmbed === \"function\") {\n",
              "      displayChart(vegaEmbed);\n",
              "    } else {\n",
              "      loadScript(\"vega\")\n",
              "        .then(() => loadScript(\"vega-lite\"))\n",
              "        .then(() => loadScript(\"vega-embed\"))\n",
              "        .catch(showError)\n",
              "        .then(() => displayChart(vegaEmbed));\n",
              "    }\n",
              "  })({\"config\": {\"view\": {\"continuousWidth\": 400, \"continuousHeight\": 300}}, \"vconcat\": [{\"layer\": [{\"mark\": {\"type\": \"point\", \"color\": \"viridium\", \"filled\": true, \"opacity\": 0.9, \"size\": 200}, \"encoding\": {\"color\": {\"type\": \"nominal\", \"field\": \"Embedding_parent\", \"legend\": {\"title\": \"Embedding\"}}, \"shape\": {\"type\": \"nominal\", \"field\": \"Debiased\", \"legend\": {\"title\": \"Debiased\"}}, \"tooltip\": [{\"type\": \"nominal\", \"field\": \"Embedding\"}, {\"type\": \"quantitative\", \"field\": \"WEAT\"}, {\"type\": \"quantitative\", \"field\": \"WordRel\"}, {\"type\": \"quantitative\", \"field\": \"WordSim\"}], \"x\": {\"type\": \"quantitative\", \"field\": \"WEAT\", \"title\": \"WEAT Effect Size\"}, \"y\": {\"type\": \"quantitative\", \"field\": \"WordRel\", \"scale\": {\"zero\": false}, \"title\": \"Word Relatedness (Sim353)\"}}, \"height\": 300, \"title\": \"Word Pair Relatedness vs. WEAT Effect Size\", \"width\": 450}, {\"mark\": {\"type\": \"text\", \"align\": \"left\", \"baseline\": \"middle\", \"dx\": 10, \"fontSize\": 16}, \"encoding\": {\"color\": {\"type\": \"nominal\", \"field\": \"Embedding_parent\", \"legend\": {\"title\": \"Embedding\"}}, \"shape\": {\"type\": \"nominal\", \"field\": \"Debiased\", \"legend\": {\"title\": \"Debiased\"}}, \"text\": {\"type\": \"nominal\", \"field\": \"Embedding\"}, \"tooltip\": [{\"type\": \"nominal\", \"field\": \"Embedding\"}, {\"type\": \"quantitative\", \"field\": \"WEAT\"}, {\"type\": \"quantitative\", \"field\": \"WordRel\"}, {\"type\": \"quantitative\", \"field\": \"WordSim\"}], \"x\": {\"type\": \"quantitative\", \"field\": \"WEAT\", \"title\": \"WEAT Effect Size\"}, \"y\": {\"type\": \"quantitative\", \"field\": \"WordRel\", \"scale\": {\"zero\": false}, \"title\": \"Word Relatedness (Sim353)\"}}, \"height\": 300, \"title\": \"Word Pair Relatedness vs. WEAT Effect Size\", \"width\": 450}]}, {\"layer\": [{\"mark\": {\"type\": \"point\", \"filled\": true, \"opacity\": 0.9, \"size\": 200}, \"encoding\": {\"color\": {\"type\": \"nominal\", \"field\": \"Embedding_parent\", \"legend\": {\"title\": \"Embedding\"}}, \"shape\": {\"type\": \"nominal\", \"field\": \"Debiased\", \"legend\": {\"title\": \"Debiased\"}}, \"tooltip\": [{\"type\": \"nominal\", \"field\": \"Embedding\"}, {\"type\": \"quantitative\", \"field\": \"WEAT\"}, {\"type\": \"quantitative\", \"field\": \"WordRel\"}, {\"type\": \"quantitative\", \"field\": \"WordSim\"}], \"x\": {\"type\": \"quantitative\", \"field\": \"WEAT\", \"title\": \"WEAT Effect Size\"}, \"y\": {\"type\": \"quantitative\", \"field\": \"WordSim\", \"scale\": {\"zero\": false}, \"title\": \"Word Similarity (SimLex-999)\"}}, \"height\": 300, \"title\": \"Word Pair Similarity (SimLex-999) vs. WEAT Effect Size\", \"width\": 450}, {\"mark\": {\"type\": \"text\", \"align\": \"left\", \"baseline\": \"middle\", \"dx\": 10, \"fontSize\": 16}, \"encoding\": {\"color\": {\"type\": \"nominal\", \"field\": \"Embedding_parent\", \"legend\": {\"title\": \"Embedding\"}}, \"shape\": {\"type\": \"nominal\", \"field\": \"Debiased\", \"legend\": {\"title\": \"Debiased\"}}, \"text\": {\"type\": \"nominal\", \"field\": \"Embedding\"}, \"tooltip\": [{\"type\": \"nominal\", \"field\": \"Embedding\"}, {\"type\": \"quantitative\", \"field\": \"WEAT\"}, {\"type\": \"quantitative\", \"field\": \"WordRel\"}, {\"type\": \"quantitative\", \"field\": \"WordSim\"}], \"x\": {\"type\": \"quantitative\", \"field\": \"WEAT\", \"title\": \"WEAT Effect Size\"}, \"y\": {\"type\": \"quantitative\", \"field\": \"WordSim\", \"scale\": {\"zero\": false}, \"title\": \"Word Similarity (SimLex-999)\"}}, \"height\": 300, \"title\": \"Word Pair Similarity (SimLex-999) vs. WEAT Effect Size\", \"width\": 450}]}], \"data\": {\"name\": \"data-12b55adf07e2567860b4f00470bb351c\"}, \"$schema\": \"https://vega.github.io/schema/vega-lite/v4.8.1.json\", \"datasets\": {\"data-12b55adf07e2567860b4f00470bb351c\": [{\"Embedding\": \"Word_node2Vec\", \"Embedding_parent\": \"Word_node2Vec\", \"Debiased\": \"no\", \"WEAT\": 1.1809115, \"WordRel\": 0.4389342631193916, \"WordSim\": 0.27945269767830566}, {\"Embedding\": \"Word_node2Vec_debias\", \"Embedding_parent\": \"Word_node2Vec\", \"Debiased\": \"yes\", \"WEAT\": 1.0103018773051147, \"WordRel\": 0.4796171451570302, \"WordSim\": 0.30367891017864157}, {\"Embedding\": \"Word_2Vec\", \"Embedding_parent\": \"Word_2Vec\", \"Debiased\": \"no\", \"WEAT\": 1.1587172, \"WordRel\": 0.6096656214924954, \"WordSim\": 0.43607859778335434}, {\"Embedding\": \"Word_2Vec_debias\", \"Embedding_parent\": \"Word_2Vec\", \"Debiased\": \"yes\", \"WEAT\": 0.6567464954100717, \"WordRel\": 0.6279532599891448, \"WordSim\": 0.4599157933636926}, {\"Embedding\": \"glove6B\", \"Embedding_parent\": \"glove6B\", \"Debiased\": \"no\", \"WEAT\": 1.1596817, \"WordRel\": 0.4955440478219759, \"WordSim\": 0.29611016700703413}, {\"Embedding\": \"glove6B_debias\", \"Embedding_parent\": \"glove6B\", \"Debiased\": \"yes\", \"WEAT\": 1.5614718573527036, \"WordRel\": 0.5651490290821453, \"WordSim\": 0.37663582402104717}, {\"Embedding\": \"glove_27B\", \"Embedding_parent\": \"glove_27B\", \"Debiased\": \"no\", \"WEAT\": 0.1173317, \"WordRel\": 0.4513820356679759, \"WordSim\": 0.12151309592646334}, {\"Embedding\": \"glove_27B_debias\", \"Embedding_parent\": \"glove_27B\", \"Debiased\": \"yes\", \"WEAT\": -0.14090246335130263, \"WordRel\": 0.5337457907375546, \"WordSim\": 0.2876135243911663}]}}, {\"mode\": \"vega-lite\"});\n",
              "</script>"
            ]
          },
          "metadata": {
            "tags": []
          },
          "execution_count": 212
        }
      ]
    },
    {
      "cell_type": "code",
      "metadata": {
        "colab": {
          "base_uri": "https://localhost:8080/",
          "height": 383
        },
        "id": "QegK30t-PrNF",
        "outputId": "a7f19a81-7166-4c7d-88d2-ea71f9138dd8"
      },
      "source": [
        "  wordRel_chart = alt.Chart(embed_evals).mark_point(filled=True, \n",
        "                                size=200, \n",
        "                                opacity=0.9, \n",
        "                                color='viridium').encode(\n",
        "    x=alt.X('WEAT:Q', title='WEAT Effect Size'),\n",
        "    y=alt.Y('WordRel:Q', title='Word Relatedness (Sim353)', scale=alt.Scale(zero=False)),\n",
        "    color=alt.Color('Embedding_parent', legend=alt.Legend(title='Embedding')),\n",
        "    shape=alt.Shape('Debiased', legend=alt.Legend(title='Debiased')),\n",
        "    tooltip=['Embedding', 'WEAT', 'WordRel', 'WordSim']\n",
        ").properties(\n",
        "    title='Word Pair Relatedness vs. WEAT Effect Size',\n",
        "    width=450,\n",
        "    height=300\n",
        ")\n",
        "\n",
        "wordRel_labels = wordRel_chart.mark_text(\n",
        "    align='left',\n",
        "    baseline='middle',\n",
        "    dx=10,\n",
        "    fontSize=16\n",
        ").encode(\n",
        "    text='Embedding'\n",
        ")\n",
        "\n",
        "\n",
        "  wordSim_chart = alt.Chart(embed_evals).mark_point(filled=True, \n",
        "                                size=200, \n",
        "                                opacity=0.9\n",
        "                                ).encode(\n",
        "    x=alt.X('WEAT:Q', title='WEAT Effect Size'),\n",
        "    y=alt.Y('WordSim:Q', title='Word Similarity (SimLex-999)', scale=alt.Scale(zero=False)),\n",
        "    color=alt.Color('Embedding_parent', scale=alt.Scale(scheme='paired'), legend=alt.Legend(title='Embedding')),\n",
        "    shape=alt.Shape('Debiased', legend=alt.Legend(title='Debiased')),\n",
        "    tooltip=['Embedding', 'WEAT', 'WordRel', 'WordSim']\n",
        ").properties(\n",
        "    title='Word Pair Similarity (SimLex-999) vs. WEAT Effect Size',\n",
        "    width=450,\n",
        "    height=300\n",
        ")\n",
        "\n",
        "wordSim_labels = wordSim_chart.mark_text(\n",
        "    align='left',\n",
        "    baseline='middle',\n",
        "    dx=10,\n",
        "    fontSize=16\n",
        ").encode(\n",
        "    text='Embedding',\n",
        "    color=''\n",
        ")\n",
        "\n",
        "\n",
        "\n",
        "\n",
        "wordRel_chart + wordRel_labels\n"
      ],
      "execution_count": 211,
      "outputs": [
        {
          "output_type": "execute_result",
          "data": {
            "text/plain": [
              "alt.LayerChart(...)"
            ],
            "text/html": [
              "\n",
              "<div id=\"altair-viz-f71bd38be10f446f9e1bbc4a2f2ceaa7\"></div>\n",
              "<script type=\"text/javascript\">\n",
              "  (function(spec, embedOpt){\n",
              "    let outputDiv = document.currentScript.previousElementSibling;\n",
              "    if (outputDiv.id !== \"altair-viz-f71bd38be10f446f9e1bbc4a2f2ceaa7\") {\n",
              "      outputDiv = document.getElementById(\"altair-viz-f71bd38be10f446f9e1bbc4a2f2ceaa7\");\n",
              "    }\n",
              "    const paths = {\n",
              "      \"vega\": \"https://cdn.jsdelivr.net/npm//vega@5?noext\",\n",
              "      \"vega-lib\": \"https://cdn.jsdelivr.net/npm//vega-lib?noext\",\n",
              "      \"vega-lite\": \"https://cdn.jsdelivr.net/npm//vega-lite@4.8.1?noext\",\n",
              "      \"vega-embed\": \"https://cdn.jsdelivr.net/npm//vega-embed@6?noext\",\n",
              "    };\n",
              "\n",
              "    function loadScript(lib) {\n",
              "      return new Promise(function(resolve, reject) {\n",
              "        var s = document.createElement('script');\n",
              "        s.src = paths[lib];\n",
              "        s.async = true;\n",
              "        s.onload = () => resolve(paths[lib]);\n",
              "        s.onerror = () => reject(`Error loading script: ${paths[lib]}`);\n",
              "        document.getElementsByTagName(\"head\")[0].appendChild(s);\n",
              "      });\n",
              "    }\n",
              "\n",
              "    function showError(err) {\n",
              "      outputDiv.innerHTML = `<div class=\"error\" style=\"color:red;\">${err}</div>`;\n",
              "      throw err;\n",
              "    }\n",
              "\n",
              "    function displayChart(vegaEmbed) {\n",
              "      vegaEmbed(outputDiv, spec, embedOpt)\n",
              "        .catch(err => showError(`Javascript Error: ${err.message}<br>This usually means there's a typo in your chart specification. See the javascript console for the full traceback.`));\n",
              "    }\n",
              "\n",
              "    if(typeof define === \"function\" && define.amd) {\n",
              "      requirejs.config({paths});\n",
              "      require([\"vega-embed\"], displayChart, err => showError(`Error loading script: ${err.message}`));\n",
              "    } else if (typeof vegaEmbed === \"function\") {\n",
              "      displayChart(vegaEmbed);\n",
              "    } else {\n",
              "      loadScript(\"vega\")\n",
              "        .then(() => loadScript(\"vega-lite\"))\n",
              "        .then(() => loadScript(\"vega-embed\"))\n",
              "        .catch(showError)\n",
              "        .then(() => displayChart(vegaEmbed));\n",
              "    }\n",
              "  })({\"config\": {\"view\": {\"continuousWidth\": 400, \"continuousHeight\": 300}}, \"layer\": [{\"mark\": {\"type\": \"point\", \"color\": \"viridium\", \"filled\": true, \"opacity\": 0.9, \"size\": 200}, \"encoding\": {\"color\": {\"type\": \"nominal\", \"field\": \"Embedding_parent\", \"legend\": {\"title\": \"Embedding\"}}, \"shape\": {\"type\": \"nominal\", \"field\": \"Debiased\", \"legend\": {\"title\": \"Debiased\"}}, \"tooltip\": [{\"type\": \"nominal\", \"field\": \"Embedding\"}, {\"type\": \"quantitative\", \"field\": \"WEAT\"}, {\"type\": \"quantitative\", \"field\": \"WordRel\"}, {\"type\": \"quantitative\", \"field\": \"WordSim\"}], \"x\": {\"type\": \"quantitative\", \"field\": \"WEAT\", \"title\": \"WEAT Effect Size\"}, \"y\": {\"type\": \"quantitative\", \"field\": \"WordRel\", \"scale\": {\"zero\": false}, \"title\": \"Word Relatedness (Sim353)\"}}, \"height\": 300, \"title\": \"Word Pair Relatedness vs. WEAT Effect Size\", \"width\": 450}, {\"mark\": {\"type\": \"text\", \"align\": \"left\", \"baseline\": \"middle\", \"dx\": 10, \"fontSize\": 16}, \"encoding\": {\"color\": {\"type\": \"nominal\", \"field\": \"Embedding_parent\", \"legend\": {\"title\": \"Embedding\"}}, \"shape\": {\"type\": \"nominal\", \"field\": \"Debiased\", \"legend\": {\"title\": \"Debiased\"}}, \"text\": {\"type\": \"nominal\", \"field\": \"Embedding\"}, \"tooltip\": [{\"type\": \"nominal\", \"field\": \"Embedding\"}, {\"type\": \"quantitative\", \"field\": \"WEAT\"}, {\"type\": \"quantitative\", \"field\": \"WordRel\"}, {\"type\": \"quantitative\", \"field\": \"WordSim\"}], \"x\": {\"type\": \"quantitative\", \"field\": \"WEAT\", \"title\": \"WEAT Effect Size\"}, \"y\": {\"type\": \"quantitative\", \"field\": \"WordRel\", \"scale\": {\"zero\": false}, \"title\": \"Word Relatedness (Sim353)\"}}, \"height\": 300, \"title\": \"Word Pair Relatedness vs. WEAT Effect Size\", \"width\": 450}], \"data\": {\"name\": \"data-12b55adf07e2567860b4f00470bb351c\"}, \"$schema\": \"https://vega.github.io/schema/vega-lite/v4.8.1.json\", \"datasets\": {\"data-12b55adf07e2567860b4f00470bb351c\": [{\"Embedding\": \"Word_node2Vec\", \"Embedding_parent\": \"Word_node2Vec\", \"Debiased\": \"no\", \"WEAT\": 1.1809115, \"WordRel\": 0.4389342631193916, \"WordSim\": 0.27945269767830566}, {\"Embedding\": \"Word_node2Vec_debias\", \"Embedding_parent\": \"Word_node2Vec\", \"Debiased\": \"yes\", \"WEAT\": 1.0103018773051147, \"WordRel\": 0.4796171451570302, \"WordSim\": 0.30367891017864157}, {\"Embedding\": \"Word_2Vec\", \"Embedding_parent\": \"Word_2Vec\", \"Debiased\": \"no\", \"WEAT\": 1.1587172, \"WordRel\": 0.6096656214924954, \"WordSim\": 0.43607859778335434}, {\"Embedding\": \"Word_2Vec_debias\", \"Embedding_parent\": \"Word_2Vec\", \"Debiased\": \"yes\", \"WEAT\": 0.6567464954100717, \"WordRel\": 0.6279532599891448, \"WordSim\": 0.4599157933636926}, {\"Embedding\": \"glove6B\", \"Embedding_parent\": \"glove6B\", \"Debiased\": \"no\", \"WEAT\": 1.1596817, \"WordRel\": 0.4955440478219759, \"WordSim\": 0.29611016700703413}, {\"Embedding\": \"glove6B_debias\", \"Embedding_parent\": \"glove6B\", \"Debiased\": \"yes\", \"WEAT\": 1.5614718573527036, \"WordRel\": 0.5651490290821453, \"WordSim\": 0.37663582402104717}, {\"Embedding\": \"glove_27B\", \"Embedding_parent\": \"glove_27B\", \"Debiased\": \"no\", \"WEAT\": 0.1173317, \"WordRel\": 0.4513820356679759, \"WordSim\": 0.12151309592646334}, {\"Embedding\": \"glove_27B_debias\", \"Embedding_parent\": \"glove_27B\", \"Debiased\": \"yes\", \"WEAT\": -0.14090246335130263, \"WordRel\": 0.5337457907375546, \"WordSim\": 0.2876135243911663}]}}, {\"mode\": \"vega-lite\"});\n",
              "</script>"
            ]
          },
          "metadata": {
            "tags": []
          },
          "execution_count": 211
        }
      ]
    },
    {
      "cell_type": "code",
      "metadata": {
        "colab": {
          "base_uri": "https://localhost:8080/",
          "height": 274
        },
        "id": "IHkHo9ZWTL4R",
        "outputId": "47e28d67-4308-4eae-80c0-ea1c484e8b71"
      },
      "source": [
        "side_by_side.altSave('plot.png')"
      ],
      "execution_count": 177,
      "outputs": [
        {
          "output_type": "error",
          "ename": "AttributeError",
          "evalue": "ignored",
          "traceback": [
            "\u001b[0;31m---------------------------------------------------------------------------\u001b[0m",
            "\u001b[0;31mAttributeError\u001b[0m                            Traceback (most recent call last)",
            "\u001b[0;32m<ipython-input-177-aeb15c809b23>\u001b[0m in \u001b[0;36m<module>\u001b[0;34m()\u001b[0m\n\u001b[0;32m----> 1\u001b[0;31m \u001b[0mside_by_side\u001b[0m\u001b[0;34m.\u001b[0m\u001b[0maltSave\u001b[0m\u001b[0;34m(\u001b[0m\u001b[0;34m'plot.png'\u001b[0m\u001b[0;34m)\u001b[0m\u001b[0;34m\u001b[0m\u001b[0;34m\u001b[0m\u001b[0m\n\u001b[0m",
            "\u001b[0;32m/usr/local/lib/python3.7/dist-packages/altair/utils/schemapi.py\u001b[0m in \u001b[0;36m__getattr__\u001b[0;34m(self, attr)\u001b[0m\n\u001b[1;32m    255\u001b[0m             \u001b[0;32mexcept\u001b[0m \u001b[0mAttributeError\u001b[0m\u001b[0;34m:\u001b[0m\u001b[0;34m\u001b[0m\u001b[0;34m\u001b[0m\u001b[0m\n\u001b[1;32m    256\u001b[0m                 \u001b[0m_getattr\u001b[0m \u001b[0;34m=\u001b[0m \u001b[0msuper\u001b[0m\u001b[0;34m(\u001b[0m\u001b[0mSchemaBase\u001b[0m\u001b[0;34m,\u001b[0m \u001b[0mself\u001b[0m\u001b[0;34m)\u001b[0m\u001b[0;34m.\u001b[0m\u001b[0m__getattribute__\u001b[0m\u001b[0;34m\u001b[0m\u001b[0;34m\u001b[0m\u001b[0m\n\u001b[0;32m--> 257\u001b[0;31m             \u001b[0;32mreturn\u001b[0m \u001b[0m_getattr\u001b[0m\u001b[0;34m(\u001b[0m\u001b[0mattr\u001b[0m\u001b[0;34m)\u001b[0m\u001b[0;34m\u001b[0m\u001b[0;34m\u001b[0m\u001b[0m\n\u001b[0m\u001b[1;32m    258\u001b[0m \u001b[0;34m\u001b[0m\u001b[0m\n\u001b[1;32m    259\u001b[0m     \u001b[0;32mdef\u001b[0m \u001b[0m__setattr__\u001b[0m\u001b[0;34m(\u001b[0m\u001b[0mself\u001b[0m\u001b[0;34m,\u001b[0m \u001b[0mitem\u001b[0m\u001b[0;34m,\u001b[0m \u001b[0mval\u001b[0m\u001b[0;34m)\u001b[0m\u001b[0;34m:\u001b[0m\u001b[0;34m\u001b[0m\u001b[0;34m\u001b[0m\u001b[0m\n",
            "\u001b[0;31mAttributeError\u001b[0m: 'HConcatChart' object has no attribute 'altSave'"
          ]
        }
      ]
    },
    {
      "cell_type": "code",
      "metadata": {
        "id": "zw40VOd2Us8M"
      },
      "source": [
        ""
      ],
      "execution_count": null,
      "outputs": []
    }
  ]
}