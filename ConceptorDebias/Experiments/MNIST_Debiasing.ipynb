{
  "nbformat": 4,
  "nbformat_minor": 0,
  "metadata": {
    "colab": {
      "name": "MNIST_Debiasing.ipynb",
      "version": "0.3.2",
      "provenance": [],
      "include_colab_link": true
    },
    "kernelspec": {
      "name": "python3",
      "display_name": "Python 3"
    },
    "accelerator": "GPU"
  },
  "cells": [
    {
      "cell_type": "markdown",
      "metadata": {
        "id": "view-in-github",
        "colab_type": "text"
      },
      "source": [
        "<a href=\"https://colab.research.google.com/github/chetan-parthiban/Conceptors/blob/master/MNIST_Debiasing.ipynb\" target=\"_parent\"><img src=\"https://colab.research.google.com/assets/colab-badge.svg\" alt=\"Open In Colab\"/></a>"
      ]
    },
    {
      "cell_type": "markdown",
      "metadata": {
        "id": "SUT551uLEzBh",
        "colab_type": "text"
      },
      "source": [
        "## Imports/Clones"
      ]
    },
    {
      "cell_type": "code",
      "metadata": {
        "id": "KBR39gdjD6pM",
        "colab_type": "code",
        "colab": {
          "base_uri": "https://localhost:8080/",
          "height": 284
        },
        "outputId": "4e20864c-a433-472e-84f7-d1c23a625e3b"
      },
      "source": [
        "!git clone https://github.com/chetan-parthiban/fakeai.git\n",
        "!pip install wget"
      ],
      "execution_count": 1,
      "outputs": [
        {
          "output_type": "stream",
          "text": [
            "rm: cannot remove 'fakeai': No such file or directory\n",
            "Cloning into 'fakeai'...\n",
            "remote: Enumerating objects: 88, done.\u001b[K\n",
            "remote: Counting objects: 100% (88/88), done.\u001b[K\n",
            "remote: Compressing objects: 100% (65/65), done.\u001b[K\n",
            "remote: Total 88 (delta 26), reused 71 (delta 13), pack-reused 0\u001b[K\n",
            "Unpacking objects: 100% (88/88), done.\n",
            "Collecting wget\n",
            "  Downloading https://files.pythonhosted.org/packages/47/6a/62e288da7bcda82b935ff0c6cfe542970f04e29c756b0e147251b2fb251f/wget-3.2.zip\n",
            "Building wheels for collected packages: wget\n",
            "  Building wheel for wget (setup.py) ... \u001b[?25l\u001b[?25hdone\n",
            "  Stored in directory: /root/.cache/pip/wheels/40/15/30/7d8f7cea2902b4db79e3fea550d7d7b85ecb27ef992b618f3f\n",
            "Successfully built wget\n",
            "Installing collected packages: wget\n",
            "Successfully installed wget-3.2\n"
          ],
          "name": "stdout"
        }
      ]
    },
    {
      "cell_type": "code",
      "metadata": {
        "id": "WZeNSMhuD9MC",
        "colab_type": "code",
        "colab": {}
      },
      "source": [
        "import fakeai.data as d\n",
        "from fakeai.data.utils import *\n",
        "from pathlib import Path\n",
        "from functools import partial\n",
        "import torch\n",
        "import torch.nn as nn\n",
        "import torch.nn.functional as F\n",
        "import torch.optim as optim"
      ],
      "execution_count": 0,
      "outputs": []
    },
    {
      "cell_type": "markdown",
      "metadata": {
        "id": "pcmShb59E5eQ",
        "colab_type": "text"
      },
      "source": [
        "## Get MNIST"
      ]
    },
    {
      "cell_type": "code",
      "metadata": {
        "id": "ejCFzFEaEEjv",
        "colab_type": "code",
        "colab": {
          "base_uri": "https://localhost:8080/",
          "height": 70
        },
        "outputId": "2211e96f-9ceb-453c-aa0b-7d3883b81f86"
      },
      "source": [
        "d.download_data('https://pjreddie.com/media/files/mnist_train.csv','mnist_train.csv', ext = '')\n",
        "d.download_data('https://pjreddie.com/media/files/mnist_test.csv','mnist_test.csv', ext = '')"
      ],
      "execution_count": 3,
      "outputs": [
        {
          "output_type": "stream",
          "text": [
            "Downloading https://pjreddie.com/media/files/mnist_train.csv\n",
            "Downloading https://pjreddie.com/media/files/mnist_test.csv\n"
          ],
          "name": "stdout"
        },
        {
          "output_type": "execute_result",
          "data": {
            "text/plain": [
              "PosixPath('mnist_test.csv')"
            ]
          },
          "metadata": {
            "tags": []
          },
          "execution_count": 3
        }
      ]
    },
    {
      "cell_type": "code",
      "metadata": {
        "id": "XTmYlR0ZELIZ",
        "colab_type": "code",
        "colab": {}
      },
      "source": [
        "sd = d.SplitData.from_csv('mnist_train.csv', 'mnist_test.csv', tfms = d.Reshape(28))\n",
        "ld = sd.label_by_idx(0, proc_x = [], proc_y = [])\n",
        "db = ld.to_databunch(10000)"
      ],
      "execution_count": 0,
      "outputs": []
    },
    {
      "cell_type": "code",
      "metadata": {
        "id": "eWOTtWJREVen",
        "colab_type": "code",
        "colab": {
          "base_uri": "https://localhost:8080/",
          "height": 443
        },
        "outputId": "72e3021a-5552-4134-a265-5a74c7bc78cb"
      },
      "source": [
        "n = 2\n",
        "xb, yb = db.get_sample()\n",
        "print(xb.shape)\n",
        "xb = xb[:,0,:,:]\n",
        "d.show_images(xb, n, perm = False)\n",
        "print(yb[0:n])"
      ],
      "execution_count": 14,
      "outputs": [
        {
          "output_type": "stream",
          "text": [
            "torch.Size([60000, 1, 28, 28])\n",
            "tensor([7., 4.])\n"
          ],
          "name": "stdout"
        },
        {
          "output_type": "display_data",
          "data": {
            "image/png": "[encoded data removed]",
            "text/plain": [
              "<Figure size 216x216 with 1 Axes>"
            ]
          },
          "metadata": {
            "tags": []
          }
        },
        {
          "output_type": "display_data",
          "data": {
            "image/png": "[encoded data removed]",
            "text/plain": [
              "<Figure size 216x216 with 1 Axes>"
            ]
          },
          "metadata": {
            "tags": []
          }
        }
      ]
    },
    {
      "cell_type": "markdown",
      "metadata": {
        "id": "hYpyW_GJE_IJ",
        "colab_type": "text"
      },
      "source": [
        "## Create Cheater"
      ]
    },
    {
      "cell_type": "code",
      "metadata": {
        "id": "YNFwchpuEdOZ",
        "colab_type": "code",
        "colab": {
          "base_uri": "https://localhost:8080/",
          "height": 797
        },
        "outputId": "1c4ffbad-e91f-4a7f-e6d1-10ed6956bcd4"
      },
      "source": [
        "class Cheater():\n",
        "    \n",
        "    def __init__(self, const = 200):\n",
        "        self.rot = torch.randint(10,(784,784)).float()\n",
        "        self.rot, _ = torch.qr(self.rot) \n",
        "        self.inv = torch.pinverse(self.rot)\n",
        "        self.const = const\n",
        "        \n",
        "        self.easy = torch.randint(10,(10,784)).float()\n",
        "        \n",
        "    def cheat(self, input, labels):\n",
        "        input = input.reshape(-1,784)\n",
        "        transformed = input @ self.rot\n",
        "        transformed[:,0] = transformed[:,0] + (labels-5) * self.const\n",
        "        return (transformed @ self.inv).reshape(-1,28,28)\n",
        "    \n",
        "    def _cheat(self, input, labels):\n",
        "        input = input.reshape(-1,784)\n",
        "        transformed = input @ self.rot\n",
        "        transformed[:,0] = transformed[:,0] + (labels-5) * self.const\n",
        "        return transformed @ self.inv\n",
        "    \n",
        "    def debias(self, input, alpha = 0.01):\n",
        "        input = input.reshape(-1,784)\n",
        "        transformed = input @ self.rot\n",
        "        transformed[:,:10] = transformed[:,:10] * alpha\n",
        "        return (transformed @ self.inv).reshape(-1,28,28)\n",
        "    \n",
        "    def _debias(self, input, alpha = 0.01):\n",
        "        transformed = input @ self.rot\n",
        "        transformed[:,:10] = transformed[:,:10] * alpha\n",
        "        return transformed\n",
        "    \n",
        "    def _easy(self, input, labels):\n",
        "        input = input.reshape(-1, 784)\n",
        "        labels = labels.type(torch.LongTensor)\n",
        "        input = input + self.easy[labels,:] * self.const\n",
        "        return input\n",
        "    \n",
        "    def easy_(self, input, labels):\n",
        "        return self._easy(input, labels).reshape(-1,28,28)\n",
        "    \n",
        "    def _fancy(self, input, labels):\n",
        "        input = input.reshape(-1,784)\n",
        "        transformed = input @ self.rot\n",
        "        labels = labels.type(torch.LongTensor)\n",
        "        idx = torch.arange(transformed.shape[0])\n",
        "        transformed[idx,labels] = transformed[idx,labels] + self.const \n",
        "        return transformed @ self.inv\n",
        "        \n",
        "    def fancy(self, input, labels):\n",
        "        return self._fancy(input,labels).reshape(-1,28,28)\n",
        "    \n",
        "    def _transform(self, input):\n",
        "        return input @ self.rot\n",
        "    \n",
        "    def cuda(self):\n",
        "        self.rot = self.rot.cuda()\n",
        "        self.inv = self.inv.cuda()\n",
        "        self.easy = self.easy.cuda()\n",
        "        \n",
        "    def cpu(self):\n",
        "        self.rot = self.rot.cpu()\n",
        "        self.inv = self.inv.cpu()\n",
        "        self.easy = self.easy.cpu()\n",
        "        \n",
        "\n",
        "xb, yb = db.get_sample()\n",
        "cheater = Cheater(1000)\n",
        "xb = cheater.fancy(xb, yb)\n",
        "show_images(xb, 2, perm = False)\n",
        "xb = cheater.debias(xb, alpha = 0.1)\n",
        "show_images(xb, 2, perm = False)"
      ],
      "execution_count": 167,
      "outputs": [
        {
          "output_type": "display_data",
          "data": {
            "image/png": "[encoded data removed]",
            "text/plain": [
              "<Figure size 216x216 with 1 Axes>"
            ]
          },
          "metadata": {
            "tags": []
          }
        },
        {
          "output_type": "display_data",
          "data": {
            "image/png": "[encoded data removed]",
            "text/plain": [
              "<Figure size 216x216 with 1 Axes>"
            ]
          },
          "metadata": {
            "tags": []
          }
        },
        {
          "output_type": "display_data",
          "data": {
            "image/png": "[encoded data removed]",
            "text/plain": [
              "<Figure size 216x216 with 1 Axes>"
            ]
          },
          "metadata": {
            "tags": []
          }
        },
        {
          "output_type": "display_data",
          "data": {
            "image/png": "[encoded data removed]",
            "text/plain": [
              "<Figure size 216x216 with 1 Axes>"
            ]
          },
          "metadata": {
            "tags": []
          }
        }
      ]
    },
    {
      "cell_type": "markdown",
      "metadata": {
        "id": "ifsmtqQmFP02",
        "colab_type": "text"
      },
      "source": [
        "# Create and train baseline model"
      ]
    },
    {
      "cell_type": "code",
      "metadata": {
        "id": "OzRtxR5_FbC5",
        "colab_type": "code",
        "colab": {}
      },
      "source": [
        "#Linear Model\n",
        "class Model(nn.Module):\n",
        "    \n",
        "    def __init__(self):\n",
        "        super(Model, self).__init__()\n",
        "        self.fc1 = nn.Linear(784, 10)\n",
        "        \n",
        "    def forward(self, input):\n",
        "        \n",
        "        return self.fc1(input)"
      ],
      "execution_count": 0,
      "outputs": []
    },
    {
      "cell_type": "code",
      "metadata": {
        "id": "yMTQtc-PEoD0",
        "colab_type": "code",
        "colab": {
          "base_uri": "https://localhost:8080/",
          "height": 70
        },
        "outputId": "4de68fba-62fa-42ac-e357-a9e5bccb57cf"
      },
      "source": [
        "cheat = False\n",
        "easy = False\n",
        "fancy = False\n",
        "\n",
        "debias = False\n",
        "\n",
        "bias = 100\n",
        "reduction = 1\n",
        "\n",
        "cheater = Cheater(bias)\n",
        "cheater.cuda()\n",
        "model = Model()\n",
        "model.cuda()\n",
        "loss_func = nn.CrossEntropyLoss()\n",
        "model"
      ],
      "execution_count": 27,
      "outputs": [
        {
          "output_type": "execute_result",
          "data": {
            "text/plain": [
              "Model(\n",
              "  (fc1): Linear(in_features=784, out_features=10, bias=True)\n",
              ")"
            ]
          },
          "metadata": {
            "tags": []
          },
          "execution_count": 27
        }
      ]
    },
    {
      "cell_type": "code",
      "metadata": {
        "id": "8lPh4ZJwGHh-",
        "colab_type": "code",
        "colab": {}
      },
      "source": [
        "lr = 0.001\n",
        "opt = optim.Adam(model.parameters(), lr = lr)"
      ],
      "execution_count": 0,
      "outputs": []
    },
    {
      "cell_type": "code",
      "metadata": {
        "id": "kn7F73hsFXCE",
        "colab_type": "code",
        "colab": {
          "base_uri": "https://localhost:8080/",
          "height": 195
        },
        "outputId": "8eb423a8-6961-494e-fe8a-56e7de4c84bc"
      },
      "source": [
        "model.train()\n",
        "for i in range(20):\n",
        "    \n",
        "    running_acc = 0\n",
        "    running_count = 0\n",
        "    \n",
        "    for xb,yb in db.train_dl:\n",
        "        xb,yb = xb.cuda(),yb.cuda()\n",
        "        yb = yb.type(torch.LongTensor).cuda()\n",
        "        if cheat: \n",
        "            xb = cheater._cheat(xb, yb)\n",
        "        elif easy:\n",
        "            xb = cheater._easy(xb, yb)\n",
        "        elif fancy:\n",
        "            xb = cheater._fancy(xb, yb)\n",
        "            if debias: xb = cheater._debias(xb, alpha = reduction)\n",
        "        else:\n",
        "            xb = xb.reshape(-1, 784)\n",
        "        pred = model(xb)\n",
        "        loss = loss_func(pred, yb)\n",
        "        loss.backward()\n",
        "        opt.step()\n",
        "        opt.zero_grad()\n",
        "        correct = (torch.argmax(pred, 1) == yb).sum().float()/pred.shape[0]\n",
        "        running_acc += float(correct.detach())\n",
        "        running_count += 1\n",
        "    print(f'Epoch {i} Accuracy: {running_acc/running_count}')"
      ],
      "execution_count": 30,
      "outputs": [
        {
          "output_type": "stream",
          "text": [
            "Epoch 0 Accuracy: 0.885049968957901\n",
            "Epoch 1 Accuracy: 0.8871166507403055\n",
            "Epoch 2 Accuracy: 0.8887666463851929\n",
            "Epoch 3 Accuracy: 0.8899499674638113\n",
            "Epoch 4 Accuracy: 0.8921166261037191\n",
            "Epoch 5 Accuracy: 0.8923166394233704\n",
            "Epoch 6 Accuracy: 0.8927666346232096\n",
            "Epoch 7 Accuracy: 0.8936166365941366\n",
            "Epoch 8 Accuracy: 0.8949666519959768\n",
            "Epoch 9 Accuracy: 0.8946499824523926\n"
          ],
          "name": "stdout"
        }
      ]
    },
    {
      "cell_type": "code",
      "metadata": {
        "id": "7FRPH67gFg4q",
        "colab_type": "code",
        "colab": {
          "base_uri": "https://localhost:8080/",
          "height": 35
        },
        "outputId": "9b37d211-03da-4ef1-ccff-58457bdb45f8"
      },
      "source": [
        "model.eval()\n",
        "\n",
        "running_acc = 0\n",
        "running_count = 0\n",
        "\n",
        "for xb,yb in db.valid_dl:\n",
        "    \n",
        "    xb,yb = xb.cuda(),yb.cuda()\n",
        "    \n",
        "    yb = yb.type(torch.LongTensor).cuda()\n",
        "    \n",
        "    if cheat: \n",
        "        xb = cheater._cheat(xb, yb)\n",
        "    elif easy:\n",
        "        xb = cheater._easy(xb, yb)\n",
        "    elif fancy:\n",
        "        xb = cheater._fancy(xb, yb)\n",
        "        if debias: xb = cheater._debias(xb, alpha = reduction)\n",
        "    else:\n",
        "        xb = xb.reshape(-1, 784)\n",
        "        \n",
        "    pred = model(xb)\n",
        "    correct = (torch.argmax(pred, 1) == yb).sum().float()/pred.shape[0]\n",
        "    running_acc += float(correct.detach())\n",
        "    running_count += 1\n",
        "    \n",
        "print(f'Test Accuracy: {running_acc/running_count}')"
      ],
      "execution_count": 31,
      "outputs": [
        {
          "output_type": "stream",
          "text": [
            "Test Accuracy: 0.8896999955177307\n"
          ],
          "name": "stdout"
        }
      ]
    },
    {
      "cell_type": "markdown",
      "metadata": {
        "id": "qStPWwYKGiDY",
        "colab_type": "text"
      },
      "source": [
        "# Train Biased Model"
      ]
    },
    {
      "cell_type": "code",
      "metadata": {
        "id": "l-dMneFcFuIq",
        "colab_type": "code",
        "colab": {
          "base_uri": "https://localhost:8080/",
          "height": 70
        },
        "outputId": "a014e716-44bb-481f-dd85-2e174f6592d3"
      },
      "source": [
        "cheat = False\n",
        "easy = False\n",
        "fancy = True\n",
        "\n",
        "debias = False\n",
        "\n",
        "bias = 100\n",
        "reduction = 1\n",
        "\n",
        "cheater = Cheater(bias)\n",
        "cheater.cuda()\n",
        "model = Model()\n",
        "model.cuda()\n",
        "loss_func = nn.CrossEntropyLoss()\n",
        "model"
      ],
      "execution_count": 168,
      "outputs": [
        {
          "output_type": "execute_result",
          "data": {
            "text/plain": [
              "Model(\n",
              "  (fc1): Linear(in_features=784, out_features=10, bias=True)\n",
              ")"
            ]
          },
          "metadata": {
            "tags": []
          },
          "execution_count": 168
        }
      ]
    },
    {
      "cell_type": "code",
      "metadata": {
        "id": "q143WKbbGlI6",
        "colab_type": "code",
        "colab": {}
      },
      "source": [
        "lr = 0.001\n",
        "opt = optim.Adam(model.parameters(), lr = lr)"
      ],
      "execution_count": 0,
      "outputs": []
    },
    {
      "cell_type": "code",
      "metadata": {
        "id": "yNCm5fUPGn7W",
        "colab_type": "code",
        "colab": {
          "base_uri": "https://localhost:8080/",
          "height": 373
        },
        "outputId": "192b7aee-14eb-4370-f507-ee203ae78d52"
      },
      "source": [
        "model.train()\n",
        "for i in range(20):\n",
        "    \n",
        "    running_acc = 0\n",
        "    running_count = 0\n",
        "    \n",
        "    for xb,yb in db.train_dl:\n",
        "        xb,yb = xb.cuda(),yb.cuda()\n",
        "        yb = yb.type(torch.LongTensor).cuda()\n",
        "        if cheat: \n",
        "            xb = cheater._cheat(xb, yb)\n",
        "        elif easy:\n",
        "            xb = cheater._easy(xb, yb)\n",
        "        elif fancy:\n",
        "            xb = cheater._fancy(xb, yb)\n",
        "            if debias: xb = cheater._debias(xb, alpha = reduction)\n",
        "        else:\n",
        "            xb = xb.reshape(-1, 784)\n",
        "        pred = model(xb)\n",
        "        loss = loss_func(pred, yb)\n",
        "        loss.backward()\n",
        "        opt.step()\n",
        "        opt.zero_grad()\n",
        "        correct = (torch.argmax(pred, 1) == yb).sum().float()/pred.shape[0]\n",
        "        running_acc += float(correct.detach())\n",
        "        running_count += 1\n",
        "    print(f'Epoch {i} Accuracy: {running_acc/running_count}')"
      ],
      "execution_count": 170,
      "outputs": [
        {
          "output_type": "stream",
          "text": [
            "Epoch 0 Accuracy: 0.22178332755963007\n",
            "Epoch 1 Accuracy: 0.6209666530291239\n",
            "Epoch 2 Accuracy: 0.7958333094914755\n",
            "Epoch 3 Accuracy: 0.8694999714692434\n",
            "Epoch 4 Accuracy: 0.9066666464010874\n",
            "Epoch 5 Accuracy: 0.927866647640864\n",
            "Epoch 6 Accuracy: 0.9401666422684988\n",
            "Epoch 7 Accuracy: 0.9492333233356476\n",
            "Epoch 8 Accuracy: 0.9561333258946737\n",
            "Epoch 9 Accuracy: 0.9613833030064901\n",
            "Epoch 10 Accuracy: 0.9661499758561453\n",
            "Epoch 11 Accuracy: 0.9696166416009268\n",
            "Epoch 12 Accuracy: 0.9728666444619497\n",
            "Epoch 13 Accuracy: 0.9752833147843679\n",
            "Epoch 14 Accuracy: 0.9776166478792826\n",
            "Epoch 15 Accuracy: 0.9796666502952576\n",
            "Epoch 16 Accuracy: 0.9814499815305074\n",
            "Epoch 17 Accuracy: 0.9829833010832468\n",
            "Epoch 18 Accuracy: 0.9843499859174093\n",
            "Epoch 19 Accuracy: 0.9856666425863901\n"
          ],
          "name": "stdout"
        }
      ]
    },
    {
      "cell_type": "code",
      "metadata": {
        "id": "_k1baWxZGqeS",
        "colab_type": "code",
        "colab": {
          "base_uri": "https://localhost:8080/",
          "height": 35
        },
        "outputId": "bded75f0-155b-45b1-a9d7-199ea0c455e1"
      },
      "source": [
        "model.eval()\n",
        "\n",
        "running_acc = 0\n",
        "running_count = 0\n",
        "\n",
        "for xb,yb in db.valid_dl:\n",
        "    \n",
        "    xb,yb = xb.cuda(),yb.cuda()\n",
        "    \n",
        "    yb = yb.type(torch.LongTensor).cuda()\n",
        "    \n",
        "    if cheat: \n",
        "        xb = cheater._cheat(xb, yb)\n",
        "    elif easy:\n",
        "        xb = cheater._easy(xb, yb)\n",
        "    elif fancy:\n",
        "        xb = cheater._fancy(xb, yb)\n",
        "        if debias: xb = cheater._debias(xb, alpha = reduction)\n",
        "    else:\n",
        "        xb = xb.reshape(-1, 784)\n",
        "        \n",
        "    pred = model(xb)\n",
        "    correct = (torch.argmax(pred, 1) == yb).sum().float()/pred.shape[0]\n",
        "    running_acc += float(correct.detach())\n",
        "    running_count += 1\n",
        "    \n",
        "print(f'Test Accuracy: {running_acc/running_count}')"
      ],
      "execution_count": 174,
      "outputs": [
        {
          "output_type": "stream",
          "text": [
            "Test Accuracy: 0.9821999669075012\n"
          ],
          "name": "stdout"
        }
      ]
    },
    {
      "cell_type": "markdown",
      "metadata": {
        "id": "mhFLm2pBG2d0",
        "colab_type": "text"
      },
      "source": [
        "# Train Debiased Model (No Rotation)"
      ]
    },
    {
      "cell_type": "code",
      "metadata": {
        "id": "wO8tAKDFGtC0",
        "colab_type": "code",
        "colab": {
          "base_uri": "https://localhost:8080/",
          "height": 70
        },
        "outputId": "a8f08003-317a-424b-f02e-66b2effb7d2e"
      },
      "source": [
        "cheat = False\n",
        "easy = False\n",
        "fancy = True\n",
        "\n",
        "debias = True\n",
        "\n",
        "bias = 1000\n",
        "reduction = 0.01\n",
        "\n",
        "cheater = Cheater(bias)\n",
        "cheater.cuda()\n",
        "model = Model()\n",
        "model.cuda()\n",
        "loss_func = nn.CrossEntropyLoss()\n",
        "model"
      ],
      "execution_count": 175,
      "outputs": [
        {
          "output_type": "execute_result",
          "data": {
            "text/plain": [
              "Model(\n",
              "  (fc1): Linear(in_features=784, out_features=10, bias=True)\n",
              ")"
            ]
          },
          "metadata": {
            "tags": []
          },
          "execution_count": 175
        }
      ]
    },
    {
      "cell_type": "code",
      "metadata": {
        "id": "2mrEeXqgG8f0",
        "colab_type": "code",
        "colab": {}
      },
      "source": [
        "lr = 0.01\n",
        "opt = optim.Adam(model.parameters(), lr = lr, weight_decay = 0, eps = 1e-3)"
      ],
      "execution_count": 0,
      "outputs": []
    },
    {
      "cell_type": "code",
      "metadata": {
        "id": "NQPOZdEMHAAp",
        "colab_type": "code",
        "colab": {
          "base_uri": "https://localhost:8080/",
          "height": 373
        },
        "outputId": "5a3ca3cd-9429-45f1-f7a5-8f022cc7cdd8"
      },
      "source": [
        "model.train()\n",
        "for i in range(20):\n",
        "    \n",
        "    running_acc = 0\n",
        "    running_count = 0\n",
        "    \n",
        "    for xb,yb in db.train_dl:\n",
        "        xb,yb = xb.cuda(),yb.cuda()\n",
        "        yb = yb.type(torch.LongTensor).cuda()\n",
        "        if cheat: \n",
        "            xb = cheater._cheat(xb, yb)\n",
        "        elif easy:\n",
        "            xb = cheater._easy(xb, yb)\n",
        "        elif fancy:\n",
        "            xb = cheater._fancy(xb, yb)\n",
        "            if debias: xb = cheater._debias(xb, alpha = reduction)\n",
        "        else:\n",
        "            xb = xb.reshape(-1, 784)\n",
        "        pred = model(xb)\n",
        "        loss = loss_func(pred, yb)\n",
        "        loss.backward()\n",
        "        opt.step()\n",
        "        opt.zero_grad()\n",
        "        correct = (torch.argmax(pred, 1) == yb).sum().float()/pred.shape[0]\n",
        "        running_acc += float(correct.detach())\n",
        "        running_count += 1\n",
        "    print(f'Epoch {i} Accuracy: {running_acc/running_count}')"
      ],
      "execution_count": 188,
      "outputs": [
        {
          "output_type": "stream",
          "text": [
            "Epoch 0 Accuracy: 0.9683166444301605\n",
            "Epoch 1 Accuracy: 0.9725833137830099\n",
            "Epoch 2 Accuracy: 0.9760999878247579\n",
            "Epoch 3 Accuracy: 0.9788999855518341\n",
            "Epoch 4 Accuracy: 0.9807166357835134\n",
            "Epoch 5 Accuracy: 0.9824666281541189\n",
            "Epoch 6 Accuracy: 0.9828499853610992\n",
            "Epoch 7 Accuracy: 0.9852833151817322\n",
            "Epoch 8 Accuracy: 0.9865999817848206\n",
            "Epoch 9 Accuracy: 0.9872166315714518\n",
            "Epoch 10 Accuracy: 0.988566646973292\n",
            "Epoch 11 Accuracy: 0.9901333153247833\n",
            "Epoch 12 Accuracy: 0.9904999732971191\n",
            "Epoch 13 Accuracy: 0.991299976905187\n",
            "Epoch 14 Accuracy: 0.992283304532369\n",
            "Epoch 15 Accuracy: 0.9929499725500742\n",
            "Epoch 16 Accuracy: 0.9934999744097391\n",
            "Epoch 17 Accuracy: 0.9942666490872701\n",
            "Epoch 18 Accuracy: 0.9951166411240896\n",
            "Epoch 19 Accuracy: 0.9954333007335663\n"
          ],
          "name": "stdout"
        }
      ]
    },
    {
      "cell_type": "code",
      "metadata": {
        "id": "t39OghzoSX1Q",
        "colab_type": "code",
        "colab": {
          "base_uri": "https://localhost:8080/",
          "height": 106
        },
        "outputId": "1ad56a40-a9ac-48c1-832d-835a80318a31"
      },
      "source": [
        "print(model.fc1.weight.abs().sum(dim = 0)[0:30])"
      ],
      "execution_count": 189,
      "outputs": [
        {
          "output_type": "stream",
          "text": [
            "tensor([ 1.8839,  3.2656, 11.2788, 10.6952,  9.3570, 12.6006,  6.2490,  6.6837,\n",
            "        12.6168,  9.5060,  0.1728,  0.1700,  0.1642,  0.1874,  0.1031,  0.1169,\n",
            "         0.2563,  0.1450,  0.2237,  0.1381,  0.1872,  0.2098,  0.2118,  0.1631,\n",
            "         0.2282,  0.1275,  0.2063,  0.3329,  0.1597,  0.2202], device='cuda:0',\n",
            "       grad_fn=<SliceBackward>)\n"
          ],
          "name": "stdout"
        }
      ]
    },
    {
      "cell_type": "code",
      "metadata": {
        "id": "8VQkPHWuHCS7",
        "colab_type": "code",
        "colab": {
          "base_uri": "https://localhost:8080/",
          "height": 35
        },
        "outputId": "1cb1b6fb-0721-4560-f74d-3af7e1f29312"
      },
      "source": [
        "model.eval()\n",
        "\n",
        "running_acc = 0\n",
        "running_count = 0\n",
        "\n",
        "for xb,yb in db.valid_dl:\n",
        "    \n",
        "    xb,yb = xb.cuda(),yb.cuda()\n",
        "    \n",
        "    yb = yb.type(torch.LongTensor).cuda()\n",
        "    \n",
        "    if cheat: \n",
        "        xb = cheater._cheat(xb, yb)\n",
        "    elif easy:\n",
        "        xb = cheater._easy(xb, yb)\n",
        "    elif fancy:\n",
        "        xb = cheater._fancy(xb, yb)\n",
        "        if debias: xb = cheater._debias(xb, alpha = reduction)\n",
        "    else:\n",
        "        xb = xb.reshape(-1, 784)\n",
        "        \n",
        "    pred = model(xb)\n",
        "    correct = (torch.argmax(pred, 1) == yb).sum().float()/pred.shape[0]\n",
        "    running_acc += float(correct.detach())\n",
        "    running_count += 1\n",
        "    \n",
        "print(f'Test Accuracy: {running_acc/running_count}')"
      ],
      "execution_count": 190,
      "outputs": [
        {
          "output_type": "stream",
          "text": [
            "Test Accuracy: 0.9756999611854553\n"
          ],
          "name": "stdout"
        }
      ]
    },
    {
      "cell_type": "markdown",
      "metadata": {
        "id": "5iJJt7QbNn74",
        "colab_type": "text"
      },
      "source": [
        "# Train Debiased Model (Rotated)"
      ]
    },
    {
      "cell_type": "code",
      "metadata": {
        "id": "HLz9HAKMHfFn",
        "colab_type": "code",
        "colab": {}
      },
      "source": [
        "class Cheater():\n",
        "    \n",
        "    def __init__(self, const = 200):\n",
        "        self.rot = torch.randint(10,(784,784)).float()\n",
        "        self.rot, _ = torch.qr(self.rot) \n",
        "        self.inv = torch.pinverse(self.rot)\n",
        "        self.const = const\n",
        "        \n",
        "        self.easy = torch.randint(10,(10,784)).float()\n",
        "        \n",
        "    def _debias(self, input, alpha = 0.01):\n",
        "        transformed = input @ self.rot\n",
        "        transformed[:,:10] = transformed[:,:10] * alpha\n",
        "        return transformed @ self.inv\n",
        "    \n",
        "    \n",
        "    def _fancy(self, input, labels):\n",
        "        input = input.reshape(-1,784)\n",
        "        transformed = input @ self.rot\n",
        "        labels = labels.type(torch.LongTensor)\n",
        "        idx = torch.arange(transformed.shape[0])\n",
        "        transformed[idx,labels] = transformed[idx,labels] + self.const \n",
        "        return transformed @ self.inv\n",
        "        \n",
        "    \n",
        "    def cuda(self):\n",
        "        self.rot = self.rot.cuda()\n",
        "        self.inv = self.inv.cuda()\n",
        "        self.easy = self.easy.cuda()\n",
        "        \n",
        "    def cpu(self):\n",
        "        self.rot = self.rot.cpu()\n",
        "        self.inv = self.inv.cpu()\n",
        "        self.easy = self.easy.cpu()\n",
        "        "
      ],
      "execution_count": 0,
      "outputs": []
    },
    {
      "cell_type": "code",
      "metadata": {
        "id": "rh8ia_0eNxis",
        "colab_type": "code",
        "colab": {
          "base_uri": "https://localhost:8080/",
          "height": 70
        },
        "outputId": "c67019e1-7367-47d3-c825-cb3d2e85ecb0"
      },
      "source": [
        "cheat = False\n",
        "easy = False\n",
        "fancy = True\n",
        "\n",
        "debias = True\n",
        "\n",
        "bias = 1000\n",
        "reduction = 0.01\n",
        "\n",
        "cheater = Cheater(bias)\n",
        "cheater.cuda()\n",
        "model = Model()\n",
        "model.cuda()\n",
        "loss_func = nn.CrossEntropyLoss()\n",
        "model"
      ],
      "execution_count": 154,
      "outputs": [
        {
          "output_type": "execute_result",
          "data": {
            "text/plain": [
              "Model(\n",
              "  (fc1): Linear(in_features=784, out_features=10, bias=True)\n",
              ")"
            ]
          },
          "metadata": {
            "tags": []
          },
          "execution_count": 154
        }
      ]
    },
    {
      "cell_type": "code",
      "metadata": {
        "id": "C9t55tELNzpx",
        "colab_type": "code",
        "colab": {}
      },
      "source": [
        "lr = 0.01\n",
        "opt = optim.Adam(model.parameters(), lr = lr, weight_decay = 0)"
      ],
      "execution_count": 0,
      "outputs": []
    },
    {
      "cell_type": "code",
      "metadata": {
        "id": "s1jYMS8lN1pk",
        "colab_type": "code",
        "colab": {
          "base_uri": "https://localhost:8080/",
          "height": 373
        },
        "outputId": "3da699de-c2e9-421e-df19-c300b104689d"
      },
      "source": [
        "model.train()\n",
        "for i in range(20):\n",
        "    \n",
        "    running_acc = 0\n",
        "    running_count = 0\n",
        "    \n",
        "    for xb,yb in db.train_dl:\n",
        "        xb,yb = xb.cuda(),yb.cuda()\n",
        "        yb = yb.type(torch.LongTensor).cuda()\n",
        "        if cheat: \n",
        "            xb = cheater._cheat(xb, yb)\n",
        "        elif easy:\n",
        "            xb = cheater._easy(xb, yb)\n",
        "        elif fancy:\n",
        "            xb = cheater._fancy(xb, yb)\n",
        "            if debias: xb = cheater._debias(xb, alpha = reduction)\n",
        "        else:\n",
        "            xb = xb.reshape(-1, 784)\n",
        "        pred = model(xb)\n",
        "        loss = loss_func(pred, yb)\n",
        "        loss.backward()\n",
        "        opt.step()\n",
        "        opt.zero_grad()\n",
        "        correct = (torch.argmax(pred, 1) == yb).sum().float()/pred.shape[0]\n",
        "        running_acc += float(correct.detach())\n",
        "        running_count += 1\n",
        "    print(f'Epoch {i} Accuracy: {running_acc/running_count}')"
      ],
      "execution_count": 160,
      "outputs": [
        {
          "output_type": "stream",
          "text": [
            "Epoch 0 Accuracy: 0.9336666564146677\n",
            "Epoch 1 Accuracy: 0.9282333155473074\n",
            "Epoch 2 Accuracy: 0.9324999849001566\n",
            "Epoch 3 Accuracy: 0.9280999799569448\n",
            "Epoch 4 Accuracy: 0.9310499727725983\n",
            "Epoch 5 Accuracy: 0.9320166409015656\n",
            "Epoch 6 Accuracy: 0.9355833133061727\n",
            "Epoch 7 Accuracy: 0.936466634273529\n",
            "Epoch 8 Accuracy: 0.8262166380882263\n",
            "Epoch 9 Accuracy: 0.6253333191076914\n",
            "Epoch 10 Accuracy: 0.7890999813874563\n",
            "Epoch 11 Accuracy: 0.8591833015282949\n",
            "Epoch 12 Accuracy: 0.8838333288828532\n",
            "Epoch 13 Accuracy: 0.9029166400432587\n",
            "Epoch 14 Accuracy: 0.9076666434605917\n",
            "Epoch 15 Accuracy: 0.9135833084583282\n",
            "Epoch 16 Accuracy: 0.9189499815305074\n",
            "Epoch 17 Accuracy: 0.9209999839464823\n",
            "Epoch 18 Accuracy: 0.9240666528542837\n",
            "Epoch 19 Accuracy: 0.9249166448911031\n"
          ],
          "name": "stdout"
        }
      ]
    },
    {
      "cell_type": "code",
      "metadata": {
        "id": "nDLF9jxzN4v1",
        "colab_type": "code",
        "colab": {
          "base_uri": "https://localhost:8080/",
          "height": 35
        },
        "outputId": "9e1fbaf0-e5e6-4841-ed53-ec99130871ee"
      },
      "source": [
        "model.eval()\n",
        "\n",
        "running_acc = 0\n",
        "running_count = 0\n",
        "\n",
        "for xb,yb in db.valid_dl:\n",
        "    \n",
        "    xb,yb = xb.cuda(),yb.cuda()\n",
        "    \n",
        "    yb = yb.type(torch.LongTensor).cuda()\n",
        "    \n",
        "    if cheat: \n",
        "        xb = cheater._cheat(xb, yb)\n",
        "    elif easy:\n",
        "        xb = cheater._easy(xb, yb)\n",
        "    elif fancy:\n",
        "        xb = cheater._fancy(xb, yb)\n",
        "        if debias: xb = cheater._debias(xb, alpha = reduction)\n",
        "    else:\n",
        "        xb = xb.reshape(-1, 784)\n",
        "        \n",
        "    pred = model(xb)\n",
        "    correct = (torch.argmax(pred, 1) == yb).sum().float()/pred.shape[0]\n",
        "    running_acc += float(correct.detach())\n",
        "    running_count += 1\n",
        "    \n",
        "print(f'Test Accuracy: {running_acc/running_count}')"
      ],
      "execution_count": 166,
      "outputs": [
        {
          "output_type": "stream",
          "text": [
            "Test Accuracy: 0.9230999946594238\n"
          ],
          "name": "stdout"
        }
      ]
    },
    {
      "cell_type": "code",
      "metadata": {
        "id": "dzaaenXqN7_e",
        "colab_type": "code",
        "colab": {}
      },
      "source": [
        ""
      ],
      "execution_count": 0,
      "outputs": []
    }
  ]
}