{
  "nbformat": 4,
  "nbformat_minor": 0,
  "metadata": {
    "colab": {
      "name": "Gradient_Based_Conceptors.ipynb",
      "version": "0.3.2",
      "provenance": [],
      "include_colab_link": true
    },
    "kernelspec": {
      "name": "python3",
      "display_name": "Python 3"
    },
    "accelerator": "GPU"
  },
  "cells": [
    {
      "cell_type": "markdown",
      "metadata": {
        "id": "view-in-github",
        "colab_type": "text"
      },
      "source": [
        "<a href=\"https://colab.research.google.com/github/jsedoc/ConceptorDebias/blob/master/Experiments/Conceptors/Gradient_Based_Conceptors.ipynb\" target=\"_parent\"><img src=\"https://colab.research.google.com/assets/colab-badge.svg\" alt=\"Open In Colab\"/></a>"
      ]
    },
    {
      "cell_type": "code",
      "metadata": {
        "id": "F56NbIZWw1_P",
        "colab_type": "code",
        "outputId": "32f8c7cb-a449-458d-d171-fc7dc86ff4d6",
        "colab": {
          "base_uri": "https://localhost:8080/",
          "height": 34
        }
      },
      "source": [
        "import torch\n",
        "import torch.nn.functional as F\n",
        "from torch import nn, optim\n",
        "import numpy as np\n",
        "from numpy.linalg import inv\n",
        "import matplotlib.pyplot as plt\n",
        "\n",
        "%matplotlib inline\n",
        "dtype = torch.float\n",
        "device = torch.device('cuda:0')\n",
        "torch.cuda.get_device_name(0)"
      ],
      "execution_count": 0,
      "outputs": [
        {
          "output_type": "execute_result",
          "data": {
            "text/plain": [
              "'Tesla K80'"
            ]
          },
          "metadata": {
            "tags": []
          },
          "execution_count": 1
        }
      ]
    },
    {
      "cell_type": "markdown",
      "metadata": {
        "id": "7CT7xmyqxIr9",
        "colab_type": "text"
      },
      "source": [
        "# Gradient Approach To Conceptors"
      ]
    },
    {
      "cell_type": "markdown",
      "metadata": {
        "id": "VGeyPav0yG7d",
        "colab_type": "text"
      },
      "source": [
        "### Initializing Old Conceptors and Data"
      ]
    },
    {
      "cell_type": "code",
      "metadata": {
        "id": "4P6iYxLbxcB4",
        "colab_type": "code",
        "colab": {}
      },
      "source": [
        "## Old Conceptors Implementations \n",
        "\n",
        "def get_conceptor(x, alpha):    \n",
        "    N = x.shape[1] - 1\n",
        "    cov = (x @ x.T)*(1/N)\n",
        "    return cov @ inv(cov + (1/alpha**2)*np.eye(x.shape[0]))\n",
        "\n",
        "def improved_conceptor(X, alpha = 1):\n",
        "    N = X.shape[1] \n",
        "    means = np.mean(X, axis = 1)\n",
        "    stds = np.std(X,axis = 1)\n",
        "    X = X - means[:,None]\n",
        "    X = X / stds[:,None]\n",
        "    cov = (X @ X.T)*(1/N)\n",
        "    return cov @ inv(cov + (alpha**(-2))*np.eye(X.shape[0]))"
      ],
      "execution_count": 0,
      "outputs": []
    },
    {
      "cell_type": "code",
      "metadata": {
        "id": "sdG-nTSixnYx",
        "colab_type": "code",
        "outputId": "18c4b2e6-31d7-41ca-a4c2-918aee9b92e0",
        "colab": {
          "base_uri": "https://localhost:8080/",
          "height": 315
        }
      },
      "source": [
        "## Generating Dataset\n",
        "\n",
        "N = 100000\n",
        "covariance = [[1,0.7],\n",
        "              [0.7,1]]\n",
        "X = np.random.multivariate_normal([0,0],covariance,N).T\n",
        "\n",
        "plt.title('Data Cloud')\n",
        "plt.scatter(X[0],X[1], c = 'm')\n",
        "plt.show()\n",
        "print(\"\\n\")"
      ],
      "execution_count": 0,
      "outputs": [
        {
          "output_type": "display_data",
          "data": {
            "image/png": "[encoded data removed]",
            "text/plain": [
              "<Figure size 432x288 with 1 Axes>"
            ]
          },
          "metadata": {
            "tags": []
          }
        },
        {
          "output_type": "stream",
          "text": [
            "\n",
            "\n"
          ],
          "name": "stdout"
        }
      ]
    },
    {
      "cell_type": "code",
      "metadata": {
        "id": "iMgknx6-x45p",
        "colab_type": "code",
        "outputId": "2b939f72-53b6-4bf5-daa0-e4f98f630cad",
        "colab": {
          "base_uri": "https://localhost:8080/",
          "height": 68
        }
      },
      "source": [
        "## Checking Old Conceptors\n",
        "alpha = 1\n",
        "C = improved_conceptor(X, alpha)\n",
        "print(C)\n",
        "print(np.linalg.norm(X - C @ X)**2/N + np.linalg.norm(C)**2)"
      ],
      "execution_count": 0,
      "outputs": [
        {
          "output_type": "stream",
          "text": [
            "[[0.4300064  0.19973959]\n",
            " [0.19973959 0.4300064 ]]\n",
            "0.8587059413064972\n"
          ],
          "name": "stdout"
        }
      ]
    },
    {
      "cell_type": "markdown",
      "metadata": {
        "id": "3un7oxWpyLf8",
        "colab_type": "text"
      },
      "source": [
        "### Setup Gradient Based Conceptor"
      ]
    },
    {
      "cell_type": "code",
      "metadata": {
        "id": "os5A8_9ayQ5A",
        "colab_type": "code",
        "outputId": "ba529e12-12ea-42fa-c503-6c20cd1fd86c",
        "colab": {
          "base_uri": "https://localhost:8080/",
          "height": 102
        }
      },
      "source": [
        "learning_rate = 0.1\n",
        "x = torch.tensor(X.T, device = device, dtype = dtype) \n",
        "y = x.clone().detach()\n",
        "\n",
        "W = torch.rand(2,2, device = device, dtype = dtype, requires_grad = True)\n",
        "\n",
        "for t in range(10001):\n",
        "    \n",
        "    y_pred = x.mm(W)\n",
        "    \n",
        "    l2_reg = W.norm(2).pow(2)\n",
        "    loss = (1/N)*(y_pred - y).pow(2).sum() + l2_reg\n",
        "    \n",
        "    if(t%5000 == 0): print(t,': ', loss.item())\n",
        "    \n",
        "    loss.backward()\n",
        "    with torch.no_grad():\n",
        "        W -= learning_rate *(1/(0.001*t+1)) * W.grad\n",
        "        W.grad.zero_()\n",
        "        \n",
        "print(W.data)\n",
        "\n"
      ],
      "execution_count": 0,
      "outputs": [
        {
          "output_type": "stream",
          "text": [
            "0 :  1.3641281127929688\n",
            "5000 :  0.8587023019790649\n",
            "10000 :  0.8587023019790649\n",
            "tensor([[0.4300, 0.1996],\n",
            "        [0.1996, 0.4287]], device='cuda:0')\n"
          ],
          "name": "stdout"
        }
      ]
    },
    {
      "cell_type": "code",
      "metadata": {
        "id": "xnqFwJ3XyS3f",
        "colab_type": "code",
        "outputId": "e83671fd-03de-430a-fa55-6e5d25af5fc7",
        "colab": {
          "base_uri": "https://localhost:8080/",
          "height": 119
        }
      },
      "source": [
        "model = torch.nn.Sequential(torch.nn.Linear(2,2, bias = False))\n",
        "model.cuda()\n",
        "loss_fn = torch.nn.MSELoss(reduction = 'mean') \n",
        "\n",
        "for t in range(15001):\n",
        "    \n",
        "    y_pred = model(x)\n",
        "    \n",
        "#     loss = loss_fn(y_pred,y)\n",
        "    l2_reg = None\n",
        "    for param in model.parameters():\n",
        "        if l2_reg is None:\n",
        "            l2_reg = param.norm(2).pow(2)\n",
        "        else:\n",
        "            l2_reg = l2_reg + param.norm(2)\n",
        "        \n",
        "    loss = (1/N)*(y_pred - y).pow(2).sum() + l2_reg\n",
        "    if(t%5000 == 0): print(t,': ', loss.item())\n",
        "    \n",
        "    model.zero_grad()\n",
        "    loss.backward()\n",
        "    \n",
        "    with torch.no_grad():\n",
        "        for param in model.parameters():\n",
        "            param -= learning_rate*(1/(0.001*t+1))  * param.grad\n",
        "            \n",
        "\n",
        "for param in model.parameters():\n",
        "    print(param.data)    \n",
        "    \n",
        "# optimizer = optim.SGD(net.parameters(),lr = 0.01, weight_decay = 1)"
      ],
      "execution_count": 0,
      "outputs": [
        {
          "output_type": "stream",
          "text": [
            "0 :  1.7786717414855957\n",
            "5000 :  0.8587022423744202\n",
            "10000 :  0.8587022423744202\n",
            "15000 :  0.8587022423744202\n",
            "tensor([[0.4300, 0.1996],\n",
            "        [0.1996, 0.4287]], device='cuda:0')\n"
          ],
          "name": "stdout"
        }
      ]
    },
    {
      "cell_type": "code",
      "metadata": {
        "id": "WqNcf3xf1gH3",
        "colab_type": "code",
        "outputId": "1d52082d-2118-4578-bc72-b27610596f9e",
        "colab": {
          "base_uri": "https://localhost:8080/",
          "height": 153
        }
      },
      "source": [
        "## NOT conceptor\n",
        "\n",
        "notx = model(x).detach_()\n",
        "noty = y.clone().detach()\n",
        "notmodel = torch.nn.Sequential(torch.nn.Linear(2,2, bias = False))\n",
        "notmodel.cuda()\n",
        "\n",
        "learning_rate = 0.1\n",
        "for t in range(15001):\n",
        "    \n",
        "    y_pred = notmodel(notx)\n",
        "        \n",
        "    loss = (1/N)*(y_pred - noty).pow(2).sum() \n",
        "    if(t%5000 == 0): print(t,': ', loss.item()) \n",
        "    loss.backward()\n",
        "    \n",
        "    with torch.no_grad():\n",
        "        for param in notmodel.parameters():\n",
        "            param -= learning_rate*(1/(0.001*t+1)) * param.grad\n",
        "        notmodel.zero_grad()\n",
        "\n",
        "\n",
        "for param in notmodel.parameters():\n",
        "    print(param.data)    \n",
        "\n",
        "for param in notmodel.parameters():\n",
        "    for param2 in model.parameters():\n",
        "        print(param.mm(param2))"
      ],
      "execution_count": 0,
      "outputs": [
        {
          "output_type": "stream",
          "text": [
            "0 :  3.239119529724121\n",
            "5000 :  3.4366858017165214e-06\n",
            "10000 :  8.017530461756905e-08\n",
            "15000 :  1.1178273418011031e-08\n",
            "tensor([[ 2.9667, -1.3814],\n",
            "        [-1.3814,  2.9757]], device='cuda:0')\n",
            "tensor([[9.9990e-01, 9.2432e-05],\n",
            "        [9.6727e-05, 9.9990e-01]], device='cuda:0', grad_fn=<MmBackward>)\n"
          ],
          "name": "stdout"
        }
      ]
    },
    {
      "cell_type": "code",
      "metadata": {
        "id": "HNmwVBBx-6Jf",
        "colab_type": "code",
        "outputId": "eeb9617c-8dd7-4778-91a4-d4efe8db964c",
        "colab": {
          "base_uri": "https://localhost:8080/",
          "height": 269
        }
      },
      "source": [
        "result = notmodel(x).detach().cpu()\n",
        "plt.scatter(result[:,0],result[:,1])\n",
        "plt.show()"
      ],
      "execution_count": 0,
      "outputs": [
        {
          "output_type": "display_data",
          "data": {
            "image/png": "[encoded data removed]",
            "text/plain": [
              "<Figure size 432x288 with 1 Axes>"
            ]
          },
          "metadata": {
            "tags": []
          }
        }
      ]
    },
    {
      "cell_type": "markdown",
      "metadata": {
        "id": "JAoPTd8FPtk3",
        "colab_type": "text"
      },
      "source": [
        "### Nonlinear Conceptors Using Autoencoders (INCOMPLETE)"
      ]
    },
    {
      "cell_type": "code",
      "metadata": {
        "id": "d_AJROK__F4Z",
        "colab_type": "code",
        "outputId": "229d60e1-36a1-4e1e-a960-b0d372fffc15",
        "colab": {
          "base_uri": "https://localhost:8080/",
          "height": 204
        }
      },
      "source": [
        "class Conceptor(nn.Module):\n",
        "\n",
        "    def __init__(self, size):\n",
        "        super(Conceptor, self).__init__()    \n",
        "        self.fc1 = nn.Linear(size,2)\n",
        "        self.fc2 = nn.Linear(2,2)\n",
        "        self.fc3 = nn.Linear(2,size)\n",
        "\n",
        "    def forward(self, x):\n",
        "        x = F.relu(self.fc1(x))\n",
        "        x = F.relu(self.fc2(x))\n",
        "        x = self.fc3(x)\n",
        "        return x\n",
        "\n",
        "conceptor = Conceptor(2)\n",
        "conceptor.cuda()\n",
        "learn_rate = 0.1\n",
        "\n",
        "for t in range(3001):\n",
        "    pred_y = conceptor(x)\n",
        "    \n",
        "    l2 = None\n",
        "    for param in conceptor.parameters():\n",
        "        if l2 is None:\n",
        "            l2 = param.norm(2).pow(2)\n",
        "        else:\n",
        "            l2 = l2 + param.norm(2).pow(2)\n",
        "    loss = (1/N)*(pred_y-y).pow(2).sum() + l2/100\n",
        "    if(t%300 == 0): print(t,': ', loss.item()) \n",
        "        \n",
        "    conceptor.zero_grad()\n",
        "    loss.backward()\n",
        "\n",
        "    with torch.no_grad():\n",
        "        for param in conceptor.parameters():\n",
        "            param -= learning_rate * param.grad    "
      ],
      "execution_count": 0,
      "outputs": [
        {
          "output_type": "stream",
          "text": [
            "0 :  2.136806011199951\n",
            "300 :  0.45019644498825073\n",
            "600 :  0.4390798807144165\n",
            "900 :  0.43529826402664185\n",
            "1200 :  0.43382346630096436\n",
            "1500 :  0.433147132396698\n",
            "1800 :  0.4327890872955322\n",
            "2100 :  0.4325529932975769\n",
            "2400 :  0.4323546886444092\n",
            "2700 :  0.43214017152786255\n",
            "3000 :  0.4318634867668152\n"
          ],
          "name": "stdout"
        }
      ]
    },
    {
      "cell_type": "code",
      "metadata": {
        "id": "ALOpGd2wDako",
        "colab_type": "code",
        "outputId": "bb791cd2-08b8-4e09-87ca-b728a7cf640d",
        "colab": {
          "base_uri": "https://localhost:8080/",
          "height": 204
        }
      },
      "source": [
        "notC = Conceptor(2)\n",
        "notC.cuda()\n",
        "cX = conceptor(x).clone().detach()\n",
        "\n",
        "for t in range(3001):\n",
        "    pred_y = notC(cX)\n",
        "    loss = (1/N)*(pred_y-y).pow(2).sum()\n",
        "    if(t%300 == 0): print(t,': ', loss.item()) \n",
        "                \n",
        "    notC.zero_grad()\n",
        "    loss.backward()    \n",
        "    with torch.no_grad():\n",
        "        for param in notC.parameters():\n",
        "            param -= learning_rate * param.grad  "
      ],
      "execution_count": 0,
      "outputs": [
        {
          "output_type": "stream",
          "text": [
            "0 :  4.0406813621521\n",
            "300 :  0.5552231073379517\n",
            "600 :  0.5536800026893616\n",
            "900 :  0.5514601469039917\n",
            "1200 :  0.5549765229225159\n",
            "1500 :  0.5532590746879578\n",
            "1800 :  0.5565354228019714\n",
            "2100 :  0.5537621974945068\n",
            "2400 :  0.5512833595275879\n",
            "2700 :  0.5549153089523315\n",
            "3000 :  0.5533676743507385\n"
          ],
          "name": "stdout"
        }
      ]
    },
    {
      "cell_type": "code",
      "metadata": {
        "id": "85zESZ7CD6dv",
        "colab_type": "code",
        "outputId": "3d902dda-a231-4c30-ea35-59f82804029d",
        "colab": {
          "base_uri": "https://localhost:8080/",
          "height": 1025
        }
      },
      "source": [
        "test = np.random.multivariate_normal([0,0],[[1,0],\n",
        "                                            [0,1]],N)\n",
        "test = torch.tensor(test, device = device, dtype = dtype) \n",
        "testC = conceptor(test).detach().cpu()\n",
        "plt.scatter(testC[:,0],testC[:,1], c = 'm')\n",
        "plt.show()\n",
        "\n",
        "original = xe.detach().cpu()\n",
        "plt.scatter(original[:,0],original[:,1])\n",
        "plt.show()\n",
        "\n",
        "result = notC(x).detach().cpu()\n",
        "plt.scatter(result[:,0],result[:,1])\n",
        "plt.show()\n",
        "\n",
        "what = original - result\n",
        "plt.scatter(what[:,0],what[:,1])\n",
        "plt.show()"
      ],
      "execution_count": 0,
      "outputs": [
        {
          "output_type": "display_data",
          "data": {
            "image/png": "[encoded data removed]",
            "text/plain": [
              "<Figure size 432x288 with 1 Axes>"
            ]
          },
          "metadata": {
            "tags": []
          }
        },
        {
          "output_type": "display_data",
          "data": {
            "image/png": "[encoded data removed]",
            "text/plain": [
              "<Figure size 432x288 with 1 Axes>"
            ]
          },
          "metadata": {
            "tags": []
          }
        },
        {
          "output_type": "display_data",
          "data": {
            "image/png": "[encoded data removed]",
            "text/plain": [
              "<Figure size 432x288 with 1 Axes>"
            ]
          },
          "metadata": {
            "tags": []
          }
        },
        {
          "output_type": "display_data",
          "data": {
            "image/png": "[encoded data removed]",
            "text/plain": [
              "<Figure size 432x288 with 1 Axes>"
            ]
          },
          "metadata": {
            "tags": []
          }
        }
      ]
    }
  ]
}