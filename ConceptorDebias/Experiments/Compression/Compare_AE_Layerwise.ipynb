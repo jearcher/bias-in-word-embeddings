{
 "cells": [
  {
   "cell_type": "code",
   "execution_count": 1,
   "metadata": {},
   "outputs": [],
   "source": [
    "import os\n",
    "from tqdm import tqdm as tqdm\n",
    "\n",
    "import torch\n",
    "import torch.nn as nn\n",
    "import torch.nn.functional as F\n",
    "from torch.utils.data import TensorDataset, DataLoader, ConcatDataset"
   ]
  },
  {
   "cell_type": "code",
   "execution_count": 2,
   "metadata": {},
   "outputs": [
    {
     "name": "stdout",
     "output_type": "stream",
     "text": [
      "GeForce GTX TITAN X\n"
     ]
    }
   ],
   "source": [
    "torch.cuda.init()\n",
    "device = torch.device('cuda:1')\n",
    "print(torch.cuda.get_device_name(device))"
   ]
  },
  {
   "cell_type": "code",
   "execution_count": 3,
   "metadata": {},
   "outputs": [],
   "source": [
    "base_path = '/ssd2/chetanp'\n",
    "batch_size = 2 ** 15"
   ]
  },
  {
   "cell_type": "code",
   "execution_count": 4,
   "metadata": {},
   "outputs": [],
   "source": [
    "dataset = []\n",
    "for i in range(2):\n",
    "    path = os.path.join(base_path,'brown_e_base'+str(i+4)+'.pt')\n",
    "    data = torch.load(path)\n",
    "    dataset.append(TensorDataset(data))\n",
    "dataset = ConcatDataset(dataset)\n",
    "data_loader = DataLoader(dataset,batch_size = batch_size,num_workers = 14)"
   ]
  },
  {
   "cell_type": "code",
   "execution_count": 5,
   "metadata": {},
   "outputs": [],
   "source": [
    "criterion = nn.CosineSimilarity()\n",
    "loss_function = lambda x,y: (1-criterion(x,y)).mean()\n",
    "val_losses = []\n",
    "max_losses = []"
   ]
  },
  {
   "cell_type": "code",
   "execution_count": 6,
   "metadata": {},
   "outputs": [
    {
     "name": "stdout",
     "output_type": "stream",
     "text": [
      "torch.Size([32768, 9216])\n"
     ]
    }
   ],
   "source": [
    "print(next(iter(data_loader))[0].shape)"
   ]
  },
  {
   "cell_type": "code",
   "execution_count": 7,
   "metadata": {},
   "outputs": [
    {
     "name": "stderr",
     "output_type": "stream",
     "text": [
      "100%|██████████| 9/9 [00:14<00:00,  1.12s/it]\n"
     ]
    },
    {
     "name": "stdout",
     "output_type": "stream",
     "text": [
      "Test Set Loss 0:  [0.17332986659473842, 0.1680613938305113, 0.16893990668985578, 0.16928874949614206, 0.17065892120202383, 0.18725264900260502, 0.2062772942913903, 0.21521369450622135, 0.23796693483988443, 0.25154490437772536, 0.23324895898501077, 0.24688736763265398]\n",
      "Max Loss 0:  [0.18103119730949402, 0.1751817762851715, 0.1750163435935974, 0.17467601597309113, 0.17563968896865845, 0.19198527932167053, 0.21141797304153442, 0.2208268940448761, 0.24429336190223694, 0.2593735456466675, 0.240241140127182, 0.25391513109207153]\n"
     ]
    },
    {
     "name": "stderr",
     "output_type": "stream",
     "text": [
      "100%|██████████| 9/9 [00:11<00:00,  1.05it/s]\n"
     ]
    },
    {
     "name": "stdout",
     "output_type": "stream",
     "text": [
      "Test Set Loss 1:  [0.1557164423995548, 0.14829307132297093, 0.14767450590928397, 0.14609264334042868, 0.14616353644265068, 0.15994197461340162, 0.176122784614563, 0.18313850296868217, 0.20288185444143084, 0.21636546651522318, 0.2036844657527076, 0.2174583011203342]\n",
      "Max Loss 1:  [0.16280311346054077, 0.15479959547519684, 0.15326747298240662, 0.1511506736278534, 0.15087342262268066, 0.1643928438425064, 0.18102425336837769, 0.18852654099464417, 0.20898032188415527, 0.22378772497177124, 0.2104792594909668, 0.22462481260299683]\n"
     ]
    },
    {
     "name": "stderr",
     "output_type": "stream",
     "text": [
      "100%|██████████| 9/9 [00:11<00:00,  1.05it/s]\n"
     ]
    },
    {
     "name": "stdout",
     "output_type": "stream",
     "text": [
      "Test Set Loss 2:  [0.1395796106921302, 0.13205132716231877, 0.13032064172956678, 0.12781631449858347, 0.12718148860666487, 0.13861439294285244, 0.1517130649752087, 0.15694974859555563, 0.17427856392330593, 0.1886865645647049, 0.1805942025449541, 0.19425992170969644]\n",
      "Max Loss 2:  [0.14583560824394226, 0.1376841962337494, 0.1351129114627838, 0.13210168480873108, 0.1312798112630844, 0.14252221584320068, 0.15599270164966583, 0.16175515949726105, 0.17999127507209778, 0.1958627551794052, 0.18723827600479126, 0.20134185254573822]\n"
     ]
    },
    {
     "name": "stderr",
     "output_type": "stream",
     "text": [
      "100%|██████████| 9/9 [00:11<00:00,  1.05it/s]\n"
     ]
    },
    {
     "name": "stdout",
     "output_type": "stream",
     "text": [
      "Test Set Loss 3:  [0.13155153393745422, 0.12085782488187154, 0.11676022658745448, 0.11190557065937254, 0.10968766030338076, 0.11824734757343928, 0.12822874138752619, 0.13244865669144523, 0.14728306730588278, 0.16180313461356693, 0.15780245098802778, 0.17114556166860792]\n",
      "Max Loss 3:  [0.13653028011322021, 0.1253061592578888, 0.12046079337596893, 0.1150866374373436, 0.112720787525177, 0.121135413646698, 0.13134914636611938, 0.1361120343208313, 0.1518796682357788, 0.16786551475524902, 0.16358718276023865, 0.17744655907154083]\n"
     ]
    },
    {
     "name": "stderr",
     "output_type": "stream",
     "text": [
      "100%|██████████| 9/9 [00:11<00:00,  1.04it/s]\n"
     ]
    },
    {
     "name": "stdout",
     "output_type": "stream",
     "text": [
      "Test Set Loss 4:  [0.1053767560256852, 0.09215384059482151, 0.08477670285436842, 0.07698223491509755, 0.07295451230472988, 0.0770069162050883, 0.08360537389914195, 0.08686482906341553, 0.09794507920742035, 0.11389868375327852, 0.11717892355389065, 0.1317838504910469]\n",
      "Max Loss 4:  [0.10939471423625946, 0.09542344510555267, 0.08727289736270905, 0.07892236113548279, 0.07460374385118484, 0.07862542569637299, 0.08546369522809982, 0.08894728124141693, 0.1008758395910263, 0.1181252971291542, 0.12150555849075317, 0.13664984703063965]\n"
     ]
    },
    {
     "name": "stderr",
     "output_type": "stream",
     "text": [
      "100%|██████████| 9/9 [00:11<00:00,  1.03it/s]\n"
     ]
    },
    {
     "name": "stdout",
     "output_type": "stream",
     "text": [
      "Test Set Loss 5:  [0.06926281253496806, 0.0551676530804899, 0.048691672583421074, 0.0446122106578615, 0.04385523870587349, 0.04654402037461599, 0.0500619113445282, 0.05031870802243551, 0.05395748631821738, 0.06494389474391937, 0.07296013252602683, 0.08945830745829476]\n",
      "Max Loss 5:  [0.07185392081737518, 0.05695053189992905, 0.04987415671348572, 0.04548874497413635, 0.04468629136681557, 0.04755764827132225, 0.051209405064582825, 0.05156930536031723, 0.05548346787691116, 0.06721983850002289, 0.07546535134315491, 0.09275596588850021]\n"
     ]
    },
    {
     "name": "stderr",
     "output_type": "stream",
     "text": [
      "100%|██████████| 9/9 [00:11<00:00,  1.00s/it]"
     ]
    },
    {
     "name": "stdout",
     "output_type": "stream",
     "text": [
      "Test Set Loss 6:  [0.05357623886730936, 0.03962654537624783, 0.036833407978216805, 0.03621047486861547, 0.037107445713546544, 0.03940820652577612, 0.04145840969350603, 0.041335412611564, 0.04279564983314938, 0.04898795485496521, 0.0550538988576995, 0.07299298875861698]\n",
      "Max Loss 6:  [0.05547547712922096, 0.0407819002866745, 0.0376272052526474, 0.036916181445121765, 0.03785283863544464, 0.04030955955386162, 0.04244134575128555, 0.04239330813288689, 0.04405728727579117, 0.05058640241622925, 0.056825682520866394, 0.07539293169975281]\n"
     ]
    },
    {
     "name": "stderr",
     "output_type": "stream",
     "text": [
      "\n"
     ]
    }
   ],
   "source": [
    "for i in range (7):\n",
    "    \n",
    "    class AutoEncoder(nn.Module):\n",
    "\n",
    "        def __init__(self):\n",
    "            super(AutoEncoder, self).__init__() \n",
    "\n",
    "            #encode\n",
    "            self.e1 = nn.Linear(9216,2048)\n",
    "            self.e2 = nn.Linear(2048,2 ** (5 + i))\n",
    "\n",
    "            #decode\n",
    "            self.d1 = nn.Linear(2 ** (5 + i),2048)\n",
    "            self.d2 = nn.Linear(2048,9216)\n",
    "\n",
    "        def forward(self, x):\n",
    "            encode = self.e2(F.relu(self.e1(x)))\n",
    "\n",
    "            return self.d2(F.relu(self.d1(encode)))\n",
    "        \n",
    "    model = nn.DataParallel(AutoEncoder(),device_ids =[1,2]).to(device)\n",
    "    path = os.path.join(base_path,f'brown_e_base_compressor_{i}.pth')\n",
    "    model.load_state_dict(torch.load(path))\n",
    "    model.eval()\n",
    "    \n",
    "    running_loss = [0]*12\n",
    "    count = [0]*12\n",
    "    max_loss = [0]*12\n",
    "    for data in tqdm(data_loader):\n",
    "        ## Get Data\n",
    "        sample = data[0].to(device)\n",
    "\n",
    "        ## Pass forward\n",
    "        output = model(sample)\n",
    "        for j in range(12):\n",
    "            loss = loss_function(output[:,j*768:(j+1)*768],sample[:,j*768:(j+1)*768])\n",
    "\n",
    "            ## Update Running Loss\n",
    "            max_loss[j] = max(loss.max().detach().item(), max_loss[j])\n",
    "            running_loss[j] += float(loss)\n",
    "            count[j] += 1\n",
    "        \n",
    "    running_loss = [l/c for l,c in zip(running_loss, count)]\n",
    "    print(f'Test Set Loss {i}: ', str(running_loss))\n",
    "    val_losses.append(running_loss)\n",
    "    print(f'Max Loss {i}: ', max_loss)\n",
    "    max_losses.append(max_loss)"
   ]
  },
  {
   "cell_type": "code",
   "execution_count": 8,
   "metadata": {},
   "outputs": [],
   "source": [
    "import csv\n",
    "\n",
    "path = os.path.join(base_path, 'val_loss_layerwise.csv')\n",
    "\n",
    "with open(path, 'w') as myfile:\n",
    "    wr = csv.writer(myfile)\n",
    "    wr.writerows(val_losses)\n",
    "    wr.writerows(max_losses)"
   ]
  },
  {
   "cell_type": "code",
   "execution_count": null,
   "metadata": {},
   "outputs": [],
   "source": []
  }
 ],
 "metadata": {
  "kernelspec": {
   "display_name": "Python 3",
   "language": "python",
   "name": "python3"
  },
  "language_info": {
   "codemirror_mode": {
    "name": "ipython",
    "version": 3
   },
   "file_extension": ".py",
   "mimetype": "text/x-python",
   "name": "python",
   "nbconvert_exporter": "python",
   "pygments_lexer": "ipython3",
   "version": "3.6.4"
  }
 },
 "nbformat": 4,
 "nbformat_minor": 4
}
