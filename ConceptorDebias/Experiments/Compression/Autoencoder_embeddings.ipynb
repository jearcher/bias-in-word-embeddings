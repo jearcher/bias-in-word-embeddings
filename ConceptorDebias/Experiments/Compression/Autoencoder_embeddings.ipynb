{
 "cells": [
  {
   "cell_type": "code",
   "execution_count": 1,
   "metadata": {},
   "outputs": [],
   "source": [
    "from tqdm import tqdm as tqdm\n",
    "import numpy as np\n",
    "import torch\n",
    "from flair.embeddings import BertEmbeddings\n",
    "from flair.data import Sentence"
   ]
  },
  {
   "cell_type": "code",
   "execution_count": 13,
   "metadata": {},
   "outputs": [],
   "source": [
    "embedding = BertEmbeddings('bert-base-uncased',layers='0,1,2,3,4,5,6,7,8,9,10,11')"
   ]
  },
  {
   "cell_type": "code",
   "execution_count": 73,
   "metadata": {},
   "outputs": [
    {
     "name": "stderr",
     "output_type": "stream",
     "text": [
      "[nltk_data] Downloading package brown to /home/chetanp/nltk_data...\n",
      "[nltk_data]   Package brown is already up-to-date!\n"
     ]
    }
   ],
   "source": [
    "import nltk\n",
    "from nltk.corpus import brown\n",
    "\n",
    "nltk.download('brown')\n",
    "brown_corpus = brown.sents()[:40]"
   ]
  },
  {
   "cell_type": "code",
   "execution_count": 35,
   "metadata": {},
   "outputs": [
    {
     "name": "stderr",
     "output_type": "stream",
     "text": [
      "100%|██████████| 1000/1000 [00:45<00:00, 21.89it/s]\n"
     ]
    },
    {
     "name": "stdout",
     "output_type": "stream",
     "text": [
      "46.2 s ± 0 ns per loop (mean ± std. dev. of 1 run, 1 loop each)\n"
     ]
    }
   ],
   "source": [
    "%%timeit -n 1 -r 1\n",
    "\n",
    "sentence = Sentence(' '.join(brown_corpus[0]))\n",
    "embedding.embed(sentence)\n",
    "brown_e = [token.embedding for token in sentence]\n",
    "\n",
    "for s in tqdm(brown_corpus):\n",
    "    sentence = Sentence(' '.join(s))\n",
    "    embedding.embed(sentence)\n",
    "    \n",
    "    brown_e = brown_e + [token.embedding for token in sentence]\n",
    "\n",
    "brown_e = torch.stack(brown_e)"
   ]
  },
  {
   "cell_type": "code",
   "execution_count": 34,
   "metadata": {},
   "outputs": [
    {
     "name": "stdout",
     "output_type": "stream",
     "text": [
      "1.92 s ± 0 ns per loop (mean ± std. dev. of 1 run, 1 loop each)\n"
     ]
    }
   ],
   "source": [
    "torch.save(brown_e, 'brown_e.pt')"
   ]
  },
  {
   "cell_type": "code",
   "execution_count": 78,
   "metadata": {},
   "outputs": [
    {
     "name": "stdout",
     "output_type": "stream",
     "text": [
      "/ssd2/chetanp/brown_e_base3.pt\n"
     ]
    }
   ],
   "source": [
    "import os\n",
    "base_path = '/ssd2/chetanp'\n",
    "fname = 'brown_e_base' + str(i) + '.pt'\n",
    "path = os.path.join(base_path,fname)\n",
    "\n",
    "print(path)\n",
    "\n",
    "torch.save(brown_e,path)"
   ]
  },
  {
   "cell_type": "code",
   "execution_count": 2,
   "metadata": {},
   "outputs": [
    {
     "data": {
      "text/plain": [
       "['/usr/local/lib/python36.zip',\n",
       " '/usr/local/lib/python3.6',\n",
       " '/usr/local/lib/python3.6/lib-dynload',\n",
       " '',\n",
       " '/home/chetanp/.local/lib/python3.6/site-packages',\n",
       " '/usr/local/lib/python3.6/site-packages',\n",
       " '/home/chetanp/.local/lib/python3.6/site-packages/IPython/extensions',\n",
       " '/home/chetanp/.ipython']"
      ]
     },
     "execution_count": 2,
     "metadata": {},
     "output_type": "execute_result"
    }
   ],
   "source": [
    "import sys\n",
    "sys.path"
   ]
  },
  {
   "cell_type": "code",
   "execution_count": null,
   "metadata": {},
   "outputs": [],
   "source": []
  }
 ],
 "metadata": {
  "kernelspec": {
   "display_name": "Python 3",
   "language": "python",
   "name": "python3"
  },
  "language_info": {
   "codemirror_mode": {
    "name": "ipython",
    "version": 3
   },
   "file_extension": ".py",
   "mimetype": "text/x-python",
   "name": "python",
   "nbconvert_exporter": "python",
   "pygments_lexer": "ipython3",
   "version": "3.6.4"
  }
 },
 "nbformat": 4,
 "nbformat_minor": 4
}
