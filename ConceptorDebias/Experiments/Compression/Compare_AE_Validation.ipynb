{
 "cells": [
  {
   "cell_type": "code",
   "execution_count": 1,
   "metadata": {},
   "outputs": [],
   "source": [
    "import os\n",
    "from tqdm import tqdm as tqdm\n",
    "\n",
    "import torch\n",
    "import torch.nn as nn\n",
    "import torch.nn.functional as F\n",
    "from torch.utils.data import TensorDataset, DataLoader, ConcatDataset"
   ]
  },
  {
   "cell_type": "code",
   "execution_count": 2,
   "metadata": {},
   "outputs": [
    {
     "name": "stdout",
     "output_type": "stream",
     "text": [
      "GeForce GTX TITAN X\n"
     ]
    }
   ],
   "source": [
    "torch.cuda.init()\n",
    "device = torch.device('cuda:1')\n",
    "print(torch.cuda.get_device_name(device))"
   ]
  },
  {
   "cell_type": "code",
   "execution_count": 3,
   "metadata": {},
   "outputs": [],
   "source": [
    "base_path = '/ssd2/chetanp'\n",
    "batch_size = 2 ** 15"
   ]
  },
  {
   "cell_type": "code",
   "execution_count": 4,
   "metadata": {},
   "outputs": [],
   "source": [
    "dataset = []\n",
    "for i in range(2):\n",
    "    path = os.path.join(base_path,'brown_e_base'+str(i+4)+'.pt')\n",
    "    data = torch.load(path)\n",
    "    dataset.append(TensorDataset(data))\n",
    "dataset = ConcatDataset(dataset)\n",
    "data_loader = DataLoader(dataset,batch_size = batch_size,num_workers = 14)"
   ]
  },
  {
   "cell_type": "code",
   "execution_count": 5,
   "metadata": {},
   "outputs": [],
   "source": [
    "criterion = nn.CosineSimilarity()\n",
    "loss_function = lambda x,y: (1-criterion(x,y)).mean()\n",
    "val_losses = []\n",
    "max_losses = []"
   ]
  },
  {
   "cell_type": "code",
   "execution_count": 6,
   "metadata": {},
   "outputs": [
    {
     "name": "stderr",
     "output_type": "stream",
     "text": [
      "100%|██████████| 9/9 [00:14<00:00,  1.18s/it]\n"
     ]
    },
    {
     "name": "stdout",
     "output_type": "stream",
     "text": [
      "Test Set Loss 0:  0.2008543246322208\n",
      "Max Loss 0:  0.2069765031337738\n"
     ]
    },
    {
     "name": "stderr",
     "output_type": "stream",
     "text": [
      "100%|██████████| 9/9 [00:11<00:00,  1.00s/it]\n"
     ]
    },
    {
     "name": "stdout",
     "output_type": "stream",
     "text": [
      "Test Set Loss 1:  0.17372238636016846\n",
      "Max Loss 1:  0.1795302927494049\n"
     ]
    },
    {
     "name": "stderr",
     "output_type": "stream",
     "text": [
      "100%|██████████| 9/9 [00:11<00:00,  1.01it/s]\n"
     ]
    },
    {
     "name": "stdout",
     "output_type": "stream",
     "text": [
      "Test Set Loss 2:  0.15187282032436794\n",
      "Max Loss 2:  0.1571389138698578\n"
     ]
    },
    {
     "name": "stderr",
     "output_type": "stream",
     "text": [
      "100%|██████████| 9/9 [00:11<00:00,  1.00s/it]\n"
     ]
    },
    {
     "name": "stdout",
     "output_type": "stream",
     "text": [
      "Test Set Loss 3:  0.13226508597532907\n",
      "Max Loss 3:  0.13644398748874664\n"
     ]
    },
    {
     "name": "stderr",
     "output_type": "stream",
     "text": [
      "100%|██████████| 9/9 [00:11<00:00,  1.01it/s]\n"
     ]
    },
    {
     "name": "stdout",
     "output_type": "stream",
     "text": [
      "Test Set Loss 4:  0.0927959614329868\n",
      "Max Loss 4:  0.09557731449604034\n"
     ]
    },
    {
     "name": "stderr",
     "output_type": "stream",
     "text": [
      "100%|██████████| 9/9 [00:12<00:00,  1.02s/it]\n"
     ]
    },
    {
     "name": "stdout",
     "output_type": "stream",
     "text": [
      "Test Set Loss 5:  0.0550112020638254\n",
      "Max Loss 5:  0.056545063853263855\n"
     ]
    },
    {
     "name": "stderr",
     "output_type": "stream",
     "text": [
      "100%|██████████| 9/9 [00:12<00:00,  1.03s/it]"
     ]
    },
    {
     "name": "stdout",
     "output_type": "stream",
     "text": [
      "Test Set Loss 6:  0.04316572182708316\n",
      "Max Loss 6:  0.04431982710957527\n"
     ]
    },
    {
     "name": "stderr",
     "output_type": "stream",
     "text": [
      "\n"
     ]
    }
   ],
   "source": [
    "for i in range (7):\n",
    "    \n",
    "    class AutoEncoder(nn.Module):\n",
    "\n",
    "        def __init__(self):\n",
    "            super(AutoEncoder, self).__init__() \n",
    "\n",
    "            #encode\n",
    "            self.e1 = nn.Linear(9216,2048)\n",
    "            self.e2 = nn.Linear(2048,2 ** (5 + i))\n",
    "\n",
    "            #decode\n",
    "            self.d1 = nn.Linear(2 ** (5 + i),2048)\n",
    "            self.d2 = nn.Linear(2048,9216)\n",
    "\n",
    "        def forward(self, x):\n",
    "            encode = self.e2(F.relu(self.e1(x)))\n",
    "\n",
    "            return self.d2(F.relu(self.d1(encode)))\n",
    "        \n",
    "    model = nn.DataParallel(AutoEncoder(),device_ids =[1,2]).to(device)\n",
    "    path = os.path.join(base_path,f'brown_e_base_compressor_{i}.pth')\n",
    "    model.load_state_dict(torch.load(path))\n",
    "    model.eval()\n",
    "    \n",
    "    running_loss = 0\n",
    "    count = 0\n",
    "    max_loss = 0\n",
    "    for data in tqdm(data_loader):\n",
    "        ## Get Data\n",
    "        sample = data[0].to(device)\n",
    "\n",
    "        ## Pass forward\n",
    "        output = model(sample)\n",
    "        loss = loss_function(output,sample)\n",
    "\n",
    "        ## Update Running Loss\n",
    "        max_loss = max(loss.max().detach().item(), max_loss)\n",
    "        running_loss += float(loss)\n",
    "        count += 1\n",
    "\n",
    "    print(f'Test Set Loss {i}: ', str(running_loss/count))\n",
    "    val_losses.append(running_loss/count)\n",
    "    print(f'Max Loss {i}: ', max_loss)\n",
    "    max_losses.append(max_loss)"
   ]
  },
  {
   "cell_type": "code",
   "execution_count": 7,
   "metadata": {},
   "outputs": [],
   "source": [
    "import csv\n",
    "\n",
    "path = os.path.join(base_path, 'val_loss_layerwise.csv')\n",
    "\n",
    "with open(path, 'w') as myfile:\n",
    "    wr = csv.writer(myfile)\n",
    "    wr.writerow(val_losses)\n",
    "    wr.writerow(max_losses)"
   ]
  },
  {
   "cell_type": "code",
   "execution_count": null,
   "metadata": {},
   "outputs": [],
   "source": []
  }
 ],
 "metadata": {
  "kernelspec": {
   "display_name": "Python 3",
   "language": "python",
   "name": "python3"
  },
  "language_info": {
   "codemirror_mode": {
    "name": "ipython",
    "version": 3
   },
   "file_extension": ".py",
   "mimetype": "text/x-python",
   "name": "python",
   "nbconvert_exporter": "python",
   "pygments_lexer": "ipython3",
   "version": "3.6.4"
  }
 },
 "nbformat": 4,
 "nbformat_minor": 4
}
