{
  "nbformat": 4,
  "nbformat_minor": 0,
  "metadata": {
    "colab": {
      "name": "ConceptorPostPro_DEMO.ipynb",
      "version": "0.3.2",
      "provenance": [],
      "collapsed_sections": [],
      "include_colab_link": true
    },
    "kernelspec": {
      "display_name": "Python 3",
      "language": "python",
      "name": "python3"
    },
    "accelerator": "GPU"
  },
  "cells": [
    {
      "cell_type": "markdown",
      "metadata": {
        "id": "view-in-github",
        "colab_type": "text"
      },
      "source": [
        "<a href=\"https://colab.research.google.com/github/jsedoc/ConceptorDebias/blob/master/ConceptorPostPro_DEMO.ipynb\" target=\"_parent\"><img src=\"https://colab.research.google.com/assets/colab-badge.svg\" alt=\"Open In Colab\"/></a>"
      ]
    },
    {
      "metadata": {
        "id": "ukAaZKH-kgIa",
        "colab_type": "code",
        "colab": {}
      },
      "cell_type": "code",
      "source": [
        "!pip install -q gensim"
      ],
      "execution_count": 0,
      "outputs": []
    },
    {
      "metadata": {
        "id": "IEYYHYSPkeYQ",
        "colab_type": "code",
        "colab": {}
      },
      "cell_type": "code",
      "source": [
        "from numpy import dot, trace\n",
        "import math\n",
        "import random \n",
        "import scipy.io as sio\n",
        "from scipy.stats import spearmanr\n",
        "from sklearn.metrics.pairwise import cosine_similarity\n",
        "from numpy.linalg import norm, inv, eig\n",
        "from matplotlib.pyplot import plot\n",
        "import numpy as np\n",
        "import matplotlib.pyplot as plt\n",
        "import numpy.matlib\n",
        "\n",
        "import gensim\n",
        "\n",
        "from gensim.models.keyedvectors import KeyedVectors\n"
      ],
      "execution_count": 0,
      "outputs": []
    },
    {
      "metadata": {
        "id": "Ly4hDALkkeYV",
        "colab_type": "text"
      },
      "cell_type": "markdown",
      "source": [
        "# Load word embeddings GloVe and Word2Vec (takes ~2 min on my laptop)"
      ]
    },
    {
      "metadata": {
        "id": "PBjMls2pkqY2",
        "colab_type": "code",
        "colab": {}
      },
      "cell_type": "code",
      "source": [
        "!pip install -q gdown"
      ],
      "execution_count": 0,
      "outputs": []
    },
    {
      "metadata": {
        "id": "6Yb6R3hAk4Le",
        "colab_type": "code",
        "outputId": "79d91a07-5291-4ba5-f793-12626ede5189",
        "colab": {
          "base_uri": "https://localhost:8080/",
          "height": 86
        }
      },
      "cell_type": "code",
      "source": [
        "!gdown https://drive.google.com/uc?id=1Ty2exMyi-XOufY-v81RJfiPvnintHuy2"
      ],
      "execution_count": 0,
      "outputs": [
        {
          "output_type": "stream",
          "text": [
            "Downloading...\n",
            "From: https://drive.google.com/uc?id=1Ty2exMyi-XOufY-v81RJfiPvnintHuy2\n",
            "To: /content/gensim_glove.840B.300d.txt.bin\n",
            "2.65GB [00:22, 117MB/s]\n"
          ],
          "name": "stdout"
        }
      ]
    },
    {
      "metadata": {
        "id": "MQLQx8N4k7Sa",
        "colab_type": "code",
        "outputId": "7f489ac1-f4f2-4919-ec1e-53214270ca6e",
        "colab": {
          "base_uri": "https://localhost:8080/",
          "height": 86
        }
      },
      "cell_type": "code",
      "source": [
        "!gdown https://drive.google.com/uc?id=0B7XkCwpI5KDYNlNUTTlSS21pQmM"
      ],
      "execution_count": 0,
      "outputs": [
        {
          "output_type": "stream",
          "text": [
            "Downloading...\n",
            "From: https://drive.google.com/uc?id=0B7XkCwpI5KDYNlNUTTlSS21pQmM\n",
            "To: /content/GoogleNews-vectors-negative300.bin.gz\n",
            "1.65GB [00:10, 151MB/s]\n"
          ],
          "name": "stdout"
        }
      ]
    },
    {
      "metadata": {
        "id": "cVs8VLDGkeYW",
        "colab_type": "code",
        "outputId": "4f796297-30a3-47b3-98d4-6ad569f4b5d6",
        "colab": {
          "base_uri": "https://localhost:8080/",
          "height": 52
        }
      },
      "cell_type": "code",
      "source": [
        "\n",
        "\n",
        "#resourceFile = '/Users/liutianlin/Desktop/Academics/NLP/data/'\n",
        "resourceFile = '/content/'\n",
        "\n",
        "\n",
        "glove = KeyedVectors.load_word2vec_format(resourceFile + 'gensim_glove.840B.300d.txt.bin', binary=True)\n",
        "print('The glove embedding has been loaded!')\n",
        "\n",
        "\n",
        "word2vec = KeyedVectors.load_word2vec_format(resourceFile + 'GoogleNews-vectors-negative300.bin.gz', binary=True)\n",
        "print('The Google News Word2Vec embedding has been loaded!')\n"
      ],
      "execution_count": 0,
      "outputs": [
        {
          "output_type": "stream",
          "text": [
            "The glove embedding has been loaded!\n",
            "The Google News Word2Vec embedding has been loaded!\n"
          ],
          "name": "stdout"
        }
      ]
    },
    {
      "metadata": {
        "id": "BdSQrmDdkeYb",
        "colab_type": "text"
      },
      "cell_type": "markdown",
      "source": [
        "# Load the words that appear at least 200 times in wikipedia\n"
      ]
    },
    {
      "metadata": {
        "id": "_42XXaXClWW7",
        "colab_type": "code",
        "outputId": "f0c9190e-2e8d-4f48-f878-928af589bf17",
        "colab": {
          "base_uri": "https://localhost:8080/",
          "height": 104
        }
      },
      "cell_type": "code",
      "source": [
        "!git clone https://github.com/PrincetonML/SIF"
      ],
      "execution_count": 0,
      "outputs": [
        {
          "output_type": "stream",
          "text": [
            "Cloning into 'SIF'...\n",
            "remote: Enumerating objects: 128, done.\u001b[K\n",
            "remote: Total 128 (delta 0), reused 0 (delta 0), pack-reused 128\u001b[K\n",
            "Receiving objects: 100% (128/128), 2.80 MiB | 18.13 MiB/s, done.\n",
            "Resolving deltas: 100% (56/56), done.\n"
          ],
          "name": "stdout"
        }
      ]
    },
    {
      "metadata": {
        "id": "OQWE4MC1keYc",
        "colab_type": "code",
        "colab": {}
      },
      "cell_type": "code",
      "source": [
        "wikiWordsPath = resourceFile + '/SIF/auxiliary_data/enwiki_vocab_min200.txt' # https://github.com/PrincetonML/SIF/blob/master/auxiliary_data/enwiki_vocab_min200.txt\n",
        "wikiWords = []\n",
        "with open(wikiWordsPath, \"r+\") as f_in:\n",
        "    for line in f_in:\n",
        "        wikiWords.append(line.split(' ')[0])   \n"
      ],
      "execution_count": 0,
      "outputs": []
    },
    {
      "metadata": {
        "id": "XKUY-bZubgWO",
        "colab_type": "text"
      },
      "cell_type": "markdown",
      "source": [
        "#Training An Autoencoder"
      ]
    },
    {
      "metadata": {
        "id": "Ta2eTO4Jbfdz",
        "colab_type": "code",
        "colab": {}
      },
      "cell_type": "code",
      "source": [
        "from __future__ import division, print_function, absolute_import\n",
        "\n",
        "import tensorflow as tf\n"
      ],
      "execution_count": 0,
      "outputs": []
    },
    {
      "metadata": {
        "id": "rCX7ZzpJcF4-",
        "colab_type": "code",
        "colab": {}
      },
      "cell_type": "code",
      "source": [
        "wordVecModel = eval('word2vec')    \n",
        "word_in_wiki_and_model = set(list(wordVecModel.vocab)).intersection(set(wikiWords))\n",
        "\n",
        "x_collector_indices = []\n",
        "x_collector_column_weights = []\n",
        "\n",
        "\n",
        "for word in word_in_wiki_and_model:\n",
        "    x_collector_indices.append(wordVecModel.vocab[word].index)\n",
        "\n",
        "# put the word vectors in columns\n",
        "x_collector = wordVecModel.vectors[x_collector_indices,:]    \n",
        "nrWords = x_collector.shape[0] # number of total words\n"
      ],
      "execution_count": 0,
      "outputs": []
    },
    {
      "metadata": {
        "id": "_BfIM4aQCXbT",
        "colab_type": "code",
        "colab": {}
      },
      "cell_type": "code",
      "source": [
        "x_standarized = (x_collector - np.mean(x_collector,0))/np.std(x_collector,0)"
      ],
      "execution_count": 0,
      "outputs": []
    },
    {
      "metadata": {
        "id": "DWK3vpPe02Le",
        "colab_type": "code",
        "outputId": "ca6562d1-4422-4c73-e156-ffd35cea8eb5",
        "colab": {
          "base_uri": "https://localhost:8080/",
          "height": 35
        }
      },
      "cell_type": "code",
      "source": [
        "np.max(x_standarized)"
      ],
      "execution_count": 0,
      "outputs": [
        {
          "output_type": "execute_result",
          "data": {
            "text/plain": [
              "10.634587"
            ]
          },
          "metadata": {
            "tags": []
          },
          "execution_count": 12
        }
      ]
    },
    {
      "metadata": {
        "id": "N0mq7noI0yzi",
        "colab_type": "code",
        "outputId": "edde1c4a-1bee-42f3-a179-1782fad362c1",
        "colab": {
          "base_uri": "https://localhost:8080/",
          "height": 35
        }
      },
      "cell_type": "code",
      "source": [
        "np.min(x_standarized)"
      ],
      "execution_count": 0,
      "outputs": [
        {
          "output_type": "execute_result",
          "data": {
            "text/plain": [
              "-7.9402432"
            ]
          },
          "metadata": {
            "tags": []
          },
          "execution_count": 13
        }
      ]
    },
    {
      "metadata": {
        "id": "RqTAr0iqNkZs",
        "colab_type": "code",
        "outputId": "665974a5-8874-4c4c-f742-6a17c8919c28",
        "colab": {
          "base_uri": "https://localhost:8080/",
          "height": 35
        }
      },
      "cell_type": "code",
      "source": [
        "nrWords"
      ],
      "execution_count": 0,
      "outputs": [
        {
          "output_type": "execute_result",
          "data": {
            "text/plain": [
              "76078"
            ]
          },
          "metadata": {
            "tags": []
          },
          "execution_count": 14
        }
      ]
    },
    {
      "metadata": {
        "id": "yBRemV4lDI8r",
        "colab_type": "code",
        "colab": {}
      },
      "cell_type": "code",
      "source": [
        "def make_tf_data_batch(np_data,nr, batch_size, shuffle=True ):  \n",
        "  \n",
        "  # Create the TF dataset.   \n",
        "  dataset = tf.data.Dataset.from_tensor_slices(np_data)\n",
        "  \n",
        "  if shuffle:\n",
        "    dataset = dataset.shuffle(nr).repeat()\n",
        "    \n",
        "  # Batch the data and return the data batch.\n",
        "  one_shot_iterator = dataset.batch(batch_size).make_one_shot_iterator()\n",
        "  data_batch = one_shot_iterator.get_next()\n",
        "  return data_batch"
      ],
      "execution_count": 0,
      "outputs": []
    },
    {
      "metadata": {
        "id": "0zErPDcJELvj",
        "colab_type": "code",
        "outputId": "afe7e69d-1177-4c40-ce3a-070153a0cbfc",
        "colab": {
          "base_uri": "https://localhost:8080/",
          "height": 35
        }
      },
      "cell_type": "code",
      "source": [
        "# Training Parameters\n",
        "learning_rate = 0.001\n",
        "num_steps = 30000\n",
        "batch_size = 128\n",
        "\n",
        "\n",
        "real_data = make_tf_data_batch(x_standarized,nrWords,batch_size)\n",
        "print(real_data.shape)\n"
      ],
      "execution_count": 0,
      "outputs": [
        {
          "output_type": "stream",
          "text": [
            "(?, 300)\n"
          ],
          "name": "stdout"
        }
      ]
    },
    {
      "metadata": {
        "id": "B29GHNxKEhWW",
        "colab_type": "code",
        "colab": {}
      },
      "cell_type": "code",
      "source": [
        "# Network Parameters\n",
        "num_hidden_1 = 300 # 1st layer num features\n",
        "num_hidden_2 = 500 # 2nd layer num features (the latent dim)\n",
        "num_input = 300 # data input \n",
        "\n",
        "Drop = tf.placeholder(\"float\", [None, num_hidden_2])\n",
        "\n",
        "weights = {\n",
        "    'encoder_h1': tf.Variable(tf.truncated_normal([num_input, num_hidden_1], stddev=0.1)),\n",
        "    'encoder_h2': tf.Variable(tf.truncated_normal([num_hidden_1, num_hidden_2], stddev=0.1)),\n",
        "    'decoder_h1': tf.Variable(tf.truncated_normal([num_hidden_2, num_hidden_1], stddev=0.1)),\n",
        "    'decoder_h2': tf.Variable(tf.truncated_normal([num_hidden_1, num_input], stddev=0.1)),\n",
        "}\n",
        "biases = {\n",
        "    'encoder_b1': tf.Variable(tf.constant(0.1, shape=[num_hidden_1])),\n",
        "    'encoder_b2': tf.Variable(tf.constant(0.1, shape=[num_hidden_2])),\n",
        "    'decoder_b1': tf.Variable(tf.constant(0.1, shape=[num_hidden_1])),\n",
        "    'decoder_b2': tf.Variable(tf.constant(0.1, shape=[num_input])),\n",
        "}\n",
        "\n",
        "# Building the encoder\n",
        "def encoder(x):\n",
        "    # Encoder Hidden layer with sigmoid activation #1\n",
        "    layer_1 = tf.nn.tanh(tf.add(tf.matmul(x, weights['encoder_h1']),\n",
        "                                   biases['encoder_b1']))\n",
        "    # Encoder Hidden layer with sigmoid activation #2\n",
        "    layer_2 =  tf.nn.tanh(tf.add(tf.matmul(layer_1, weights['encoder_h2']),\n",
        "                                   biases['encoder_b2']))\n",
        "    return layer_2\n",
        "\n",
        "\n",
        "# Building the decoder\n",
        "def decoder(x):\n",
        "    # Decoder Hidden layer with sigmoid activation #1\n",
        "    layer_1 = tf.nn.tanh(tf.add(tf.matmul(x, weights['decoder_h1']),\n",
        "                                   biases['decoder_b1']))\n",
        "    # Decoder Hidden layer with sigmoid activation #2\n",
        "    layer_2 = tf.add(tf.matmul(layer_1, weights['decoder_h2']),\n",
        "                                   biases['decoder_b2'])\n",
        "    return layer_2\n",
        "\n",
        "# Construct model\n",
        "encoder_op = encoder(real_data)\n",
        "droped_code = tf.multiply(encoder_op, Drop)\n",
        "decoder_op = decoder(droped_code)\n",
        "\n",
        "\n",
        "# # Building the encoder\n",
        "# def encoder(x):\n",
        "#     # Encoder Hidden layer with nonlinear activation #1\n",
        "#     layer_1 = tf.nn.tanh(tf.matmul(x, weights['encoder_h1']))\n",
        "                                  \n",
        "#     # Encoder Hidden layer with nonlinear activation #2\n",
        "#     layer_2 = tf.nn.tanh(tf.matmul(layer_1, weights['encoder_h2']))\n",
        "#     return layer_2\n",
        "\n",
        "\n",
        "# # Building the decoder\n",
        "# def decoder(x):\n",
        "#     # Decoder Hidden layer with nonlinear activation #1\n",
        "#     layer_1 = tf.nn.tanh(tf.matmul(x, weights['decoder_h1']))\n",
        "#     # Decoder Hidden layer with linear activation #2\n",
        "#     layer_2 = tf.matmul(layer_1, weights['decoder_h2'])\n",
        "#     return layer_2\n",
        "\n",
        "# # Construct model\n",
        "# encoder_op = encoder(real_data)\n",
        "# decoder_op = decoder(encoder_op)\n",
        "\n",
        "# Prediction\n",
        "y_pred = decoder_op\n",
        "# Targets (Labels) are the input data.\n",
        "y_true = real_data\n",
        "\n",
        "# Define loss and optimizer, minimize the squared error\n",
        "loss = tf.reduce_mean(tf.pow(y_true - y_pred, 2))\n",
        "optimizer = tf.train.AdamOptimizer(learning_rate).minimize(loss)\n",
        "\n",
        "# Initialize the variables (i.e. assign their default value)\n",
        "init = tf.global_variables_initializer()\n"
      ],
      "execution_count": 0,
      "outputs": []
    },
    {
      "metadata": {
        "id": "e0d0UoUnIZRY",
        "colab_type": "code",
        "outputId": "899464b9-6654-4aeb-8920-8462f7d2141b",
        "colab": {
          "base_uri": "https://localhost:8080/",
          "height": 553
        }
      },
      "cell_type": "code",
      "source": [
        "\n",
        "display_step = 1000\n",
        "\n",
        "\n",
        "# Start Training\n",
        "# Start a new TF session\n",
        "sess = tf.InteractiveSession()\n",
        "\n",
        "# Run the initializer\n",
        "sess.run(init)\n",
        "\n",
        "# Training\n",
        "for i in range(1, num_steps+1):\n",
        "    # Run optimization op (backprop) and cost op (to get loss value)\n",
        "    k_vec = np.random.randint(num_hidden_2, size=batch_size)\n",
        "    drop_mask = np.vstack([[1]*k+[0]*(num_hidden_2-k) for k in k_vec])\n",
        "#     drop_mask = np.zeros([batch_size, num_hidden_2]) # comment this line to order variance\n",
        "#     drop_mask[:,:] = 1 # comment this line to order variance\n",
        "\n",
        "    _, l = sess.run([optimizer, loss], feed_dict={Drop: drop_mask})\n",
        "    # Display logs per step\n",
        "    if i % display_step == 0 or i == 1:\n",
        "        print('Step %i: Minibatch Loss: %f' % (i, l))"
      ],
      "execution_count": 0,
      "outputs": [
        {
          "output_type": "stream",
          "text": [
            "Step 1: Minibatch Loss: 1.780597\n",
            "Step 1000: Minibatch Loss: 0.340402\n",
            "Step 2000: Minibatch Loss: 0.268357\n",
            "Step 3000: Minibatch Loss: 0.238175\n",
            "Step 4000: Minibatch Loss: 0.234533\n",
            "Step 5000: Minibatch Loss: 0.171453\n",
            "Step 6000: Minibatch Loss: 0.195770\n",
            "Step 7000: Minibatch Loss: 0.222064\n",
            "Step 8000: Minibatch Loss: 0.199848\n",
            "Step 9000: Minibatch Loss: 0.188692\n",
            "Step 10000: Minibatch Loss: 0.217221\n",
            "Step 11000: Minibatch Loss: 0.210265\n",
            "Step 12000: Minibatch Loss: 0.290585\n",
            "Step 13000: Minibatch Loss: 0.191975\n",
            "Step 14000: Minibatch Loss: 0.188248\n",
            "Step 15000: Minibatch Loss: 0.163895\n",
            "Step 16000: Minibatch Loss: 0.249077\n",
            "Step 17000: Minibatch Loss: 0.187974\n",
            "Step 18000: Minibatch Loss: 0.213451\n",
            "Step 19000: Minibatch Loss: 0.218901\n",
            "Step 20000: Minibatch Loss: 0.213763\n",
            "Step 21000: Minibatch Loss: 0.242962\n",
            "Step 22000: Minibatch Loss: 0.219408\n",
            "Step 23000: Minibatch Loss: 0.198812\n",
            "Step 24000: Minibatch Loss: 0.196233\n",
            "Step 25000: Minibatch Loss: 0.201086\n",
            "Step 26000: Minibatch Loss: 0.152997\n",
            "Step 27000: Minibatch Loss: 0.223486\n",
            "Step 28000: Minibatch Loss: 0.202910\n",
            "Step 29000: Minibatch Loss: 0.151389\n",
            "Step 30000: Minibatch Loss: 0.218906\n"
          ],
          "name": "stdout"
        }
      ]
    },
    {
      "metadata": {
        "id": "ORcgJ_kXKLLC",
        "colab_type": "code",
        "colab": {}
      },
      "cell_type": "code",
      "source": [
        "drop_mask = np.zeros([batch_size, num_hidden_2])\n",
        "drop_mask[:,:] = 1\n",
        "pred_wvs, true_wvs = sess.run([y_pred, y_true], feed_dict={Drop: drop_mask })\n",
        "  "
      ],
      "execution_count": 0,
      "outputs": []
    },
    {
      "metadata": {
        "id": "ocnyAqmsM20c",
        "colab_type": "code",
        "outputId": "927ce07e-f6bb-4625-d4ad-c473c81b7779",
        "colab": {
          "base_uri": "https://localhost:8080/",
          "height": 86
        }
      },
      "cell_type": "code",
      "source": [
        "print(pred_wvs[0,:10])\n",
        "print(true_wvs[0,:10])"
      ],
      "execution_count": 0,
      "outputs": [
        {
          "output_type": "stream",
          "text": [
            "[-0.34559    -1.3104384  -2.2736752   0.0825589   0.7323696   1.5206305\n",
            " -0.64605093  0.75926596  0.81564397  0.7214125 ]\n",
            "[-0.22556876 -1.3700615  -2.2916296   0.06766227  0.62275726  1.25988\n",
            " -0.7166111   0.94250625  0.59058774  0.5902443 ]\n"
          ],
          "name": "stdout"
        }
      ]
    },
    {
      "metadata": {
        "id": "Jz3qZ3IW8l7J",
        "colab_type": "code",
        "colab": {}
      },
      "cell_type": "code",
      "source": [
        "drop_mask = np.zeros([1, num_hidden_2])\n",
        "drop_mask[:,:] = 1\n"
      ],
      "execution_count": 0,
      "outputs": []
    },
    {
      "metadata": {
        "id": "-qaqg2Mb7bTV",
        "colab_type": "code",
        "colab": {}
      },
      "cell_type": "code",
      "source": [
        "pred_wvs, true_wvs = sess.run([y_pred, y_true], feed_dict={real_data: x_collector[4,:].reshape(1,-1), Drop: drop_mask })\n"
      ],
      "execution_count": 0,
      "outputs": []
    },
    {
      "metadata": {
        "id": "p0cqk3PZ9BZ4",
        "colab_type": "code",
        "outputId": "9f84823c-686b-45ae-c671-52f6001976c6",
        "colab": {
          "base_uri": "https://localhost:8080/",
          "height": 86
        }
      },
      "cell_type": "code",
      "source": [
        "print(pred_wvs[0,:10])\n",
        "print(true_wvs[0,:10])"
      ],
      "execution_count": 0,
      "outputs": [
        {
          "output_type": "stream",
          "text": [
            "[-0.1431456  -0.10026461 -0.00703092 -0.00634107 -0.12432407 -0.01307101\n",
            " -0.12782754 -0.06495868  0.00882556  0.01148687]\n",
            "[-0.10644531 -0.07861328 -0.03662109  0.0480957  -0.06835938 -0.06933594\n",
            " -0.08789062 -0.07373047  0.01556396  0.02734375]\n"
          ],
          "name": "stdout"
        }
      ]
    },
    {
      "metadata": {
        "id": "tIfU8lO3keYf",
        "colab_type": "text"
      },
      "cell_type": "markdown",
      "source": [
        "# Calculate the prototype Conceptor"
      ]
    },
    {
      "metadata": {
        "id": "kud2kA_OkeYg",
        "colab_type": "code",
        "colab": {}
      },
      "cell_type": "code",
      "source": [
        "def protoConceptor(wordVecModel_str, alpha = 1, plotSpectrum = False):\n",
        "    # compute the prototype conceptor with alpha = 1\n",
        "    \n",
        "    \n",
        "    wordVecModel = eval(wordVecModel_str)    \n",
        "    word_in_wiki_and_model = set(list(wordVecModel.vocab)).intersection(set(wikiWords))\n",
        "\n",
        "    x_collector_indices = []\n",
        "    x_collector_column_weights = []\n",
        "\n",
        "\n",
        "    for word in word_in_wiki_and_model:\n",
        "        x_collector_indices.append(wordVecModel.vocab[word].index)\n",
        "\n",
        "    # put the word vectors in columns\n",
        "    x_collector = wordVecModel.vectors[x_collector_indices,:].T       \n",
        "        \n",
        "    \n",
        "    nrWords = x_collector.shape[1] # number of total words\n",
        "    \n",
        "    \n",
        "    R = x_collector.dot(x_collector.T) / nrWords # calculate the correlation matrix\n",
        "\n",
        "    \n",
        "    C = R @ inv(R + alpha ** (-2) * np.eye(300))# calculate the conceptor matrix\n",
        "    \n",
        "    if plotSpectrum: # visualization: plot the spectrum of the correlation matrix\n",
        "        Ux, Sx, _ = np.linalg.svd(R)\n",
        "        \n",
        "        downWeighedSigVal = Sx / np.array([ (1 + alpha * sigma2) for sigma2 in Sx])\n",
        "\n",
        "        plt.plot(np.arange(300), Sx, 'bo', alpha = 0.4,  label = 'orig ' + wordVecModel_str + ' spectrum') # here alpha is the transparency level for dots, don't get confused by the hyperparameter alpha!\n",
        "        plt.plot(np.arange(300), downWeighedSigVal, 'ro', alpha = 0.4, label = 'downweighted ' + wordVecModel_str + ' spectrum') # here alpha is the transparency level for dots, don't get confused by the hyperparameter alpha!\n",
        "\n",
        "        \n",
        "        plt.legend()\n",
        "    return C\n",
        "    \n",
        "\n",
        "\n",
        "def PHI(C, gamma):\n",
        "    # The PHI function allows us to tune the aperture (alpha) by reusing the prototype conceptor. See https://arxiv.org/pdf/1403.3369.pdf\n",
        "    dim = C.shape[0]\n",
        "    if gamma == 0:\n",
        "        U, S, _ = np.linalg.svd(C)\n",
        "        S[S < 1] = np.zeros((np.sum((S < 1).astype(float)), 1))\n",
        "        C_new = U.dot(S).dot(U.T)\n",
        "    elif gamma == np.Inf:\n",
        "        U, S, _ = np.linalg.svd(C)\n",
        "        S[S > 0] = np.zeros((np.sum((S > 0).astype(float)), 1))\n",
        "        C_new = U.dot(S).dot(U.T)\n",
        "    else:\n",
        "        C_new = C.dot(np.linalg.inv(C + gamma ** -2 * (np.eye(dim) - C)))\n",
        "\n",
        "    return C_new\n",
        "\n"
      ],
      "execution_count": 0,
      "outputs": []
    },
    {
      "metadata": {
        "id": "JyUI6OllkeYk",
        "colab_type": "code",
        "outputId": "cdb7d084-86a9-477c-ebf4-0851bc8dc84f",
        "colab": {
          "base_uri": "https://localhost:8080/",
          "height": 347
        }
      },
      "cell_type": "code",
      "source": [
        "C_proto_word2vec = protoConceptor('word2vec', plotSpectrum = True)"
      ],
      "execution_count": 0,
      "outputs": [
        {
          "output_type": "display_data",
          "data": {
            "image/png": "[encoded data removed]",
            "text/plain": [
              "<matplotlib.figure.Figure at 0x7f8ff5e0be48>"
            ]
          },
          "metadata": {
            "tags": []
          }
        }
      ]
    },
    {
      "metadata": {
        "id": "ClxPqJXBkeYq",
        "colab_type": "code",
        "outputId": "c4a066fe-7725-4c1c-f5cb-45dd4664c240",
        "colab": {
          "base_uri": "https://localhost:8080/",
          "height": 347
        }
      },
      "cell_type": "code",
      "source": [
        "C_proto_glove = protoConceptor('glove', plotSpectrum = True)"
      ],
      "execution_count": 0,
      "outputs": [
        {
          "output_type": "display_data",
          "data": {
            "image/png": "[encoded data removed]",
            "text/plain": [
              "<matplotlib.figure.Figure at 0x7f8ff5e0b978>"
            ]
          },
          "metadata": {
            "tags": []
          }
        }
      ]
    },
    {
      "metadata": {
        "id": "la7WiKrYkeYw",
        "colab_type": "text"
      },
      "cell_type": "markdown",
      "source": [
        "# Evaluate \n",
        "\n",
        "The evaluation data set are collected by Manaal Faruqui at https://github.com/mfaruqui/eval-word-vectors/tree/master/data/word-sim\n"
      ]
    },
    {
      "metadata": {
        "id": "SksK_O9sAMIo",
        "colab_type": "code",
        "outputId": "2bc43da2-d8bc-4dd6-9950-a65f7f38c2b7",
        "colab": {
          "base_uri": "https://localhost:8080/",
          "height": 86
        }
      },
      "cell_type": "code",
      "source": [
        "!git clone https://github.com/mfaruqui/eval-word-vectors"
      ],
      "execution_count": 0,
      "outputs": [
        {
          "output_type": "stream",
          "text": [
            "Cloning into 'eval-word-vectors'...\n",
            "remote: Enumerating objects: 54, done.\u001b[K\n",
            "remote: Total 54 (delta 0), reused 0 (delta 0), pack-reused 54\u001b[K\n",
            "Unpacking objects: 100% (54/54), done.\n"
          ],
          "name": "stdout"
        }
      ]
    },
    {
      "metadata": {
        "id": "T0mO8GyZkeYy",
        "colab_type": "code",
        "colab": {}
      },
      "cell_type": "code",
      "source": [
        "dataSets = ['EN-RG-65.txt', 'EN-WS-353-ALL.txt', 'EN-RW-STANFORD.txt', 'EN-MEN-TR-3k.txt', 'EN-MTurk-287.txt', 'EN-SIMLEX-999.txt', 'EN-SimVerb-3500.txt']\n",
        "\n",
        " \n",
        "\n",
        "def similarity_eval(dataSetAddress, wordVecModel_str, conceptorProj = False):\n",
        "    wordVecModel = eval(wordVecModel_str)\n",
        "    vocab = set(list(wordVecModel.vocab))\n",
        "    \n",
        "    fread_simlex = open(dataSetAddress, \"r\")\n",
        "    \n",
        "    pair_list = []\n",
        "\n",
        "    line_number = 0\n",
        "    for line in fread_simlex:\n",
        "        if line_number > 0:\n",
        "            tokens = line.split()\n",
        "            word_i = tokens[0]\n",
        "            word_j = tokens[1]\n",
        "            score = float(tokens[2])\n",
        "            if word_i in vocab and word_j in vocab:\n",
        "                pair_list.append( ((word_i, word_j), score) )\n",
        "        line_number += 1\n",
        "\n",
        "    pair_list.sort(key=lambda x: - x[1]) # order the pairs from highest score (most similar) to lowest score (least similar)\n",
        "\n",
        "\n",
        "    extracted_scores = {}\n",
        "\n",
        "    extracted_list = []\n",
        "    \n",
        "    C = np.zeros((300, 300))\n",
        "    \n",
        "    if conceptorProj:\n",
        "        C = Conceptors[wordVecModel_str]\n",
        "               \n",
        "    for (x,y) in pair_list:\n",
        "        (word_i, word_j) = x\n",
        "        \n",
        "        current_distance = cosine( wordVecModel[word_i]  - C @ wordVecModel[word_i]  , wordVecModel[word_j] - C@ wordVecModel[word_j]    )        \n",
        "\n",
        "        extracted_scores[(word_i, word_j)] = current_distance\n",
        "        extracted_list.append(((word_i, word_j), current_distance))\n",
        "\n",
        "    extracted_list.sort(key=lambda x: x[1])\n",
        "\n",
        "    spearman_original_list = []\n",
        "    spearman_target_list = []\n",
        "\n",
        "    for position_1, (word_pair, score_1) in enumerate(pair_list):\n",
        "        score_2 = extracted_scores[word_pair]\n",
        "        position_2 = extracted_list.index((word_pair, score_2))\n",
        "        spearman_original_list.append(position_1)\n",
        "        spearman_target_list.append(position_2)\n",
        "\n",
        "    spearman_rho = spearmanr(spearman_original_list, spearman_target_list)\n",
        "    \n",
        "    return spearman_rho[0]\n",
        "\n"
      ],
      "execution_count": 0,
      "outputs": []
    },
    {
      "metadata": {
        "id": "cW4JzeuFkeY4",
        "colab_type": "text"
      },
      "cell_type": "markdown",
      "source": [
        "\n"
      ]
    },
    {
      "metadata": {
        "id": "R7DjnjtHkeY6",
        "colab_type": "code",
        "colab": {}
      },
      "cell_type": "code",
      "source": [
        "\n",
        "def loadMuResult():\n",
        "## (Optional) Load the results reported in https://openreview.net/pdf?id=HkuGJ3kCb\n",
        "    w2v_mu_result = {}\n",
        "    w2v_mu_result['EN-RG-65.txt'] = 0.7834\n",
        "    w2v_mu_result['EN-WS-353-ALL.txt'] = 0.6905\n",
        "    w2v_mu_result['EN-RW-STANFORD.txt'] = 0.5433\n",
        "    w2v_mu_result['EN-MEN-TR-3k.txt'] = 0.7908\n",
        "    w2v_mu_result['EN-MTurk-287.txt'] = 0.6935\n",
        "    w2v_mu_result['EN-SIMLEX-999.txt'] = 0.4501\n",
        "    w2v_mu_result['EN-SimVerb-3500.txt'] = 0.3650\n",
        "\n",
        "\n",
        "\n",
        "    glove_mu_result = {}\n",
        "    glove_mu_result['EN-RG-65.txt'] = 0.7436\n",
        "    glove_mu_result['EN-WS-353-ALL.txt'] = 0.7679\n",
        "    glove_mu_result['EN-RW-STANFORD.txt'] = 0.5204\n",
        "    glove_mu_result['EN-MEN-TR-3k.txt'] = 0.8178\n",
        "    glove_mu_result['EN-MTurk-287.txt'] = 0.7085\n",
        "    glove_mu_result['EN-SIMLEX-999.txt'] = 0.4497\n",
        "    glove_mu_result['EN-SimVerb-3500.txt'] = 0.3223\n",
        "    \n",
        "    return w2v_mu_result, glove_mu_result\n",
        "\n",
        "\n",
        "w2v_mu_result, glove_mu_result = loadMuResult()"
      ],
      "execution_count": 0,
      "outputs": []
    },
    {
      "metadata": {
        "id": "tB8E1-ljkeY-",
        "colab_type": "text"
      },
      "cell_type": "markdown",
      "source": [
        "# Adjust the conceptor and display the quota\n",
        "\n",
        "The quota around 10% seem to perform OK"
      ]
    },
    {
      "metadata": {
        "id": "oya47gaYkeY_",
        "colab_type": "code",
        "outputId": "637798ac-412d-4ac9-83d2-0055efca902e",
        "colab": {
          "base_uri": "https://localhost:8080/",
          "height": 52
        }
      },
      "cell_type": "code",
      "source": [
        "Conceptors = {}\n",
        "beta1 = 2 # claim more quota than 1\n",
        "beta2 = 1 # no adjustment \n",
        "\n",
        "\n",
        "Conceptors['word2vec'] =  PHI(C_proto_word2vec, beta1)\n",
        "Conceptors['glove'] =  PHI(C_proto_glove, beta2) # tune the aperture\n",
        "\n",
        "\n",
        "print('Quota for word2vec conceptor is', trace(PHI(C_proto_word2vec, beta1))/300)\n",
        "print('Quota for glove conceptor is', trace(PHI(C_proto_glove, beta2))/300)\n"
      ],
      "execution_count": 0,
      "outputs": [
        {
          "output_type": "stream",
          "text": [
            "Quota for word2vec conceptor is 0.10454383790028055\n",
            "Quota for glove conceptor is 0.13167516954965094\n"
          ],
          "name": "stdout"
        }
      ]
    },
    {
      "metadata": {
        "id": "YsUaqQalkeZG",
        "colab_type": "code",
        "outputId": "39a2ba83-61b5-44bf-cdf5-20a758552202",
        "colab": {
          "base_uri": "https://localhost:8080/",
          "height": 881
        }
      },
      "cell_type": "code",
      "source": [
        "print('beta1:', beta1, 'beta2:', beta2)\n",
        "\n",
        "wordSimResult = {}\n",
        "\n",
        "\n",
        "for dataset in dataSets:\n",
        "    dataSetAddress = resourceFile + 'eval-word-vectors/data/word-sim/' + dataset\n",
        "    print('evaluating the data set', dataset)\n",
        "    \n",
        "    \n",
        "    print('Word2Vec + ABTT %.4f: ' % w2v_mu_result[dataset])\n",
        "    \n",
        "    \n",
        "    print('Word2Vec + conceptor : %.4f' %  similarity_eval(dataSetAddress, 'word2vec', conceptorProj = True))\n",
        "\n",
        "    print('Glove + ABTT %.4f: ' % glove_mu_result[dataset])\n",
        "\n",
        "    \n",
        "    print('GloVe + conceptor: %.4f'  % similarity_eval(dataSetAddress, 'glove', conceptorProj = True))\n",
        "    \n",
        "    wordSimResult['Word2Vec-'+dataset.split('.')[0]] = [ w2v_mu_result[dataset] * 100, round(similarity_eval(dataSetAddress, 'word2vec', conceptorProj = True) * 100, 2)]\n",
        "    wordSimResult['GLOVE-'+dataset.split('.')[0]] = [glove_mu_result[dataset] * 100, round(similarity_eval(dataSetAddress, 'glove', conceptorProj = True) * 100, 2)]\n",
        "\n",
        "        \n",
        "    print('\\n')"
      ],
      "execution_count": 0,
      "outputs": [
        {
          "output_type": "stream",
          "text": [
            "beta1: 2 beta2: 1\n",
            "evaluating the data set EN-RG-65.txt\n",
            "Word2Vec + ABTT 0.7834: \n",
            "Word2Vec + conceptor : -0.7892\n",
            "Glove + ABTT 0.7436: \n",
            "GloVe + conceptor: -0.7667\n",
            "\n",
            "\n",
            "evaluating the data set EN-WS-353-ALL.txt\n",
            "Word2Vec + ABTT 0.6905: \n",
            "Word2Vec + conceptor : -0.6966\n",
            "Glove + ABTT 0.7679: \n",
            "GloVe + conceptor: -0.7948\n",
            "\n",
            "\n",
            "evaluating the data set EN-RW-STANFORD.txt\n",
            "Word2Vec + ABTT 0.5433: \n",
            "Word2Vec + conceptor : -0.5521\n",
            "Glove + ABTT 0.5204: \n",
            "GloVe + conceptor: -0.5382\n",
            "\n",
            "\n",
            "evaluating the data set EN-MEN-TR-3k.txt\n",
            "Word2Vec + ABTT 0.7908: \n",
            "Word2Vec + conceptor : -0.7867\n",
            "Glove + ABTT 0.8178: \n",
            "GloVe + conceptor: -0.8316\n",
            "\n",
            "\n",
            "evaluating the data set EN-MTurk-287.txt\n",
            "Word2Vec + ABTT 0.6935: \n",
            "Word2Vec + conceptor : -0.6694\n",
            "Glove + ABTT 0.7085: \n",
            "GloVe + conceptor: -0.7226\n",
            "\n",
            "\n",
            "evaluating the data set EN-SIMLEX-999.txt\n",
            "Word2Vec + ABTT 0.4501: \n",
            "Word2Vec + conceptor : -0.4678\n",
            "Glove + ABTT 0.4497: \n",
            "GloVe + conceptor: -0.4651\n",
            "\n",
            "\n",
            "evaluating the data set EN-SimVerb-3500.txt\n",
            "Word2Vec + ABTT 0.3650: \n",
            "Word2Vec + conceptor : -0.3853\n",
            "Glove + ABTT 0.3223: \n",
            "GloVe + conceptor: -0.3486\n",
            "\n",
            "\n"
          ],
          "name": "stdout"
        }
      ]
    },
    {
      "metadata": {
        "id": "xW3ja4o4keZP",
        "colab_type": "code",
        "colab": {}
      },
      "cell_type": "code",
      "source": [
        "import pandas as pd\n",
        "\n",
        "wordSimResult_df = pd.DataFrame(wordSimResult, index = ['all-but-the-top', 'conceptor'] ).T"
      ],
      "execution_count": 0,
      "outputs": []
    },
    {
      "metadata": {
        "id": "kbE2RFehkeZT",
        "colab_type": "code",
        "outputId": "54cdcc69-fe09-4caa-ffbe-b8cfa6127311",
        "colab": {
          "base_uri": "https://localhost:8080/",
          "height": 501
        }
      },
      "cell_type": "code",
      "source": [
        "ax = wordSimResult_df.plot(kind=\"bar\")\n",
        "ax.legend(loc=\"best\")\n",
        "ax.set_ylim(20,100)\n",
        "ax.set_ylabel(\"Pearson correlation coefficient x 100\")\n"
      ],
      "execution_count": 0,
      "outputs": [
        {
          "output_type": "execute_result",
          "data": {
            "text/plain": [
              "Text(0,0.5,'Pearson correlation coefficient x 100')"
            ]
          },
          "metadata": {
            "tags": []
          },
          "execution_count": 35
        },
        {
          "output_type": "display_data",
          "data": {
            "image/png": "[encoded data removed]",
            "text/plain": [
              "<matplotlib.figure.Figure at 0x7f90b79e8908>"
            ]
          },
          "metadata": {
            "tags": []
          }
        }
      ]
    }
  ]
}