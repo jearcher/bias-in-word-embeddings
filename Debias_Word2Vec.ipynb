{
  "nbformat": 4,
  "nbformat_minor": 0,
  "metadata": {
    "colab": {
      "name": "Debias_Word2Vec.ipynb",
      "provenance": [],
      "collapsed_sections": [],
      "machine_shape": "hm",
      "include_colab_link": true
    },
    "kernelspec": {
      "display_name": "Python 3",
      "language": "python",
      "name": "python3"
    },
    "language_info": {
      "codemirror_mode": {
        "name": "ipython",
        "version": 3
      },
      "file_extension": ".py",
      "mimetype": "text/x-python",
      "name": "python",
      "nbconvert_exporter": "python",
      "pygments_lexer": "ipython3",
      "version": "3.8.3"
    }
  },
  "cells": [
    {
      "cell_type": "markdown",
      "metadata": {
        "id": "view-in-github",
        "colab_type": "text"
      },
      "source": [
        "<a href=\"https://colab.research.google.com/github/jearcher/bias-in-word-embeddings/blob/colab_style/Debias_Word2Vec.ipynb\" target=\"_parent\"><img src=\"https://colab.research.google.com/assets/colab-badge.svg\" alt=\"Open In Colab\"/></a>"
      ]
    },
    {
      "cell_type": "code",
      "metadata": {
        "id": "bY4RMFQxrWyv"
      },
      "source": [
        "import numpy as np\n",
        "from itertools import combinations, filterfalse\n",
        "from sklearn.metrics.pairwise import cosine_similarity\n",
        "from gensim.models.keyedvectors import KeyedVectors\n",
        "import pandas as pd\n",
        "import random\n",
        "import sys\n",
        "import os\n",
        "import pickle\n",
        "\n"
      ],
      "execution_count": 1,
      "outputs": []
    },
    {
      "cell_type": "code",
      "metadata": {
        "colab": {
          "base_uri": "https://localhost:8080/"
        },
        "id": "Qf9l-jHMmuKs",
        "outputId": "70fdac17-9853-4f65-c162-afe474e6ac19"
      },
      "source": [
        "# Update repo with any changes from github \n",
        "!rm -r /content/bias-in-word-embeddings\n",
        "!git clone https://github.com/jearcher/bias-in-word-embeddings.git"
      ],
      "execution_count": 2,
      "outputs": [
        {
          "output_type": "stream",
          "text": [
            "rm: cannot remove '/content/bias-in-word-embeddings': No such file or directory\n",
            "Cloning into 'bias-in-word-embeddings'...\n",
            "remote: Enumerating objects: 254, done.\u001b[K\n",
            "remote: Counting objects: 100% (254/254), done.\u001b[K\n",
            "remote: Compressing objects: 100% (192/192), done.\u001b[K\n",
            "remote: Total 254 (delta 74), reused 229 (delta 50), pack-reused 0\u001b[K\n",
            "Receiving objects: 100% (254/254), 20.04 MiB | 22.48 MiB/s, done.\n",
            "Resolving deltas: 100% (74/74), done.\n"
          ],
          "name": "stdout"
        }
      ]
    },
    {
      "cell_type": "code",
      "metadata": {
        "colab": {
          "base_uri": "https://localhost:8080/"
        },
        "id": "b1kWKD34kQFr",
        "outputId": "9e2b78db-745d-4a7e-8c03-26d9c8160e72"
      },
      "source": [
        "# Pull the colab-specific files\n",
        "!cd '/content/bias-in-word-embeddings' && git checkout -B colab_style && git pull origin colab_style\n"
      ],
      "execution_count": 3,
      "outputs": [
        {
          "output_type": "stream",
          "text": [
            "Switched to a new branch 'colab_style'\n",
            "From https://github.com/jearcher/bias-in-word-embeddings\n",
            " * branch            colab_style -> FETCH_HEAD\n",
            "Updating 59fc8e8..7dc49bb\n",
            "Fast-forward\n",
            " ConceptorDebias/lists/load_word_lists.py | 16 \u001b[32m++++++++\u001b[m\u001b[31m--------\u001b[m\n",
            " 1 file changed, 8 insertions(+), 8 deletions(-)\n"
          ],
          "name": "stdout"
        }
      ]
    },
    {
      "cell_type": "code",
      "metadata": {
        "id": "AN6yr7A5nD2U"
      },
      "source": [
        "sys.path.append('/content/bias-in-word-embeddings/')\n",
        "sys.path.append('/content/bias-in-word-embeddings/ConceptorDebias/')"
      ],
      "execution_count": 4,
      "outputs": []
    },
    {
      "cell_type": "code",
      "metadata": {
        "colab": {
          "base_uri": "https://localhost:8080/"
        },
        "id": "_NcLIk7DnWVD",
        "outputId": "6182195d-bf4e-4904-9e02-ecf014560f4a"
      },
      "source": [
        "sys.path.append('//content/bias-in-word-embeddings/SIF/auxiliary_data/enwiki_vocab_min200.txt')\n",
        "sys.path"
      ],
      "execution_count": 5,
      "outputs": [
        {
          "output_type": "execute_result",
          "data": {
            "text/plain": [
              "['',\n",
              " '/content',\n",
              " '/env/python',\n",
              " '/usr/lib/python37.zip',\n",
              " '/usr/lib/python3.7',\n",
              " '/usr/lib/python3.7/lib-dynload',\n",
              " '/usr/local/lib/python3.7/dist-packages',\n",
              " '/usr/lib/python3/dist-packages',\n",
              " '/usr/local/lib/python3.7/dist-packages/IPython/extensions',\n",
              " '/root/.ipython',\n",
              " '/content/bias-in-word-embeddings/',\n",
              " '/content/bias-in-word-embeddings/ConceptorDebias/',\n",
              " '//content/bias-in-word-embeddings/SIF/auxiliary_data/enwiki_vocab_min200.txt']"
            ]
          },
          "metadata": {
            "tags": []
          },
          "execution_count": 5
        }
      ]
    },
    {
      "cell_type": "code",
      "metadata": {
        "id": "Kgi16uBdqj6X"
      },
      "source": [
        "# Helper functions\n",
        "\n",
        "# Import local functions\n",
        "from WEAT_functions import *\n",
        "from Other_fxns import *\n"
      ],
      "execution_count": 6,
      "outputs": []
    },
    {
      "cell_type": "markdown",
      "metadata": {
        "id": "GZOXXQYIms9w"
      },
      "source": [
        "## Load Word Lists used for Debias"
      ]
    },
    {
      "cell_type": "code",
      "metadata": {
        "id": "wvnV8EZSms9w"
      },
      "source": [
        "# Conceptor Debias word lists /content/bias-in-word-embeddings/enwiki-20190320-words-frequency.txt\n",
        "#sys.path.append('/content/')\n",
        "from lists.load_word_lists import * "
      ],
      "execution_count": 7,
      "outputs": []
    },
    {
      "cell_type": "markdown",
      "metadata": {
        "id": "NbRMmhwbGL98"
      },
      "source": [
        "## Load Word2Vec into Gensim Object"
      ]
    },
    {
      "cell_type": "code",
      "metadata": {
        "id": "Xo6fUdelrWy6"
      },
      "source": [
        "!cd /content/bias-in-word-embeddings && mkdir data"
      ],
      "execution_count": 8,
      "outputs": []
    },
    {
      "cell_type": "code",
      "metadata": {
        "id": "EI3Qls7XuMzf"
      },
      "source": [
        "!cd /content/bias-in-word-embeddings/data && mkdir embeddings"
      ],
      "execution_count": 9,
      "outputs": []
    },
    {
      "cell_type": "code",
      "metadata": {
        "id": "Mv-BBRRxuddC"
      },
      "source": [
        "!cd /content/bias-in-word-embeddings/data/embeddings/ && mkdir Word2Vec"
      ],
      "execution_count": 10,
      "outputs": []
    },
    {
      "cell_type": "code",
      "metadata": {
        "colab": {
          "base_uri": "https://localhost:8080/"
        },
        "id": "96l45_v0unaD",
        "outputId": "97fb661a-f323-4dcb-c544-1c8d91b1904b"
      },
      "source": [
        "!cd /content/bias-in-word-embeddings/data/embeddings/Word2Vec/ && curl -o GoogleNews-vectors-negative300.bin.gz https://storage.googleapis.com/word-embedding-bias/Word2Vec/GoogleNews-vectors-negative300.bin.gz"
      ],
      "execution_count": 11,
      "outputs": [
        {
          "output_type": "stream",
          "text": [
            "  % Total    % Received % Xferd  Average Speed   Time    Time     Time  Current\n",
            "                                 Dload  Upload   Total   Spent    Left  Speed\n",
            "100 1570M  100 1570M    0     0   216M      0  0:00:07  0:00:07 --:--:--  223M\n"
          ],
          "name": "stdout"
        }
      ]
    },
    {
      "cell_type": "code",
      "metadata": {
        "colab": {
          "base_uri": "https://localhost:8080/"
        },
        "id": "wPeTTYySms9x",
        "outputId": "1ea1159a-06a0-48a0-e2cd-c34c4b949881"
      },
      "source": [
        "Word_2Vec = KeyedVectors.load_word2vec_format('/content/bias-in-word-embeddings/data/embeddings/Word2Vec/GoogleNews-vectors-negative300.bin.gz', \n",
        "                                          binary = True)\n",
        "\n",
        "\n",
        "print(\"Word2Vec (Google News) embedding has been loaded.\")\n"
      ],
      "execution_count": 12,
      "outputs": [
        {
          "output_type": "stream",
          "text": [
            "Word2Vec (Google News) embedding has been loaded.\n"
          ],
          "name": "stdout"
        }
      ]
    },
    {
      "cell_type": "markdown",
      "metadata": {
        "id": "Q1ahSZ2Fms9y"
      },
      "source": [
        "## Combine lists for WEAT evaluation\n"
      ]
    },
    {
      "cell_type": "code",
      "metadata": {
        "id": "soeL6xLems90"
      },
      "source": [
        "\"\"\"Load list of pronouns representing the 'Pronoun' subspace for gender debiasing\"\"\"\n",
        "gender_list_pronouns = WEATLists.W_7_Male_terms + WEATLists.W_7_Female_terms + WEATLists.W_8_Male_terms + WEATLists.W_8_Female_terms\n",
        "gender_list_pronouns = list(set(gender_list_pronouns))\n",
        "\n",
        "\"\"\"Load an extended list of words representing the gender subspace for gender debiasing\"\"\"\n",
        "gender_list_extended = male_vino_extra + female_vino_extra + male_gnGlove + female_gnGlove\n",
        "gender_list_extended = list(set(gender_list_extended))\n",
        "\n",
        "\"\"\"Load list of proper nouns representing the 'Proper Noun' subspace for gender debiasing\"\"\"\n",
        "gender_list_propernouns = male_cmu + female_cmu\n",
        "gender_list_propernouns = list(set(gender_list_propernouns))\n",
        "\n",
        "\"\"\"Load list of all representing the gender subspace for gender debiasing\"\"\"\n",
        "gender_list_all = gender_list_pronouns + gender_list_extended + gender_list_propernouns\n",
        "gender_list_all = list(set(gender_list_all))\n",
        "\n",
        "\"\"\"Load list of common black and white names for racial debiasing\"\"\"\n",
        "race_list = WEATLists.W_3_Unused_full_list_European_American_names + WEATLists.W_3_European_American_names + WEATLists.W_3_Unused_full_list_African_American_names + WEATLists.W_3_African_American_names + WEATLists.W_4_Unused_full_list_European_American_names + WEATLists.W_4_European_American_names + WEATLists.W_4_Unused_full_list_African_American_names + WEATLists.W_4_African_American_names + WEATLists.W_5_Unused_full_list_European_American_names + WEATLists.W_5_European_American_names + WEATLists.W_5_Unused_full_list_African_American_names + WEATLists.W_5_African_American_names \n",
        "race_list = list(set(race_list))"
      ],
      "execution_count": 13,
      "outputs": []
    },
    {
      "cell_type": "markdown",
      "metadata": {
        "id": "hXTO0l2nms91"
      },
      "source": [
        "## Initialize Variables"
      ]
    },
    {
      "cell_type": "code",
      "metadata": {
        "id": "SW54Igkxms93"
      },
      "source": [
        "resourceFile = ''\n",
        "wikiWordsPath = resourceFile + '/content/bias-in-word-embeddings/SIF/auxiliary_data/enwiki_vocab_min200.txt' # https://github.com/PrincetonML/SIF/blob/master/auxiliary_data/enwiki_vocab_min200.txt\n",
        "\n",
        "\"\"\"Set the embedding to be used\"\"\"\n",
        "embd = 'Word_2Vec'\n",
        "\n",
        "\"\"\"Set the subspace to be tested on\"\"\"\n",
        "subspace = 'gender_list_all' \n",
        "\n",
        "\"\"\"Load association and target word pairs\"\"\"\n",
        "X = WEATLists.W_8_Science\n",
        "Y = WEATLists.W_8_Arts\n",
        "A = WEATLists.W_8_Male_terms\n",
        "B = WEATLists.W_8_Female_terms"
      ],
      "execution_count": 14,
      "outputs": []
    },
    {
      "cell_type": "code",
      "metadata": {
        "colab": {
          "base_uri": "https://localhost:8080/"
        },
        "id": "1KK8nbSWms93",
        "outputId": "b5c227ed-9521-4a08-df0f-c77dbdf269ce"
      },
      "source": [
        "eval(embd)"
      ],
      "execution_count": 15,
      "outputs": [
        {
          "output_type": "execute_result",
          "data": {
            "text/plain": [
              "<gensim.models.keyedvectors.Word2VecKeyedVectors at 0x7fc02411a950>"
            ]
          },
          "metadata": {
            "tags": []
          },
          "execution_count": 15
        }
      ]
    },
    {
      "cell_type": "code",
      "metadata": {
        "id": "6boQ7rkYms94"
      },
      "source": [
        "curr_embd = eval(embd)\n",
        "all_words_index, all_words_mat = load_all_vectors(curr_embd, wikiWordsPath)"
      ],
      "execution_count": 16,
      "outputs": []
    },
    {
      "cell_type": "markdown",
      "metadata": {
        "id": "NafGvpSUms94"
      },
      "source": [
        "## Compute Conceptor"
      ]
    },
    {
      "cell_type": "code",
      "metadata": {
        "colab": {
          "base_uri": "https://localhost:8080/"
        },
        "id": "YQ0AOAljms94",
        "outputId": "5cf6e015-2454-412e-e741-9eda3761b751"
      },
      "source": [
        "\"\"\"Load the vectors for the words representing the subspace as a matrix and compute the respetive conceptor matrix\"\"\"\n",
        "if subspace != 'without_conceptor':\n",
        "  subspace_words_list = eval(subspace)\n",
        "  if subspace == 'gender_list_and':\n",
        "    if embd == 'elmo':\n",
        "      subspace_words_mat1 = load_subspace_vectors_contextual(all_words_mat, all_words_index, gender_list_pronouns)\n",
        "      cn1 = process_cn_matrix(np.array(subspace_words_mat1).T, alpha = 8)\n",
        "\n",
        "      subspace_words_mat2 = load_subspace_vectors_contextual(all_words_mat, all_words_index, gender_list_extended)\n",
        "      cn2 = process_cn_matrix(np.array(subspace_words_mat2).T, alpha = 3)\n",
        "\n",
        "      subspace_words_mat3 = load_subspace_vectors_contextual(all_words_mat, all_words_index, gender_list_propernouns)\n",
        "      cn3 = process_cn_matrix(np.array(subspace_words_mat3).T, alpha = 10)\n",
        "\n",
        "      cn = AND(cn1, AND(cn2, cn3))\n",
        "    elif embd == 'bert':\n",
        "      cn1 = load_bert_conceptor(all_dict, gender_list_pronouns)\n",
        "      \n",
        "      cn2 = load_bert_conceptor(all_dict, gender_list_extended)\n",
        "      \n",
        "      cn3 = load_bert_conceptor(all_dict, gender_list_propernouns)\n",
        "      \n",
        "      cn = AND(cn1, AND(cn2, cn3))\n",
        "    else:\n",
        "      subspace_words_mat1 = load_subspace_vectors(curr_embd, gender_list_pronouns)\n",
        "      cn1 = process_cn_matrix(np.array(subspace_words_mat1).T)\n",
        "\n",
        "      subspace_words_mat2 = load_subspace_vectors(curr_embd, gender_list_extended)\n",
        "      cn2 = process_cn_matrix(np.array(subspace_words_mat2).T)\n",
        "\n",
        "      subspace_words_mat3 = load_subspace_vectors(curr_embd, gender_list_propernouns)\n",
        "      cn3 = process_cn_matrix(np.array(subspace_words_mat3).T)\n",
        "\n",
        "      cn = AND(cn1, AND(cn2, cn3))\n",
        "  else: \n",
        "    if embd == 'elmo':\n",
        "      subspace_words_mat = load_subspace_vectors_contextual(all_words_mat, all_words_index, subspace_words_list)\n",
        "      cn = process_cn_matrix(np.array(subspace_words_mat).T, alpha = 6)\n",
        "    elif embd == 'bert':\n",
        "      cn = load_bert_conceptor(all_dict, subspace)\n",
        "    else:\n",
        "      subspace_words_mat = load_subspace_vectors(curr_embd, subspace_words_list)\n",
        "      cn = process_cn_matrix(np.array(subspace_words_mat).T)"
      ],
      "execution_count": 17,
      "outputs": [
        {
          "output_type": "stream",
          "text": [
            "starting...\n",
            "(300, 7115)\n",
            "R calculated\n",
            "C calculated\n"
          ],
          "name": "stdout"
        }
      ]
    },
    {
      "cell_type": "markdown",
      "metadata": {
        "id": "1Ti2z0Ulms95"
      },
      "source": [
        "## Compute Conceptored Embeddings\n"
      ]
    },
    {
      "cell_type": "code",
      "metadata": {
        "id": "ILNANs4pms96"
      },
      "source": [
        "\"\"\"Conceptor all embeddings\"\"\"\n",
        "all_words_cn = apply_conceptor(np.array(all_words_mat).T, np.array(cn))\n",
        "\n",
        "\"\"\"Store all conceptored words in a dictonary\"\"\"\n",
        "all_words = {}\n",
        "for word, index in all_words_index.items():\n",
        "  if embd == 'elmo':\n",
        "    all_words[word] = np.mean([all_words_cn[i,:] for i in index], axis = 0)\n",
        "  else:\n",
        "    all_words[word] = all_words_cn[index,:]"
      ],
      "execution_count": 18,
      "outputs": []
    },
    {
      "cell_type": "markdown",
      "metadata": {
        "id": "wglbql_Wms97"
      },
      "source": [
        "## Calculate WEAT"
      ]
    },
    {
      "cell_type": "code",
      "metadata": {
        "colab": {
          "base_uri": "https://localhost:8080/"
        },
        "id": "GQBkzf3Fms97",
        "outputId": "5b62746f-9ada-4205-eb3c-c86e97db1565"
      },
      "source": [
        "# Before Debias \n",
        "pre = weat_effect_size(X, Y, A, B, Word_2Vec)\n",
        "\n",
        "d = weat_effect_size(X, Y, A, B, all_words)\n",
        "# p = weat_p_value(X, Y, A, B, all_words, 1000)\n",
        "\n",
        "print('WEAT on original Word2Vec = ', pre)\n",
        "print('WEAT on Debias Word2Vec = ', d)"
      ],
      "execution_count": 19,
      "outputs": [
        {
          "output_type": "stream",
          "text": [
            "WEAT on original Word2Vec =  1.158717\n",
            "WEAT on Debias Word2Vec =  0.6567465558181949\n"
          ],
          "name": "stdout"
        }
      ]
    },
    {
      "cell_type": "markdown",
      "metadata": {
        "id": "9VgLUmfdkua-"
      },
      "source": [
        "# Evaluate on `VECTO` benchmarks\n",
        "https://vecto.readthedocs.io/en/docs/tutorial/evaluating.html"
      ]
    },
    {
      "cell_type": "code",
      "metadata": {
        "id": "Y7h0dTjzk5yA"
      },
      "source": [
        "# Save embeddings\n",
        "# Debiased embeddings are in dictionary format\n",
        "# Convert to word2vec format"
      ],
      "execution_count": 20,
      "outputs": []
    },
    {
      "cell_type": "code",
      "metadata": {
        "id": "Omzn1P9rqXCi"
      },
      "source": [
        "ordered_vocab = [(term, voc.index, voc.count) for term, voc in Word_2Vec.vocab.items()]\n",
        "ordered_vocab = sorted(ordered_vocab, key=lambda k: k[2])\n",
        "ordered_terms, term_indices, term_counts = zip(*ordered_vocab)\n",
        "word_vectors = pd.DataFrame(Word_2Vec.vectors[term_indices, :], index=ordered_terms)"
      ],
      "execution_count": 21,
      "outputs": []
    },
    {
      "cell_type": "code",
      "metadata": {
        "id": "XS-Ygrk2q8bl"
      },
      "source": [
        "# #Computing the correlation matrix\n",
        "# X_corr=word_vectors.corr()\n",
        "\n",
        "# #Computing eigen values and eigen vectors\n",
        "# values,vectors=np.linalg.eig(X_corr)\n",
        "\n",
        "# #Sorting the eigen vectors coresponding to eigen values in descending order\n",
        "# args = (-values).argsort()\n",
        "# values = vectors[args]\n",
        "# vectors = vectors[:, args]\n",
        "\n",
        "# #Taking first 2 components which explain maximum variance for projecting\n",
        "# new_vectors=vectors[:,:2]\n",
        "\n",
        "# #Projecting it onto new dimesion with 2 axis\n",
        "# neww_X=np.dot(X,new_vectors)"
      ],
      "execution_count": 22,
      "outputs": []
    },
    {
      "cell_type": "code",
      "metadata": {
        "colab": {
          "base_uri": "https://localhost:8080/",
          "height": 241
        },
        "id": "bCmYnQKL1o-K",
        "outputId": "6e1ff94b-3ecd-4358-c844-0f1d01694267"
      },
      "source": [
        "import matplotlib.pyplot as plt\n",
        "plt.figure(figsize=(13,7))\n",
        "plt.scatter(neww_X[:,0],neww_X[:,1],linewidths=10,color='blue')\n",
        "plt.xlabel(\"PC1\",size=15)\n",
        "plt.ylabel(\"PC2\",size=15)\n",
        "plt.title(\"Word Embedding Space\",size=20)\n",
        "vocab=list(model.wv.vocab)\n",
        "for i, word in enumerate(vocab):\n",
        "  plt.annotate(word,xy=(neww_X[i,0],neww_X[i,1]))"
      ],
      "execution_count": 23,
      "outputs": [
        {
          "output_type": "error",
          "ename": "NameError",
          "evalue": "ignored",
          "traceback": [
            "\u001b[0;31m---------------------------------------------------------------------------\u001b[0m",
            "\u001b[0;31mNameError\u001b[0m                                 Traceback (most recent call last)",
            "\u001b[0;32m<ipython-input-23-ef374d75fd0a>\u001b[0m in \u001b[0;36m<module>\u001b[0;34m()\u001b[0m\n\u001b[1;32m      1\u001b[0m \u001b[0;32mimport\u001b[0m \u001b[0mmatplotlib\u001b[0m\u001b[0;34m.\u001b[0m\u001b[0mpyplot\u001b[0m \u001b[0;32mas\u001b[0m \u001b[0mplt\u001b[0m\u001b[0;34m\u001b[0m\u001b[0;34m\u001b[0m\u001b[0m\n\u001b[1;32m      2\u001b[0m \u001b[0mplt\u001b[0m\u001b[0;34m.\u001b[0m\u001b[0mfigure\u001b[0m\u001b[0;34m(\u001b[0m\u001b[0mfigsize\u001b[0m\u001b[0;34m=\u001b[0m\u001b[0;34m(\u001b[0m\u001b[0;36m13\u001b[0m\u001b[0;34m,\u001b[0m\u001b[0;36m7\u001b[0m\u001b[0;34m)\u001b[0m\u001b[0;34m)\u001b[0m\u001b[0;34m\u001b[0m\u001b[0;34m\u001b[0m\u001b[0m\n\u001b[0;32m----> 3\u001b[0;31m \u001b[0mplt\u001b[0m\u001b[0;34m.\u001b[0m\u001b[0mscatter\u001b[0m\u001b[0;34m(\u001b[0m\u001b[0mneww_X\u001b[0m\u001b[0;34m[\u001b[0m\u001b[0;34m:\u001b[0m\u001b[0;34m,\u001b[0m\u001b[0;36m0\u001b[0m\u001b[0;34m]\u001b[0m\u001b[0;34m,\u001b[0m\u001b[0mneww_X\u001b[0m\u001b[0;34m[\u001b[0m\u001b[0;34m:\u001b[0m\u001b[0;34m,\u001b[0m\u001b[0;36m1\u001b[0m\u001b[0;34m]\u001b[0m\u001b[0;34m,\u001b[0m\u001b[0mlinewidths\u001b[0m\u001b[0;34m=\u001b[0m\u001b[0;36m10\u001b[0m\u001b[0;34m,\u001b[0m\u001b[0mcolor\u001b[0m\u001b[0;34m=\u001b[0m\u001b[0;34m'blue'\u001b[0m\u001b[0;34m)\u001b[0m\u001b[0;34m\u001b[0m\u001b[0;34m\u001b[0m\u001b[0m\n\u001b[0m\u001b[1;32m      4\u001b[0m \u001b[0mplt\u001b[0m\u001b[0;34m.\u001b[0m\u001b[0mxlabel\u001b[0m\u001b[0;34m(\u001b[0m\u001b[0;34m\"PC1\"\u001b[0m\u001b[0;34m,\u001b[0m\u001b[0msize\u001b[0m\u001b[0;34m=\u001b[0m\u001b[0;36m15\u001b[0m\u001b[0;34m)\u001b[0m\u001b[0;34m\u001b[0m\u001b[0;34m\u001b[0m\u001b[0m\n\u001b[1;32m      5\u001b[0m \u001b[0mplt\u001b[0m\u001b[0;34m.\u001b[0m\u001b[0mylabel\u001b[0m\u001b[0;34m(\u001b[0m\u001b[0;34m\"PC2\"\u001b[0m\u001b[0;34m,\u001b[0m\u001b[0msize\u001b[0m\u001b[0;34m=\u001b[0m\u001b[0;36m15\u001b[0m\u001b[0;34m)\u001b[0m\u001b[0;34m\u001b[0m\u001b[0;34m\u001b[0m\u001b[0m\n",
            "\u001b[0;31mNameError\u001b[0m: name 'neww_X' is not defined"
          ]
        },
        {
          "output_type": "display_data",
          "data": {
            "text/plain": [
              "<Figure size 936x504 with 0 Axes>"
            ]
          },
          "metadata": {
            "tags": []
          }
        }
      ]
    },
    {
      "cell_type": "markdown",
      "metadata": {
        "id": "CGHyKl3T5wfh"
      },
      "source": [
        "# Visualize embeddings using PCA"
      ]
    },
    {
      "cell_type": "code",
      "metadata": {
        "id": "2R06Uc3mwqar"
      },
      "source": [
        "import matplotlib.pyplot as plt\n",
        "import gensim.downloader as api\n",
        "from sklearn.decomposition import PCA"
      ],
      "execution_count": 24,
      "outputs": []
    },
    {
      "cell_type": "code",
      "metadata": {
        "id": "CDT_6hvd58-K"
      },
      "source": [
        "terms = WEATLists.W_8_Science + WEATLists.W_8_Arts + gender_list_pronouns\n",
        "small_embedding = [Word_2Vec[term] for term in terms ]\n",
        "pca = PCA(n_components=2)\n",
        "data = pca.fit_transform(small_embedding).transpose()\n",
        "x, y = data[0], data[1]"
      ],
      "execution_count": 72,
      "outputs": []
    },
    {
      "cell_type": "code",
      "metadata": {
        "colab": {
          "base_uri": "https://localhost:8080/",
          "height": 434
        },
        "id": "mKWMddX06P8q",
        "outputId": "8c5e73ec-60d0-4ac8-bc4f-b95971d48934"
      },
      "source": [
        "\n",
        "\n",
        "fig, ax = plt.subplots(figsize=(15, 8))\n",
        "ax.scatter(x, y, c='r')\n",
        "for i, term in enumerate(terms):\n",
        "    ax.annotate(term, (x[i], y[i]))\n",
        "plt.xlabel('x')\n",
        "plt.ylabel('y')\n",
        "plt.title(\"PCA Visualization for selected gender and Science/Arts terms using Word2Vec\")\n",
        "plt.show()"
      ],
      "execution_count": 80,
      "outputs": [
        {
          "output_type": "display_data",
          "data": {
            "image/png": "[encoded data removed]",
            "text/plain": [
              "<Figure size 1080x576 with 1 Axes>"
            ]
          },
          "metadata": {
            "tags": [],
            "needs_background": "light"
          }
        }
      ]
    },
    {
      "cell_type": "code",
      "metadata": {
        "id": "Fy4e_Ip_7SGq"
      },
      "source": [
        "\n",
        "small_embedding_debias = [value for key, value in all_words.items() if key in terms]\n",
        "\n",
        "pca_debias = PCA(n_components=2)\n",
        "data_debias = pca.fit_transform(small_embedding_debias).transpose()\n",
        "x_debias, y_debias = data_debias[0], data_debias[1]"
      ],
      "execution_count": 74,
      "outputs": []
    },
    {
      "cell_type": "code",
      "metadata": {
        "colab": {
          "base_uri": "https://localhost:8080/",
          "height": 441
        },
        "id": "zSv8j3_J8RwW",
        "outputId": "f48683f4-c204-417b-ab75-8a10bac8df93"
      },
      "source": [
        "\n",
        "fig, ax = plt.subplots(figsize=(15, 8))\n",
        "ax.scatter(x_debias, y_debias, c='g')\n",
        "for i, term in enumerate(terms):\n",
        "  if i<35:\n",
        "    ax.annotate(term, (x_debias[i], y_debias[i]))\n",
        "  continue\n",
        "plt.xlabel('PC1')\n",
        "plt.ylabel('PC2')\n",
        "plt.title(\"PCA Visualization for selected gender and Science/Arts terms using DEBIASED Word2Vec\")\n",
        "\n",
        "plt.show()"
      ],
      "execution_count": 83,
      "outputs": [
        {
          "output_type": "display_data",
          "data": {
            "image/png": "[encoded data removed]",
            "text/plain": [
              "<Figure size 1080x576 with 1 Axes>"
            ]
          },
          "metadata": {
            "tags": [],
            "needs_background": "light"
          }
        }
      ]
    },
    {
      "cell_type": "code",
      "metadata": {
        "id": "WcbCH2b-8vVu"
      },
      "source": [
        ""
      ],
      "execution_count": null,
      "outputs": []
    },
    {
      "cell_type": "code",
      "metadata": {
        "colab": {
          "base_uri": "https://localhost:8080/"
        },
        "id": "KH-WMkIe9i2L",
        "outputId": "f70e12f7-21d6-42d7-be6f-f27af3d15448"
      },
      "source": [
        "np.array(small_embedding_debias).shape"
      ],
      "execution_count": 76,
      "outputs": [
        {
          "output_type": "execute_result",
          "data": {
            "text/plain": [
              "(35, 300)"
            ]
          },
          "metadata": {
            "tags": []
          },
          "execution_count": 76
        }
      ]
    },
    {
      "cell_type": "code",
      "metadata": {
        "colab": {
          "base_uri": "https://localhost:8080/"
        },
        "id": "X1jbf755-f1S",
        "outputId": "ab8f6b22-2bcc-4db8-e8aa-6b49f4ee549b"
      },
      "source": [
        "np.array(small_embedding).shape"
      ],
      "execution_count": 77,
      "outputs": [
        {
          "output_type": "execute_result",
          "data": {
            "text/plain": [
              "(38, 300)"
            ]
          },
          "metadata": {
            "tags": []
          },
          "execution_count": 77
        }
      ]
    },
    {
      "cell_type": "code",
      "metadata": {
        "id": "EsmRpPjQ_CE1"
      },
      "source": [
        ""
      ],
      "execution_count": null,
      "outputs": []
    }
  ]
}