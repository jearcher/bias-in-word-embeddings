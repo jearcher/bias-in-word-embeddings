{
  "nbformat": 4,
  "nbformat_minor": 0,
  "metadata": {
    "colab": {
      "name": "Debias_Word-node2Vec.ipynb",
      "provenance": [],
      "collapsed_sections": [],
      "machine_shape": "hm",
      "include_colab_link": true
    },
    "kernelspec": {
      "display_name": "Python 3",
      "language": "python",
      "name": "python3"
    },
    "language_info": {
      "codemirror_mode": {
        "name": "ipython",
        "version": 3
      },
      "file_extension": ".py",
      "mimetype": "text/x-python",
      "name": "python",
      "nbconvert_exporter": "python",
      "pygments_lexer": "ipython3",
      "version": "3.8.3"
    }
  },
  "cells": [
    {
      "cell_type": "markdown",
      "metadata": {
        "id": "view-in-github",
        "colab_type": "text"
      },
      "source": [
        "<a href=\"https://colab.research.google.com/github/jearcher/bias-in-word-embeddings/blob/colab_style/Debias_Word_node2Vec.ipynb\" target=\"_parent\"><img src=\"https://colab.research.google.com/assets/colab-badge.svg\" alt=\"Open In Colab\"/></a>"
      ]
    },
    {
      "cell_type": "code",
      "metadata": {
        "id": "bY4RMFQxrWyv"
      },
      "source": [
        "#@title imports\n",
        "import numpy as np\n",
        "from itertools import combinations, filterfalse\n",
        "from sklearn.metrics.pairwise import cosine_similarity\n",
        "from gensim.models.keyedvectors import KeyedVectors\n",
        "import pandas as pd\n",
        "import random\n",
        "import sys\n",
        "import os\n",
        "import pickle\n",
        "\n"
      ],
      "execution_count": null,
      "outputs": []
    },
    {
      "cell_type": "code",
      "metadata": {
        "colab": {
          "base_uri": "https://localhost:8080/"
        },
        "id": "Qf9l-jHMmuKs",
        "outputId": "13341766-aca8-4a83-c021-34551716f532"
      },
      "source": [
        "# Update repo with any changes from github \n",
        "!git clone https://github.com/jearcher/bias-in-word-embeddings.git\n"
      ],
      "execution_count": null,
      "outputs": [
        {
          "output_type": "stream",
          "text": [
            "Cloning into 'bias-in-word-embeddings'...\n",
            "remote: Enumerating objects: 269, done.\u001b[K\n",
            "remote: Counting objects: 100% (269/269), done.\u001b[K\n",
            "remote: Compressing objects: 100% (209/209), done.\u001b[K\n",
            "remote: Total 269 (delta 80), reused 226 (delta 48), pack-reused 0\u001b[K\n",
            "Receiving objects: 100% (269/269), 20.25 MiB | 16.28 MiB/s, done.\n",
            "Resolving deltas: 100% (80/80), done.\n"
          ],
          "name": "stdout"
        }
      ]
    },
    {
      "cell_type": "code",
      "metadata": {
        "colab": {
          "base_uri": "https://localhost:8080/"
        },
        "id": "TxVyd-2EDhYK",
        "outputId": "304e9531-c5d0-4398-daa0-31ad434decfd"
      },
      "source": [
        "# Pull colab specifi files\n",
        "!cd '/content/bias-in-word-embeddings' && git checkout -B colab_style && git pull origin colab_style\n"
      ],
      "execution_count": null,
      "outputs": [
        {
          "output_type": "stream",
          "text": [
            "Switched to a new branch 'colab_style'\n",
            "From https://github.com/jearcher/bias-in-word-embeddings\n",
            " * branch            colab_style -> FETCH_HEAD\n",
            "Updating 59fc8e8..e734755\n",
            "Fast-forward\n",
            " ConceptorDebias/lists/load_word_lists.py |   16 \u001b[32m+\u001b[m\u001b[31m-\u001b[m\n",
            " Debias_Word2Vec.ipynb                    | 1233 \u001b[32m++++++++++\u001b[m\u001b[31m-----\u001b[m\n",
            " Debias_Word_node2Vec.ipynb               |  918 \u001b[32m++++++++++++\u001b[m\n",
            " evaluate_embeddings.ipynb                | 2408 \u001b[32m++++++++++++++++++++++++++++++\u001b[m\n",
            " 4 files changed, 4214 insertions(+), 361 deletions(-)\n",
            " create mode 100644 Debias_Word_node2Vec.ipynb\n",
            " create mode 100644 evaluate_embeddings.ipynb\n"
          ],
          "name": "stdout"
        }
      ]
    },
    {
      "cell_type": "code",
      "metadata": {
        "id": "AN6yr7A5nD2U"
      },
      "source": [
        "sys.path.append('/content/bias-in-word-embeddings')\n",
        "sys.path.append('/content/bias-in-word-embeddings/ConceptorDebias')"
      ],
      "execution_count": null,
      "outputs": []
    },
    {
      "cell_type": "code",
      "metadata": {
        "colab": {
          "base_uri": "https://localhost:8080/"
        },
        "id": "_NcLIk7DnWVD",
        "outputId": "40bc79ae-afaa-4ccd-ac03-c045d2830012"
      },
      "source": [
        "sys.path"
      ],
      "execution_count": null,
      "outputs": [
        {
          "output_type": "execute_result",
          "data": {
            "text/plain": [
              "['',\n",
              " '/content',\n",
              " '/env/python',\n",
              " '/usr/lib/python37.zip',\n",
              " '/usr/lib/python3.7',\n",
              " '/usr/lib/python3.7/lib-dynload',\n",
              " '/usr/local/lib/python3.7/dist-packages',\n",
              " '/usr/lib/python3/dist-packages',\n",
              " '/usr/local/lib/python3.7/dist-packages/IPython/extensions',\n",
              " '/root/.ipython',\n",
              " '/content/bias-in-word-embeddings',\n",
              " '/content/bias-in-word-embeddings/ConceptorDebias']"
            ]
          },
          "metadata": {
            "tags": []
          },
          "execution_count": 5
        }
      ]
    },
    {
      "cell_type": "code",
      "metadata": {
        "id": "Kgi16uBdqj6X"
      },
      "source": [
        "# Helper functions\n",
        "\n",
        "# Import local functions\n",
        "from WEAT_functions import *\n",
        "from Other_fxns import *\n"
      ],
      "execution_count": null,
      "outputs": []
    },
    {
      "cell_type": "markdown",
      "metadata": {
        "id": "GZOXXQYIms9w"
      },
      "source": [
        "## Load Word Lists used for Debias"
      ]
    },
    {
      "cell_type": "code",
      "metadata": {
        "id": "wvnV8EZSms9w"
      },
      "source": [
        "# Conceptor Debias word lists /content/bias-in-word-embeddings/enwiki-20190320-words-frequency.txt\n",
        "sys.path.append('./')\n",
        "from lists.load_word_lists import *\n",
        "\n"
      ],
      "execution_count": null,
      "outputs": []
    },
    {
      "cell_type": "markdown",
      "metadata": {
        "id": "NbRMmhwbGL98"
      },
      "source": [
        "## Load Word2Vec into Gensim Object"
      ]
    },
    {
      "cell_type": "code",
      "metadata": {
        "id": "Xo6fUdelrWy6"
      },
      "source": [
        "!cd /content/bias-in-word-embeddings && mkdir data"
      ],
      "execution_count": null,
      "outputs": []
    },
    {
      "cell_type": "code",
      "metadata": {
        "id": "EI3Qls7XuMzf"
      },
      "source": [
        "!cd /content/bias-in-word-embeddings/data && mkdir embeddings"
      ],
      "execution_count": null,
      "outputs": []
    },
    {
      "cell_type": "code",
      "metadata": {
        "id": "Mv-BBRRxuddC"
      },
      "source": [
        "!cd /content/bias-in-word-embeddings/data/embeddings/ && mkdir Word-node2Vec"
      ],
      "execution_count": null,
      "outputs": []
    },
    {
      "cell_type": "code",
      "metadata": {
        "colab": {
          "base_uri": "https://localhost:8080/"
        },
        "id": "96l45_v0unaD",
        "outputId": "e4874a2f-4d96-4ba2-fc79-938a18d94349"
      },
      "source": [
        "!cd /content/bias-in-word-embeddings/data/embeddings/Word-node2Vec/ && curl -O https://storage.googleapis.com/word-embedding-bias/Word-Node2Vec_2019/dbpedia.cwvec12.200.bin"
      ],
      "execution_count": null,
      "outputs": [
        {
          "output_type": "stream",
          "text": [
            "  % Total    % Received % Xferd  Average Speed   Time    Time     Time  Current\n",
            "                                 Dload  Upload   Total   Spent    Left  Speed\n",
            "100 45.4M  100 45.4M    0     0  29.3M      0  0:00:01  0:00:01 --:--:-- 29.3M\n"
          ],
          "name": "stdout"
        }
      ]
    },
    {
      "cell_type": "code",
      "metadata": {
        "colab": {
          "base_uri": "https://localhost:8080/"
        },
        "id": "wPeTTYySms9x",
        "outputId": "a001672a-c8f8-4dfb-b8fa-3bcb913d977d"
      },
      "source": [
        "Word_node2Vec = KeyedVectors.load_word2vec_format('/content/bias-in-word-embeddings/data/embeddings/Word-node2Vec/dbpedia.cwvec12.200.bin', \n",
        "                                          binary = True)\n",
        "\n",
        "print(\"Word-node2Vec embedding has been loaded.\")\n"
      ],
      "execution_count": null,
      "outputs": [
        {
          "output_type": "stream",
          "text": [
            "Word-node2Vec embedding has been loaded.\n"
          ],
          "name": "stdout"
        }
      ]
    },
    {
      "cell_type": "markdown",
      "metadata": {
        "id": "Q1ahSZ2Fms9y"
      },
      "source": [
        "## Combine lists for WEAT evaluation\n"
      ]
    },
    {
      "cell_type": "code",
      "metadata": {
        "id": "soeL6xLems90"
      },
      "source": [
        "\"\"\"Load list of pronouns representing the 'Pronoun' subspace for gender debiasing\"\"\"\n",
        "gender_list_pronouns = WEATLists.W_7_Male_terms + WEATLists.W_7_Female_terms + WEATLists.W_8_Male_terms + WEATLists.W_8_Female_terms\n",
        "gender_list_pronouns = list(set(gender_list_pronouns))\n",
        "\n",
        "\"\"\"Load an extended list of words representing the gender subspace for gender debiasing\"\"\"\n",
        "gender_list_extended = male_vino_extra + female_vino_extra + male_gnGlove + female_gnGlove\n",
        "gender_list_extended = list(set(gender_list_extended))\n",
        "\n",
        "\"\"\"Load list of proper nouns representing the 'Proper Noun' subspace for gender debiasing\"\"\"\n",
        "gender_list_propernouns = male_cmu + female_cmu\n",
        "gender_list_propernouns = list(set(gender_list_propernouns))\n",
        "\n",
        "\"\"\"Load list of all representing the gender subspace for gender debiasing\"\"\"\n",
        "gender_list_all = gender_list_pronouns + gender_list_extended + gender_list_propernouns\n",
        "gender_list_all = list(set(gender_list_all))\n",
        "\n",
        "\"\"\"Load list of common black and white names for racial debiasing\"\"\"\n",
        "race_list = WEATLists.W_3_Unused_full_list_European_American_names + WEATLists.W_3_European_American_names + WEATLists.W_3_Unused_full_list_African_American_names + WEATLists.W_3_African_American_names + WEATLists.W_4_Unused_full_list_European_American_names + WEATLists.W_4_European_American_names + WEATLists.W_4_Unused_full_list_African_American_names + WEATLists.W_4_African_American_names + WEATLists.W_5_Unused_full_list_European_American_names + WEATLists.W_5_European_American_names + WEATLists.W_5_Unused_full_list_African_American_names + WEATLists.W_5_African_American_names \n",
        "race_list = list(set(race_list))"
      ],
      "execution_count": null,
      "outputs": []
    },
    {
      "cell_type": "markdown",
      "metadata": {
        "id": "hXTO0l2nms91"
      },
      "source": [
        "## Initialize Variables"
      ]
    },
    {
      "cell_type": "code",
      "metadata": {
        "id": "SW54Igkxms93"
      },
      "source": [
        "resourceFile = ''\n",
        "wikiWordsPath = resourceFile + '/content/bias-in-word-embeddings/SIF/auxiliary_data/enwiki_vocab_min200.txt' # https://github.com/PrincetonML/SIF/blob/master/auxiliary_data/enwiki_vocab_min200.txt\n",
        "\n",
        "\"\"\"Set the embedding to be used\"\"\"\n",
        "embd = 'Word_node2Vec'\n",
        "\n",
        "\"\"\"Set the subspace to be tested on\"\"\"\n",
        "subspace = 'gender_list_all' \n",
        "\n",
        "\"\"\"Load association and target word pairs\"\"\"\n",
        "X = WEATLists.W_8_Science\n",
        "Y = WEATLists.W_8_Arts\n",
        "A = WEATLists.W_8_Male_terms\n",
        "B = WEATLists.W_8_Female_terms"
      ],
      "execution_count": null,
      "outputs": []
    },
    {
      "cell_type": "code",
      "metadata": {
        "id": "1KK8nbSWms93",
        "colab": {
          "base_uri": "https://localhost:8080/"
        },
        "outputId": "d75855fb-6915-445d-96a7-8454253cb358"
      },
      "source": [
        "eval(embd)"
      ],
      "execution_count": null,
      "outputs": [
        {
          "output_type": "execute_result",
          "data": {
            "text/plain": [
              "<gensim.models.keyedvectors.Word2VecKeyedVectors at 0x7f1fc8ea1b10>"
            ]
          },
          "metadata": {
            "tags": []
          },
          "execution_count": 15
        }
      ]
    },
    {
      "cell_type": "code",
      "metadata": {
        "id": "6boQ7rkYms94"
      },
      "source": [
        "curr_embd = eval(embd)\n",
        "all_words_index, all_words_mat = load_all_vectors(curr_embd, wikiWordsPath)"
      ],
      "execution_count": null,
      "outputs": []
    },
    {
      "cell_type": "markdown",
      "metadata": {
        "id": "NafGvpSUms94"
      },
      "source": [
        "## Compute Conceptor"
      ]
    },
    {
      "cell_type": "code",
      "metadata": {
        "id": "YQ0AOAljms94",
        "colab": {
          "base_uri": "https://localhost:8080/"
        },
        "outputId": "8118bc7b-0b11-4a9a-bb52-dc5f323f7621"
      },
      "source": [
        "\"\"\"Load the vectors for the words representing the subspace as a matrix and compute the respetive conceptor matrix\"\"\"\n",
        "if subspace != 'without_conceptor':\n",
        "  subspace_words_list = eval(subspace)\n",
        "  if subspace == 'gender_list_and':\n",
        "    if embd == 'elmo':\n",
        "      subspace_words_mat1 = load_subspace_vectors_contextual(all_words_mat, all_words_index, gender_list_pronouns)\n",
        "      cn1 = process_cn_matrix(np.array(subspace_words_mat1).T, alpha = 8)\n",
        "\n",
        "      subspace_words_mat2 = load_subspace_vectors_contextual(all_words_mat, all_words_index, gender_list_extended)\n",
        "      cn2 = process_cn_matrix(np.array(subspace_words_mat2).T, alpha = 3)\n",
        "\n",
        "      subspace_words_mat3 = load_subspace_vectors_contextual(all_words_mat, all_words_index, gender_list_propernouns)\n",
        "      cn3 = process_cn_matrix(np.array(subspace_words_mat3).T, alpha = 10)\n",
        "\n",
        "      cn = AND(cn1, AND(cn2, cn3))\n",
        "    elif embd == 'bert':\n",
        "      cn1 = load_bert_conceptor(all_dict, gender_list_pronouns)\n",
        "      \n",
        "      cn2 = load_bert_conceptor(all_dict, gender_list_extended)\n",
        "      \n",
        "      cn3 = load_bert_conceptor(all_dict, gender_list_propernouns)\n",
        "      \n",
        "      cn = AND(cn1, AND(cn2, cn3))\n",
        "    else:\n",
        "      subspace_words_mat1 = load_subspace_vectors(curr_embd, gender_list_pronouns)\n",
        "      cn1 = process_cn_matrix(np.array(subspace_words_mat1).T)\n",
        "\n",
        "      subspace_words_mat2 = load_subspace_vectors(curr_embd, gender_list_extended)\n",
        "      cn2 = process_cn_matrix(np.array(subspace_words_mat2).T)\n",
        "\n",
        "      subspace_words_mat3 = load_subspace_vectors(curr_embd, gender_list_propernouns)\n",
        "      cn3 = process_cn_matrix(np.array(subspace_words_mat3).T)\n",
        "\n",
        "      cn = AND(cn1, AND(cn2, cn3))\n",
        "  else: \n",
        "    if embd == 'elmo':\n",
        "      subspace_words_mat = load_subspace_vectors_contextual(all_words_mat, all_words_index, subspace_words_list)\n",
        "      cn = process_cn_matrix(np.array(subspace_words_mat).T, alpha = 6)\n",
        "    elif embd == 'bert':\n",
        "      cn = load_bert_conceptor(all_dict, subspace)\n",
        "    else:\n",
        "      subspace_words_mat = load_subspace_vectors(curr_embd, subspace_words_list)\n",
        "      cn = process_cn_matrix(np.array(subspace_words_mat).T)"
      ],
      "execution_count": null,
      "outputs": [
        {
          "output_type": "stream",
          "text": [
            "starting...\n",
            "(200, 255)\n",
            "R calculated\n",
            "C calculated\n"
          ],
          "name": "stdout"
        }
      ]
    },
    {
      "cell_type": "markdown",
      "metadata": {
        "id": "1Ti2z0Ulms95"
      },
      "source": [
        "## Compute Conceptored Embeddings\n"
      ]
    },
    {
      "cell_type": "code",
      "metadata": {
        "id": "ILNANs4pms96"
      },
      "source": [
        "\"\"\"Conceptor all embeddings\"\"\"\n",
        "all_words_cn = apply_conceptor(np.array(all_words_mat).T, np.array(cn))\n",
        "\n",
        "\"\"\"Store all conceptored words in a dictonary\"\"\"\n",
        "all_words = {}\n",
        "for word, index in all_words_index.items():\n",
        "  if embd == 'elmo':\n",
        "    all_words[word] = np.mean([all_words_cn[i,:] for i in index], axis = 0)\n",
        "  else:\n",
        "    all_words[word] = all_words_cn[index,:]"
      ],
      "execution_count": null,
      "outputs": []
    },
    {
      "cell_type": "code",
      "metadata": {
        "id": "e5BtW8xRRFEC"
      },
      "source": [
        "# # Convert to text to save (OLD)\n",
        "# def convert_to_text(curr_embd, saveto):\n",
        "#   for key, value in curr_embd.items():\n",
        "#     f = open(\"/content/\" + saveto, \"a+\")\n",
        "#     val = ' '.join((np.array2string(value).replace(\"[\",\"\").replace(\"]\",\"\")).split()) + \"\\n\"\n",
        "#     f.write(key + \" \" + val)\n",
        "    \n",
        "\n",
        "# convert_to_text(all_words, \"bias-in-word-embeddings/data/embeddings/Word-node2Vec/Word-node2Vec_debias.txt\")\n"
      ],
      "execution_count": null,
      "outputs": []
    },
    {
      "cell_type": "markdown",
      "metadata": {
        "id": "wglbql_Wms97"
      },
      "source": [
        "## Calculate WEAT"
      ]
    },
    {
      "cell_type": "code",
      "metadata": {
        "id": "GQBkzf3Fms97",
        "colab": {
          "base_uri": "https://localhost:8080/"
        },
        "outputId": "a249ada3-c93e-4796-e2b7-9ebf35869004"
      },
      "source": [
        "# Before Debias \n",
        "pre = weat_effect_size(X, Y, A, B, Word_node2Vec)\n",
        "\n",
        "d = weat_effect_size(X, Y, A, B, all_words)\n",
        "# p = weat_p_value(X, Y, A, B, all_words, 1000)\n",
        "\n",
        "print('WEAT on original Word-node2Vec = ', pre)\n",
        "print('WEAT on Debias Word-node2Vec = ', d)"
      ],
      "execution_count": null,
      "outputs": [
        {
          "output_type": "stream",
          "text": [
            "WEAT on original Word-node2Vec =  1.1809114\n",
            "WEAT on Debias Word-node2Vec =  1.0103018678063433\n"
          ],
          "name": "stdout"
        }
      ]
    },
    {
      "cell_type": "markdown",
      "metadata": {
        "id": "lGSniiFwD9Xm"
      },
      "source": [
        "# Visualize embeddings using PCA"
      ]
    },
    {
      "cell_type": "code",
      "metadata": {
        "id": "EZnhwv68ENfD"
      },
      "source": [
        "import matplotlib.pyplot as plt\n",
        "import gensim.downloader as api\n",
        "from sklearn.decomposition import PCA"
      ],
      "execution_count": null,
      "outputs": []
    },
    {
      "cell_type": "code",
      "metadata": {
        "id": "4oZaJFt0EO_7"
      },
      "source": [
        "terms = WEATLists.W_8_Science + WEATLists.W_8_Arts + gender_list_pronouns\n",
        "terms.remove('Einstein')\n",
        "terms.remove(\"NASA\")\n",
        "terms.remove('Shakespeare')\n",
        "terms.remove('novel')\n",
        "terms.remove('he')\n",
        "terms.remove('she')\n",
        "terms.remove('her')\n",
        "terms.remove('him')\n",
        "terms.remove('his')\n",
        "terms.remove('hers')\n",
        "\n",
        "small_embedding = [Word_node2Vec[term] for term in terms ]\n",
        "pca = PCA(n_components=2)\n",
        "data = pca.fit_transform(small_embedding).transpose()\n",
        "x, y = data[0], data[1]"
      ],
      "execution_count": null,
      "outputs": []
    },
    {
      "cell_type": "code",
      "metadata": {
        "colab": {
          "base_uri": "https://localhost:8080/",
          "height": 512
        },
        "id": "gSDGrFYBG7mz",
        "outputId": "0e36bfa7-9ffe-427b-81ff-50537d71242d"
      },
      "source": [
        "fig, ax = plt.subplots(figsize=(15, 8))\n",
        "ax.scatter(x, y, c='r')\n",
        "for i, term in enumerate(terms):\n",
        "    ax.annotate(term, (x[i], y[i]))\n",
        "plt.xlabel('x')\n",
        "plt.ylabel('y')\n",
        "plt.title(\"PCA Visualization for selected gender and Science/Arts terms using Word-node2Vec\")\n",
        "plt.show()"
      ],
      "execution_count": null,
      "outputs": [
        {
          "output_type": "display_data",
          "data": {
            "image/png": "[encoded data removed]",
            "text/plain": [
              "<Figure size 1080x576 with 1 Axes>"
            ]
          },
          "metadata": {
            "tags": [],
            "needs_background": "light"
          }
        }
      ]
    },
    {
      "cell_type": "code",
      "metadata": {
        "id": "PdV6_ACXIfAt"
      },
      "source": [
        "small_embedding_debias = [value for key, value in all_words.items() if key in terms]\n",
        "pca_debias = PCA(n_components=2)\n",
        "data_debias = pca_debias.fit_transform(small_embedding_debias).transpose()\n",
        "x_debias, y_debias = data_debias[0], data_debias[1]"
      ],
      "execution_count": null,
      "outputs": []
    },
    {
      "cell_type": "code",
      "metadata": {
        "colab": {
          "base_uri": "https://localhost:8080/",
          "height": 512
        },
        "id": "b-GHUlMzIraU",
        "outputId": "f88f41d8-9b6f-4d70-918a-48f603b8f1e3"
      },
      "source": [
        "fig, ax = plt.subplots(figsize=(15, 8))\n",
        "ax.scatter(x_debias, y_debias, c='g')\n",
        "for i, term in enumerate(terms):\n",
        "  if i<35:\n",
        "    ax.annotate(term, (x_debias[i], y_debias[i]))\n",
        "  continue\n",
        "plt.xlabel('PC1')\n",
        "plt.ylabel('PC2')\n",
        "plt.title(\"PCA Visualization for selected gender and Science/Arts terms using DEBIASED Word-node2Vec\")\n",
        "\n",
        "plt.show()"
      ],
      "execution_count": null,
      "outputs": [
        {
          "output_type": "display_data",
          "data": {
            "image/png": "[encoded data removed]",
            "text/plain": [
              "<Figure size 1080x576 with 1 Axes>"
            ]
          },
          "metadata": {
            "tags": [],
            "needs_background": "light"
          }
        }
      ]
    },
    {
      "cell_type": "code",
      "metadata": {
        "colab": {
          "base_uri": "https://localhost:8080/"
        },
        "id": "Kd1lgKgoETbw",
        "outputId": "2ccfcb81-4fd5-490b-fd23-a2f35bb87734"
      },
      "source": [
        "# What is most similar to 'woman' and 'king' but not similar to 'man'\n",
        "\n",
        "Word_node2Vec.most_similar(positive=['woman', 'king'], negative=['man'])"
      ],
      "execution_count": null,
      "outputs": [
        {
          "output_type": "execute_result",
          "data": {
            "text/plain": [
              "[('regent', 0.521192729473114),\n",
              " ('consort', 0.5145156979560852),\n",
              " ('regnant', 0.49781352281570435),\n",
              " ('queen', 0.4850449562072754),\n",
              " ('reign', 0.4782247543334961),\n",
              " ('reigned', 0.4746331572532654),\n",
              " ('throne', 0.4692186415195465),\n",
              " ('ruled', 0.4668368399143219),\n",
              " ('prince', 0.4646092653274536),\n",
              " ('casimir', 0.46369442343711853)]"
            ]
          },
          "metadata": {
            "tags": []
          },
          "execution_count": 26
        }
      ]
    },
    {
      "cell_type": "code",
      "metadata": {
        "id": "BbQcBglpEet7"
      },
      "source": [
        ""
      ],
      "execution_count": null,
      "outputs": []
    },
    {
      "cell_type": "code",
      "metadata": {
        "id": "eB7pMvkIHmlo"
      },
      "source": [
        "# Convert debiased embeddings to pandas df\n",
        "df = pd.DataFrame(list(all_words.items())) \n",
        "df2 = df[1].apply(pd.Series) \n",
        "Word_node2Vec_debias = pd.concat([df[0], df2], axis=1)\n",
        "# Word_node2Vec_debias.head()\n",
        "\n",
        "\n",
        "# my_header =\"{} {}\\n\".format(len(Word_node2Vec_debias), len(Word_node2Vec_debias.columns))\n",
        "# #Word_node2Vec_debias.shape\n",
        "# #line_prepender(\"/content/bias-in-word-embeddings/data/embeddings/Word-node2Vec/Word-node2Vec_debias.txt\",\n",
        "#                #header)\n",
        "\n",
        "# np.savetxt(\"/content/bias-in-word-embeddings/data/embeddings/Word-node2Vec/Word-node2Vec_debias.txt\",\n",
        "#            Word_node2Vec_debias.values, \n",
        "#            fmt='%.18e', delimiter=\"\\t\", \n",
        "#            header=my_header)  \n",
        "            \n"
      ],
      "execution_count": null,
      "outputs": []
    },
    {
      "cell_type": "code",
      "metadata": {
        "id": "Ds1TSjSXgHO0"
      },
      "source": [
        "np.savetxt('/content/bias-in-word-embeddings/data/embeddings/Word-node2Vec/Word-node2Vec_debias.txt',\n",
        "           Word_node2Vec_debias.values, \n",
        "           delimiter=\" \", \n",
        "           header=\"{} {}\".format(len(Word_node2Vec_debias), (len(Word_node2Vec_debias.columns)-1)),\n",
        "           comments=\"\",\n",
        "           fmt=\"%s\")"
      ],
      "execution_count": null,
      "outputs": []
    },
    {
      "cell_type": "code",
      "metadata": {
        "id": "dHK3A5X1W9Vw"
      },
      "source": [
        "# add\n",
        "# \"50897\t200\"\n",
        "# to first line\n",
        "Word_node2Vec_debias_gm = KeyedVectors.load_word2vec_format('/content/bias-in-word-embeddings/data/embeddings/Word-node2Vec/Word-node2Vec_debias.txt')\n"
      ],
      "execution_count": null,
      "outputs": []
    },
    {
      "cell_type": "markdown",
      "metadata": {
        "id": "_11LyYuKkhLg"
      },
      "source": [
        "# Evaluate vectors\n",
        "`Word_node2Vec` & `Word_node2Vec_debias_gm`"
      ]
    },
    {
      "cell_type": "markdown",
      "metadata": {
        "id": "p4GW4xc7pw0R"
      },
      "source": [
        "## Gender"
      ]
    },
    {
      "cell_type": "code",
      "metadata": {
        "colab": {
          "base_uri": "https://localhost:8080/"
        },
        "id": "nCM3uPmBqOEz",
        "outputId": "aff18f23-6658-4fef-e16e-ac4f67e25d15"
      },
      "source": [
        "gender = \"\"\"man\n",
        "woman\n",
        "\"\"\".splitlines()\n",
        "gender"
      ],
      "execution_count": null,
      "outputs": [
        {
          "output_type": "execute_result",
          "data": {
            "text/plain": [
              "['man', 'woman']"
            ]
          },
          "metadata": {
            "tags": []
          },
          "execution_count": 30
        }
      ]
    },
    {
      "cell_type": "code",
      "metadata": {
        "colab": {
          "base_uri": "https://localhost:8080/"
        },
        "id": "ci5jq0B5qOE0",
        "outputId": "a6c8df4d-3fcf-4e22-c6ca-96cac1628870"
      },
      "source": [
        "gender_list_pronouns"
      ],
      "execution_count": null,
      "outputs": [
        {
          "output_type": "execute_result",
          "data": {
            "text/plain": [
              "['man',\n",
              " 'aunt',\n",
              " 'girl',\n",
              " 'grandmother',\n",
              " 'woman',\n",
              " 'his',\n",
              " 'father',\n",
              " 'hers',\n",
              " 'her',\n",
              " 'he',\n",
              " 'mother',\n",
              " 'sister',\n",
              " 'him',\n",
              " 'daughter',\n",
              " 'brother',\n",
              " 'grandfather',\n",
              " 'boy',\n",
              " 'uncle',\n",
              " 'she',\n",
              " 'son',\n",
              " 'female',\n",
              " 'male']"
            ]
          },
          "metadata": {
            "tags": []
          },
          "execution_count": 31
        }
      ]
    },
    {
      "cell_type": "code",
      "metadata": {
        "colab": {
          "base_uri": "https://localhost:8080/"
        },
        "id": "-XR60WWpqOE1",
        "outputId": "2879479d-23aa-4070-b50f-8e361ac0cd75"
      },
      "source": [
        "job = \"\"\"doctor\n",
        "nurse\n",
        "lawyer\n",
        "cop\n",
        "plumber\n",
        "teacher\n",
        "chef\n",
        "\"\"\".splitlines()\n",
        "job"
      ],
      "execution_count": null,
      "outputs": [
        {
          "output_type": "execute_result",
          "data": {
            "text/plain": [
              "['doctor', 'nurse', 'lawyer', 'cop', 'plumber', 'teacher', 'chef']"
            ]
          },
          "metadata": {
            "tags": []
          },
          "execution_count": 32
        }
      ]
    },
    {
      "cell_type": "code",
      "metadata": {
        "colab": {
          "base_uri": "https://localhost:8080/"
        },
        "id": "DmQvcB3bqOE1",
        "outputId": "0179a383-b8cf-4795-b30e-c4ed0b8a8f98"
      },
      "source": [
        "Word_node2Vec.similarity('nurse', 'woman')"
      ],
      "execution_count": null,
      "outputs": [
        {
          "output_type": "execute_result",
          "data": {
            "text/plain": [
              "0.50967616"
            ]
          },
          "metadata": {
            "tags": []
          },
          "execution_count": 33
        }
      ]
    },
    {
      "cell_type": "code",
      "metadata": {
        "colab": {
          "base_uri": "https://localhost:8080/",
          "height": 450
        },
        "id": "5SKmqgLRqOE2",
        "outputId": "66f6f0a8-1148-498e-b8e4-4be82f61c3e8"
      },
      "source": [
        "scores = []\n",
        "names = []\n",
        "gender_listed = []\n",
        "for i in gender:\n",
        "  for j in job:\n",
        "    scores.append(Word_node2Vec.similarity(i, j))\n",
        "    names.append(j)\n",
        "    gender_listed.append(i)\n",
        "similarity_scores = pd.DataFrame()\n",
        "similarity_scores['Words'] = names\n",
        "similarity_scores['Scores'] = scores\n",
        "similarity_scores['Gender'] = gender_listed\n",
        "similarity_scores"
      ],
      "execution_count": null,
      "outputs": [
        {
          "output_type": "execute_result",
          "data": {
            "text/html": [
              "<div>\n",
              "<style scoped>\n",
              "    .dataframe tbody tr th:only-of-type {\n",
              "        vertical-align: middle;\n",
              "    }\n",
              "\n",
              "    .dataframe tbody tr th {\n",
              "        vertical-align: top;\n",
              "    }\n",
              "\n",
              "    .dataframe thead th {\n",
              "        text-align: right;\n",
              "    }\n",
              "</style>\n",
              "<table border=\"1\" class=\"dataframe\">\n",
              "  <thead>\n",
              "    <tr style=\"text-align: right;\">\n",
              "      <th></th>\n",
              "      <th>Words</th>\n",
              "      <th>Scores</th>\n",
              "      <th>Gender</th>\n",
              "    </tr>\n",
              "  </thead>\n",
              "  <tbody>\n",
              "    <tr>\n",
              "      <th>0</th>\n",
              "      <td>doctor</td>\n",
              "      <td>0.329375</td>\n",
              "      <td>man</td>\n",
              "    </tr>\n",
              "    <tr>\n",
              "      <th>1</th>\n",
              "      <td>nurse</td>\n",
              "      <td>0.438030</td>\n",
              "      <td>man</td>\n",
              "    </tr>\n",
              "    <tr>\n",
              "      <th>2</th>\n",
              "      <td>lawyer</td>\n",
              "      <td>0.254360</td>\n",
              "      <td>man</td>\n",
              "    </tr>\n",
              "    <tr>\n",
              "      <th>3</th>\n",
              "      <td>cop</td>\n",
              "      <td>0.551043</td>\n",
              "      <td>man</td>\n",
              "    </tr>\n",
              "    <tr>\n",
              "      <th>4</th>\n",
              "      <td>plumber</td>\n",
              "      <td>0.367813</td>\n",
              "      <td>man</td>\n",
              "    </tr>\n",
              "    <tr>\n",
              "      <th>5</th>\n",
              "      <td>teacher</td>\n",
              "      <td>0.252059</td>\n",
              "      <td>man</td>\n",
              "    </tr>\n",
              "    <tr>\n",
              "      <th>6</th>\n",
              "      <td>chef</td>\n",
              "      <td>0.358781</td>\n",
              "      <td>man</td>\n",
              "    </tr>\n",
              "    <tr>\n",
              "      <th>7</th>\n",
              "      <td>doctor</td>\n",
              "      <td>0.409891</td>\n",
              "      <td>woman</td>\n",
              "    </tr>\n",
              "    <tr>\n",
              "      <th>8</th>\n",
              "      <td>nurse</td>\n",
              "      <td>0.509676</td>\n",
              "      <td>woman</td>\n",
              "    </tr>\n",
              "    <tr>\n",
              "      <th>9</th>\n",
              "      <td>lawyer</td>\n",
              "      <td>0.372892</td>\n",
              "      <td>woman</td>\n",
              "    </tr>\n",
              "    <tr>\n",
              "      <th>10</th>\n",
              "      <td>cop</td>\n",
              "      <td>0.469735</td>\n",
              "      <td>woman</td>\n",
              "    </tr>\n",
              "    <tr>\n",
              "      <th>11</th>\n",
              "      <td>plumber</td>\n",
              "      <td>0.411628</td>\n",
              "      <td>woman</td>\n",
              "    </tr>\n",
              "    <tr>\n",
              "      <th>12</th>\n",
              "      <td>teacher</td>\n",
              "      <td>0.343248</td>\n",
              "      <td>woman</td>\n",
              "    </tr>\n",
              "    <tr>\n",
              "      <th>13</th>\n",
              "      <td>chef</td>\n",
              "      <td>0.374724</td>\n",
              "      <td>woman</td>\n",
              "    </tr>\n",
              "  </tbody>\n",
              "</table>\n",
              "</div>"
            ],
            "text/plain": [
              "      Words    Scores Gender\n",
              "0    doctor  0.329375    man\n",
              "1     nurse  0.438030    man\n",
              "2    lawyer  0.254360    man\n",
              "3       cop  0.551043    man\n",
              "4   plumber  0.367813    man\n",
              "5   teacher  0.252059    man\n",
              "6      chef  0.358781    man\n",
              "7    doctor  0.409891  woman\n",
              "8     nurse  0.509676  woman\n",
              "9    lawyer  0.372892  woman\n",
              "10      cop  0.469735  woman\n",
              "11  plumber  0.411628  woman\n",
              "12  teacher  0.343248  woman\n",
              "13     chef  0.374724  woman"
            ]
          },
          "metadata": {
            "tags": []
          },
          "execution_count": 34
        }
      ]
    },
    {
      "cell_type": "code",
      "metadata": {
        "colab": {
          "base_uri": "https://localhost:8080/",
          "height": 450
        },
        "id": "aXksvjn2qOE2",
        "outputId": "15c8d177-ecd1-4844-98b1-79cc0d384910"
      },
      "source": [
        "scores = []\n",
        "names = []\n",
        "gender_listed = []\n",
        "for i in gender:\n",
        "  for j in job:\n",
        "    scores.append(Word_node2Vec_debias_gm.similarity(i, j))\n",
        "    names.append(j)\n",
        "    gender_listed.append(i)\n",
        "similarity_scores_debias = pd.DataFrame()\n",
        "similarity_scores_debias['Words'] = names\n",
        "similarity_scores_debias['Scores'] = scores\n",
        "similarity_scores_debias['Gender'] = gender_listed\n",
        "similarity_scores_debias"
      ],
      "execution_count": null,
      "outputs": [
        {
          "output_type": "execute_result",
          "data": {
            "text/html": [
              "<div>\n",
              "<style scoped>\n",
              "    .dataframe tbody tr th:only-of-type {\n",
              "        vertical-align: middle;\n",
              "    }\n",
              "\n",
              "    .dataframe tbody tr th {\n",
              "        vertical-align: top;\n",
              "    }\n",
              "\n",
              "    .dataframe thead th {\n",
              "        text-align: right;\n",
              "    }\n",
              "</style>\n",
              "<table border=\"1\" class=\"dataframe\">\n",
              "  <thead>\n",
              "    <tr style=\"text-align: right;\">\n",
              "      <th></th>\n",
              "      <th>Words</th>\n",
              "      <th>Scores</th>\n",
              "      <th>Gender</th>\n",
              "    </tr>\n",
              "  </thead>\n",
              "  <tbody>\n",
              "    <tr>\n",
              "      <th>0</th>\n",
              "      <td>doctor</td>\n",
              "      <td>0.065078</td>\n",
              "      <td>man</td>\n",
              "    </tr>\n",
              "    <tr>\n",
              "      <th>1</th>\n",
              "      <td>nurse</td>\n",
              "      <td>0.067345</td>\n",
              "      <td>man</td>\n",
              "    </tr>\n",
              "    <tr>\n",
              "      <th>2</th>\n",
              "      <td>lawyer</td>\n",
              "      <td>0.036231</td>\n",
              "      <td>man</td>\n",
              "    </tr>\n",
              "    <tr>\n",
              "      <th>3</th>\n",
              "      <td>cop</td>\n",
              "      <td>0.035018</td>\n",
              "      <td>man</td>\n",
              "    </tr>\n",
              "    <tr>\n",
              "      <th>4</th>\n",
              "      <td>plumber</td>\n",
              "      <td>-0.076066</td>\n",
              "      <td>man</td>\n",
              "    </tr>\n",
              "    <tr>\n",
              "      <th>5</th>\n",
              "      <td>teacher</td>\n",
              "      <td>-0.015017</td>\n",
              "      <td>man</td>\n",
              "    </tr>\n",
              "    <tr>\n",
              "      <th>6</th>\n",
              "      <td>chef</td>\n",
              "      <td>0.050618</td>\n",
              "      <td>man</td>\n",
              "    </tr>\n",
              "    <tr>\n",
              "      <th>7</th>\n",
              "      <td>doctor</td>\n",
              "      <td>0.123560</td>\n",
              "      <td>woman</td>\n",
              "    </tr>\n",
              "    <tr>\n",
              "      <th>8</th>\n",
              "      <td>nurse</td>\n",
              "      <td>0.096126</td>\n",
              "      <td>woman</td>\n",
              "    </tr>\n",
              "    <tr>\n",
              "      <th>9</th>\n",
              "      <td>lawyer</td>\n",
              "      <td>0.111719</td>\n",
              "      <td>woman</td>\n",
              "    </tr>\n",
              "    <tr>\n",
              "      <th>10</th>\n",
              "      <td>cop</td>\n",
              "      <td>-0.008292</td>\n",
              "      <td>woman</td>\n",
              "    </tr>\n",
              "    <tr>\n",
              "      <th>11</th>\n",
              "      <td>plumber</td>\n",
              "      <td>0.009088</td>\n",
              "      <td>woman</td>\n",
              "    </tr>\n",
              "    <tr>\n",
              "      <th>12</th>\n",
              "      <td>teacher</td>\n",
              "      <td>0.004921</td>\n",
              "      <td>woman</td>\n",
              "    </tr>\n",
              "    <tr>\n",
              "      <th>13</th>\n",
              "      <td>chef</td>\n",
              "      <td>0.024628</td>\n",
              "      <td>woman</td>\n",
              "    </tr>\n",
              "  </tbody>\n",
              "</table>\n",
              "</div>"
            ],
            "text/plain": [
              "      Words    Scores Gender\n",
              "0    doctor  0.065078    man\n",
              "1     nurse  0.067345    man\n",
              "2    lawyer  0.036231    man\n",
              "3       cop  0.035018    man\n",
              "4   plumber -0.076066    man\n",
              "5   teacher -0.015017    man\n",
              "6      chef  0.050618    man\n",
              "7    doctor  0.123560  woman\n",
              "8     nurse  0.096126  woman\n",
              "9    lawyer  0.111719  woman\n",
              "10      cop -0.008292  woman\n",
              "11  plumber  0.009088  woman\n",
              "12  teacher  0.004921  woman\n",
              "13     chef  0.024628  woman"
            ]
          },
          "metadata": {
            "tags": []
          },
          "execution_count": 35
        }
      ]
    },
    {
      "cell_type": "code",
      "metadata": {
        "colab": {
          "base_uri": "https://localhost:8080/",
          "height": 450
        },
        "id": "d3ESPZvNqOE2",
        "outputId": "af7841c1-40ad-42b8-cf2e-bcdfe264750b"
      },
      "source": [
        "similarity_scores"
      ],
      "execution_count": null,
      "outputs": [
        {
          "output_type": "execute_result",
          "data": {
            "text/html": [
              "<div>\n",
              "<style scoped>\n",
              "    .dataframe tbody tr th:only-of-type {\n",
              "        vertical-align: middle;\n",
              "    }\n",
              "\n",
              "    .dataframe tbody tr th {\n",
              "        vertical-align: top;\n",
              "    }\n",
              "\n",
              "    .dataframe thead th {\n",
              "        text-align: right;\n",
              "    }\n",
              "</style>\n",
              "<table border=\"1\" class=\"dataframe\">\n",
              "  <thead>\n",
              "    <tr style=\"text-align: right;\">\n",
              "      <th></th>\n",
              "      <th>Words</th>\n",
              "      <th>Scores</th>\n",
              "      <th>Gender</th>\n",
              "    </tr>\n",
              "  </thead>\n",
              "  <tbody>\n",
              "    <tr>\n",
              "      <th>0</th>\n",
              "      <td>doctor</td>\n",
              "      <td>0.329375</td>\n",
              "      <td>man</td>\n",
              "    </tr>\n",
              "    <tr>\n",
              "      <th>1</th>\n",
              "      <td>nurse</td>\n",
              "      <td>0.438030</td>\n",
              "      <td>man</td>\n",
              "    </tr>\n",
              "    <tr>\n",
              "      <th>2</th>\n",
              "      <td>lawyer</td>\n",
              "      <td>0.254360</td>\n",
              "      <td>man</td>\n",
              "    </tr>\n",
              "    <tr>\n",
              "      <th>3</th>\n",
              "      <td>cop</td>\n",
              "      <td>0.551043</td>\n",
              "      <td>man</td>\n",
              "    </tr>\n",
              "    <tr>\n",
              "      <th>4</th>\n",
              "      <td>plumber</td>\n",
              "      <td>0.367813</td>\n",
              "      <td>man</td>\n",
              "    </tr>\n",
              "    <tr>\n",
              "      <th>5</th>\n",
              "      <td>teacher</td>\n",
              "      <td>0.252059</td>\n",
              "      <td>man</td>\n",
              "    </tr>\n",
              "    <tr>\n",
              "      <th>6</th>\n",
              "      <td>chef</td>\n",
              "      <td>0.358781</td>\n",
              "      <td>man</td>\n",
              "    </tr>\n",
              "    <tr>\n",
              "      <th>7</th>\n",
              "      <td>doctor</td>\n",
              "      <td>0.409891</td>\n",
              "      <td>woman</td>\n",
              "    </tr>\n",
              "    <tr>\n",
              "      <th>8</th>\n",
              "      <td>nurse</td>\n",
              "      <td>0.509676</td>\n",
              "      <td>woman</td>\n",
              "    </tr>\n",
              "    <tr>\n",
              "      <th>9</th>\n",
              "      <td>lawyer</td>\n",
              "      <td>0.372892</td>\n",
              "      <td>woman</td>\n",
              "    </tr>\n",
              "    <tr>\n",
              "      <th>10</th>\n",
              "      <td>cop</td>\n",
              "      <td>0.469735</td>\n",
              "      <td>woman</td>\n",
              "    </tr>\n",
              "    <tr>\n",
              "      <th>11</th>\n",
              "      <td>plumber</td>\n",
              "      <td>0.411628</td>\n",
              "      <td>woman</td>\n",
              "    </tr>\n",
              "    <tr>\n",
              "      <th>12</th>\n",
              "      <td>teacher</td>\n",
              "      <td>0.343248</td>\n",
              "      <td>woman</td>\n",
              "    </tr>\n",
              "    <tr>\n",
              "      <th>13</th>\n",
              "      <td>chef</td>\n",
              "      <td>0.374724</td>\n",
              "      <td>woman</td>\n",
              "    </tr>\n",
              "  </tbody>\n",
              "</table>\n",
              "</div>"
            ],
            "text/plain": [
              "      Words    Scores Gender\n",
              "0    doctor  0.329375    man\n",
              "1     nurse  0.438030    man\n",
              "2    lawyer  0.254360    man\n",
              "3       cop  0.551043    man\n",
              "4   plumber  0.367813    man\n",
              "5   teacher  0.252059    man\n",
              "6      chef  0.358781    man\n",
              "7    doctor  0.409891  woman\n",
              "8     nurse  0.509676  woman\n",
              "9    lawyer  0.372892  woman\n",
              "10      cop  0.469735  woman\n",
              "11  plumber  0.411628  woman\n",
              "12  teacher  0.343248  woman\n",
              "13     chef  0.374724  woman"
            ]
          },
          "metadata": {
            "tags": []
          },
          "execution_count": 36
        }
      ]
    },
    {
      "cell_type": "code",
      "metadata": {
        "colab": {
          "base_uri": "https://localhost:8080/",
          "height": 438
        },
        "id": "n3JPvbOuqOE3",
        "outputId": "93d73a84-7f6d-4514-ade5-a1d6df863a11"
      },
      "source": [
        "import altair as alt\n",
        "\n",
        "alt.Chart(similarity_scores).mark_bar().encode(\n",
        "    x='Gender:N',\n",
        "    y='Scores:Q',\n",
        "    color='Gender:N',\n",
        "    column='Words:N'\n",
        ")"
      ],
      "execution_count": null,
      "outputs": [
        {
          "output_type": "execute_result",
          "data": {
            "text/plain": [
              "alt.Chart(...)"
            ],
            "text/html": [
              "\n",
              "<div id=\"altair-viz-57a39d6fc7244b578f77e999443df694\"></div>\n",
              "<script type=\"text/javascript\">\n",
              "  (function(spec, embedOpt){\n",
              "    let outputDiv = document.currentScript.previousElementSibling;\n",
              "    if (outputDiv.id !== \"altair-viz-57a39d6fc7244b578f77e999443df694\") {\n",
              "      outputDiv = document.getElementById(\"altair-viz-57a39d6fc7244b578f77e999443df694\");\n",
              "    }\n",
              "    const paths = {\n",
              "      \"vega\": \"https://cdn.jsdelivr.net/npm//vega@5?noext\",\n",
              "      \"vega-lib\": \"https://cdn.jsdelivr.net/npm//vega-lib?noext\",\n",
              "      \"vega-lite\": \"https://cdn.jsdelivr.net/npm//vega-lite@4.8.1?noext\",\n",
              "      \"vega-embed\": \"https://cdn.jsdelivr.net/npm//vega-embed@6?noext\",\n",
              "    };\n",
              "\n",
              "    function loadScript(lib) {\n",
              "      return new Promise(function(resolve, reject) {\n",
              "        var s = document.createElement('script');\n",
              "        s.src = paths[lib];\n",
              "        s.async = true;\n",
              "        s.onload = () => resolve(paths[lib]);\n",
              "        s.onerror = () => reject(`Error loading script: ${paths[lib]}`);\n",
              "        document.getElementsByTagName(\"head\")[0].appendChild(s);\n",
              "      });\n",
              "    }\n",
              "\n",
              "    function showError(err) {\n",
              "      outputDiv.innerHTML = `<div class=\"error\" style=\"color:red;\">${err}</div>`;\n",
              "      throw err;\n",
              "    }\n",
              "\n",
              "    function displayChart(vegaEmbed) {\n",
              "      vegaEmbed(outputDiv, spec, embedOpt)\n",
              "        .catch(err => showError(`Javascript Error: ${err.message}<br>This usually means there's a typo in your chart specification. See the javascript console for the full traceback.`));\n",
              "    }\n",
              "\n",
              "    if(typeof define === \"function\" && define.amd) {\n",
              "      requirejs.config({paths});\n",
              "      require([\"vega-embed\"], displayChart, err => showError(`Error loading script: ${err.message}`));\n",
              "    } else if (typeof vegaEmbed === \"function\") {\n",
              "      displayChart(vegaEmbed);\n",
              "    } else {\n",
              "      loadScript(\"vega\")\n",
              "        .then(() => loadScript(\"vega-lite\"))\n",
              "        .then(() => loadScript(\"vega-embed\"))\n",
              "        .catch(showError)\n",
              "        .then(() => displayChart(vegaEmbed));\n",
              "    }\n",
              "  })({\"config\": {\"view\": {\"continuousWidth\": 400, \"continuousHeight\": 300}}, \"data\": {\"name\": \"data-0a6a1faef1b4c559c61aec7b38ee115e\"}, \"mark\": \"bar\", \"encoding\": {\"color\": {\"type\": \"nominal\", \"field\": \"Gender\"}, \"column\": {\"type\": \"nominal\", \"field\": \"Words\"}, \"x\": {\"type\": \"nominal\", \"field\": \"Gender\"}, \"y\": {\"type\": \"quantitative\", \"field\": \"Scores\"}}, \"$schema\": \"https://vega.github.io/schema/vega-lite/v4.8.1.json\", \"datasets\": {\"data-0a6a1faef1b4c559c61aec7b38ee115e\": [{\"Words\": \"doctor\", \"Scores\": 0.3293752670288086, \"Gender\": \"man\"}, {\"Words\": \"nurse\", \"Scores\": 0.4380304515361786, \"Gender\": \"man\"}, {\"Words\": \"lawyer\", \"Scores\": 0.2543603181838989, \"Gender\": \"man\"}, {\"Words\": \"cop\", \"Scores\": 0.5510426163673401, \"Gender\": \"man\"}, {\"Words\": \"plumber\", \"Scores\": 0.3678134083747864, \"Gender\": \"man\"}, {\"Words\": \"teacher\", \"Scores\": 0.25205886363983154, \"Gender\": \"man\"}, {\"Words\": \"chef\", \"Scores\": 0.3587809205055237, \"Gender\": \"man\"}, {\"Words\": \"doctor\", \"Scores\": 0.4098914861679077, \"Gender\": \"woman\"}, {\"Words\": \"nurse\", \"Scores\": 0.5096761584281921, \"Gender\": \"woman\"}, {\"Words\": \"lawyer\", \"Scores\": 0.3728916049003601, \"Gender\": \"woman\"}, {\"Words\": \"cop\", \"Scores\": 0.4697350561618805, \"Gender\": \"woman\"}, {\"Words\": \"plumber\", \"Scores\": 0.41162845492362976, \"Gender\": \"woman\"}, {\"Words\": \"teacher\", \"Scores\": 0.3432482182979584, \"Gender\": \"woman\"}, {\"Words\": \"chef\", \"Scores\": 0.3747236728668213, \"Gender\": \"woman\"}]}}, {\"mode\": \"vega-lite\"});\n",
              "</script>"
            ]
          },
          "metadata": {
            "tags": []
          },
          "execution_count": 37
        }
      ]
    },
    {
      "cell_type": "code",
      "metadata": {
        "id": "ZTkwyWYApa6a",
        "colab": {
          "base_uri": "https://localhost:8080/",
          "height": 438
        },
        "outputId": "38cb4b89-6a8e-4ce7-bcc9-dd2cbdb7a806"
      },
      "source": [
        "alt.Chart(similarity_scores_debias).mark_bar().encode(\n",
        "    x='Gender:N',\n",
        "    y='Scores:Q',\n",
        "    color='Gender:N',\n",
        "    column='Words:N'\n",
        ")"
      ],
      "execution_count": null,
      "outputs": [
        {
          "output_type": "execute_result",
          "data": {
            "text/plain": [
              "alt.Chart(...)"
            ],
            "text/html": [
              "\n",
              "<div id=\"altair-viz-bc85e52cf4d34d7ebf2f6573fb4950d2\"></div>\n",
              "<script type=\"text/javascript\">\n",
              "  (function(spec, embedOpt){\n",
              "    let outputDiv = document.currentScript.previousElementSibling;\n",
              "    if (outputDiv.id !== \"altair-viz-bc85e52cf4d34d7ebf2f6573fb4950d2\") {\n",
              "      outputDiv = document.getElementById(\"altair-viz-bc85e52cf4d34d7ebf2f6573fb4950d2\");\n",
              "    }\n",
              "    const paths = {\n",
              "      \"vega\": \"https://cdn.jsdelivr.net/npm//vega@5?noext\",\n",
              "      \"vega-lib\": \"https://cdn.jsdelivr.net/npm//vega-lib?noext\",\n",
              "      \"vega-lite\": \"https://cdn.jsdelivr.net/npm//vega-lite@4.8.1?noext\",\n",
              "      \"vega-embed\": \"https://cdn.jsdelivr.net/npm//vega-embed@6?noext\",\n",
              "    };\n",
              "\n",
              "    function loadScript(lib) {\n",
              "      return new Promise(function(resolve, reject) {\n",
              "        var s = document.createElement('script');\n",
              "        s.src = paths[lib];\n",
              "        s.async = true;\n",
              "        s.onload = () => resolve(paths[lib]);\n",
              "        s.onerror = () => reject(`Error loading script: ${paths[lib]}`);\n",
              "        document.getElementsByTagName(\"head\")[0].appendChild(s);\n",
              "      });\n",
              "    }\n",
              "\n",
              "    function showError(err) {\n",
              "      outputDiv.innerHTML = `<div class=\"error\" style=\"color:red;\">${err}</div>`;\n",
              "      throw err;\n",
              "    }\n",
              "\n",
              "    function displayChart(vegaEmbed) {\n",
              "      vegaEmbed(outputDiv, spec, embedOpt)\n",
              "        .catch(err => showError(`Javascript Error: ${err.message}<br>This usually means there's a typo in your chart specification. See the javascript console for the full traceback.`));\n",
              "    }\n",
              "\n",
              "    if(typeof define === \"function\" && define.amd) {\n",
              "      requirejs.config({paths});\n",
              "      require([\"vega-embed\"], displayChart, err => showError(`Error loading script: ${err.message}`));\n",
              "    } else if (typeof vegaEmbed === \"function\") {\n",
              "      displayChart(vegaEmbed);\n",
              "    } else {\n",
              "      loadScript(\"vega\")\n",
              "        .then(() => loadScript(\"vega-lite\"))\n",
              "        .then(() => loadScript(\"vega-embed\"))\n",
              "        .catch(showError)\n",
              "        .then(() => displayChart(vegaEmbed));\n",
              "    }\n",
              "  })({\"config\": {\"view\": {\"continuousWidth\": 400, \"continuousHeight\": 300}}, \"data\": {\"name\": \"data-cc83f7554cb6b5532fdb929f56861c75\"}, \"mark\": \"bar\", \"encoding\": {\"color\": {\"type\": \"nominal\", \"field\": \"Gender\"}, \"column\": {\"type\": \"nominal\", \"field\": \"Words\"}, \"x\": {\"type\": \"nominal\", \"field\": \"Gender\"}, \"y\": {\"type\": \"quantitative\", \"field\": \"Scores\"}}, \"$schema\": \"https://vega.github.io/schema/vega-lite/v4.8.1.json\", \"datasets\": {\"data-cc83f7554cb6b5532fdb929f56861c75\": [{\"Words\": \"doctor\", \"Scores\": 0.0650777742266655, \"Gender\": \"man\"}, {\"Words\": \"nurse\", \"Scores\": 0.06734465062618256, \"Gender\": \"man\"}, {\"Words\": \"lawyer\", \"Scores\": 0.0362306572496891, \"Gender\": \"man\"}, {\"Words\": \"cop\", \"Scores\": 0.03501781076192856, \"Gender\": \"man\"}, {\"Words\": \"plumber\", \"Scores\": -0.07606598734855652, \"Gender\": \"man\"}, {\"Words\": \"teacher\", \"Scores\": -0.015016519464552402, \"Gender\": \"man\"}, {\"Words\": \"chef\", \"Scores\": 0.05061805993318558, \"Gender\": \"man\"}, {\"Words\": \"doctor\", \"Scores\": 0.12355969101190567, \"Gender\": \"woman\"}, {\"Words\": \"nurse\", \"Scores\": 0.09612587094306946, \"Gender\": \"woman\"}, {\"Words\": \"lawyer\", \"Scores\": 0.11171897500753403, \"Gender\": \"woman\"}, {\"Words\": \"cop\", \"Scores\": -0.008292196318507195, \"Gender\": \"woman\"}, {\"Words\": \"plumber\", \"Scores\": 0.009087694808840752, \"Gender\": \"woman\"}, {\"Words\": \"teacher\", \"Scores\": 0.004921164829283953, \"Gender\": \"woman\"}, {\"Words\": \"chef\", \"Scores\": 0.024627920240163803, \"Gender\": \"woman\"}]}}, {\"mode\": \"vega-lite\"});\n",
              "</script>"
            ]
          },
          "metadata": {
            "tags": []
          },
          "execution_count": 38
        }
      ]
    },
    {
      "cell_type": "code",
      "metadata": {
        "id": "eGFfbhHYpug2"
      },
      "source": [
        ""
      ],
      "execution_count": null,
      "outputs": []
    },
    {
      "cell_type": "markdown",
      "metadata": {
        "id": "sDdU0MaPp4Hc"
      },
      "source": [
        "## Race "
      ]
    },
    {
      "cell_type": "code",
      "metadata": {
        "id": "omCuCijvzMud"
      },
      "source": [
        "race = \"\"\"black\n",
        "hispanic\n",
        "asian\n",
        "white\n",
        "\"\"\".splitlines()"
      ],
      "execution_count": null,
      "outputs": []
    },
    {
      "cell_type": "code",
      "metadata": {
        "id": "GYtviNOez3WX"
      },
      "source": [
        "sentiment = \"\"\"good\n",
        "bad\n",
        "pleasant\n",
        "unpleasant\n",
        "smart\n",
        "stupid\n",
        "\"\"\".splitlines()"
      ],
      "execution_count": null,
      "outputs": []
    },
    {
      "cell_type": "code",
      "metadata": {
        "id": "ouenn7I8psvW",
        "colab": {
          "base_uri": "https://localhost:8080/",
          "height": 738
        },
        "outputId": "67654a6f-1f87-4345-daa2-f7ffb47ea05e"
      },
      "source": [
        "scores = []\n",
        "names = []\n",
        "race_listed = []\n",
        "for i in race:\n",
        "  for j in sentiment:\n",
        "    scores.append(Word_node2Vec_debias_gm.similarity(i, j))\n",
        "    names.append(j)\n",
        "    race_listed.append(i)\n",
        "similarity_scores_debias = pd.DataFrame()\n",
        "similarity_scores_debias['Words'] = names\n",
        "similarity_scores_debias['Scores'] = scores\n",
        "similarity_scores_debias['Race'] = race_listed\n",
        "similarity_scores_debias"
      ],
      "execution_count": null,
      "outputs": [
        {
          "output_type": "execute_result",
          "data": {
            "text/html": [
              "<div>\n",
              "<style scoped>\n",
              "    .dataframe tbody tr th:only-of-type {\n",
              "        vertical-align: middle;\n",
              "    }\n",
              "\n",
              "    .dataframe tbody tr th {\n",
              "        vertical-align: top;\n",
              "    }\n",
              "\n",
              "    .dataframe thead th {\n",
              "        text-align: right;\n",
              "    }\n",
              "</style>\n",
              "<table border=\"1\" class=\"dataframe\">\n",
              "  <thead>\n",
              "    <tr style=\"text-align: right;\">\n",
              "      <th></th>\n",
              "      <th>Words</th>\n",
              "      <th>Scores</th>\n",
              "      <th>Race</th>\n",
              "    </tr>\n",
              "  </thead>\n",
              "  <tbody>\n",
              "    <tr>\n",
              "      <th>0</th>\n",
              "      <td>good</td>\n",
              "      <td>0.081130</td>\n",
              "      <td>black</td>\n",
              "    </tr>\n",
              "    <tr>\n",
              "      <th>1</th>\n",
              "      <td>bad</td>\n",
              "      <td>-0.055576</td>\n",
              "      <td>black</td>\n",
              "    </tr>\n",
              "    <tr>\n",
              "      <th>2</th>\n",
              "      <td>pleasant</td>\n",
              "      <td>0.063313</td>\n",
              "      <td>black</td>\n",
              "    </tr>\n",
              "    <tr>\n",
              "      <th>3</th>\n",
              "      <td>unpleasant</td>\n",
              "      <td>0.084171</td>\n",
              "      <td>black</td>\n",
              "    </tr>\n",
              "    <tr>\n",
              "      <th>4</th>\n",
              "      <td>smart</td>\n",
              "      <td>-0.119323</td>\n",
              "      <td>black</td>\n",
              "    </tr>\n",
              "    <tr>\n",
              "      <th>5</th>\n",
              "      <td>stupid</td>\n",
              "      <td>0.017625</td>\n",
              "      <td>black</td>\n",
              "    </tr>\n",
              "    <tr>\n",
              "      <th>6</th>\n",
              "      <td>good</td>\n",
              "      <td>0.123991</td>\n",
              "      <td>hispanic</td>\n",
              "    </tr>\n",
              "    <tr>\n",
              "      <th>7</th>\n",
              "      <td>bad</td>\n",
              "      <td>-0.075058</td>\n",
              "      <td>hispanic</td>\n",
              "    </tr>\n",
              "    <tr>\n",
              "      <th>8</th>\n",
              "      <td>pleasant</td>\n",
              "      <td>0.146658</td>\n",
              "      <td>hispanic</td>\n",
              "    </tr>\n",
              "    <tr>\n",
              "      <th>9</th>\n",
              "      <td>unpleasant</td>\n",
              "      <td>0.019382</td>\n",
              "      <td>hispanic</td>\n",
              "    </tr>\n",
              "    <tr>\n",
              "      <th>10</th>\n",
              "      <td>smart</td>\n",
              "      <td>0.056096</td>\n",
              "      <td>hispanic</td>\n",
              "    </tr>\n",
              "    <tr>\n",
              "      <th>11</th>\n",
              "      <td>stupid</td>\n",
              "      <td>0.017691</td>\n",
              "      <td>hispanic</td>\n",
              "    </tr>\n",
              "    <tr>\n",
              "      <th>12</th>\n",
              "      <td>good</td>\n",
              "      <td>-0.001359</td>\n",
              "      <td>asian</td>\n",
              "    </tr>\n",
              "    <tr>\n",
              "      <th>13</th>\n",
              "      <td>bad</td>\n",
              "      <td>0.035437</td>\n",
              "      <td>asian</td>\n",
              "    </tr>\n",
              "    <tr>\n",
              "      <th>14</th>\n",
              "      <td>pleasant</td>\n",
              "      <td>-0.089305</td>\n",
              "      <td>asian</td>\n",
              "    </tr>\n",
              "    <tr>\n",
              "      <th>15</th>\n",
              "      <td>unpleasant</td>\n",
              "      <td>-0.018376</td>\n",
              "      <td>asian</td>\n",
              "    </tr>\n",
              "    <tr>\n",
              "      <th>16</th>\n",
              "      <td>smart</td>\n",
              "      <td>0.121513</td>\n",
              "      <td>asian</td>\n",
              "    </tr>\n",
              "    <tr>\n",
              "      <th>17</th>\n",
              "      <td>stupid</td>\n",
              "      <td>-0.090815</td>\n",
              "      <td>asian</td>\n",
              "    </tr>\n",
              "    <tr>\n",
              "      <th>18</th>\n",
              "      <td>good</td>\n",
              "      <td>0.104453</td>\n",
              "      <td>white</td>\n",
              "    </tr>\n",
              "    <tr>\n",
              "      <th>19</th>\n",
              "      <td>bad</td>\n",
              "      <td>-0.084547</td>\n",
              "      <td>white</td>\n",
              "    </tr>\n",
              "    <tr>\n",
              "      <th>20</th>\n",
              "      <td>pleasant</td>\n",
              "      <td>0.131125</td>\n",
              "      <td>white</td>\n",
              "    </tr>\n",
              "    <tr>\n",
              "      <th>21</th>\n",
              "      <td>unpleasant</td>\n",
              "      <td>0.115134</td>\n",
              "      <td>white</td>\n",
              "    </tr>\n",
              "    <tr>\n",
              "      <th>22</th>\n",
              "      <td>smart</td>\n",
              "      <td>-0.106809</td>\n",
              "      <td>white</td>\n",
              "    </tr>\n",
              "    <tr>\n",
              "      <th>23</th>\n",
              "      <td>stupid</td>\n",
              "      <td>0.075489</td>\n",
              "      <td>white</td>\n",
              "    </tr>\n",
              "  </tbody>\n",
              "</table>\n",
              "</div>"
            ],
            "text/plain": [
              "         Words    Scores      Race\n",
              "0         good  0.081130     black\n",
              "1          bad -0.055576     black\n",
              "2     pleasant  0.063313     black\n",
              "3   unpleasant  0.084171     black\n",
              "4        smart -0.119323     black\n",
              "5       stupid  0.017625     black\n",
              "6         good  0.123991  hispanic\n",
              "7          bad -0.075058  hispanic\n",
              "8     pleasant  0.146658  hispanic\n",
              "9   unpleasant  0.019382  hispanic\n",
              "10       smart  0.056096  hispanic\n",
              "11      stupid  0.017691  hispanic\n",
              "12        good -0.001359     asian\n",
              "13         bad  0.035437     asian\n",
              "14    pleasant -0.089305     asian\n",
              "15  unpleasant -0.018376     asian\n",
              "16       smart  0.121513     asian\n",
              "17      stupid -0.090815     asian\n",
              "18        good  0.104453     white\n",
              "19         bad -0.084547     white\n",
              "20    pleasant  0.131125     white\n",
              "21  unpleasant  0.115134     white\n",
              "22       smart -0.106809     white\n",
              "23      stupid  0.075489     white"
            ]
          },
          "metadata": {
            "tags": []
          },
          "execution_count": 41
        }
      ]
    },
    {
      "cell_type": "code",
      "metadata": {
        "id": "oJ9TUA3rqAA_",
        "colab": {
          "base_uri": "https://localhost:8080/",
          "height": 738
        },
        "outputId": "a9ee6704-ae29-4d2b-e295-9db01ab18a0a"
      },
      "source": [
        "scores = []\n",
        "names = []\n",
        "race_listed = []\n",
        "for i in race:\n",
        "  for j in sentiment:\n",
        "    scores.append(Word_node2Vec.similarity(i, j))\n",
        "    names.append(j)\n",
        "    race_listed.append(i)\n",
        "similarity_scores = pd.DataFrame()\n",
        "similarity_scores['Words'] = names\n",
        "similarity_scores['Scores'] = scores\n",
        "similarity_scores['Race'] = race_listed\n",
        "similarity_scores"
      ],
      "execution_count": null,
      "outputs": [
        {
          "output_type": "execute_result",
          "data": {
            "text/html": [
              "<div>\n",
              "<style scoped>\n",
              "    .dataframe tbody tr th:only-of-type {\n",
              "        vertical-align: middle;\n",
              "    }\n",
              "\n",
              "    .dataframe tbody tr th {\n",
              "        vertical-align: top;\n",
              "    }\n",
              "\n",
              "    .dataframe thead th {\n",
              "        text-align: right;\n",
              "    }\n",
              "</style>\n",
              "<table border=\"1\" class=\"dataframe\">\n",
              "  <thead>\n",
              "    <tr style=\"text-align: right;\">\n",
              "      <th></th>\n",
              "      <th>Words</th>\n",
              "      <th>Scores</th>\n",
              "      <th>Race</th>\n",
              "    </tr>\n",
              "  </thead>\n",
              "  <tbody>\n",
              "    <tr>\n",
              "      <th>0</th>\n",
              "      <td>good</td>\n",
              "      <td>0.326724</td>\n",
              "      <td>black</td>\n",
              "    </tr>\n",
              "    <tr>\n",
              "      <th>1</th>\n",
              "      <td>bad</td>\n",
              "      <td>0.204275</td>\n",
              "      <td>black</td>\n",
              "    </tr>\n",
              "    <tr>\n",
              "      <th>2</th>\n",
              "      <td>pleasant</td>\n",
              "      <td>0.318188</td>\n",
              "      <td>black</td>\n",
              "    </tr>\n",
              "    <tr>\n",
              "      <th>3</th>\n",
              "      <td>unpleasant</td>\n",
              "      <td>0.414323</td>\n",
              "      <td>black</td>\n",
              "    </tr>\n",
              "    <tr>\n",
              "      <th>4</th>\n",
              "      <td>smart</td>\n",
              "      <td>0.147708</td>\n",
              "      <td>black</td>\n",
              "    </tr>\n",
              "    <tr>\n",
              "      <th>5</th>\n",
              "      <td>stupid</td>\n",
              "      <td>0.396609</td>\n",
              "      <td>black</td>\n",
              "    </tr>\n",
              "    <tr>\n",
              "      <th>6</th>\n",
              "      <td>good</td>\n",
              "      <td>0.364201</td>\n",
              "      <td>hispanic</td>\n",
              "    </tr>\n",
              "    <tr>\n",
              "      <th>7</th>\n",
              "      <td>bad</td>\n",
              "      <td>0.222426</td>\n",
              "      <td>hispanic</td>\n",
              "    </tr>\n",
              "    <tr>\n",
              "      <th>8</th>\n",
              "      <td>pleasant</td>\n",
              "      <td>0.396159</td>\n",
              "      <td>hispanic</td>\n",
              "    </tr>\n",
              "    <tr>\n",
              "      <th>9</th>\n",
              "      <td>unpleasant</td>\n",
              "      <td>0.387596</td>\n",
              "      <td>hispanic</td>\n",
              "    </tr>\n",
              "    <tr>\n",
              "      <th>10</th>\n",
              "      <td>smart</td>\n",
              "      <td>0.356596</td>\n",
              "      <td>hispanic</td>\n",
              "    </tr>\n",
              "    <tr>\n",
              "      <th>11</th>\n",
              "      <td>stupid</td>\n",
              "      <td>0.441587</td>\n",
              "      <td>hispanic</td>\n",
              "    </tr>\n",
              "    <tr>\n",
              "      <th>12</th>\n",
              "      <td>good</td>\n",
              "      <td>0.213440</td>\n",
              "      <td>asian</td>\n",
              "    </tr>\n",
              "    <tr>\n",
              "      <th>13</th>\n",
              "      <td>bad</td>\n",
              "      <td>0.200733</td>\n",
              "      <td>asian</td>\n",
              "    </tr>\n",
              "    <tr>\n",
              "      <th>14</th>\n",
              "      <td>pleasant</td>\n",
              "      <td>0.135690</td>\n",
              "      <td>asian</td>\n",
              "    </tr>\n",
              "    <tr>\n",
              "      <th>15</th>\n",
              "      <td>unpleasant</td>\n",
              "      <td>0.263494</td>\n",
              "      <td>asian</td>\n",
              "    </tr>\n",
              "    <tr>\n",
              "      <th>16</th>\n",
              "      <td>smart</td>\n",
              "      <td>0.314170</td>\n",
              "      <td>asian</td>\n",
              "    </tr>\n",
              "    <tr>\n",
              "      <th>17</th>\n",
              "      <td>stupid</td>\n",
              "      <td>0.261917</td>\n",
              "      <td>asian</td>\n",
              "    </tr>\n",
              "    <tr>\n",
              "      <th>18</th>\n",
              "      <td>good</td>\n",
              "      <td>0.313151</td>\n",
              "      <td>white</td>\n",
              "    </tr>\n",
              "    <tr>\n",
              "      <th>19</th>\n",
              "      <td>bad</td>\n",
              "      <td>0.152150</td>\n",
              "      <td>white</td>\n",
              "    </tr>\n",
              "    <tr>\n",
              "      <th>20</th>\n",
              "      <td>pleasant</td>\n",
              "      <td>0.374248</td>\n",
              "      <td>white</td>\n",
              "    </tr>\n",
              "    <tr>\n",
              "      <th>21</th>\n",
              "      <td>unpleasant</td>\n",
              "      <td>0.409826</td>\n",
              "      <td>white</td>\n",
              "    </tr>\n",
              "    <tr>\n",
              "      <th>22</th>\n",
              "      <td>smart</td>\n",
              "      <td>0.142625</td>\n",
              "      <td>white</td>\n",
              "    </tr>\n",
              "    <tr>\n",
              "      <th>23</th>\n",
              "      <td>stupid</td>\n",
              "      <td>0.355927</td>\n",
              "      <td>white</td>\n",
              "    </tr>\n",
              "  </tbody>\n",
              "</table>\n",
              "</div>"
            ],
            "text/plain": [
              "         Words    Scores      Race\n",
              "0         good  0.326724     black\n",
              "1          bad  0.204275     black\n",
              "2     pleasant  0.318188     black\n",
              "3   unpleasant  0.414323     black\n",
              "4        smart  0.147708     black\n",
              "5       stupid  0.396609     black\n",
              "6         good  0.364201  hispanic\n",
              "7          bad  0.222426  hispanic\n",
              "8     pleasant  0.396159  hispanic\n",
              "9   unpleasant  0.387596  hispanic\n",
              "10       smart  0.356596  hispanic\n",
              "11      stupid  0.441587  hispanic\n",
              "12        good  0.213440     asian\n",
              "13         bad  0.200733     asian\n",
              "14    pleasant  0.135690     asian\n",
              "15  unpleasant  0.263494     asian\n",
              "16       smart  0.314170     asian\n",
              "17      stupid  0.261917     asian\n",
              "18        good  0.313151     white\n",
              "19         bad  0.152150     white\n",
              "20    pleasant  0.374248     white\n",
              "21  unpleasant  0.409826     white\n",
              "22       smart  0.142625     white\n",
              "23      stupid  0.355927     white"
            ]
          },
          "metadata": {
            "tags": []
          },
          "execution_count": 42
        }
      ]
    },
    {
      "cell_type": "code",
      "metadata": {
        "colab": {
          "base_uri": "https://localhost:8080/",
          "height": 442
        },
        "id": "iM3y3N0I14JN",
        "outputId": "7b154399-16f0-4564-ece3-77aa321e7945"
      },
      "source": [
        "alt.Chart(similarity_scores).mark_bar().encode(\n",
        "    x='Race:N',\n",
        "    y='Scores:Q',\n",
        "    color='Race:N',\n",
        "    column='Words:N'\n",
        ")"
      ],
      "execution_count": null,
      "outputs": [
        {
          "output_type": "execute_result",
          "data": {
            "text/plain": [
              "alt.Chart(...)"
            ],
            "text/html": [
              "\n",
              "<div id=\"altair-viz-0b667990411c448296afef0c7553e370\"></div>\n",
              "<script type=\"text/javascript\">\n",
              "  (function(spec, embedOpt){\n",
              "    let outputDiv = document.currentScript.previousElementSibling;\n",
              "    if (outputDiv.id !== \"altair-viz-0b667990411c448296afef0c7553e370\") {\n",
              "      outputDiv = document.getElementById(\"altair-viz-0b667990411c448296afef0c7553e370\");\n",
              "    }\n",
              "    const paths = {\n",
              "      \"vega\": \"https://cdn.jsdelivr.net/npm//vega@5?noext\",\n",
              "      \"vega-lib\": \"https://cdn.jsdelivr.net/npm//vega-lib?noext\",\n",
              "      \"vega-lite\": \"https://cdn.jsdelivr.net/npm//vega-lite@4.8.1?noext\",\n",
              "      \"vega-embed\": \"https://cdn.jsdelivr.net/npm//vega-embed@6?noext\",\n",
              "    };\n",
              "\n",
              "    function loadScript(lib) {\n",
              "      return new Promise(function(resolve, reject) {\n",
              "        var s = document.createElement('script');\n",
              "        s.src = paths[lib];\n",
              "        s.async = true;\n",
              "        s.onload = () => resolve(paths[lib]);\n",
              "        s.onerror = () => reject(`Error loading script: ${paths[lib]}`);\n",
              "        document.getElementsByTagName(\"head\")[0].appendChild(s);\n",
              "      });\n",
              "    }\n",
              "\n",
              "    function showError(err) {\n",
              "      outputDiv.innerHTML = `<div class=\"error\" style=\"color:red;\">${err}</div>`;\n",
              "      throw err;\n",
              "    }\n",
              "\n",
              "    function displayChart(vegaEmbed) {\n",
              "      vegaEmbed(outputDiv, spec, embedOpt)\n",
              "        .catch(err => showError(`Javascript Error: ${err.message}<br>This usually means there's a typo in your chart specification. See the javascript console for the full traceback.`));\n",
              "    }\n",
              "\n",
              "    if(typeof define === \"function\" && define.amd) {\n",
              "      requirejs.config({paths});\n",
              "      require([\"vega-embed\"], displayChart, err => showError(`Error loading script: ${err.message}`));\n",
              "    } else if (typeof vegaEmbed === \"function\") {\n",
              "      displayChart(vegaEmbed);\n",
              "    } else {\n",
              "      loadScript(\"vega\")\n",
              "        .then(() => loadScript(\"vega-lite\"))\n",
              "        .then(() => loadScript(\"vega-embed\"))\n",
              "        .catch(showError)\n",
              "        .then(() => displayChart(vegaEmbed));\n",
              "    }\n",
              "  })({\"config\": {\"view\": {\"continuousWidth\": 400, \"continuousHeight\": 300}}, \"data\": {\"name\": \"data-b14a12fb4f7fa8e9b1bc46afee7738b1\"}, \"mark\": \"bar\", \"encoding\": {\"color\": {\"type\": \"nominal\", \"field\": \"Race\"}, \"column\": {\"type\": \"nominal\", \"field\": \"Words\"}, \"x\": {\"type\": \"nominal\", \"field\": \"Race\"}, \"y\": {\"type\": \"quantitative\", \"field\": \"Scores\"}}, \"$schema\": \"https://vega.github.io/schema/vega-lite/v4.8.1.json\", \"datasets\": {\"data-b14a12fb4f7fa8e9b1bc46afee7738b1\": [{\"Words\": \"good\", \"Scores\": 0.3267240822315216, \"Race\": \"black\"}, {\"Words\": \"bad\", \"Scores\": 0.20427508652210236, \"Race\": \"black\"}, {\"Words\": \"pleasant\", \"Scores\": 0.31818848848342896, \"Race\": \"black\"}, {\"Words\": \"unpleasant\", \"Scores\": 0.41432300209999084, \"Race\": \"black\"}, {\"Words\": \"smart\", \"Scores\": 0.147708460688591, \"Race\": \"black\"}, {\"Words\": \"stupid\", \"Scores\": 0.39660853147506714, \"Race\": \"black\"}, {\"Words\": \"good\", \"Scores\": 0.3642010986804962, \"Race\": \"hispanic\"}, {\"Words\": \"bad\", \"Scores\": 0.22242562472820282, \"Race\": \"hispanic\"}, {\"Words\": \"pleasant\", \"Scores\": 0.3961588442325592, \"Race\": \"hispanic\"}, {\"Words\": \"unpleasant\", \"Scores\": 0.3875957727432251, \"Race\": \"hispanic\"}, {\"Words\": \"smart\", \"Scores\": 0.3565964996814728, \"Race\": \"hispanic\"}, {\"Words\": \"stupid\", \"Scores\": 0.44158729910850525, \"Race\": \"hispanic\"}, {\"Words\": \"good\", \"Scores\": 0.21343979239463806, \"Race\": \"asian\"}, {\"Words\": \"bad\", \"Scores\": 0.20073308050632477, \"Race\": \"asian\"}, {\"Words\": \"pleasant\", \"Scores\": 0.1356898844242096, \"Race\": \"asian\"}, {\"Words\": \"unpleasant\", \"Scores\": 0.2634935677051544, \"Race\": \"asian\"}, {\"Words\": \"smart\", \"Scores\": 0.31416991353034973, \"Race\": \"asian\"}, {\"Words\": \"stupid\", \"Scores\": 0.2619166374206543, \"Race\": \"asian\"}, {\"Words\": \"good\", \"Scores\": 0.31315067410469055, \"Race\": \"white\"}, {\"Words\": \"bad\", \"Scores\": 0.15215010941028595, \"Race\": \"white\"}, {\"Words\": \"pleasant\", \"Scores\": 0.3742484450340271, \"Race\": \"white\"}, {\"Words\": \"unpleasant\", \"Scores\": 0.4098261892795563, \"Race\": \"white\"}, {\"Words\": \"smart\", \"Scores\": 0.1426253467798233, \"Race\": \"white\"}, {\"Words\": \"stupid\", \"Scores\": 0.3559270203113556, \"Race\": \"white\"}]}}, {\"mode\": \"vega-lite\"});\n",
              "</script>"
            ]
          },
          "metadata": {
            "tags": []
          },
          "execution_count": 43
        }
      ]
    },
    {
      "cell_type": "code",
      "metadata": {
        "colab": {
          "base_uri": "https://localhost:8080/",
          "height": 442
        },
        "id": "fAZqPQuu1-FF",
        "outputId": "b290b1a9-3bfd-4a55-c241-ef2205bd334a"
      },
      "source": [
        "alt.Chart(similarity_scores_debias).mark_bar().encode(\n",
        "    x='Race:N',\n",
        "    y='Scores:Q',\n",
        "    color='Race:N',\n",
        "    column='Words:N'\n",
        ")"
      ],
      "execution_count": null,
      "outputs": [
        {
          "output_type": "execute_result",
          "data": {
            "text/plain": [
              "alt.Chart(...)"
            ],
            "text/html": [
              "\n",
              "<div id=\"altair-viz-3d390108e4644cca804ef3e7e5d7e5f6\"></div>\n",
              "<script type=\"text/javascript\">\n",
              "  (function(spec, embedOpt){\n",
              "    let outputDiv = document.currentScript.previousElementSibling;\n",
              "    if (outputDiv.id !== \"altair-viz-3d390108e4644cca804ef3e7e5d7e5f6\") {\n",
              "      outputDiv = document.getElementById(\"altair-viz-3d390108e4644cca804ef3e7e5d7e5f6\");\n",
              "    }\n",
              "    const paths = {\n",
              "      \"vega\": \"https://cdn.jsdelivr.net/npm//vega@5?noext\",\n",
              "      \"vega-lib\": \"https://cdn.jsdelivr.net/npm//vega-lib?noext\",\n",
              "      \"vega-lite\": \"https://cdn.jsdelivr.net/npm//vega-lite@4.8.1?noext\",\n",
              "      \"vega-embed\": \"https://cdn.jsdelivr.net/npm//vega-embed@6?noext\",\n",
              "    };\n",
              "\n",
              "    function loadScript(lib) {\n",
              "      return new Promise(function(resolve, reject) {\n",
              "        var s = document.createElement('script');\n",
              "        s.src = paths[lib];\n",
              "        s.async = true;\n",
              "        s.onload = () => resolve(paths[lib]);\n",
              "        s.onerror = () => reject(`Error loading script: ${paths[lib]}`);\n",
              "        document.getElementsByTagName(\"head\")[0].appendChild(s);\n",
              "      });\n",
              "    }\n",
              "\n",
              "    function showError(err) {\n",
              "      outputDiv.innerHTML = `<div class=\"error\" style=\"color:red;\">${err}</div>`;\n",
              "      throw err;\n",
              "    }\n",
              "\n",
              "    function displayChart(vegaEmbed) {\n",
              "      vegaEmbed(outputDiv, spec, embedOpt)\n",
              "        .catch(err => showError(`Javascript Error: ${err.message}<br>This usually means there's a typo in your chart specification. See the javascript console for the full traceback.`));\n",
              "    }\n",
              "\n",
              "    if(typeof define === \"function\" && define.amd) {\n",
              "      requirejs.config({paths});\n",
              "      require([\"vega-embed\"], displayChart, err => showError(`Error loading script: ${err.message}`));\n",
              "    } else if (typeof vegaEmbed === \"function\") {\n",
              "      displayChart(vegaEmbed);\n",
              "    } else {\n",
              "      loadScript(\"vega\")\n",
              "        .then(() => loadScript(\"vega-lite\"))\n",
              "        .then(() => loadScript(\"vega-embed\"))\n",
              "        .catch(showError)\n",
              "        .then(() => displayChart(vegaEmbed));\n",
              "    }\n",
              "  })({\"config\": {\"view\": {\"continuousWidth\": 400, \"continuousHeight\": 300}}, \"data\": {\"name\": \"data-f2a9cd82a81ec73caf6d2e9d6b17d063\"}, \"mark\": \"bar\", \"encoding\": {\"color\": {\"type\": \"nominal\", \"field\": \"Race\"}, \"column\": {\"type\": \"nominal\", \"field\": \"Words\"}, \"x\": {\"type\": \"nominal\", \"field\": \"Race\"}, \"y\": {\"type\": \"quantitative\", \"field\": \"Scores\"}}, \"$schema\": \"https://vega.github.io/schema/vega-lite/v4.8.1.json\", \"datasets\": {\"data-f2a9cd82a81ec73caf6d2e9d6b17d063\": [{\"Words\": \"good\", \"Scores\": 0.08113022893667221, \"Race\": \"black\"}, {\"Words\": \"bad\", \"Scores\": -0.05557606741786003, \"Race\": \"black\"}, {\"Words\": \"pleasant\", \"Scores\": 0.06331294775009155, \"Race\": \"black\"}, {\"Words\": \"unpleasant\", \"Scores\": 0.08417117595672607, \"Race\": \"black\"}, {\"Words\": \"smart\", \"Scores\": -0.119322769343853, \"Race\": \"black\"}, {\"Words\": \"stupid\", \"Scores\": 0.017624787986278534, \"Race\": \"black\"}, {\"Words\": \"good\", \"Scores\": 0.12399129569530487, \"Race\": \"hispanic\"}, {\"Words\": \"bad\", \"Scores\": -0.07505767047405243, \"Race\": \"hispanic\"}, {\"Words\": \"pleasant\", \"Scores\": 0.14665764570236206, \"Race\": \"hispanic\"}, {\"Words\": \"unpleasant\", \"Scores\": 0.01938154734671116, \"Race\": \"hispanic\"}, {\"Words\": \"smart\", \"Scores\": 0.0560963973402977, \"Race\": \"hispanic\"}, {\"Words\": \"stupid\", \"Scores\": 0.017690598964691162, \"Race\": \"hispanic\"}, {\"Words\": \"good\", \"Scores\": -0.0013594900956377387, \"Race\": \"asian\"}, {\"Words\": \"bad\", \"Scores\": 0.03543686494231224, \"Race\": \"asian\"}, {\"Words\": \"pleasant\", \"Scores\": -0.08930539339780807, \"Race\": \"asian\"}, {\"Words\": \"unpleasant\", \"Scores\": -0.018375545740127563, \"Race\": \"asian\"}, {\"Words\": \"smart\", \"Scores\": 0.12151286005973816, \"Race\": \"asian\"}, {\"Words\": \"stupid\", \"Scores\": -0.09081511944532394, \"Race\": \"asian\"}, {\"Words\": \"good\", \"Scores\": 0.10445275902748108, \"Race\": \"white\"}, {\"Words\": \"bad\", \"Scores\": -0.084547258913517, \"Race\": \"white\"}, {\"Words\": \"pleasant\", \"Scores\": 0.1311245858669281, \"Race\": \"white\"}, {\"Words\": \"unpleasant\", \"Scores\": 0.11513397842645645, \"Race\": \"white\"}, {\"Words\": \"smart\", \"Scores\": -0.10680896788835526, \"Race\": \"white\"}, {\"Words\": \"stupid\", \"Scores\": 0.07548858970403671, \"Race\": \"white\"}]}}, {\"mode\": \"vega-lite\"});\n",
              "</script>"
            ]
          },
          "metadata": {
            "tags": []
          },
          "execution_count": 44
        }
      ]
    },
    {
      "cell_type": "code",
      "metadata": {
        "id": "jsv5LArAVL-b"
      },
      "source": [
        "def func_similarity_scores(embedding, embed_debias, stringlist1, stringlist2):\n",
        "  scores = []\n",
        "  names = []\n",
        "  category = []\n",
        "  for i in stringlist1:\n",
        "    for j in stringlist2:\n",
        "      scores.append(embedding.similarity(i, j))\n",
        "      scores.append(embed_debias.similarity(i, j))\n",
        "      names.append(j)\n",
        "      names.append(j)\n",
        "      category.append(i)\n",
        "      category.append(i + ' debias')\n",
        "  similarity_scores = pd.DataFrame()\n",
        "  similarity_scores['Words'] = names\n",
        "  similarity_scores['Scores'] = scores\n",
        "  similarity_scores['Race'] = category\n",
        "  return similarity_scores"
      ],
      "execution_count": null,
      "outputs": []
    },
    {
      "cell_type": "code",
      "metadata": {
        "id": "924yV4JNWAJt"
      },
      "source": [
        "def func_similarity_scores(embedding, embed_debias, stringlist1, stringlist2, x_title, y_title, column_title):\n",
        "  scores = []\n",
        "  names = []\n",
        "  category = []\n",
        "  for i in stringlist1:\n",
        "    for j in stringlist2:\n",
        "      scores.append(embedding.similarity(i, j))\n",
        "      scores.append(embed_debias.similarity(i, j))\n",
        "      names.append(j)\n",
        "      names.append(j)\n",
        "      category.append(i)\n",
        "      category.append(i + ' debias')\n",
        "  similarity_scores = pd.DataFrame()\n",
        "  similarity_scores[x_title] = names\n",
        "  similarity_scores[y_title] = scores\n",
        "  similarity_scores[column_title] = category\n",
        "\n",
        "  k = alt.Chart(similarity_scores).mark_bar().encode(\n",
        "    x=x_title + ':N',\n",
        "    y=y_title + ':Q',\n",
        "    color=x_title + ':N',\n",
        "    column=column_title + ':N'\n",
        "  )\n",
        "  return similarity_scores, k"
      ],
      "execution_count": null,
      "outputs": []
    },
    {
      "cell_type": "code",
      "metadata": {
        "id": "mElzX987Wwkv"
      },
      "source": [
        "def func_similarity_scores(embedding, embed_debias, stringlist1, stringlist2, x_title, y_title, column_title):\n",
        "  scores = []\n",
        "  names = []\n",
        "  category = []\n",
        "  for i in stringlist1:\n",
        "    for j in stringlist2:\n",
        "      scores.append(embedding.similarity(i, j))\n",
        "      scores.append(embed_debias.similarity(i, j))\n",
        "      names.append(j)\n",
        "      names.append(j)\n",
        "      category.append(i)\n",
        "      category.append(i + ' debias')\n",
        "  similarity_scores = pd.DataFrame()\n",
        "  similarity_scores[x_title] = names\n",
        "  similarity_scores[y_title] = scores\n",
        "  similarity_scores[column_title] = category\n",
        "  return similarity_scores"
      ],
      "execution_count": null,
      "outputs": []
    },
    {
      "cell_type": "code",
      "metadata": {
        "colab": {
          "base_uri": "https://localhost:8080/",
          "height": 968
        },
        "id": "yxJeiHQF5lWO",
        "outputId": "0283fe9d-91d4-4e66-9329-9d83d467e1b9"
      },
      "source": [
        ""
      ],
      "execution_count": null,
      "outputs": [
        {
          "output_type": "execute_result",
          "data": {
            "text/html": [
              "<div>\n",
              "<style scoped>\n",
              "    .dataframe tbody tr th:only-of-type {\n",
              "        vertical-align: middle;\n",
              "    }\n",
              "\n",
              "    .dataframe tbody tr th {\n",
              "        vertical-align: top;\n",
              "    }\n",
              "\n",
              "    .dataframe thead th {\n",
              "        text-align: right;\n",
              "    }\n",
              "</style>\n",
              "<table border=\"1\" class=\"dataframe\">\n",
              "  <thead>\n",
              "    <tr style=\"text-align: right;\">\n",
              "      <th></th>\n",
              "      <th>Words</th>\n",
              "      <th>Scores</th>\n",
              "      <th>Race</th>\n",
              "    </tr>\n",
              "  </thead>\n",
              "  <tbody>\n",
              "    <tr>\n",
              "      <th>0</th>\n",
              "      <td>good</td>\n",
              "      <td>0.326724</td>\n",
              "      <td>black</td>\n",
              "    </tr>\n",
              "    <tr>\n",
              "      <th>1</th>\n",
              "      <td>good</td>\n",
              "      <td>0.081130</td>\n",
              "      <td>black debias</td>\n",
              "    </tr>\n",
              "    <tr>\n",
              "      <th>2</th>\n",
              "      <td>bad</td>\n",
              "      <td>0.204275</td>\n",
              "      <td>black</td>\n",
              "    </tr>\n",
              "    <tr>\n",
              "      <th>3</th>\n",
              "      <td>bad</td>\n",
              "      <td>-0.055576</td>\n",
              "      <td>black debias</td>\n",
              "    </tr>\n",
              "    <tr>\n",
              "      <th>4</th>\n",
              "      <td>pleasant</td>\n",
              "      <td>0.318188</td>\n",
              "      <td>black</td>\n",
              "    </tr>\n",
              "    <tr>\n",
              "      <th>5</th>\n",
              "      <td>pleasant</td>\n",
              "      <td>0.063313</td>\n",
              "      <td>black debias</td>\n",
              "    </tr>\n",
              "    <tr>\n",
              "      <th>6</th>\n",
              "      <td>unpleasant</td>\n",
              "      <td>0.414323</td>\n",
              "      <td>black</td>\n",
              "    </tr>\n",
              "    <tr>\n",
              "      <th>7</th>\n",
              "      <td>unpleasant</td>\n",
              "      <td>0.084171</td>\n",
              "      <td>black debias</td>\n",
              "    </tr>\n",
              "    <tr>\n",
              "      <th>8</th>\n",
              "      <td>good</td>\n",
              "      <td>0.364201</td>\n",
              "      <td>hispanic</td>\n",
              "    </tr>\n",
              "    <tr>\n",
              "      <th>9</th>\n",
              "      <td>good</td>\n",
              "      <td>0.123991</td>\n",
              "      <td>hispanic debias</td>\n",
              "    </tr>\n",
              "    <tr>\n",
              "      <th>10</th>\n",
              "      <td>bad</td>\n",
              "      <td>0.222426</td>\n",
              "      <td>hispanic</td>\n",
              "    </tr>\n",
              "    <tr>\n",
              "      <th>11</th>\n",
              "      <td>bad</td>\n",
              "      <td>-0.075058</td>\n",
              "      <td>hispanic debias</td>\n",
              "    </tr>\n",
              "    <tr>\n",
              "      <th>12</th>\n",
              "      <td>pleasant</td>\n",
              "      <td>0.396159</td>\n",
              "      <td>hispanic</td>\n",
              "    </tr>\n",
              "    <tr>\n",
              "      <th>13</th>\n",
              "      <td>pleasant</td>\n",
              "      <td>0.146658</td>\n",
              "      <td>hispanic debias</td>\n",
              "    </tr>\n",
              "    <tr>\n",
              "      <th>14</th>\n",
              "      <td>unpleasant</td>\n",
              "      <td>0.387596</td>\n",
              "      <td>hispanic</td>\n",
              "    </tr>\n",
              "    <tr>\n",
              "      <th>15</th>\n",
              "      <td>unpleasant</td>\n",
              "      <td>0.019382</td>\n",
              "      <td>hispanic debias</td>\n",
              "    </tr>\n",
              "    <tr>\n",
              "      <th>16</th>\n",
              "      <td>good</td>\n",
              "      <td>0.213440</td>\n",
              "      <td>asian</td>\n",
              "    </tr>\n",
              "    <tr>\n",
              "      <th>17</th>\n",
              "      <td>good</td>\n",
              "      <td>-0.001359</td>\n",
              "      <td>asian debias</td>\n",
              "    </tr>\n",
              "    <tr>\n",
              "      <th>18</th>\n",
              "      <td>bad</td>\n",
              "      <td>0.200733</td>\n",
              "      <td>asian</td>\n",
              "    </tr>\n",
              "    <tr>\n",
              "      <th>19</th>\n",
              "      <td>bad</td>\n",
              "      <td>0.035437</td>\n",
              "      <td>asian debias</td>\n",
              "    </tr>\n",
              "    <tr>\n",
              "      <th>20</th>\n",
              "      <td>pleasant</td>\n",
              "      <td>0.135690</td>\n",
              "      <td>asian</td>\n",
              "    </tr>\n",
              "    <tr>\n",
              "      <th>21</th>\n",
              "      <td>pleasant</td>\n",
              "      <td>-0.089305</td>\n",
              "      <td>asian debias</td>\n",
              "    </tr>\n",
              "    <tr>\n",
              "      <th>22</th>\n",
              "      <td>unpleasant</td>\n",
              "      <td>0.263494</td>\n",
              "      <td>asian</td>\n",
              "    </tr>\n",
              "    <tr>\n",
              "      <th>23</th>\n",
              "      <td>unpleasant</td>\n",
              "      <td>-0.018376</td>\n",
              "      <td>asian debias</td>\n",
              "    </tr>\n",
              "    <tr>\n",
              "      <th>24</th>\n",
              "      <td>good</td>\n",
              "      <td>0.313151</td>\n",
              "      <td>white</td>\n",
              "    </tr>\n",
              "    <tr>\n",
              "      <th>25</th>\n",
              "      <td>good</td>\n",
              "      <td>0.104453</td>\n",
              "      <td>white debias</td>\n",
              "    </tr>\n",
              "    <tr>\n",
              "      <th>26</th>\n",
              "      <td>bad</td>\n",
              "      <td>0.152150</td>\n",
              "      <td>white</td>\n",
              "    </tr>\n",
              "    <tr>\n",
              "      <th>27</th>\n",
              "      <td>bad</td>\n",
              "      <td>-0.084547</td>\n",
              "      <td>white debias</td>\n",
              "    </tr>\n",
              "    <tr>\n",
              "      <th>28</th>\n",
              "      <td>pleasant</td>\n",
              "      <td>0.374248</td>\n",
              "      <td>white</td>\n",
              "    </tr>\n",
              "    <tr>\n",
              "      <th>29</th>\n",
              "      <td>pleasant</td>\n",
              "      <td>0.131125</td>\n",
              "      <td>white debias</td>\n",
              "    </tr>\n",
              "    <tr>\n",
              "      <th>30</th>\n",
              "      <td>unpleasant</td>\n",
              "      <td>0.409826</td>\n",
              "      <td>white</td>\n",
              "    </tr>\n",
              "    <tr>\n",
              "      <th>31</th>\n",
              "      <td>unpleasant</td>\n",
              "      <td>0.115134</td>\n",
              "      <td>white debias</td>\n",
              "    </tr>\n",
              "  </tbody>\n",
              "</table>\n",
              "</div>"
            ],
            "text/plain": [
              "         Words    Scores             Race\n",
              "0         good  0.326724            black\n",
              "1         good  0.081130     black debias\n",
              "2          bad  0.204275            black\n",
              "3          bad -0.055576     black debias\n",
              "4     pleasant  0.318188            black\n",
              "5     pleasant  0.063313     black debias\n",
              "6   unpleasant  0.414323            black\n",
              "7   unpleasant  0.084171     black debias\n",
              "8         good  0.364201         hispanic\n",
              "9         good  0.123991  hispanic debias\n",
              "10         bad  0.222426         hispanic\n",
              "11         bad -0.075058  hispanic debias\n",
              "12    pleasant  0.396159         hispanic\n",
              "13    pleasant  0.146658  hispanic debias\n",
              "14  unpleasant  0.387596         hispanic\n",
              "15  unpleasant  0.019382  hispanic debias\n",
              "16        good  0.213440            asian\n",
              "17        good -0.001359     asian debias\n",
              "18         bad  0.200733            asian\n",
              "19         bad  0.035437     asian debias\n",
              "20    pleasant  0.135690            asian\n",
              "21    pleasant -0.089305     asian debias\n",
              "22  unpleasant  0.263494            asian\n",
              "23  unpleasant -0.018376     asian debias\n",
              "24        good  0.313151            white\n",
              "25        good  0.104453     white debias\n",
              "26         bad  0.152150            white\n",
              "27         bad -0.084547     white debias\n",
              "28    pleasant  0.374248            white\n",
              "29    pleasant  0.131125     white debias\n",
              "30  unpleasant  0.409826            white\n",
              "31  unpleasant  0.115134     white debias"
            ]
          },
          "metadata": {
            "tags": []
          },
          "execution_count": 48
        }
      ]
    },
    {
      "cell_type": "code",
      "metadata": {
        "colab": {
          "base_uri": "https://localhost:8080/",
          "height": 474
        },
        "id": "TZWYIniB6DrZ",
        "outputId": "d362bbaf-20af-4112-f11d-bf59639dfd4e"
      },
      "source": [
        "alt.Chart(similarity_scores).mark_bar().encode(\n",
        "    x='Race:N',\n",
        "    y='Scores:Q',\n",
        "    color='Race:N',\n",
        "    column='Words:N'\n",
        ")"
      ],
      "execution_count": null,
      "outputs": [
        {
          "output_type": "execute_result",
          "data": {
            "text/plain": [
              "alt.Chart(...)"
            ],
            "text/html": [
              "\n",
              "<div id=\"altair-viz-6c17a79bb9be4365b60002be71eadf3a\"></div>\n",
              "<script type=\"text/javascript\">\n",
              "  (function(spec, embedOpt){\n",
              "    let outputDiv = document.currentScript.previousElementSibling;\n",
              "    if (outputDiv.id !== \"altair-viz-6c17a79bb9be4365b60002be71eadf3a\") {\n",
              "      outputDiv = document.getElementById(\"altair-viz-6c17a79bb9be4365b60002be71eadf3a\");\n",
              "    }\n",
              "    const paths = {\n",
              "      \"vega\": \"https://cdn.jsdelivr.net/npm//vega@5?noext\",\n",
              "      \"vega-lib\": \"https://cdn.jsdelivr.net/npm//vega-lib?noext\",\n",
              "      \"vega-lite\": \"https://cdn.jsdelivr.net/npm//vega-lite@4.8.1?noext\",\n",
              "      \"vega-embed\": \"https://cdn.jsdelivr.net/npm//vega-embed@6?noext\",\n",
              "    };\n",
              "\n",
              "    function loadScript(lib) {\n",
              "      return new Promise(function(resolve, reject) {\n",
              "        var s = document.createElement('script');\n",
              "        s.src = paths[lib];\n",
              "        s.async = true;\n",
              "        s.onload = () => resolve(paths[lib]);\n",
              "        s.onerror = () => reject(`Error loading script: ${paths[lib]}`);\n",
              "        document.getElementsByTagName(\"head\")[0].appendChild(s);\n",
              "      });\n",
              "    }\n",
              "\n",
              "    function showError(err) {\n",
              "      outputDiv.innerHTML = `<div class=\"error\" style=\"color:red;\">${err}</div>`;\n",
              "      throw err;\n",
              "    }\n",
              "\n",
              "    function displayChart(vegaEmbed) {\n",
              "      vegaEmbed(outputDiv, spec, embedOpt)\n",
              "        .catch(err => showError(`Javascript Error: ${err.message}<br>This usually means there's a typo in your chart specification. See the javascript console for the full traceback.`));\n",
              "    }\n",
              "\n",
              "    if(typeof define === \"function\" && define.amd) {\n",
              "      requirejs.config({paths});\n",
              "      require([\"vega-embed\"], displayChart, err => showError(`Error loading script: ${err.message}`));\n",
              "    } else if (typeof vegaEmbed === \"function\") {\n",
              "      displayChart(vegaEmbed);\n",
              "    } else {\n",
              "      loadScript(\"vega\")\n",
              "        .then(() => loadScript(\"vega-lite\"))\n",
              "        .then(() => loadScript(\"vega-embed\"))\n",
              "        .catch(showError)\n",
              "        .then(() => displayChart(vegaEmbed));\n",
              "    }\n",
              "  })({\"config\": {\"view\": {\"continuousWidth\": 400, \"continuousHeight\": 300}}, \"data\": {\"name\": \"data-9ce0573e5fc81667f5faaece7d9ef080\"}, \"mark\": \"bar\", \"encoding\": {\"color\": {\"type\": \"nominal\", \"field\": \"Race\"}, \"column\": {\"type\": \"nominal\", \"field\": \"Words\"}, \"x\": {\"type\": \"nominal\", \"field\": \"Race\"}, \"y\": {\"type\": \"quantitative\", \"field\": \"Scores\"}}, \"$schema\": \"https://vega.github.io/schema/vega-lite/v4.8.1.json\", \"datasets\": {\"data-9ce0573e5fc81667f5faaece7d9ef080\": [{\"Words\": \"good\", \"Scores\": 0.3267240822315216, \"Race\": \"black\"}, {\"Words\": \"good\", \"Scores\": 0.08113022893667221, \"Race\": \"black debias\"}, {\"Words\": \"bad\", \"Scores\": 0.20427508652210236, \"Race\": \"black\"}, {\"Words\": \"bad\", \"Scores\": -0.05557606741786003, \"Race\": \"black debias\"}, {\"Words\": \"pleasant\", \"Scores\": 0.31818848848342896, \"Race\": \"black\"}, {\"Words\": \"pleasant\", \"Scores\": 0.06331294775009155, \"Race\": \"black debias\"}, {\"Words\": \"unpleasant\", \"Scores\": 0.41432300209999084, \"Race\": \"black\"}, {\"Words\": \"unpleasant\", \"Scores\": 0.08417117595672607, \"Race\": \"black debias\"}, {\"Words\": \"good\", \"Scores\": 0.3642010986804962, \"Race\": \"hispanic\"}, {\"Words\": \"good\", \"Scores\": 0.12399129569530487, \"Race\": \"hispanic debias\"}, {\"Words\": \"bad\", \"Scores\": 0.22242562472820282, \"Race\": \"hispanic\"}, {\"Words\": \"bad\", \"Scores\": -0.07505767047405243, \"Race\": \"hispanic debias\"}, {\"Words\": \"pleasant\", \"Scores\": 0.3961588442325592, \"Race\": \"hispanic\"}, {\"Words\": \"pleasant\", \"Scores\": 0.14665764570236206, \"Race\": \"hispanic debias\"}, {\"Words\": \"unpleasant\", \"Scores\": 0.3875957727432251, \"Race\": \"hispanic\"}, {\"Words\": \"unpleasant\", \"Scores\": 0.01938154734671116, \"Race\": \"hispanic debias\"}, {\"Words\": \"good\", \"Scores\": 0.21343979239463806, \"Race\": \"asian\"}, {\"Words\": \"good\", \"Scores\": -0.0013594900956377387, \"Race\": \"asian debias\"}, {\"Words\": \"bad\", \"Scores\": 0.20073308050632477, \"Race\": \"asian\"}, {\"Words\": \"bad\", \"Scores\": 0.03543686494231224, \"Race\": \"asian debias\"}, {\"Words\": \"pleasant\", \"Scores\": 0.1356898844242096, \"Race\": \"asian\"}, {\"Words\": \"pleasant\", \"Scores\": -0.08930539339780807, \"Race\": \"asian debias\"}, {\"Words\": \"unpleasant\", \"Scores\": 0.2634935677051544, \"Race\": \"asian\"}, {\"Words\": \"unpleasant\", \"Scores\": -0.018375545740127563, \"Race\": \"asian debias\"}, {\"Words\": \"good\", \"Scores\": 0.31315067410469055, \"Race\": \"white\"}, {\"Words\": \"good\", \"Scores\": 0.10445275902748108, \"Race\": \"white debias\"}, {\"Words\": \"bad\", \"Scores\": 0.15215010941028595, \"Race\": \"white\"}, {\"Words\": \"bad\", \"Scores\": -0.084547258913517, \"Race\": \"white debias\"}, {\"Words\": \"pleasant\", \"Scores\": 0.3742484450340271, \"Race\": \"white\"}, {\"Words\": \"pleasant\", \"Scores\": 0.1311245858669281, \"Race\": \"white debias\"}, {\"Words\": \"unpleasant\", \"Scores\": 0.4098261892795563, \"Race\": \"white\"}, {\"Words\": \"unpleasant\", \"Scores\": 0.11513397842645645, \"Race\": \"white debias\"}]}}, {\"mode\": \"vega-lite\"});\n",
              "</script>"
            ]
          },
          "metadata": {
            "tags": []
          },
          "execution_count": 49
        }
      ]
    },
    {
      "cell_type": "markdown",
      "metadata": {
        "id": "WrVUgklXuEC5"
      },
      "source": [
        "## Religion"
      ]
    },
    {
      "cell_type": "code",
      "metadata": {
        "id": "g0Rus8NruHRg"
      },
      "source": [
        "religion = \"\"\"muslim\n",
        "christian\n",
        "hindu\n",
        "buddhist\n",
        "atheist\n",
        "jewish\n",
        "\"\"\".splitlines()"
      ],
      "execution_count": null,
      "outputs": []
    },
    {
      "cell_type": "code",
      "metadata": {
        "id": "e-6aMxFjuTyK"
      },
      "source": [
        "sentiment = \"\"\"terrorist\n",
        "criminal\n",
        "philanthropist\n",
        "civilians\n",
        "leaders\n",
        "\"\"\".splitlines()"
      ],
      "execution_count": null,
      "outputs": []
    },
    {
      "cell_type": "code",
      "metadata": {
        "colab": {
          "base_uri": "https://localhost:8080/",
          "height": 910
        },
        "id": "49dHn8zwuGY4",
        "outputId": "f6664961-df4b-49e9-e615-0ffff290c43e"
      },
      "source": [
        "scores = []\n",
        "names = []\n",
        "religion_listed = []\n",
        "for i in religion:\n",
        "  for j in sentiment:\n",
        "    scores.append(Word_node2Vec.similarity(i, j))\n",
        "    names.append(j)\n",
        "    religion_listed.append(i)\n",
        "similarity_scores = pd.DataFrame()\n",
        "similarity_scores['Words'] = names\n",
        "similarity_scores['Scores'] = scores\n",
        "similarity_scores['Religion'] = religion_listed\n",
        "similarity_scores"
      ],
      "execution_count": null,
      "outputs": [
        {
          "output_type": "execute_result",
          "data": {
            "text/html": [
              "<div>\n",
              "<style scoped>\n",
              "    .dataframe tbody tr th:only-of-type {\n",
              "        vertical-align: middle;\n",
              "    }\n",
              "\n",
              "    .dataframe tbody tr th {\n",
              "        vertical-align: top;\n",
              "    }\n",
              "\n",
              "    .dataframe thead th {\n",
              "        text-align: right;\n",
              "    }\n",
              "</style>\n",
              "<table border=\"1\" class=\"dataframe\">\n",
              "  <thead>\n",
              "    <tr style=\"text-align: right;\">\n",
              "      <th></th>\n",
              "      <th>Words</th>\n",
              "      <th>Scores</th>\n",
              "      <th>Religion</th>\n",
              "    </tr>\n",
              "  </thead>\n",
              "  <tbody>\n",
              "    <tr>\n",
              "      <th>0</th>\n",
              "      <td>terrorist</td>\n",
              "      <td>0.580586</td>\n",
              "      <td>muslim</td>\n",
              "    </tr>\n",
              "    <tr>\n",
              "      <th>1</th>\n",
              "      <td>criminal</td>\n",
              "      <td>0.253034</td>\n",
              "      <td>muslim</td>\n",
              "    </tr>\n",
              "    <tr>\n",
              "      <th>2</th>\n",
              "      <td>philanthropist</td>\n",
              "      <td>0.374329</td>\n",
              "      <td>muslim</td>\n",
              "    </tr>\n",
              "    <tr>\n",
              "      <th>3</th>\n",
              "      <td>civilians</td>\n",
              "      <td>0.544227</td>\n",
              "      <td>muslim</td>\n",
              "    </tr>\n",
              "    <tr>\n",
              "      <th>4</th>\n",
              "      <td>leaders</td>\n",
              "      <td>0.529344</td>\n",
              "      <td>muslim</td>\n",
              "    </tr>\n",
              "    <tr>\n",
              "      <th>5</th>\n",
              "      <td>terrorist</td>\n",
              "      <td>0.304331</td>\n",
              "      <td>christian</td>\n",
              "    </tr>\n",
              "    <tr>\n",
              "      <th>6</th>\n",
              "      <td>criminal</td>\n",
              "      <td>0.182871</td>\n",
              "      <td>christian</td>\n",
              "    </tr>\n",
              "    <tr>\n",
              "      <th>7</th>\n",
              "      <td>philanthropist</td>\n",
              "      <td>0.279213</td>\n",
              "      <td>christian</td>\n",
              "    </tr>\n",
              "    <tr>\n",
              "      <th>8</th>\n",
              "      <td>civilians</td>\n",
              "      <td>0.268817</td>\n",
              "      <td>christian</td>\n",
              "    </tr>\n",
              "    <tr>\n",
              "      <th>9</th>\n",
              "      <td>leaders</td>\n",
              "      <td>0.384830</td>\n",
              "      <td>christian</td>\n",
              "    </tr>\n",
              "    <tr>\n",
              "      <th>10</th>\n",
              "      <td>terrorist</td>\n",
              "      <td>0.345506</td>\n",
              "      <td>hindu</td>\n",
              "    </tr>\n",
              "    <tr>\n",
              "      <th>11</th>\n",
              "      <td>criminal</td>\n",
              "      <td>0.179081</td>\n",
              "      <td>hindu</td>\n",
              "    </tr>\n",
              "    <tr>\n",
              "      <th>12</th>\n",
              "      <td>philanthropist</td>\n",
              "      <td>0.296588</td>\n",
              "      <td>hindu</td>\n",
              "    </tr>\n",
              "    <tr>\n",
              "      <th>13</th>\n",
              "      <td>civilians</td>\n",
              "      <td>0.361148</td>\n",
              "      <td>hindu</td>\n",
              "    </tr>\n",
              "    <tr>\n",
              "      <th>14</th>\n",
              "      <td>leaders</td>\n",
              "      <td>0.391727</td>\n",
              "      <td>hindu</td>\n",
              "    </tr>\n",
              "    <tr>\n",
              "      <th>15</th>\n",
              "      <td>terrorist</td>\n",
              "      <td>0.340248</td>\n",
              "      <td>buddhist</td>\n",
              "    </tr>\n",
              "    <tr>\n",
              "      <th>16</th>\n",
              "      <td>criminal</td>\n",
              "      <td>0.123639</td>\n",
              "      <td>buddhist</td>\n",
              "    </tr>\n",
              "    <tr>\n",
              "      <th>17</th>\n",
              "      <td>philanthropist</td>\n",
              "      <td>0.239188</td>\n",
              "      <td>buddhist</td>\n",
              "    </tr>\n",
              "    <tr>\n",
              "      <th>18</th>\n",
              "      <td>civilians</td>\n",
              "      <td>0.339671</td>\n",
              "      <td>buddhist</td>\n",
              "    </tr>\n",
              "    <tr>\n",
              "      <th>19</th>\n",
              "      <td>leaders</td>\n",
              "      <td>0.306804</td>\n",
              "      <td>buddhist</td>\n",
              "    </tr>\n",
              "    <tr>\n",
              "      <th>20</th>\n",
              "      <td>terrorist</td>\n",
              "      <td>0.632862</td>\n",
              "      <td>atheist</td>\n",
              "    </tr>\n",
              "    <tr>\n",
              "      <th>21</th>\n",
              "      <td>criminal</td>\n",
              "      <td>0.446566</td>\n",
              "      <td>atheist</td>\n",
              "    </tr>\n",
              "    <tr>\n",
              "      <th>22</th>\n",
              "      <td>philanthropist</td>\n",
              "      <td>0.503888</td>\n",
              "      <td>atheist</td>\n",
              "    </tr>\n",
              "    <tr>\n",
              "      <th>23</th>\n",
              "      <td>civilians</td>\n",
              "      <td>0.493130</td>\n",
              "      <td>atheist</td>\n",
              "    </tr>\n",
              "    <tr>\n",
              "      <th>24</th>\n",
              "      <td>leaders</td>\n",
              "      <td>0.506194</td>\n",
              "      <td>atheist</td>\n",
              "    </tr>\n",
              "    <tr>\n",
              "      <th>25</th>\n",
              "      <td>terrorist</td>\n",
              "      <td>0.510883</td>\n",
              "      <td>jewish</td>\n",
              "    </tr>\n",
              "    <tr>\n",
              "      <th>26</th>\n",
              "      <td>criminal</td>\n",
              "      <td>0.341988</td>\n",
              "      <td>jewish</td>\n",
              "    </tr>\n",
              "    <tr>\n",
              "      <th>27</th>\n",
              "      <td>philanthropist</td>\n",
              "      <td>0.403477</td>\n",
              "      <td>jewish</td>\n",
              "    </tr>\n",
              "    <tr>\n",
              "      <th>28</th>\n",
              "      <td>civilians</td>\n",
              "      <td>0.383657</td>\n",
              "      <td>jewish</td>\n",
              "    </tr>\n",
              "    <tr>\n",
              "      <th>29</th>\n",
              "      <td>leaders</td>\n",
              "      <td>0.438764</td>\n",
              "      <td>jewish</td>\n",
              "    </tr>\n",
              "  </tbody>\n",
              "</table>\n",
              "</div>"
            ],
            "text/plain": [
              "             Words    Scores   Religion\n",
              "0        terrorist  0.580586     muslim\n",
              "1         criminal  0.253034     muslim\n",
              "2   philanthropist  0.374329     muslim\n",
              "3        civilians  0.544227     muslim\n",
              "4          leaders  0.529344     muslim\n",
              "5        terrorist  0.304331  christian\n",
              "6         criminal  0.182871  christian\n",
              "7   philanthropist  0.279213  christian\n",
              "8        civilians  0.268817  christian\n",
              "9          leaders  0.384830  christian\n",
              "10       terrorist  0.345506      hindu\n",
              "11        criminal  0.179081      hindu\n",
              "12  philanthropist  0.296588      hindu\n",
              "13       civilians  0.361148      hindu\n",
              "14         leaders  0.391727      hindu\n",
              "15       terrorist  0.340248   buddhist\n",
              "16        criminal  0.123639   buddhist\n",
              "17  philanthropist  0.239188   buddhist\n",
              "18       civilians  0.339671   buddhist\n",
              "19         leaders  0.306804   buddhist\n",
              "20       terrorist  0.632862    atheist\n",
              "21        criminal  0.446566    atheist\n",
              "22  philanthropist  0.503888    atheist\n",
              "23       civilians  0.493130    atheist\n",
              "24         leaders  0.506194    atheist\n",
              "25       terrorist  0.510883     jewish\n",
              "26        criminal  0.341988     jewish\n",
              "27  philanthropist  0.403477     jewish\n",
              "28       civilians  0.383657     jewish\n",
              "29         leaders  0.438764     jewish"
            ]
          },
          "metadata": {
            "tags": []
          },
          "execution_count": 69
        }
      ]
    },
    {
      "cell_type": "code",
      "metadata": {
        "colab": {
          "base_uri": "https://localhost:8080/",
          "height": 910
        },
        "id": "wS7LrHUWu0-t",
        "outputId": "178fd6cf-a812-4884-82c5-122f206c1e70"
      },
      "source": [
        "scores = []\n",
        "names = []\n",
        "religion_listed = []\n",
        "for i in religion:\n",
        "  for j in sentiment:\n",
        "    scores.append(Word_node2Vec_debias_gm.similarity(i, j))\n",
        "    names.append(j)\n",
        "    religion_listed.append(i)\n",
        "similarity_scores_debias = pd.DataFrame()\n",
        "similarity_scores_debias['Words'] = names\n",
        "similarity_scores_debias['Scores'] = scores\n",
        "similarity_scores_debias['Religion'] = religion_listed\n",
        "similarity_scores_debias"
      ],
      "execution_count": null,
      "outputs": [
        {
          "output_type": "execute_result",
          "data": {
            "text/html": [
              "<div>\n",
              "<style scoped>\n",
              "    .dataframe tbody tr th:only-of-type {\n",
              "        vertical-align: middle;\n",
              "    }\n",
              "\n",
              "    .dataframe tbody tr th {\n",
              "        vertical-align: top;\n",
              "    }\n",
              "\n",
              "    .dataframe thead th {\n",
              "        text-align: right;\n",
              "    }\n",
              "</style>\n",
              "<table border=\"1\" class=\"dataframe\">\n",
              "  <thead>\n",
              "    <tr style=\"text-align: right;\">\n",
              "      <th></th>\n",
              "      <th>Words</th>\n",
              "      <th>Scores</th>\n",
              "      <th>Religion</th>\n",
              "    </tr>\n",
              "  </thead>\n",
              "  <tbody>\n",
              "    <tr>\n",
              "      <th>0</th>\n",
              "      <td>terrorist</td>\n",
              "      <td>0.357994</td>\n",
              "      <td>muslim</td>\n",
              "    </tr>\n",
              "    <tr>\n",
              "      <th>1</th>\n",
              "      <td>criminal</td>\n",
              "      <td>-0.022153</td>\n",
              "      <td>muslim</td>\n",
              "    </tr>\n",
              "    <tr>\n",
              "      <th>2</th>\n",
              "      <td>philanthropist</td>\n",
              "      <td>0.190911</td>\n",
              "      <td>muslim</td>\n",
              "    </tr>\n",
              "    <tr>\n",
              "      <th>3</th>\n",
              "      <td>civilians</td>\n",
              "      <td>0.314466</td>\n",
              "      <td>muslim</td>\n",
              "    </tr>\n",
              "    <tr>\n",
              "      <th>4</th>\n",
              "      <td>leaders</td>\n",
              "      <td>0.274905</td>\n",
              "      <td>muslim</td>\n",
              "    </tr>\n",
              "    <tr>\n",
              "      <th>5</th>\n",
              "      <td>terrorist</td>\n",
              "      <td>0.015253</td>\n",
              "      <td>christian</td>\n",
              "    </tr>\n",
              "    <tr>\n",
              "      <th>6</th>\n",
              "      <td>criminal</td>\n",
              "      <td>-0.050958</td>\n",
              "      <td>christian</td>\n",
              "    </tr>\n",
              "    <tr>\n",
              "      <th>7</th>\n",
              "      <td>philanthropist</td>\n",
              "      <td>0.063992</td>\n",
              "      <td>christian</td>\n",
              "    </tr>\n",
              "    <tr>\n",
              "      <th>8</th>\n",
              "      <td>civilians</td>\n",
              "      <td>0.007072</td>\n",
              "      <td>christian</td>\n",
              "    </tr>\n",
              "    <tr>\n",
              "      <th>9</th>\n",
              "      <td>leaders</td>\n",
              "      <td>0.131645</td>\n",
              "      <td>christian</td>\n",
              "    </tr>\n",
              "    <tr>\n",
              "      <th>10</th>\n",
              "      <td>terrorist</td>\n",
              "      <td>0.070357</td>\n",
              "      <td>hindu</td>\n",
              "    </tr>\n",
              "    <tr>\n",
              "      <th>11</th>\n",
              "      <td>criminal</td>\n",
              "      <td>-0.061988</td>\n",
              "      <td>hindu</td>\n",
              "    </tr>\n",
              "    <tr>\n",
              "      <th>12</th>\n",
              "      <td>philanthropist</td>\n",
              "      <td>0.191849</td>\n",
              "      <td>hindu</td>\n",
              "    </tr>\n",
              "    <tr>\n",
              "      <th>13</th>\n",
              "      <td>civilians</td>\n",
              "      <td>0.082157</td>\n",
              "      <td>hindu</td>\n",
              "    </tr>\n",
              "    <tr>\n",
              "      <th>14</th>\n",
              "      <td>leaders</td>\n",
              "      <td>0.180032</td>\n",
              "      <td>hindu</td>\n",
              "    </tr>\n",
              "    <tr>\n",
              "      <th>15</th>\n",
              "      <td>terrorist</td>\n",
              "      <td>0.023402</td>\n",
              "      <td>buddhist</td>\n",
              "    </tr>\n",
              "    <tr>\n",
              "      <th>16</th>\n",
              "      <td>criminal</td>\n",
              "      <td>-0.157398</td>\n",
              "      <td>buddhist</td>\n",
              "    </tr>\n",
              "    <tr>\n",
              "      <th>17</th>\n",
              "      <td>philanthropist</td>\n",
              "      <td>0.039425</td>\n",
              "      <td>buddhist</td>\n",
              "    </tr>\n",
              "    <tr>\n",
              "      <th>18</th>\n",
              "      <td>civilians</td>\n",
              "      <td>0.028011</td>\n",
              "      <td>buddhist</td>\n",
              "    </tr>\n",
              "    <tr>\n",
              "      <th>19</th>\n",
              "      <td>leaders</td>\n",
              "      <td>-0.024134</td>\n",
              "      <td>buddhist</td>\n",
              "    </tr>\n",
              "    <tr>\n",
              "      <th>20</th>\n",
              "      <td>terrorist</td>\n",
              "      <td>0.359587</td>\n",
              "      <td>atheist</td>\n",
              "    </tr>\n",
              "    <tr>\n",
              "      <th>21</th>\n",
              "      <td>criminal</td>\n",
              "      <td>0.124366</td>\n",
              "      <td>atheist</td>\n",
              "    </tr>\n",
              "    <tr>\n",
              "      <th>22</th>\n",
              "      <td>philanthropist</td>\n",
              "      <td>0.262909</td>\n",
              "      <td>atheist</td>\n",
              "    </tr>\n",
              "    <tr>\n",
              "      <th>23</th>\n",
              "      <td>civilians</td>\n",
              "      <td>0.182446</td>\n",
              "      <td>atheist</td>\n",
              "    </tr>\n",
              "    <tr>\n",
              "      <th>24</th>\n",
              "      <td>leaders</td>\n",
              "      <td>0.166417</td>\n",
              "      <td>atheist</td>\n",
              "    </tr>\n",
              "    <tr>\n",
              "      <th>25</th>\n",
              "      <td>terrorist</td>\n",
              "      <td>0.272180</td>\n",
              "      <td>jewish</td>\n",
              "    </tr>\n",
              "    <tr>\n",
              "      <th>26</th>\n",
              "      <td>criminal</td>\n",
              "      <td>0.102579</td>\n",
              "      <td>jewish</td>\n",
              "    </tr>\n",
              "    <tr>\n",
              "      <th>27</th>\n",
              "      <td>philanthropist</td>\n",
              "      <td>0.214313</td>\n",
              "      <td>jewish</td>\n",
              "    </tr>\n",
              "    <tr>\n",
              "      <th>28</th>\n",
              "      <td>civilians</td>\n",
              "      <td>0.128666</td>\n",
              "      <td>jewish</td>\n",
              "    </tr>\n",
              "    <tr>\n",
              "      <th>29</th>\n",
              "      <td>leaders</td>\n",
              "      <td>0.180245</td>\n",
              "      <td>jewish</td>\n",
              "    </tr>\n",
              "  </tbody>\n",
              "</table>\n",
              "</div>"
            ],
            "text/plain": [
              "             Words    Scores   Religion\n",
              "0        terrorist  0.357994     muslim\n",
              "1         criminal -0.022153     muslim\n",
              "2   philanthropist  0.190911     muslim\n",
              "3        civilians  0.314466     muslim\n",
              "4          leaders  0.274905     muslim\n",
              "5        terrorist  0.015253  christian\n",
              "6         criminal -0.050958  christian\n",
              "7   philanthropist  0.063992  christian\n",
              "8        civilians  0.007072  christian\n",
              "9          leaders  0.131645  christian\n",
              "10       terrorist  0.070357      hindu\n",
              "11        criminal -0.061988      hindu\n",
              "12  philanthropist  0.191849      hindu\n",
              "13       civilians  0.082157      hindu\n",
              "14         leaders  0.180032      hindu\n",
              "15       terrorist  0.023402   buddhist\n",
              "16        criminal -0.157398   buddhist\n",
              "17  philanthropist  0.039425   buddhist\n",
              "18       civilians  0.028011   buddhist\n",
              "19         leaders -0.024134   buddhist\n",
              "20       terrorist  0.359587    atheist\n",
              "21        criminal  0.124366    atheist\n",
              "22  philanthropist  0.262909    atheist\n",
              "23       civilians  0.182446    atheist\n",
              "24         leaders  0.166417    atheist\n",
              "25       terrorist  0.272180     jewish\n",
              "26        criminal  0.102579     jewish\n",
              "27  philanthropist  0.214313     jewish\n",
              "28       civilians  0.128666     jewish\n",
              "29         leaders  0.180245     jewish"
            ]
          },
          "metadata": {
            "tags": []
          },
          "execution_count": 70
        }
      ]
    },
    {
      "cell_type": "code",
      "metadata": {
        "colab": {
          "base_uri": "https://localhost:8080/",
          "height": 444
        },
        "id": "8tKiePx6uyOk",
        "outputId": "65a93280-b6df-499a-a565-3347dea5a4d2"
      },
      "source": [
        "r = alt.Chart(similarity_scores).mark_bar().encode(\n",
        "    x='Religion:N',\n",
        "    y='Scores:Q',\n",
        "    color='Religion:N',\n",
        "    column='Words:N'\n",
        ")\n",
        "\n",
        "r_d = alt.Chart(similarity_scores_debias).mark_bar().encode(\n",
        "    x='Religion:N',\n",
        "    y='Scores:Q',\n",
        "    color='Religion:N',\n",
        "    column='Words:N'\n",
        ")\n",
        "\n",
        "r | r_d"
      ],
      "execution_count": null,
      "outputs": [
        {
          "output_type": "execute_result",
          "data": {
            "text/plain": [
              "alt.HConcatChart(...)"
            ],
            "text/html": [
              "\n",
              "<div id=\"altair-viz-048c3f55bf7a4cb7ac3fd2f1a35d177c\"></div>\n",
              "<script type=\"text/javascript\">\n",
              "  (function(spec, embedOpt){\n",
              "    let outputDiv = document.currentScript.previousElementSibling;\n",
              "    if (outputDiv.id !== \"altair-viz-048c3f55bf7a4cb7ac3fd2f1a35d177c\") {\n",
              "      outputDiv = document.getElementById(\"altair-viz-048c3f55bf7a4cb7ac3fd2f1a35d177c\");\n",
              "    }\n",
              "    const paths = {\n",
              "      \"vega\": \"https://cdn.jsdelivr.net/npm//vega@5?noext\",\n",
              "      \"vega-lib\": \"https://cdn.jsdelivr.net/npm//vega-lib?noext\",\n",
              "      \"vega-lite\": \"https://cdn.jsdelivr.net/npm//vega-lite@4.8.1?noext\",\n",
              "      \"vega-embed\": \"https://cdn.jsdelivr.net/npm//vega-embed@6?noext\",\n",
              "    };\n",
              "\n",
              "    function loadScript(lib) {\n",
              "      return new Promise(function(resolve, reject) {\n",
              "        var s = document.createElement('script');\n",
              "        s.src = paths[lib];\n",
              "        s.async = true;\n",
              "        s.onload = () => resolve(paths[lib]);\n",
              "        s.onerror = () => reject(`Error loading script: ${paths[lib]}`);\n",
              "        document.getElementsByTagName(\"head\")[0].appendChild(s);\n",
              "      });\n",
              "    }\n",
              "\n",
              "    function showError(err) {\n",
              "      outputDiv.innerHTML = `<div class=\"error\" style=\"color:red;\">${err}</div>`;\n",
              "      throw err;\n",
              "    }\n",
              "\n",
              "    function displayChart(vegaEmbed) {\n",
              "      vegaEmbed(outputDiv, spec, embedOpt)\n",
              "        .catch(err => showError(`Javascript Error: ${err.message}<br>This usually means there's a typo in your chart specification. See the javascript console for the full traceback.`));\n",
              "    }\n",
              "\n",
              "    if(typeof define === \"function\" && define.amd) {\n",
              "      requirejs.config({paths});\n",
              "      require([\"vega-embed\"], displayChart, err => showError(`Error loading script: ${err.message}`));\n",
              "    } else if (typeof vegaEmbed === \"function\") {\n",
              "      displayChart(vegaEmbed);\n",
              "    } else {\n",
              "      loadScript(\"vega\")\n",
              "        .then(() => loadScript(\"vega-lite\"))\n",
              "        .then(() => loadScript(\"vega-embed\"))\n",
              "        .catch(showError)\n",
              "        .then(() => displayChart(vegaEmbed));\n",
              "    }\n",
              "  })({\"config\": {\"view\": {\"continuousWidth\": 400, \"continuousHeight\": 300}}, \"hconcat\": [{\"data\": {\"name\": \"data-798f5e74a405037db3eeb0d59f221d87\"}, \"mark\": \"bar\", \"encoding\": {\"color\": {\"type\": \"nominal\", \"field\": \"Religion\"}, \"column\": {\"type\": \"nominal\", \"field\": \"Words\"}, \"x\": {\"type\": \"nominal\", \"field\": \"Religion\"}, \"y\": {\"type\": \"quantitative\", \"field\": \"Scores\"}}}, {\"data\": {\"name\": \"data-835081b6a9f9061245823f2c09332094\"}, \"mark\": \"bar\", \"encoding\": {\"color\": {\"type\": \"nominal\", \"field\": \"Religion\"}, \"column\": {\"type\": \"nominal\", \"field\": \"Words\"}, \"x\": {\"type\": \"nominal\", \"field\": \"Religion\"}, \"y\": {\"type\": \"quantitative\", \"field\": \"Scores\"}}}], \"$schema\": \"https://vega.github.io/schema/vega-lite/v4.8.1.json\", \"datasets\": {\"data-798f5e74a405037db3eeb0d59f221d87\": [{\"Words\": \"terrorist\", \"Scores\": 0.5805861949920654, \"Religion\": \"muslim\"}, {\"Words\": \"criminal\", \"Scores\": 0.2530342638492584, \"Religion\": \"muslim\"}, {\"Words\": \"philanthropist\", \"Scores\": 0.3743285834789276, \"Religion\": \"muslim\"}, {\"Words\": \"civilians\", \"Scores\": 0.5442274808883667, \"Religion\": \"muslim\"}, {\"Words\": \"leaders\", \"Scores\": 0.5293440818786621, \"Religion\": \"muslim\"}, {\"Words\": \"terrorist\", \"Scores\": 0.30433088541030884, \"Religion\": \"christian\"}, {\"Words\": \"criminal\", \"Scores\": 0.18287067115306854, \"Religion\": \"christian\"}, {\"Words\": \"philanthropist\", \"Scores\": 0.2792132794857025, \"Religion\": \"christian\"}, {\"Words\": \"civilians\", \"Scores\": 0.2688170075416565, \"Religion\": \"christian\"}, {\"Words\": \"leaders\", \"Scores\": 0.3848304748535156, \"Religion\": \"christian\"}, {\"Words\": \"terrorist\", \"Scores\": 0.34550607204437256, \"Religion\": \"hindu\"}, {\"Words\": \"criminal\", \"Scores\": 0.17908066511154175, \"Religion\": \"hindu\"}, {\"Words\": \"philanthropist\", \"Scores\": 0.2965877652168274, \"Religion\": \"hindu\"}, {\"Words\": \"civilians\", \"Scores\": 0.36114808917045593, \"Religion\": \"hindu\"}, {\"Words\": \"leaders\", \"Scores\": 0.39172738790512085, \"Religion\": \"hindu\"}, {\"Words\": \"terrorist\", \"Scores\": 0.3402484655380249, \"Religion\": \"buddhist\"}, {\"Words\": \"criminal\", \"Scores\": 0.12363862991333008, \"Religion\": \"buddhist\"}, {\"Words\": \"philanthropist\", \"Scores\": 0.23918823897838593, \"Religion\": \"buddhist\"}, {\"Words\": \"civilians\", \"Scores\": 0.33967122435569763, \"Religion\": \"buddhist\"}, {\"Words\": \"leaders\", \"Scores\": 0.3068043887615204, \"Religion\": \"buddhist\"}, {\"Words\": \"terrorist\", \"Scores\": 0.6328620314598083, \"Religion\": \"atheist\"}, {\"Words\": \"criminal\", \"Scores\": 0.44656607508659363, \"Religion\": \"atheist\"}, {\"Words\": \"philanthropist\", \"Scores\": 0.5038880705833435, \"Religion\": \"atheist\"}, {\"Words\": \"civilians\", \"Scores\": 0.4931299686431885, \"Religion\": \"atheist\"}, {\"Words\": \"leaders\", \"Scores\": 0.5061942338943481, \"Religion\": \"atheist\"}, {\"Words\": \"terrorist\", \"Scores\": 0.5108832120895386, \"Religion\": \"jewish\"}, {\"Words\": \"criminal\", \"Scores\": 0.3419882655143738, \"Religion\": \"jewish\"}, {\"Words\": \"philanthropist\", \"Scores\": 0.4034770429134369, \"Religion\": \"jewish\"}, {\"Words\": \"civilians\", \"Scores\": 0.38365745544433594, \"Religion\": \"jewish\"}, {\"Words\": \"leaders\", \"Scores\": 0.43876415491104126, \"Religion\": \"jewish\"}], \"data-835081b6a9f9061245823f2c09332094\": [{\"Words\": \"terrorist\", \"Scores\": 0.3579941987991333, \"Religion\": \"muslim\"}, {\"Words\": \"criminal\", \"Scores\": -0.022152526304125786, \"Religion\": \"muslim\"}, {\"Words\": \"philanthropist\", \"Scores\": 0.1909112185239792, \"Religion\": \"muslim\"}, {\"Words\": \"civilians\", \"Scores\": 0.31446608901023865, \"Religion\": \"muslim\"}, {\"Words\": \"leaders\", \"Scores\": 0.27490487694740295, \"Religion\": \"muslim\"}, {\"Words\": \"terrorist\", \"Scores\": 0.015253297053277493, \"Religion\": \"christian\"}, {\"Words\": \"criminal\", \"Scores\": -0.0509575679898262, \"Religion\": \"christian\"}, {\"Words\": \"philanthropist\", \"Scores\": 0.06399226933717728, \"Religion\": \"christian\"}, {\"Words\": \"civilians\", \"Scores\": 0.007072478532791138, \"Religion\": \"christian\"}, {\"Words\": \"leaders\", \"Scores\": 0.13164474070072174, \"Religion\": \"christian\"}, {\"Words\": \"terrorist\", \"Scores\": 0.07035677134990692, \"Religion\": \"hindu\"}, {\"Words\": \"criminal\", \"Scores\": -0.06198848783969879, \"Religion\": \"hindu\"}, {\"Words\": \"philanthropist\", \"Scores\": 0.19184912741184235, \"Religion\": \"hindu\"}, {\"Words\": \"civilians\", \"Scores\": 0.08215714246034622, \"Religion\": \"hindu\"}, {\"Words\": \"leaders\", \"Scores\": 0.1800321638584137, \"Religion\": \"hindu\"}, {\"Words\": \"terrorist\", \"Scores\": 0.023401863873004913, \"Religion\": \"buddhist\"}, {\"Words\": \"criminal\", \"Scores\": -0.15739792585372925, \"Religion\": \"buddhist\"}, {\"Words\": \"philanthropist\", \"Scores\": 0.03942481800913811, \"Religion\": \"buddhist\"}, {\"Words\": \"civilians\", \"Scores\": 0.02801133692264557, \"Religion\": \"buddhist\"}, {\"Words\": \"leaders\", \"Scores\": -0.024134473875164986, \"Religion\": \"buddhist\"}, {\"Words\": \"terrorist\", \"Scores\": 0.35958683490753174, \"Religion\": \"atheist\"}, {\"Words\": \"criminal\", \"Scores\": 0.12436649948358536, \"Religion\": \"atheist\"}, {\"Words\": \"philanthropist\", \"Scores\": 0.2629086673259735, \"Religion\": \"atheist\"}, {\"Words\": \"civilians\", \"Scores\": 0.1824457049369812, \"Religion\": \"atheist\"}, {\"Words\": \"leaders\", \"Scores\": 0.16641700267791748, \"Religion\": \"atheist\"}, {\"Words\": \"terrorist\", \"Scores\": 0.27218031883239746, \"Religion\": \"jewish\"}, {\"Words\": \"criminal\", \"Scores\": 0.10257932543754578, \"Religion\": \"jewish\"}, {\"Words\": \"philanthropist\", \"Scores\": 0.21431298553943634, \"Religion\": \"jewish\"}, {\"Words\": \"civilians\", \"Scores\": 0.12866634130477905, \"Religion\": \"jewish\"}, {\"Words\": \"leaders\", \"Scores\": 0.18024536967277527, \"Religion\": \"jewish\"}]}}, {\"mode\": \"vega-lite\"});\n",
              "</script>"
            ]
          },
          "metadata": {
            "tags": []
          },
          "execution_count": 73
        }
      ]
    },
    {
      "cell_type": "code",
      "metadata": {
        "colab": {
          "base_uri": "https://localhost:8080/",
          "height": 444
        },
        "id": "n6ZTJF6wu4bT",
        "outputId": "3fe75292-8100-412f-db1e-284515e77537"
      },
      "source": [
        "alt.Chart(similarity_scores_debias).mark_bar().encode(\n",
        "    x='Religion:N',\n",
        "    y='Scores:Q',\n",
        "    color='Religion:N',\n",
        "    column='Words:N'\n",
        ")"
      ],
      "execution_count": null,
      "outputs": [
        {
          "output_type": "execute_result",
          "data": {
            "text/plain": [
              "alt.Chart(...)"
            ],
            "text/html": [
              "\n",
              "<div id=\"altair-viz-28c5061f1af64c28975f815dd4092049\"></div>\n",
              "<script type=\"text/javascript\">\n",
              "  (function(spec, embedOpt){\n",
              "    let outputDiv = document.currentScript.previousElementSibling;\n",
              "    if (outputDiv.id !== \"altair-viz-28c5061f1af64c28975f815dd4092049\") {\n",
              "      outputDiv = document.getElementById(\"altair-viz-28c5061f1af64c28975f815dd4092049\");\n",
              "    }\n",
              "    const paths = {\n",
              "      \"vega\": \"https://cdn.jsdelivr.net/npm//vega@5?noext\",\n",
              "      \"vega-lib\": \"https://cdn.jsdelivr.net/npm//vega-lib?noext\",\n",
              "      \"vega-lite\": \"https://cdn.jsdelivr.net/npm//vega-lite@4.8.1?noext\",\n",
              "      \"vega-embed\": \"https://cdn.jsdelivr.net/npm//vega-embed@6?noext\",\n",
              "    };\n",
              "\n",
              "    function loadScript(lib) {\n",
              "      return new Promise(function(resolve, reject) {\n",
              "        var s = document.createElement('script');\n",
              "        s.src = paths[lib];\n",
              "        s.async = true;\n",
              "        s.onload = () => resolve(paths[lib]);\n",
              "        s.onerror = () => reject(`Error loading script: ${paths[lib]}`);\n",
              "        document.getElementsByTagName(\"head\")[0].appendChild(s);\n",
              "      });\n",
              "    }\n",
              "\n",
              "    function showError(err) {\n",
              "      outputDiv.innerHTML = `<div class=\"error\" style=\"color:red;\">${err}</div>`;\n",
              "      throw err;\n",
              "    }\n",
              "\n",
              "    function displayChart(vegaEmbed) {\n",
              "      vegaEmbed(outputDiv, spec, embedOpt)\n",
              "        .catch(err => showError(`Javascript Error: ${err.message}<br>This usually means there's a typo in your chart specification. See the javascript console for the full traceback.`));\n",
              "    }\n",
              "\n",
              "    if(typeof define === \"function\" && define.amd) {\n",
              "      requirejs.config({paths});\n",
              "      require([\"vega-embed\"], displayChart, err => showError(`Error loading script: ${err.message}`));\n",
              "    } else if (typeof vegaEmbed === \"function\") {\n",
              "      displayChart(vegaEmbed);\n",
              "    } else {\n",
              "      loadScript(\"vega\")\n",
              "        .then(() => loadScript(\"vega-lite\"))\n",
              "        .then(() => loadScript(\"vega-embed\"))\n",
              "        .catch(showError)\n",
              "        .then(() => displayChart(vegaEmbed));\n",
              "    }\n",
              "  })({\"config\": {\"view\": {\"continuousWidth\": 400, \"continuousHeight\": 300}}, \"data\": {\"name\": \"data-835081b6a9f9061245823f2c09332094\"}, \"mark\": \"bar\", \"encoding\": {\"color\": {\"type\": \"nominal\", \"field\": \"Religion\"}, \"column\": {\"type\": \"nominal\", \"field\": \"Words\"}, \"x\": {\"type\": \"nominal\", \"field\": \"Religion\"}, \"y\": {\"type\": \"quantitative\", \"field\": \"Scores\"}}, \"$schema\": \"https://vega.github.io/schema/vega-lite/v4.8.1.json\", \"datasets\": {\"data-835081b6a9f9061245823f2c09332094\": [{\"Words\": \"terrorist\", \"Scores\": 0.3579941987991333, \"Religion\": \"muslim\"}, {\"Words\": \"criminal\", \"Scores\": -0.022152526304125786, \"Religion\": \"muslim\"}, {\"Words\": \"philanthropist\", \"Scores\": 0.1909112185239792, \"Religion\": \"muslim\"}, {\"Words\": \"civilians\", \"Scores\": 0.31446608901023865, \"Religion\": \"muslim\"}, {\"Words\": \"leaders\", \"Scores\": 0.27490487694740295, \"Religion\": \"muslim\"}, {\"Words\": \"terrorist\", \"Scores\": 0.015253297053277493, \"Religion\": \"christian\"}, {\"Words\": \"criminal\", \"Scores\": -0.0509575679898262, \"Religion\": \"christian\"}, {\"Words\": \"philanthropist\", \"Scores\": 0.06399226933717728, \"Religion\": \"christian\"}, {\"Words\": \"civilians\", \"Scores\": 0.007072478532791138, \"Religion\": \"christian\"}, {\"Words\": \"leaders\", \"Scores\": 0.13164474070072174, \"Religion\": \"christian\"}, {\"Words\": \"terrorist\", \"Scores\": 0.07035677134990692, \"Religion\": \"hindu\"}, {\"Words\": \"criminal\", \"Scores\": -0.06198848783969879, \"Religion\": \"hindu\"}, {\"Words\": \"philanthropist\", \"Scores\": 0.19184912741184235, \"Religion\": \"hindu\"}, {\"Words\": \"civilians\", \"Scores\": 0.08215714246034622, \"Religion\": \"hindu\"}, {\"Words\": \"leaders\", \"Scores\": 0.1800321638584137, \"Religion\": \"hindu\"}, {\"Words\": \"terrorist\", \"Scores\": 0.023401863873004913, \"Religion\": \"buddhist\"}, {\"Words\": \"criminal\", \"Scores\": -0.15739792585372925, \"Religion\": \"buddhist\"}, {\"Words\": \"philanthropist\", \"Scores\": 0.03942481800913811, \"Religion\": \"buddhist\"}, {\"Words\": \"civilians\", \"Scores\": 0.02801133692264557, \"Religion\": \"buddhist\"}, {\"Words\": \"leaders\", \"Scores\": -0.024134473875164986, \"Religion\": \"buddhist\"}, {\"Words\": \"terrorist\", \"Scores\": 0.35958683490753174, \"Religion\": \"atheist\"}, {\"Words\": \"criminal\", \"Scores\": 0.12436649948358536, \"Religion\": \"atheist\"}, {\"Words\": \"philanthropist\", \"Scores\": 0.2629086673259735, \"Religion\": \"atheist\"}, {\"Words\": \"civilians\", \"Scores\": 0.1824457049369812, \"Religion\": \"atheist\"}, {\"Words\": \"leaders\", \"Scores\": 0.16641700267791748, \"Religion\": \"atheist\"}, {\"Words\": \"terrorist\", \"Scores\": 0.27218031883239746, \"Religion\": \"jewish\"}, {\"Words\": \"criminal\", \"Scores\": 0.10257932543754578, \"Religion\": \"jewish\"}, {\"Words\": \"philanthropist\", \"Scores\": 0.21431298553943634, \"Religion\": \"jewish\"}, {\"Words\": \"civilians\", \"Scores\": 0.12866634130477905, \"Religion\": \"jewish\"}, {\"Words\": \"leaders\", \"Scores\": 0.18024536967277527, \"Religion\": \"jewish\"}]}}, {\"mode\": \"vega-lite\"});\n",
              "</script>"
            ]
          },
          "metadata": {
            "tags": []
          },
          "execution_count": 72
        }
      ]
    },
    {
      "cell_type": "code",
      "metadata": {
        "colab": {
          "base_uri": "https://localhost:8080/",
          "height": 342
        },
        "id": "f0KsiEGiqOE5",
        "outputId": "dca229c9-66a9-469e-9c62-aded2035f241"
      },
      "source": [
        "import seaborn as sns\n",
        "import matplotlib as plt\n",
        "sns.set_theme(style=\"whitegrid\")\n",
        "ax = sns.barplot(x=\"Words\", y=\"Scores\", data=similarity_scores[:7])\n",
        "ax.set_xticklabels(ax.get_xticklabels(), rotation=45)\n",
        "ax"
      ],
      "execution_count": null,
      "outputs": [
        {
          "output_type": "execute_result",
          "data": {
            "text/plain": [
              "<matplotlib.axes._subplots.AxesSubplot at 0x7f1fbb7fa2d0>"
            ]
          },
          "metadata": {
            "tags": []
          },
          "execution_count": 50
        },
        {
          "output_type": "display_data",
          "data": {
            "image/png": "[encoded data removed]",
            "text/plain": [
              "<Figure size 432x288 with 1 Axes>"
            ]
          },
          "metadata": {
            "tags": []
          }
        }
      ]
    },
    {
      "cell_type": "code",
      "metadata": {
        "colab": {
          "base_uri": "https://localhost:8080/",
          "height": 342
        },
        "id": "kSOsCzwdqOE5",
        "outputId": "5656046e-f4aa-4bc8-cfda-b6f3b51042e3"
      },
      "source": [
        "ax = sns.barplot(x=\"Words\", y=\"Scores\", data=similarity_scores[7:])\n",
        "ax.set_xticklabels(ax.get_xticklabels(), rotation=45)\n",
        "ax"
      ],
      "execution_count": null,
      "outputs": [
        {
          "output_type": "execute_result",
          "data": {
            "text/plain": [
              "<matplotlib.axes._subplots.AxesSubplot at 0x7f1fbb7b7ad0>"
            ]
          },
          "metadata": {
            "tags": []
          },
          "execution_count": 51
        },
        {
          "output_type": "display_data",
          "data": {
            "image/png": "[encoded data removed]",
            "text/plain": [
              "<Figure size 432x288 with 1 Axes>"
            ]
          },
          "metadata": {
            "tags": []
          }
        }
      ]
    }
  ]
}