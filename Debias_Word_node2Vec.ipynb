{
  "nbformat": 4,
  "nbformat_minor": 0,
  "metadata": {
    "colab": {
      "name": "Debias_Word-node2Vec.ipynb",
      "provenance": [],
      "collapsed_sections": [],
      "toc_visible": true,
      "machine_shape": "hm",
      "include_colab_link": true
    },
    "kernelspec": {
      "display_name": "Python 3",
      "language": "python",
      "name": "python3"
    },
    "language_info": {
      "codemirror_mode": {
        "name": "ipython",
        "version": 3
      },
      "file_extension": ".py",
      "mimetype": "text/x-python",
      "name": "python",
      "nbconvert_exporter": "python",
      "pygments_lexer": "ipython3",
      "version": "3.8.3"
    }
  },
  "cells": [
    {
      "cell_type": "markdown",
      "metadata": {
        "id": "view-in-github",
        "colab_type": "text"
      },
      "source": [
        "<a href=\"https://colab.research.google.com/github/jearcher/bias-in-word-embeddings/blob/colab_style/Debias_Word_node2Vec.ipynb\" target=\"_parent\"><img src=\"https://colab.research.google.com/assets/colab-badge.svg\" alt=\"Open In Colab\"/></a>"
      ]
    },
    {
      "cell_type": "code",
      "metadata": {
        "id": "bY4RMFQxrWyv",
        "cellView": "form"
      },
      "source": [
        "#@title\n",
        "import numpy as np\n",
        "from itertools import combinations, filterfalse\n",
        "from sklearn.metrics.pairwise import cosine_similarity\n",
        "from gensim.models.keyedvectors import KeyedVectors\n",
        "import pandas as pd\n",
        "import random\n",
        "import sys\n",
        "import os\n",
        "import pickle\n",
        "\n"
      ],
      "execution_count": 4,
      "outputs": []
    },
    {
      "cell_type": "code",
      "metadata": {
        "colab": {
          "base_uri": "https://localhost:8080/"
        },
        "id": "Qf9l-jHMmuKs",
        "outputId": "e5cdb9fc-b0c4-4923-db25-736ab67fade2"
      },
      "source": [
        "# Update repo with any changes from github \n",
        "!git clone https://github.com/jearcher/bias-in-word-embeddings.git\n"
      ],
      "execution_count": 5,
      "outputs": [
        {
          "output_type": "stream",
          "text": [
            "Cloning into 'bias-in-word-embeddings'...\n",
            "remote: Enumerating objects: 260, done.\u001b[K\n",
            "remote: Counting objects: 100% (260/260), done.\u001b[K\n",
            "remote: Compressing objects: 100% (200/200), done.\u001b[K\n",
            "remote: Total 260 (delta 76), reused 226 (delta 48), pack-reused 0\u001b[K\n",
            "Receiving objects: 100% (260/260), 20.17 MiB | 23.48 MiB/s, done.\n",
            "Resolving deltas: 100% (76/76), done.\n"
          ],
          "name": "stdout"
        }
      ]
    },
    {
      "cell_type": "code",
      "metadata": {
        "colab": {
          "base_uri": "https://localhost:8080/"
        },
        "id": "TxVyd-2EDhYK",
        "outputId": "a7008096-eaef-4108-ac31-869ea31e13ec"
      },
      "source": [
        "# Pull colab specifi files\n",
        "!cd '/content/bias-in-word-embeddings' && git checkout -B colab_style && git pull origin colab_style\n"
      ],
      "execution_count": 6,
      "outputs": [
        {
          "output_type": "stream",
          "text": [
            "Switched to a new branch 'colab_style'\n",
            "From https://github.com/jearcher/bias-in-word-embeddings\n",
            " * branch            colab_style -> FETCH_HEAD\n",
            "Updating 59fc8e8..e2751eb\n",
            "Fast-forward\n",
            " ConceptorDebias/lists/load_word_lists.py |   16 \u001b[32m+\u001b[m\u001b[31m-\u001b[m\n",
            " Debias_Word2Vec.ipynb                    | 1233 \u001b[32m+++++++++++++++++++++\u001b[m\u001b[31m---------\u001b[m\n",
            " Debias_Word_node2Vec.ipynb               |  901 \u001b[32m++++++++++++++++++++++\u001b[m\n",
            " 3 files changed, 1789 insertions(+), 361 deletions(-)\n",
            " create mode 100644 Debias_Word_node2Vec.ipynb\n"
          ],
          "name": "stdout"
        }
      ]
    },
    {
      "cell_type": "code",
      "metadata": {
        "id": "AN6yr7A5nD2U"
      },
      "source": [
        "sys.path.append('/content/bias-in-word-embeddings')\n",
        "sys.path.append('/content/bias-in-word-embeddings/ConceptorDebias')"
      ],
      "execution_count": 7,
      "outputs": []
    },
    {
      "cell_type": "code",
      "metadata": {
        "colab": {
          "base_uri": "https://localhost:8080/"
        },
        "id": "_NcLIk7DnWVD",
        "outputId": "812167e5-4535-425a-bb95-1db57259d5c3"
      },
      "source": [
        "sys.path"
      ],
      "execution_count": 8,
      "outputs": [
        {
          "output_type": "execute_result",
          "data": {
            "text/plain": [
              "['',\n",
              " '/content',\n",
              " '/env/python',\n",
              " '/usr/lib/python37.zip',\n",
              " '/usr/lib/python3.7',\n",
              " '/usr/lib/python3.7/lib-dynload',\n",
              " '/usr/local/lib/python3.7/dist-packages',\n",
              " '/usr/lib/python3/dist-packages',\n",
              " '/usr/local/lib/python3.7/dist-packages/IPython/extensions',\n",
              " '/root/.ipython',\n",
              " '/content/bias-in-word-embeddings',\n",
              " '/content/bias-in-word-embeddings/ConceptorDebias']"
            ]
          },
          "metadata": {
            "tags": []
          },
          "execution_count": 8
        }
      ]
    },
    {
      "cell_type": "code",
      "metadata": {
        "id": "Kgi16uBdqj6X"
      },
      "source": [
        "# Helper functions\n",
        "\n",
        "# Import local functions\n",
        "from WEAT_functions import *\n",
        "from Other_fxns import *\n"
      ],
      "execution_count": 9,
      "outputs": []
    },
    {
      "cell_type": "markdown",
      "metadata": {
        "id": "GZOXXQYIms9w"
      },
      "source": [
        "## Load Word Lists used for Debias"
      ]
    },
    {
      "cell_type": "code",
      "metadata": {
        "id": "wvnV8EZSms9w"
      },
      "source": [
        "# Conceptor Debias word lists /content/bias-in-word-embeddings/enwiki-20190320-words-frequency.txt\n",
        "sys.path.append('./')\n",
        "from lists.load_word_lists import *\n",
        "\n"
      ],
      "execution_count": 10,
      "outputs": []
    },
    {
      "cell_type": "markdown",
      "metadata": {
        "id": "NbRMmhwbGL98"
      },
      "source": [
        "## Load Word2Vec into Gensim Object"
      ]
    },
    {
      "cell_type": "code",
      "metadata": {
        "id": "Xo6fUdelrWy6"
      },
      "source": [
        "!cd /content/bias-in-word-embeddings && mkdir data"
      ],
      "execution_count": 11,
      "outputs": []
    },
    {
      "cell_type": "code",
      "metadata": {
        "id": "EI3Qls7XuMzf"
      },
      "source": [
        "!cd /content/bias-in-word-embeddings/data && mkdir embeddings"
      ],
      "execution_count": 12,
      "outputs": []
    },
    {
      "cell_type": "code",
      "metadata": {
        "id": "Mv-BBRRxuddC"
      },
      "source": [
        "!cd /content/bias-in-word-embeddings/data/embeddings/ && mkdir Word-node2Vec"
      ],
      "execution_count": 13,
      "outputs": []
    },
    {
      "cell_type": "code",
      "metadata": {
        "colab": {
          "base_uri": "https://localhost:8080/"
        },
        "id": "96l45_v0unaD",
        "outputId": "9bd4c78b-6a03-4872-9f3f-519025101062"
      },
      "source": [
        "!cd /content/bias-in-word-embeddings/data/embeddings/Word-node2Vec/ && curl -O https://storage.googleapis.com/word-embedding-bias/Word-Node2Vec_2019/dbpedia.cwvec12.200.bin"
      ],
      "execution_count": 14,
      "outputs": [
        {
          "output_type": "stream",
          "text": [
            "  % Total    % Received % Xferd  Average Speed   Time    Time     Time  Current\n",
            "                                 Dload  Upload   Total   Spent    Left  Speed\n",
            "100 45.4M  100 45.4M    0     0  34.5M      0  0:00:01  0:00:01 --:--:-- 34.5M\n"
          ],
          "name": "stdout"
        }
      ]
    },
    {
      "cell_type": "code",
      "metadata": {
        "colab": {
          "base_uri": "https://localhost:8080/"
        },
        "id": "wPeTTYySms9x",
        "outputId": "d3e859d2-2ec1-4351-d967-1af4c387e77d"
      },
      "source": [
        "Word_node2Vec = KeyedVectors.load_word2vec_format('/content/bias-in-word-embeddings/data/embeddings/Word-node2Vec/dbpedia.cwvec12.200.bin', \n",
        "                                          binary = True)\n",
        "\n",
        "print(\"Word-node2Vec embedding has been loaded.\")\n"
      ],
      "execution_count": 15,
      "outputs": [
        {
          "output_type": "stream",
          "text": [
            "Word-node2Vec embedding has been loaded.\n"
          ],
          "name": "stdout"
        }
      ]
    },
    {
      "cell_type": "markdown",
      "metadata": {
        "id": "Q1ahSZ2Fms9y"
      },
      "source": [
        "## Combine lists for WEAT evaluation\n"
      ]
    },
    {
      "cell_type": "code",
      "metadata": {
        "id": "soeL6xLems90"
      },
      "source": [
        "\"\"\"Load list of pronouns representing the 'Pronoun' subspace for gender debiasing\"\"\"\n",
        "gender_list_pronouns = WEATLists.W_7_Male_terms + WEATLists.W_7_Female_terms + WEATLists.W_8_Male_terms + WEATLists.W_8_Female_terms\n",
        "gender_list_pronouns = list(set(gender_list_pronouns))\n",
        "\n",
        "\"\"\"Load an extended list of words representing the gender subspace for gender debiasing\"\"\"\n",
        "gender_list_extended = male_vino_extra + female_vino_extra + male_gnGlove + female_gnGlove\n",
        "gender_list_extended = list(set(gender_list_extended))\n",
        "\n",
        "\"\"\"Load list of proper nouns representing the 'Proper Noun' subspace for gender debiasing\"\"\"\n",
        "gender_list_propernouns = male_cmu + female_cmu\n",
        "gender_list_propernouns = list(set(gender_list_propernouns))\n",
        "\n",
        "\"\"\"Load list of all representing the gender subspace for gender debiasing\"\"\"\n",
        "gender_list_all = gender_list_pronouns + gender_list_extended + gender_list_propernouns\n",
        "gender_list_all = list(set(gender_list_all))\n",
        "\n",
        "\"\"\"Load list of common black and white names for racial debiasing\"\"\"\n",
        "race_list = WEATLists.W_3_Unused_full_list_European_American_names + WEATLists.W_3_European_American_names + WEATLists.W_3_Unused_full_list_African_American_names + WEATLists.W_3_African_American_names + WEATLists.W_4_Unused_full_list_European_American_names + WEATLists.W_4_European_American_names + WEATLists.W_4_Unused_full_list_African_American_names + WEATLists.W_4_African_American_names + WEATLists.W_5_Unused_full_list_European_American_names + WEATLists.W_5_European_American_names + WEATLists.W_5_Unused_full_list_African_American_names + WEATLists.W_5_African_American_names \n",
        "race_list = list(set(race_list))"
      ],
      "execution_count": 16,
      "outputs": []
    },
    {
      "cell_type": "markdown",
      "metadata": {
        "id": "hXTO0l2nms91"
      },
      "source": [
        "## Initialize Variables"
      ]
    },
    {
      "cell_type": "code",
      "metadata": {
        "id": "SW54Igkxms93"
      },
      "source": [
        "resourceFile = ''\n",
        "wikiWordsPath = resourceFile + '/content/bias-in-word-embeddings/SIF/auxiliary_data/enwiki_vocab_min200.txt' # https://github.com/PrincetonML/SIF/blob/master/auxiliary_data/enwiki_vocab_min200.txt\n",
        "\n",
        "\"\"\"Set the embedding to be used\"\"\"\n",
        "embd = 'Word_node2Vec'\n",
        "\n",
        "\"\"\"Set the subspace to be tested on\"\"\"\n",
        "subspace = 'gender_list_all' \n",
        "\n",
        "\"\"\"Load association and target word pairs\"\"\"\n",
        "X = WEATLists.W_8_Science\n",
        "Y = WEATLists.W_8_Arts\n",
        "A = WEATLists.W_8_Male_terms\n",
        "B = WEATLists.W_8_Female_terms"
      ],
      "execution_count": 17,
      "outputs": []
    },
    {
      "cell_type": "code",
      "metadata": {
        "id": "1KK8nbSWms93",
        "colab": {
          "base_uri": "https://localhost:8080/"
        },
        "outputId": "57eca173-a06f-4a04-ff82-b870cc4ee981"
      },
      "source": [
        "eval(embd)"
      ],
      "execution_count": 18,
      "outputs": [
        {
          "output_type": "execute_result",
          "data": {
            "text/plain": [
              "<gensim.models.keyedvectors.Word2VecKeyedVectors at 0x7fe5cc557150>"
            ]
          },
          "metadata": {
            "tags": []
          },
          "execution_count": 18
        }
      ]
    },
    {
      "cell_type": "code",
      "metadata": {
        "id": "6boQ7rkYms94"
      },
      "source": [
        "curr_embd = eval(embd)\n",
        "all_words_index, all_words_mat = load_all_vectors(curr_embd, wikiWordsPath)"
      ],
      "execution_count": 19,
      "outputs": []
    },
    {
      "cell_type": "markdown",
      "metadata": {
        "id": "NafGvpSUms94"
      },
      "source": [
        "## Compute Conceptor"
      ]
    },
    {
      "cell_type": "code",
      "metadata": {
        "id": "YQ0AOAljms94",
        "colab": {
          "base_uri": "https://localhost:8080/"
        },
        "outputId": "428bea87-78a9-47d2-ed55-41880762c887"
      },
      "source": [
        "\"\"\"Load the vectors for the words representing the subspace as a matrix and compute the respetive conceptor matrix\"\"\"\n",
        "if subspace != 'without_conceptor':\n",
        "  subspace_words_list = eval(subspace)\n",
        "  if subspace == 'gender_list_and':\n",
        "    if embd == 'elmo':\n",
        "      subspace_words_mat1 = load_subspace_vectors_contextual(all_words_mat, all_words_index, gender_list_pronouns)\n",
        "      cn1 = process_cn_matrix(np.array(subspace_words_mat1).T, alpha = 8)\n",
        "\n",
        "      subspace_words_mat2 = load_subspace_vectors_contextual(all_words_mat, all_words_index, gender_list_extended)\n",
        "      cn2 = process_cn_matrix(np.array(subspace_words_mat2).T, alpha = 3)\n",
        "\n",
        "      subspace_words_mat3 = load_subspace_vectors_contextual(all_words_mat, all_words_index, gender_list_propernouns)\n",
        "      cn3 = process_cn_matrix(np.array(subspace_words_mat3).T, alpha = 10)\n",
        "\n",
        "      cn = AND(cn1, AND(cn2, cn3))\n",
        "    elif embd == 'bert':\n",
        "      cn1 = load_bert_conceptor(all_dict, gender_list_pronouns)\n",
        "      \n",
        "      cn2 = load_bert_conceptor(all_dict, gender_list_extended)\n",
        "      \n",
        "      cn3 = load_bert_conceptor(all_dict, gender_list_propernouns)\n",
        "      \n",
        "      cn = AND(cn1, AND(cn2, cn3))\n",
        "    else:\n",
        "      subspace_words_mat1 = load_subspace_vectors(curr_embd, gender_list_pronouns)\n",
        "      cn1 = process_cn_matrix(np.array(subspace_words_mat1).T)\n",
        "\n",
        "      subspace_words_mat2 = load_subspace_vectors(curr_embd, gender_list_extended)\n",
        "      cn2 = process_cn_matrix(np.array(subspace_words_mat2).T)\n",
        "\n",
        "      subspace_words_mat3 = load_subspace_vectors(curr_embd, gender_list_propernouns)\n",
        "      cn3 = process_cn_matrix(np.array(subspace_words_mat3).T)\n",
        "\n",
        "      cn = AND(cn1, AND(cn2, cn3))\n",
        "  else: \n",
        "    if embd == 'elmo':\n",
        "      subspace_words_mat = load_subspace_vectors_contextual(all_words_mat, all_words_index, subspace_words_list)\n",
        "      cn = process_cn_matrix(np.array(subspace_words_mat).T, alpha = 6)\n",
        "    elif embd == 'bert':\n",
        "      cn = load_bert_conceptor(all_dict, subspace)\n",
        "    else:\n",
        "      subspace_words_mat = load_subspace_vectors(curr_embd, subspace_words_list)\n",
        "      cn = process_cn_matrix(np.array(subspace_words_mat).T)"
      ],
      "execution_count": 20,
      "outputs": [
        {
          "output_type": "stream",
          "text": [
            "starting...\n",
            "(200, 255)\n",
            "R calculated\n",
            "C calculated\n"
          ],
          "name": "stdout"
        }
      ]
    },
    {
      "cell_type": "markdown",
      "metadata": {
        "id": "1Ti2z0Ulms95"
      },
      "source": [
        "## Compute Conceptored Embeddings\n"
      ]
    },
    {
      "cell_type": "code",
      "metadata": {
        "id": "ILNANs4pms96"
      },
      "source": [
        "\"\"\"Conceptor all embeddings\"\"\"\n",
        "all_words_cn = apply_conceptor(np.array(all_words_mat).T, np.array(cn))\n",
        "\n",
        "\"\"\"Store all conceptored words in a dictonary\"\"\"\n",
        "all_words = {}\n",
        "for word, index in all_words_index.items():\n",
        "  if embd == 'elmo':\n",
        "    all_words[word] = np.mean([all_words_cn[i,:] for i in index], axis = 0)\n",
        "  else:\n",
        "    all_words[word] = all_words_cn[index,:]"
      ],
      "execution_count": 21,
      "outputs": []
    },
    {
      "cell_type": "code",
      "metadata": {
        "id": "e5BtW8xRRFEC"
      },
      "source": [
        "# Convert to text to save \n",
        "def convert_to_text(curr_embd, saveto):\n",
        "  for key, value in curr_embd.items():\n",
        "    f = open(\"/content/\" + saveto, \"a+\")\n",
        "    val = ' '.join((np.array2string(value).replace(\"[\",\"\").replace(\"]\",\"\")).split()) + \"\\n\"\n",
        "    f.write(key + \" \" + val)\n",
        "    \n",
        "\n",
        "convert_to_text(all_words, \"bias-in-word-embeddings/data/embeddings/Word-node2Vec/Word-node2Vec_debias.txt\")\n"
      ],
      "execution_count": 40,
      "outputs": []
    },
    {
      "cell_type": "markdown",
      "metadata": {
        "id": "wglbql_Wms97"
      },
      "source": [
        "## Calculate WEAT"
      ]
    },
    {
      "cell_type": "code",
      "metadata": {
        "id": "GQBkzf3Fms97",
        "colab": {
          "base_uri": "https://localhost:8080/"
        },
        "outputId": "bd8ac357-9d25-447c-bb80-41f09fbd3dd4"
      },
      "source": [
        "# Before Debias \n",
        "pre = weat_effect_size(X, Y, A, B, Word_node2Vec)\n",
        "\n",
        "d = weat_effect_size(X, Y, A, B, all_words)\n",
        "# p = weat_p_value(X, Y, A, B, all_words, 1000)\n",
        "\n",
        "print('WEAT on original Word-node2Vec = ', pre)\n",
        "print('WEAT on Debias Word-node2Vec = ', d)"
      ],
      "execution_count": 22,
      "outputs": [
        {
          "output_type": "stream",
          "text": [
            "WEAT on original Word-node2Vec =  1.1809115\n",
            "WEAT on Debias Word-node2Vec =  1.0103018742356074\n"
          ],
          "name": "stdout"
        }
      ]
    },
    {
      "cell_type": "markdown",
      "metadata": {
        "id": "lGSniiFwD9Xm"
      },
      "source": [
        "# Visualize embeddings using PCA"
      ]
    },
    {
      "cell_type": "code",
      "metadata": {
        "id": "EZnhwv68ENfD"
      },
      "source": [
        "import matplotlib.pyplot as plt\n",
        "import gensim.downloader as api\n",
        "from sklearn.decomposition import PCA"
      ],
      "execution_count": 23,
      "outputs": []
    },
    {
      "cell_type": "code",
      "metadata": {
        "id": "4oZaJFt0EO_7"
      },
      "source": [
        "terms = WEATLists.W_8_Science + WEATLists.W_8_Arts + gender_list_pronouns\n",
        "terms.remove('Einstein')\n",
        "terms.remove(\"NASA\")\n",
        "terms.remove('Shakespeare')\n",
        "terms.remove('novel')\n",
        "terms.remove('he')\n",
        "terms.remove('she')\n",
        "terms.remove('her')\n",
        "terms.remove('him')\n",
        "terms.remove('his')\n",
        "terms.remove('hers')\n",
        "\n",
        "small_embedding = [Word_node2Vec[term] for term in terms ]\n",
        "pca = PCA(n_components=2)\n",
        "data = pca.fit_transform(small_embedding).transpose()\n",
        "x, y = data[0], data[1]"
      ],
      "execution_count": 24,
      "outputs": []
    },
    {
      "cell_type": "code",
      "metadata": {
        "colab": {
          "base_uri": "https://localhost:8080/",
          "height": 441
        },
        "id": "gSDGrFYBG7mz",
        "outputId": "71f1fc8a-0efe-409c-d499-4d9b713b1e3d"
      },
      "source": [
        "fig, ax = plt.subplots(figsize=(15, 8))\n",
        "ax.scatter(x, y, c='r')\n",
        "for i, term in enumerate(terms):\n",
        "    ax.annotate(term, (x[i], y[i]))\n",
        "plt.xlabel('x')\n",
        "plt.ylabel('y')\n",
        "plt.title(\"PCA Visualization for selected gender and Science/Arts terms using Word-node2Vec\")\n",
        "plt.show()"
      ],
      "execution_count": 25,
      "outputs": [
        {
          "output_type": "display_data",
          "data": {
            "image/png": "[encoded data removed]",
            "text/plain": [
              "<Figure size 1080x576 with 1 Axes>"
            ]
          },
          "metadata": {
            "tags": [],
            "needs_background": "light"
          }
        }
      ]
    },
    {
      "cell_type": "code",
      "metadata": {
        "id": "PdV6_ACXIfAt"
      },
      "source": [
        "small_embedding_debias = [value for key, value in all_words.items() if key in terms]\n",
        "pca_debias = PCA(n_components=2)\n",
        "data_debias = pca_debias.fit_transform(small_embedding_debias).transpose()\n",
        "x_debias, y_debias = data_debias[0], data_debias[1]"
      ],
      "execution_count": 26,
      "outputs": []
    },
    {
      "cell_type": "code",
      "metadata": {
        "colab": {
          "base_uri": "https://localhost:8080/",
          "height": 441
        },
        "id": "b-GHUlMzIraU",
        "outputId": "cadec20c-45bd-42a1-fa14-d82b3cd10416"
      },
      "source": [
        "fig, ax = plt.subplots(figsize=(15, 8))\n",
        "ax.scatter(x_debias, y_debias, c='g')\n",
        "for i, term in enumerate(terms):\n",
        "  if i<35:\n",
        "    ax.annotate(term, (x_debias[i], y_debias[i]))\n",
        "  continue\n",
        "plt.xlabel('PC1')\n",
        "plt.ylabel('PC2')\n",
        "plt.title(\"PCA Visualization for selected gender and Science/Arts terms using DEBIASED Word-node2Vec\")\n",
        "\n",
        "plt.show()"
      ],
      "execution_count": 27,
      "outputs": [
        {
          "output_type": "display_data",
          "data": {
            "image/png": "[encoded data removed]",
            "text/plain": [
              "<Figure size 1080x576 with 1 Axes>"
            ]
          },
          "metadata": {
            "tags": [],
            "needs_background": "light"
          }
        }
      ]
    },
    {
      "cell_type": "code",
      "metadata": {
        "colab": {
          "base_uri": "https://localhost:8080/"
        },
        "id": "Kd1lgKgoETbw",
        "outputId": "e5ea752d-b0f7-4131-a926-ef0b8936b6d7"
      },
      "source": [
        "# What is most similar to 'woman' and 'king' but not similar to 'man'\n",
        "\n",
        "Word_node2Vec.most_similar(positive=['woman', 'king'], negative=['man'])"
      ],
      "execution_count": 28,
      "outputs": [
        {
          "output_type": "execute_result",
          "data": {
            "text/plain": [
              "[('regent', 0.521192729473114),\n",
              " ('consort', 0.5145156979560852),\n",
              " ('regnant', 0.49781352281570435),\n",
              " ('queen', 0.4850449562072754),\n",
              " ('reign', 0.4782247543334961),\n",
              " ('reigned', 0.4746331572532654),\n",
              " ('throne', 0.4692186415195465),\n",
              " ('ruled', 0.4668368399143219),\n",
              " ('prince', 0.4646092653274536),\n",
              " ('casimir', 0.46369442343711853)]"
            ]
          },
          "metadata": {
            "tags": []
          },
          "execution_count": 28
        }
      ]
    },
    {
      "cell_type": "code",
      "metadata": {
        "colab": {
          "base_uri": "https://localhost:8080/"
        },
        "id": "BbQcBglpEet7",
        "outputId": "bf4db402-052d-4962-cc1d-f1c45c9fb71a"
      },
      "source": [
        ""
      ],
      "execution_count": 29,
      "outputs": [
        {
          "output_type": "execute_result",
          "data": {
            "text/plain": [
              "0.5696044"
            ]
          },
          "metadata": {
            "tags": []
          },
          "execution_count": 29
        }
      ]
    },
    {
      "cell_type": "code",
      "metadata": {
        "id": "eB7pMvkIHmlo"
      },
      "source": [
        "# Convert debiased embeddings to pandas df\n",
        "df = pd.DataFrame(list(all_words.items())) \n",
        "df2 = df[1].apply(pd.Series) \n",
        "Word_node2Vec_debias = pd.concat([df[0], df2], axis=1)\n",
        "# Word_node2Vec_debias.head()\n",
        "\n",
        "\n",
        "# my_header =\"{} {}\\n\".format(len(Word_node2Vec_debias), len(Word_node2Vec_debias.columns))\n",
        "# #Word_node2Vec_debias.shape\n",
        "# #line_prepender(\"/content/bias-in-word-embeddings/data/embeddings/Word-node2Vec/Word-node2Vec_debias.txt\",\n",
        "#                #header)\n",
        "\n",
        "# np.savetxt(\"/content/bias-in-word-embeddings/data/embeddings/Word-node2Vec/Word-node2Vec_debias.txt\",\n",
        "#            Word_node2Vec_debias.values, \n",
        "#            fmt='%.18e', delimiter=\"\\t\", \n",
        "#            header=my_header)  \n",
        "            \n"
      ],
      "execution_count": 108,
      "outputs": []
    },
    {
      "cell_type": "code",
      "metadata": {
        "id": "cUp5EQPmcCZc"
      },
      "source": [
        "np.savetxt(\"/content/bias-in-word-embeddings/data/embeddings/Word-node2Vec/Word-node2Vec_debias.txt\",\n",
        "           Word_node2Vec_debias.values, \n",
        "           fmt='%s', delimiter=\" \") "
      ],
      "execution_count": 121,
      "outputs": []
    },
    {
      "cell_type": "code",
      "metadata": {
        "id": "Ds1TSjSXgHO0"
      },
      "source": [
        "np.savetxt('/content/bias-in-word-embeddings/data/embeddings/Word-node2Vec/Word-node2Vec_debias.txt',\n",
        "           Word_node2Vec_debias.values, \n",
        "           delimiter=\" \", \n",
        "           header=\"{} {}\".format(len(Word_node2Vec_debias), (len(Word_node2Vec_debias.columns)-1)),\n",
        "           comments=\"\",\n",
        "           fmt=\"%s\")"
      ],
      "execution_count": 140,
      "outputs": []
    },
    {
      "cell_type": "code",
      "metadata": {
        "id": "dHK3A5X1W9Vw"
      },
      "source": [
        "# add\n",
        "# \"50897\t200\"\n",
        "# to first line\n",
        "Word_node2Vec_debias_gm = KeyedVectors.load_word2vec_format('/content/bias-in-word-embeddings/data/embeddings/Word-node2Vec/Word-node2Vec_debias.txt')\n"
      ],
      "execution_count": 141,
      "outputs": []
    },
    {
      "cell_type": "code",
      "metadata": {
        "colab": {
          "base_uri": "https://localhost:8080/"
        },
        "id": "eHap26SSZy0j",
        "outputId": "27b8b187-3446-4be4-e908-6b3a1e67e528"
      },
      "source": [
        "Word_node2Vec.similarity('man', 'king')\n"
      ],
      "execution_count": 147,
      "outputs": [
        {
          "output_type": "execute_result",
          "data": {
            "text/plain": [
              "0.25837347"
            ]
          },
          "metadata": {
            "tags": []
          },
          "execution_count": 147
        }
      ]
    },
    {
      "cell_type": "code",
      "metadata": {
        "colab": {
          "base_uri": "https://localhost:8080/"
        },
        "id": "RpewYyQLhwV2",
        "outputId": "b8177d67-f769-4c6b-88ca-082946370e64"
      },
      "source": [
        "Word_node2Vec_debias_gm.similarity('man', 'king')\n"
      ],
      "execution_count": 148,
      "outputs": [
        {
          "output_type": "execute_result",
          "data": {
            "text/plain": [
              "-0.024329955"
            ]
          },
          "metadata": {
            "tags": []
          },
          "execution_count": 148
        }
      ]
    }
  ]
}